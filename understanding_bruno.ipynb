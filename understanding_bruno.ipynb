{
 "cells": [
  {
   "cell_type": "code",
   "execution_count": 1,
   "metadata": {},
   "outputs": [
    {
     "data": {
      "text/html": [
       "<div>\n",
       "<style scoped>\n",
       "    .dataframe tbody tr th:only-of-type {\n",
       "        vertical-align: middle;\n",
       "    }\n",
       "\n",
       "    .dataframe tbody tr th {\n",
       "        vertical-align: top;\n",
       "    }\n",
       "\n",
       "    .dataframe thead th {\n",
       "        text-align: right;\n",
       "    }\n",
       "</style>\n",
       "<table border=\"1\" class=\"dataframe\">\n",
       "  <thead>\n",
       "    <tr style=\"text-align: right;\">\n",
       "      <th></th>\n",
       "      <th>originalTitle</th>\n",
       "      <th>rating</th>\n",
       "      <th>startYear</th>\n",
       "      <th>endYear</th>\n",
       "      <th>runtimeMinutes</th>\n",
       "      <th>awardWins</th>\n",
       "      <th>numVotes</th>\n",
       "      <th>worstRating</th>\n",
       "      <th>bestRating</th>\n",
       "      <th>totalImages</th>\n",
       "      <th>...</th>\n",
       "      <th>genres</th>\n",
       "      <th>castNumber</th>\n",
       "      <th>companiesNumber</th>\n",
       "      <th>averageRating</th>\n",
       "      <th>regions</th>\n",
       "      <th>externalLinks</th>\n",
       "      <th>writerCredits</th>\n",
       "      <th>directorsCredits</th>\n",
       "      <th>soundMixes</th>\n",
       "      <th>quotesTotal</th>\n",
       "    </tr>\n",
       "  </thead>\n",
       "  <tbody>\n",
       "    <tr>\n",
       "      <th>0</th>\n",
       "      <td>Carmencita</td>\n",
       "      <td>(5, 6]</td>\n",
       "      <td>1894</td>\n",
       "      <td>\\N</td>\n",
       "      <td>1</td>\n",
       "      <td>0</td>\n",
       "      <td>2089</td>\n",
       "      <td>1</td>\n",
       "      <td>10</td>\n",
       "      <td>2</td>\n",
       "      <td>...</td>\n",
       "      <td>Documentary,Short</td>\n",
       "      <td>1</td>\n",
       "      <td>3</td>\n",
       "      <td>5.7</td>\n",
       "      <td>['\\\\N', 'DE', 'US', 'HU', 'GR', 'RU', 'UA', 'JP']</td>\n",
       "      <td>9</td>\n",
       "      <td>0</td>\n",
       "      <td>1</td>\n",
       "      <td>['silent']</td>\n",
       "      <td>0</td>\n",
       "    </tr>\n",
       "    <tr>\n",
       "      <th>1</th>\n",
       "      <td>Un bon bock</td>\n",
       "      <td>(5, 6]</td>\n",
       "      <td>1892</td>\n",
       "      <td>\\N</td>\n",
       "      <td>12</td>\n",
       "      <td>0</td>\n",
       "      <td>183</td>\n",
       "      <td>1</td>\n",
       "      <td>10</td>\n",
       "      <td>2</td>\n",
       "      <td>...</td>\n",
       "      <td>Animation,Short</td>\n",
       "      <td>0</td>\n",
       "      <td>0</td>\n",
       "      <td>5.4</td>\n",
       "      <td>['\\\\N', 'HU', 'DE', 'FR', 'RO', 'RU', 'JP']</td>\n",
       "      <td>3</td>\n",
       "      <td>0</td>\n",
       "      <td>1</td>\n",
       "      <td>['silent']</td>\n",
       "      <td>0</td>\n",
       "    </tr>\n",
       "    <tr>\n",
       "      <th>2</th>\n",
       "      <td>Chinese Opium Den</td>\n",
       "      <td>(4, 5]</td>\n",
       "      <td>1894</td>\n",
       "      <td>\\N</td>\n",
       "      <td>1</td>\n",
       "      <td>0</td>\n",
       "      <td>195</td>\n",
       "      <td>1</td>\n",
       "      <td>10</td>\n",
       "      <td>1</td>\n",
       "      <td>...</td>\n",
       "      <td>Short</td>\n",
       "      <td>0</td>\n",
       "      <td>1</td>\n",
       "      <td>5.0</td>\n",
       "      <td>['\\\\N', 'US', 'DE', 'PT', 'HU', 'RU']</td>\n",
       "      <td>4</td>\n",
       "      <td>0</td>\n",
       "      <td>1</td>\n",
       "      <td>['silent']</td>\n",
       "      <td>0</td>\n",
       "    </tr>\n",
       "    <tr>\n",
       "      <th>3</th>\n",
       "      <td>Edison Kinetoscopic Record of a Sneeze</td>\n",
       "      <td>(5, 6]</td>\n",
       "      <td>1894</td>\n",
       "      <td>\\N</td>\n",
       "      <td>1</td>\n",
       "      <td>1</td>\n",
       "      <td>2237</td>\n",
       "      <td>1</td>\n",
       "      <td>10</td>\n",
       "      <td>3</td>\n",
       "      <td>...</td>\n",
       "      <td>Documentary,Short</td>\n",
       "      <td>1</td>\n",
       "      <td>6</td>\n",
       "      <td>5.4</td>\n",
       "      <td>['\\\\N', 'UA', 'JP', 'HU', 'US', 'DE', 'RU']</td>\n",
       "      <td>6</td>\n",
       "      <td>0</td>\n",
       "      <td>1</td>\n",
       "      <td>['silent']</td>\n",
       "      <td>0</td>\n",
       "    </tr>\n",
       "    <tr>\n",
       "      <th>4</th>\n",
       "      <td>L'arrivée d'un train à La Ciotat</td>\n",
       "      <td>(7, 8]</td>\n",
       "      <td>1896</td>\n",
       "      <td>\\N</td>\n",
       "      <td>1</td>\n",
       "      <td>0</td>\n",
       "      <td>13115</td>\n",
       "      <td>1</td>\n",
       "      <td>10</td>\n",
       "      <td>12</td>\n",
       "      <td>...</td>\n",
       "      <td>Documentary,Short</td>\n",
       "      <td>6</td>\n",
       "      <td>5</td>\n",
       "      <td>7.4</td>\n",
       "      <td>['\\\\N', 'HU', 'DE', 'TR', 'FI', 'FR', 'IT', 'E...</td>\n",
       "      <td>21</td>\n",
       "      <td>0</td>\n",
       "      <td>2</td>\n",
       "      <td>['silent']</td>\n",
       "      <td>0</td>\n",
       "    </tr>\n",
       "    <tr>\n",
       "      <th>...</th>\n",
       "      <td>...</td>\n",
       "      <td>...</td>\n",
       "      <td>...</td>\n",
       "      <td>...</td>\n",
       "      <td>...</td>\n",
       "      <td>...</td>\n",
       "      <td>...</td>\n",
       "      <td>...</td>\n",
       "      <td>...</td>\n",
       "      <td>...</td>\n",
       "      <td>...</td>\n",
       "      <td>...</td>\n",
       "      <td>...</td>\n",
       "      <td>...</td>\n",
       "      <td>...</td>\n",
       "      <td>...</td>\n",
       "      <td>...</td>\n",
       "      <td>...</td>\n",
       "      <td>...</td>\n",
       "      <td>...</td>\n",
       "      <td>...</td>\n",
       "    </tr>\n",
       "    <tr>\n",
       "      <th>149526</th>\n",
       "      <td>Nuestra película</td>\n",
       "      <td>(6, 7]</td>\n",
       "      <td>1993</td>\n",
       "      <td>\\N</td>\n",
       "      <td>96</td>\n",
       "      <td>0</td>\n",
       "      <td>11</td>\n",
       "      <td>1</td>\n",
       "      <td>10</td>\n",
       "      <td>0</td>\n",
       "      <td>...</td>\n",
       "      <td>Documentary</td>\n",
       "      <td>0</td>\n",
       "      <td>2</td>\n",
       "      <td>7.0</td>\n",
       "      <td>['\\\\N', 'CO']</td>\n",
       "      <td>1</td>\n",
       "      <td>1</td>\n",
       "      <td>1</td>\n",
       "      <td>[]</td>\n",
       "      <td>0</td>\n",
       "    </tr>\n",
       "    <tr>\n",
       "      <th>149527</th>\n",
       "      <td>Eco</td>\n",
       "      <td>(6, 7]</td>\n",
       "      <td>2019</td>\n",
       "      <td>\\N</td>\n",
       "      <td>14</td>\n",
       "      <td>0</td>\n",
       "      <td>15</td>\n",
       "      <td>1</td>\n",
       "      <td>10</td>\n",
       "      <td>4</td>\n",
       "      <td>...</td>\n",
       "      <td>Drama,Short</td>\n",
       "      <td>6</td>\n",
       "      <td>3</td>\n",
       "      <td>6.4</td>\n",
       "      <td>['\\\\N', 'ES']</td>\n",
       "      <td>5</td>\n",
       "      <td>1</td>\n",
       "      <td>1</td>\n",
       "      <td>[]</td>\n",
       "      <td>0</td>\n",
       "    </tr>\n",
       "    <tr>\n",
       "      <th>149528</th>\n",
       "      <td>Women Take Center Stage</td>\n",
       "      <td>(5, 6]</td>\n",
       "      <td>2019</td>\n",
       "      <td>\\N</td>\n",
       "      <td>\\N</td>\n",
       "      <td>0</td>\n",
       "      <td>12</td>\n",
       "      <td>1</td>\n",
       "      <td>10</td>\n",
       "      <td>2</td>\n",
       "      <td>...</td>\n",
       "      <td>Reality-TV</td>\n",
       "      <td>1</td>\n",
       "      <td>0</td>\n",
       "      <td>5.6</td>\n",
       "      <td>['\\\\N']</td>\n",
       "      <td>0</td>\n",
       "      <td>0</td>\n",
       "      <td>0</td>\n",
       "      <td>[]</td>\n",
       "      <td>0</td>\n",
       "    </tr>\n",
       "    <tr>\n",
       "      <th>149529</th>\n",
       "      <td>Horrid Henry and the Christening Crisis</td>\n",
       "      <td>(7, 8]</td>\n",
       "      <td>2011</td>\n",
       "      <td>\\N</td>\n",
       "      <td>10</td>\n",
       "      <td>0</td>\n",
       "      <td>9</td>\n",
       "      <td>1</td>\n",
       "      <td>10</td>\n",
       "      <td>1</td>\n",
       "      <td>...</td>\n",
       "      <td>Adventure,Animation,Comedy</td>\n",
       "      <td>7</td>\n",
       "      <td>0</td>\n",
       "      <td>7.1</td>\n",
       "      <td>['\\\\N']</td>\n",
       "      <td>0</td>\n",
       "      <td>3</td>\n",
       "      <td>1</td>\n",
       "      <td>[]</td>\n",
       "      <td>0</td>\n",
       "    </tr>\n",
       "    <tr>\n",
       "      <th>149530</th>\n",
       "      <td>A lenda do soprador de vidro</td>\n",
       "      <td>(8, 9]</td>\n",
       "      <td>2019</td>\n",
       "      <td>\\N</td>\n",
       "      <td>\\N</td>\n",
       "      <td>0</td>\n",
       "      <td>9</td>\n",
       "      <td>1</td>\n",
       "      <td>10</td>\n",
       "      <td>3</td>\n",
       "      <td>...</td>\n",
       "      <td>Comedy</td>\n",
       "      <td>9</td>\n",
       "      <td>0</td>\n",
       "      <td>8.6</td>\n",
       "      <td>['\\\\N']</td>\n",
       "      <td>0</td>\n",
       "      <td>3</td>\n",
       "      <td>2</td>\n",
       "      <td>[]</td>\n",
       "      <td>0</td>\n",
       "    </tr>\n",
       "  </tbody>\n",
       "</table>\n",
       "<p>149531 rows × 32 columns</p>\n",
       "</div>"
      ],
      "text/plain": [
       "                                  originalTitle  rating  startYear endYear  \\\n",
       "0                                    Carmencita  (5, 6]       1894      \\N   \n",
       "1                                   Un bon bock  (5, 6]       1892      \\N   \n",
       "2                             Chinese Opium Den  (4, 5]       1894      \\N   \n",
       "3        Edison Kinetoscopic Record of a Sneeze  (5, 6]       1894      \\N   \n",
       "4              L'arrivée d'un train à La Ciotat  (7, 8]       1896      \\N   \n",
       "...                                         ...     ...        ...     ...   \n",
       "149526                         Nuestra película  (6, 7]       1993      \\N   \n",
       "149527                                      Eco  (6, 7]       2019      \\N   \n",
       "149528                  Women Take Center Stage  (5, 6]       2019      \\N   \n",
       "149529  Horrid Henry and the Christening Crisis  (7, 8]       2011      \\N   \n",
       "149530             A lenda do soprador de vidro  (8, 9]       2019      \\N   \n",
       "\n",
       "       runtimeMinutes  awardWins  numVotes  worstRating  bestRating  \\\n",
       "0                   1          0      2089            1          10   \n",
       "1                  12          0       183            1          10   \n",
       "2                   1          0       195            1          10   \n",
       "3                   1          1      2237            1          10   \n",
       "4                   1          0     13115            1          10   \n",
       "...               ...        ...       ...          ...         ...   \n",
       "149526             96          0        11            1          10   \n",
       "149527             14          0        15            1          10   \n",
       "149528             \\N          0        12            1          10   \n",
       "149529             10          0         9            1          10   \n",
       "149530             \\N          0         9            1          10   \n",
       "\n",
       "        totalImages  ...                      genres  castNumber  \\\n",
       "0                 2  ...           Documentary,Short           1   \n",
       "1                 2  ...             Animation,Short           0   \n",
       "2                 1  ...                       Short           0   \n",
       "3                 3  ...           Documentary,Short           1   \n",
       "4                12  ...           Documentary,Short           6   \n",
       "...             ...  ...                         ...         ...   \n",
       "149526            0  ...                 Documentary           0   \n",
       "149527            4  ...                 Drama,Short           6   \n",
       "149528            2  ...                  Reality-TV           1   \n",
       "149529            1  ...  Adventure,Animation,Comedy           7   \n",
       "149530            3  ...                      Comedy           9   \n",
       "\n",
       "        companiesNumber averageRating  \\\n",
       "0                     3           5.7   \n",
       "1                     0           5.4   \n",
       "2                     1           5.0   \n",
       "3                     6           5.4   \n",
       "4                     5           7.4   \n",
       "...                 ...           ...   \n",
       "149526                2           7.0   \n",
       "149527                3           6.4   \n",
       "149528                0           5.6   \n",
       "149529                0           7.1   \n",
       "149530                0           8.6   \n",
       "\n",
       "                                                  regions  externalLinks  \\\n",
       "0       ['\\\\N', 'DE', 'US', 'HU', 'GR', 'RU', 'UA', 'JP']              9   \n",
       "1             ['\\\\N', 'HU', 'DE', 'FR', 'RO', 'RU', 'JP']              3   \n",
       "2                   ['\\\\N', 'US', 'DE', 'PT', 'HU', 'RU']              4   \n",
       "3             ['\\\\N', 'UA', 'JP', 'HU', 'US', 'DE', 'RU']              6   \n",
       "4       ['\\\\N', 'HU', 'DE', 'TR', 'FI', 'FR', 'IT', 'E...             21   \n",
       "...                                                   ...            ...   \n",
       "149526                                      ['\\\\N', 'CO']              1   \n",
       "149527                                      ['\\\\N', 'ES']              5   \n",
       "149528                                            ['\\\\N']              0   \n",
       "149529                                            ['\\\\N']              0   \n",
       "149530                                            ['\\\\N']              0   \n",
       "\n",
       "        writerCredits  directorsCredits  soundMixes  quotesTotal  \n",
       "0                   0                 1  ['silent']            0  \n",
       "1                   0                 1  ['silent']            0  \n",
       "2                   0                 1  ['silent']            0  \n",
       "3                   0                 1  ['silent']            0  \n",
       "4                   0                 2  ['silent']            0  \n",
       "...               ...               ...         ...          ...  \n",
       "149526              1                 1          []            0  \n",
       "149527              1                 1          []            0  \n",
       "149528              0                 0          []            0  \n",
       "149529              3                 1          []            0  \n",
       "149530              3                 2          []            0  \n",
       "\n",
       "[149531 rows x 32 columns]"
      ]
     },
     "execution_count": 1,
     "metadata": {},
     "output_type": "execute_result"
    }
   ],
   "source": [
    "import pandas as pd\n",
    "import numpy as np\n",
    "\n",
    "df = pd.read_csv('dm2_dataset_2425_imdb/imdb.csv')\n",
    "df"
   ]
  },
  {
   "cell_type": "code",
   "execution_count": 2,
   "metadata": {},
   "outputs": [
    {
     "data": {
      "text/plain": [
       "array([1])"
      ]
     },
     "execution_count": 2,
     "metadata": {},
     "output_type": "execute_result"
    }
   ],
   "source": [
    "df['worstRating'].unique()"
   ]
  },
  {
   "cell_type": "code",
   "execution_count": 3,
   "metadata": {},
   "outputs": [
    {
     "data": {
      "text/plain": [
       "array([10])"
      ]
     },
     "execution_count": 3,
     "metadata": {},
     "output_type": "execute_result"
    }
   ],
   "source": [
    "df['bestRating'].unique()"
   ]
  },
  {
   "cell_type": "code",
   "execution_count": 4,
   "metadata": {},
   "outputs": [
    {
     "data": {
      "text/html": [
       "<div>\n",
       "<style scoped>\n",
       "    .dataframe tbody tr th:only-of-type {\n",
       "        vertical-align: middle;\n",
       "    }\n",
       "\n",
       "    .dataframe tbody tr th {\n",
       "        vertical-align: top;\n",
       "    }\n",
       "\n",
       "    .dataframe thead th {\n",
       "        text-align: right;\n",
       "    }\n",
       "</style>\n",
       "<table border=\"1\" class=\"dataframe\">\n",
       "  <thead>\n",
       "    <tr style=\"text-align: right;\">\n",
       "      <th></th>\n",
       "      <th>originalTitle</th>\n",
       "      <th>rating</th>\n",
       "      <th>startYear</th>\n",
       "      <th>endYear</th>\n",
       "      <th>runtimeMinutes</th>\n",
       "      <th>awardWins</th>\n",
       "      <th>numVotes</th>\n",
       "      <th>worstRating</th>\n",
       "      <th>bestRating</th>\n",
       "      <th>totalImages</th>\n",
       "      <th>...</th>\n",
       "      <th>genres</th>\n",
       "      <th>castNumber</th>\n",
       "      <th>companiesNumber</th>\n",
       "      <th>averageRating</th>\n",
       "      <th>regions</th>\n",
       "      <th>externalLinks</th>\n",
       "      <th>writerCredits</th>\n",
       "      <th>directorsCredits</th>\n",
       "      <th>soundMixes</th>\n",
       "      <th>quotesTotal</th>\n",
       "    </tr>\n",
       "    <tr>\n",
       "      <th>titleType</th>\n",
       "      <th></th>\n",
       "      <th></th>\n",
       "      <th></th>\n",
       "      <th></th>\n",
       "      <th></th>\n",
       "      <th></th>\n",
       "      <th></th>\n",
       "      <th></th>\n",
       "      <th></th>\n",
       "      <th></th>\n",
       "      <th></th>\n",
       "      <th></th>\n",
       "      <th></th>\n",
       "      <th></th>\n",
       "      <th></th>\n",
       "      <th></th>\n",
       "      <th></th>\n",
       "      <th></th>\n",
       "      <th></th>\n",
       "      <th></th>\n",
       "      <th></th>\n",
       "    </tr>\n",
       "  </thead>\n",
       "  <tbody>\n",
       "    <tr>\n",
       "      <th>movie</th>\n",
       "      <td>37098</td>\n",
       "      <td>37098</td>\n",
       "      <td>37098</td>\n",
       "      <td>37098</td>\n",
       "      <td>37098</td>\n",
       "      <td>37098</td>\n",
       "      <td>37098</td>\n",
       "      <td>37098</td>\n",
       "      <td>37098</td>\n",
       "      <td>37098</td>\n",
       "      <td>...</td>\n",
       "      <td>37098</td>\n",
       "      <td>37098</td>\n",
       "      <td>37098</td>\n",
       "      <td>37098</td>\n",
       "      <td>37098</td>\n",
       "      <td>37098</td>\n",
       "      <td>37098</td>\n",
       "      <td>37098</td>\n",
       "      <td>37098</td>\n",
       "      <td>37098</td>\n",
       "    </tr>\n",
       "    <tr>\n",
       "      <th>short</th>\n",
       "      <td>16378</td>\n",
       "      <td>16378</td>\n",
       "      <td>16378</td>\n",
       "      <td>16378</td>\n",
       "      <td>16378</td>\n",
       "      <td>16378</td>\n",
       "      <td>16378</td>\n",
       "      <td>16378</td>\n",
       "      <td>16378</td>\n",
       "      <td>16378</td>\n",
       "      <td>...</td>\n",
       "      <td>16378</td>\n",
       "      <td>16378</td>\n",
       "      <td>16378</td>\n",
       "      <td>16378</td>\n",
       "      <td>16378</td>\n",
       "      <td>16378</td>\n",
       "      <td>16378</td>\n",
       "      <td>16378</td>\n",
       "      <td>16378</td>\n",
       "      <td>16378</td>\n",
       "    </tr>\n",
       "    <tr>\n",
       "      <th>tvEpisode</th>\n",
       "      <td>70830</td>\n",
       "      <td>70830</td>\n",
       "      <td>70830</td>\n",
       "      <td>70830</td>\n",
       "      <td>70830</td>\n",
       "      <td>70830</td>\n",
       "      <td>70830</td>\n",
       "      <td>70830</td>\n",
       "      <td>70830</td>\n",
       "      <td>70830</td>\n",
       "      <td>...</td>\n",
       "      <td>70830</td>\n",
       "      <td>70830</td>\n",
       "      <td>70830</td>\n",
       "      <td>70830</td>\n",
       "      <td>70830</td>\n",
       "      <td>70830</td>\n",
       "      <td>70830</td>\n",
       "      <td>70830</td>\n",
       "      <td>70830</td>\n",
       "      <td>70830</td>\n",
       "    </tr>\n",
       "    <tr>\n",
       "      <th>tvMiniSeries</th>\n",
       "      <td>1619</td>\n",
       "      <td>1619</td>\n",
       "      <td>1619</td>\n",
       "      <td>1619</td>\n",
       "      <td>1619</td>\n",
       "      <td>1619</td>\n",
       "      <td>1619</td>\n",
       "      <td>1619</td>\n",
       "      <td>1619</td>\n",
       "      <td>1619</td>\n",
       "      <td>...</td>\n",
       "      <td>1619</td>\n",
       "      <td>1619</td>\n",
       "      <td>1619</td>\n",
       "      <td>1619</td>\n",
       "      <td>1619</td>\n",
       "      <td>1619</td>\n",
       "      <td>1619</td>\n",
       "      <td>1619</td>\n",
       "      <td>1619</td>\n",
       "      <td>1619</td>\n",
       "    </tr>\n",
       "    <tr>\n",
       "      <th>tvMovie</th>\n",
       "      <td>6057</td>\n",
       "      <td>6057</td>\n",
       "      <td>6057</td>\n",
       "      <td>6057</td>\n",
       "      <td>6057</td>\n",
       "      <td>6057</td>\n",
       "      <td>6057</td>\n",
       "      <td>6057</td>\n",
       "      <td>6057</td>\n",
       "      <td>6057</td>\n",
       "      <td>...</td>\n",
       "      <td>6057</td>\n",
       "      <td>6057</td>\n",
       "      <td>6057</td>\n",
       "      <td>6057</td>\n",
       "      <td>6057</td>\n",
       "      <td>6057</td>\n",
       "      <td>6057</td>\n",
       "      <td>6057</td>\n",
       "      <td>6057</td>\n",
       "      <td>6057</td>\n",
       "    </tr>\n",
       "    <tr>\n",
       "      <th>tvSeries</th>\n",
       "      <td>9205</td>\n",
       "      <td>9205</td>\n",
       "      <td>9205</td>\n",
       "      <td>9205</td>\n",
       "      <td>9205</td>\n",
       "      <td>9205</td>\n",
       "      <td>9205</td>\n",
       "      <td>9205</td>\n",
       "      <td>9205</td>\n",
       "      <td>9205</td>\n",
       "      <td>...</td>\n",
       "      <td>9205</td>\n",
       "      <td>9205</td>\n",
       "      <td>9205</td>\n",
       "      <td>9205</td>\n",
       "      <td>9205</td>\n",
       "      <td>9205</td>\n",
       "      <td>9205</td>\n",
       "      <td>9205</td>\n",
       "      <td>9205</td>\n",
       "      <td>9205</td>\n",
       "    </tr>\n",
       "    <tr>\n",
       "      <th>tvShort</th>\n",
       "      <td>269</td>\n",
       "      <td>269</td>\n",
       "      <td>269</td>\n",
       "      <td>269</td>\n",
       "      <td>269</td>\n",
       "      <td>269</td>\n",
       "      <td>269</td>\n",
       "      <td>269</td>\n",
       "      <td>269</td>\n",
       "      <td>269</td>\n",
       "      <td>...</td>\n",
       "      <td>269</td>\n",
       "      <td>269</td>\n",
       "      <td>269</td>\n",
       "      <td>269</td>\n",
       "      <td>269</td>\n",
       "      <td>269</td>\n",
       "      <td>269</td>\n",
       "      <td>269</td>\n",
       "      <td>269</td>\n",
       "      <td>269</td>\n",
       "    </tr>\n",
       "    <tr>\n",
       "      <th>tvSpecial</th>\n",
       "      <td>1149</td>\n",
       "      <td>1149</td>\n",
       "      <td>1149</td>\n",
       "      <td>1149</td>\n",
       "      <td>1149</td>\n",
       "      <td>1149</td>\n",
       "      <td>1149</td>\n",
       "      <td>1149</td>\n",
       "      <td>1149</td>\n",
       "      <td>1149</td>\n",
       "      <td>...</td>\n",
       "      <td>1149</td>\n",
       "      <td>1149</td>\n",
       "      <td>1149</td>\n",
       "      <td>1149</td>\n",
       "      <td>1149</td>\n",
       "      <td>1149</td>\n",
       "      <td>1149</td>\n",
       "      <td>1149</td>\n",
       "      <td>1149</td>\n",
       "      <td>1149</td>\n",
       "    </tr>\n",
       "    <tr>\n",
       "      <th>video</th>\n",
       "      <td>5149</td>\n",
       "      <td>5149</td>\n",
       "      <td>5149</td>\n",
       "      <td>5149</td>\n",
       "      <td>5149</td>\n",
       "      <td>5149</td>\n",
       "      <td>5149</td>\n",
       "      <td>5149</td>\n",
       "      <td>5149</td>\n",
       "      <td>5149</td>\n",
       "      <td>...</td>\n",
       "      <td>5149</td>\n",
       "      <td>5149</td>\n",
       "      <td>5149</td>\n",
       "      <td>5149</td>\n",
       "      <td>5149</td>\n",
       "      <td>5149</td>\n",
       "      <td>5149</td>\n",
       "      <td>5149</td>\n",
       "      <td>5149</td>\n",
       "      <td>5149</td>\n",
       "    </tr>\n",
       "    <tr>\n",
       "      <th>videoGame</th>\n",
       "      <td>1777</td>\n",
       "      <td>1777</td>\n",
       "      <td>1777</td>\n",
       "      <td>1777</td>\n",
       "      <td>1777</td>\n",
       "      <td>1777</td>\n",
       "      <td>1777</td>\n",
       "      <td>1777</td>\n",
       "      <td>1777</td>\n",
       "      <td>1777</td>\n",
       "      <td>...</td>\n",
       "      <td>1777</td>\n",
       "      <td>1777</td>\n",
       "      <td>1777</td>\n",
       "      <td>1777</td>\n",
       "      <td>1777</td>\n",
       "      <td>1777</td>\n",
       "      <td>1777</td>\n",
       "      <td>1777</td>\n",
       "      <td>1777</td>\n",
       "      <td>1777</td>\n",
       "    </tr>\n",
       "  </tbody>\n",
       "</table>\n",
       "<p>10 rows × 31 columns</p>\n",
       "</div>"
      ],
      "text/plain": [
       "              originalTitle  rating  startYear  endYear  runtimeMinutes  \\\n",
       "titleType                                                                 \n",
       "movie                 37098   37098      37098    37098           37098   \n",
       "short                 16378   16378      16378    16378           16378   \n",
       "tvEpisode             70830   70830      70830    70830           70830   \n",
       "tvMiniSeries           1619    1619       1619     1619            1619   \n",
       "tvMovie                6057    6057       6057     6057            6057   \n",
       "tvSeries               9205    9205       9205     9205            9205   \n",
       "tvShort                 269     269        269      269             269   \n",
       "tvSpecial              1149    1149       1149     1149            1149   \n",
       "video                  5149    5149       5149     5149            5149   \n",
       "videoGame              1777    1777       1777     1777            1777   \n",
       "\n",
       "              awardWins  numVotes  worstRating  bestRating  totalImages  ...  \\\n",
       "titleType                                                                ...   \n",
       "movie             37098     37098        37098       37098        37098  ...   \n",
       "short             16378     16378        16378       16378        16378  ...   \n",
       "tvEpisode         70830     70830        70830       70830        70830  ...   \n",
       "tvMiniSeries       1619      1619         1619        1619         1619  ...   \n",
       "tvMovie            6057      6057         6057        6057         6057  ...   \n",
       "tvSeries           9205      9205         9205        9205         9205  ...   \n",
       "tvShort             269       269          269         269          269  ...   \n",
       "tvSpecial          1149      1149         1149        1149         1149  ...   \n",
       "video              5149      5149         5149        5149         5149  ...   \n",
       "videoGame          1777      1777         1777        1777         1777  ...   \n",
       "\n",
       "              genres  castNumber  companiesNumber  averageRating  regions  \\\n",
       "titleType                                                                   \n",
       "movie          37098       37098            37098          37098    37098   \n",
       "short          16378       16378            16378          16378    16378   \n",
       "tvEpisode      70830       70830            70830          70830    70830   \n",
       "tvMiniSeries    1619        1619             1619           1619     1619   \n",
       "tvMovie         6057        6057             6057           6057     6057   \n",
       "tvSeries        9205        9205             9205           9205     9205   \n",
       "tvShort          269         269              269            269      269   \n",
       "tvSpecial       1149        1149             1149           1149     1149   \n",
       "video           5149        5149             5149           5149     5149   \n",
       "videoGame       1777        1777             1777           1777     1777   \n",
       "\n",
       "              externalLinks  writerCredits  directorsCredits  soundMixes  \\\n",
       "titleType                                                                  \n",
       "movie                 37098          37098             37098       37098   \n",
       "short                 16378          16378             16378       16378   \n",
       "tvEpisode             70830          70830             70830       70830   \n",
       "tvMiniSeries           1619           1619              1619        1619   \n",
       "tvMovie                6057           6057              6057        6057   \n",
       "tvSeries               9205           9205              9205        9205   \n",
       "tvShort                 269            269               269         269   \n",
       "tvSpecial              1149           1149              1149        1149   \n",
       "video                  5149           5149              5149        5149   \n",
       "videoGame              1777           1777              1777        1777   \n",
       "\n",
       "              quotesTotal  \n",
       "titleType                  \n",
       "movie               37098  \n",
       "short               16378  \n",
       "tvEpisode           70830  \n",
       "tvMiniSeries         1619  \n",
       "tvMovie              6057  \n",
       "tvSeries             9205  \n",
       "tvShort               269  \n",
       "tvSpecial            1149  \n",
       "video                5149  \n",
       "videoGame            1777  \n",
       "\n",
       "[10 rows x 31 columns]"
      ]
     },
     "execution_count": 4,
     "metadata": {},
     "output_type": "execute_result"
    }
   ],
   "source": [
    "df.groupby('titleType').count()"
   ]
  },
  {
   "cell_type": "code",
   "execution_count": 5,
   "metadata": {},
   "outputs": [
    {
     "data": {
      "text/plain": [
       "Index(['originalTitle', 'rating', 'startYear', 'endYear', 'runtimeMinutes',\n",
       "       'awardWins', 'numVotes', 'worstRating', 'bestRating', 'totalImages',\n",
       "       'totalVideos', 'totalCredits', 'criticReviewsTotal', 'titleType',\n",
       "       'awardNominationsExcludeWins', 'canHaveEpisodes', 'isRatable',\n",
       "       'isAdult', 'numRegions', 'userReviewsTotal', 'ratingCount',\n",
       "       'countryOfOrigin', 'genres', 'castNumber', 'companiesNumber',\n",
       "       'averageRating', 'regions', 'externalLinks', 'writerCredits',\n",
       "       'directorsCredits', 'soundMixes', 'quotesTotal'],\n",
       "      dtype='object')"
      ]
     },
     "execution_count": 5,
     "metadata": {},
     "output_type": "execute_result"
    }
   ],
   "source": [
    "df.columns"
   ]
  },
  {
   "cell_type": "code",
   "execution_count": 6,
   "metadata": {},
   "outputs": [
    {
     "data": {
      "text/plain": [
       "array(['\\\\N', '1945', '1951', '1958', '1952', '1950', '1955', '1957',\n",
       "       '1954', '1963', '1960', '1961', '1956', '1965', '1953', '1993',\n",
       "       '1968', '1962', '1974', '1989', '1959', '1966', '1964', '1971',\n",
       "       '1970', '1969', '1985', '1967', '1986', '1977', '1973', '1975',\n",
       "       '1997', '2011', '1972', '2005', '2006', '1976', '1979', '1978',\n",
       "       '1980', '1983', '2016', '1982', '1987', '1981', '1991', '1984',\n",
       "       '1994', '1988', '1992', '1995', '2004', '1990', '1996', '1998',\n",
       "       '1999', '2002', '2000', '2010', '2001', '2012', '2019', '2007',\n",
       "       '2009', '2015', '2003', '2013', '2023', '2024', '2008', '2018',\n",
       "       '2022', '2017', '2020', '2021', '2014', '1933', '2025'],\n",
       "      dtype=object)"
      ]
     },
     "execution_count": 6,
     "metadata": {},
     "output_type": "execute_result"
    }
   ],
   "source": [
    "df['endYear'].unique()"
   ]
  },
  {
   "cell_type": "code",
   "execution_count": 7,
   "metadata": {},
   "outputs": [],
   "source": [
    "def convert_to_numeric_nans(df, col) -> pd.Series:\n",
    "    return pd.to_numeric(df[col], errors='coerce')"
   ]
  },
  {
   "cell_type": "code",
   "execution_count": 8,
   "metadata": {},
   "outputs": [
    {
     "data": {
      "text/plain": [
       "array(['1', '12', '2', '\\\\N', '3', '4', '5', '11', '6', '21', '7', '8',\n",
       "       '17', '9', '10', '13', '16', '15', '14', '38', '18', '34', '44',\n",
       "       '35', '42', '33', '25', '45', '28', '29', '20', '32', '55', '51',\n",
       "       '50', '53', '39', '60', '85', '170', '63', '48', '148', '40',\n",
       "       '220', '68', '22', '300', '30', '31', '199', '109', '110', '90',\n",
       "       '26', '59', '24', '66', '27', '36', '105', '65', '52', '70', '62',\n",
       "       '95', '54', '46', '83', '73', '80', '125', '58', '100', '350',\n",
       "       '82', '78', '72', '57', '93', '23', '37', '76', '92', '77', '75',\n",
       "       '87', '103', '67', '86', '116', '61', '19', '184', '89', '69',\n",
       "       '114', '74', '56', '84', '64', '310', '117', '128', '150', '360',\n",
       "       '101', '111', '104', '210', '133', '143', '135', '41', '200',\n",
       "       '153', '94', '120', '71', '97', '107', '122', '179', '250', '108',\n",
       "       '136', '88', '91', '81', '124', '160', '129', '130', '79', '102',\n",
       "       '380', '156', '98', '123', '96', '99', '217', '106', '195', '216',\n",
       "       '115', '240', '218', '112', '225', '113', '47', '49', '141', '323',\n",
       "       '328', '245', '139', '140', '256', '212', '126', '121', '211',\n",
       "       '258', '263', '320', '205', '269', '285', '118', '165', '134',\n",
       "       '227', '270', '196', '127', '261', '265', '138', '119', '228',\n",
       "       '248', '279', '180', '167', '142', '260', '183', '252', '132',\n",
       "       '174', '151', '145', '137', '152', '204', '173', '157', '146',\n",
       "       '164', '171', '162', '175', '181', '149', '144', '131', '169',\n",
       "       '163', '147', '43', '207', '172', '158', '191', '166', '197',\n",
       "       '189', '178', '176', '168', '186', '288', '155', '185', '203',\n",
       "       '253', '540', '251', '321', '238', '348', '192', '309', '159',\n",
       "       '193', '396', '763', '278', '614', '780', '510', '390', '188',\n",
       "       '161', '154', '286', '752', '301', '177', '720', '239', '229',\n",
       "       '187', '420', '312', '190', '182', '400', '255', '208', '267',\n",
       "       '236', '330', '345', '318', '237', '241', '206', '222', '198',\n",
       "       '515', '234', '316', '341', '290', '480', '438', '583', '384',\n",
       "       '351', '223', '219', '357', '315', '308', '349', '295', '280',\n",
       "       '778', '291', '266', '382', '375', '235', '209', '325', '2800',\n",
       "       '361', '465', '201', '445', '276', '214', '231', '305', '306',\n",
       "       '215', '580', '370', '5220', '450', '233', '194', '372', '352',\n",
       "       '336', '232', '374', '249', '273', '600', '224', '579', '715',\n",
       "       '1380', '294', '765', '652', '528', '520', '1290', '202', '392',\n",
       "       '230', '379', '530', '0', '547', '246', '221', '247', '570', '516',\n",
       "       '367', '1050', '298', '329', '324', '490', '213', '456', '642',\n",
       "       '275', '1415', '624', '424', '338', '572', '3000', '514', '1040',\n",
       "       '549', '460', '254', '281', '264', '1175', '471', '243', '314',\n",
       "       '542', '1416', '302', '257', '242'], dtype=object)"
      ]
     },
     "execution_count": 8,
     "metadata": {},
     "output_type": "execute_result"
    }
   ],
   "source": [
    "df['runtimeMinutes'].unique()"
   ]
  },
  {
   "cell_type": "code",
   "execution_count": 9,
   "metadata": {},
   "outputs": [
    {
     "data": {
      "text/plain": [
       "array([1.000e+00, 1.200e+01, 2.000e+00,       nan, 3.000e+00, 4.000e+00,\n",
       "       5.000e+00, 1.100e+01, 6.000e+00, 2.100e+01, 7.000e+00, 8.000e+00,\n",
       "       1.700e+01, 9.000e+00, 1.000e+01, 1.300e+01, 1.600e+01, 1.500e+01,\n",
       "       1.400e+01, 3.800e+01, 1.800e+01, 3.400e+01, 4.400e+01, 3.500e+01,\n",
       "       4.200e+01, 3.300e+01, 2.500e+01, 4.500e+01, 2.800e+01, 2.900e+01,\n",
       "       2.000e+01, 3.200e+01, 5.500e+01, 5.100e+01, 5.000e+01, 5.300e+01,\n",
       "       3.900e+01, 6.000e+01, 8.500e+01, 1.700e+02, 6.300e+01, 4.800e+01,\n",
       "       1.480e+02, 4.000e+01, 2.200e+02, 6.800e+01, 2.200e+01, 3.000e+02,\n",
       "       3.000e+01, 3.100e+01, 1.990e+02, 1.090e+02, 1.100e+02, 9.000e+01,\n",
       "       2.600e+01, 5.900e+01, 2.400e+01, 6.600e+01, 2.700e+01, 3.600e+01,\n",
       "       1.050e+02, 6.500e+01, 5.200e+01, 7.000e+01, 6.200e+01, 9.500e+01,\n",
       "       5.400e+01, 4.600e+01, 8.300e+01, 7.300e+01, 8.000e+01, 1.250e+02,\n",
       "       5.800e+01, 1.000e+02, 3.500e+02, 8.200e+01, 7.800e+01, 7.200e+01,\n",
       "       5.700e+01, 9.300e+01, 2.300e+01, 3.700e+01, 7.600e+01, 9.200e+01,\n",
       "       7.700e+01, 7.500e+01, 8.700e+01, 1.030e+02, 6.700e+01, 8.600e+01,\n",
       "       1.160e+02, 6.100e+01, 1.900e+01, 1.840e+02, 8.900e+01, 6.900e+01,\n",
       "       1.140e+02, 7.400e+01, 5.600e+01, 8.400e+01, 6.400e+01, 3.100e+02,\n",
       "       1.170e+02, 1.280e+02, 1.500e+02, 3.600e+02, 1.010e+02, 1.110e+02,\n",
       "       1.040e+02, 2.100e+02, 1.330e+02, 1.430e+02, 1.350e+02, 4.100e+01,\n",
       "       2.000e+02, 1.530e+02, 9.400e+01, 1.200e+02, 7.100e+01, 9.700e+01,\n",
       "       1.070e+02, 1.220e+02, 1.790e+02, 2.500e+02, 1.080e+02, 1.360e+02,\n",
       "       8.800e+01, 9.100e+01, 8.100e+01, 1.240e+02, 1.600e+02, 1.290e+02,\n",
       "       1.300e+02, 7.900e+01, 1.020e+02, 3.800e+02, 1.560e+02, 9.800e+01,\n",
       "       1.230e+02, 9.600e+01, 9.900e+01, 2.170e+02, 1.060e+02, 1.950e+02,\n",
       "       2.160e+02, 1.150e+02, 2.400e+02, 2.180e+02, 1.120e+02, 2.250e+02,\n",
       "       1.130e+02, 4.700e+01, 4.900e+01, 1.410e+02, 3.230e+02, 3.280e+02,\n",
       "       2.450e+02, 1.390e+02, 1.400e+02, 2.560e+02, 2.120e+02, 1.260e+02,\n",
       "       1.210e+02, 2.110e+02, 2.580e+02, 2.630e+02, 3.200e+02, 2.050e+02,\n",
       "       2.690e+02, 2.850e+02, 1.180e+02, 1.650e+02, 1.340e+02, 2.270e+02,\n",
       "       2.700e+02, 1.960e+02, 1.270e+02, 2.610e+02, 2.650e+02, 1.380e+02,\n",
       "       1.190e+02, 2.280e+02, 2.480e+02, 2.790e+02, 1.800e+02, 1.670e+02,\n",
       "       1.420e+02, 2.600e+02, 1.830e+02, 2.520e+02, 1.320e+02, 1.740e+02,\n",
       "       1.510e+02, 1.450e+02, 1.370e+02, 1.520e+02, 2.040e+02, 1.730e+02,\n",
       "       1.570e+02, 1.460e+02, 1.640e+02, 1.710e+02, 1.620e+02, 1.750e+02,\n",
       "       1.810e+02, 1.490e+02, 1.440e+02, 1.310e+02, 1.690e+02, 1.630e+02,\n",
       "       1.470e+02, 4.300e+01, 2.070e+02, 1.720e+02, 1.580e+02, 1.910e+02,\n",
       "       1.660e+02, 1.970e+02, 1.890e+02, 1.780e+02, 1.760e+02, 1.680e+02,\n",
       "       1.860e+02, 2.880e+02, 1.550e+02, 1.850e+02, 2.030e+02, 2.530e+02,\n",
       "       5.400e+02, 2.510e+02, 3.210e+02, 2.380e+02, 3.480e+02, 1.920e+02,\n",
       "       3.090e+02, 1.590e+02, 1.930e+02, 3.960e+02, 7.630e+02, 2.780e+02,\n",
       "       6.140e+02, 7.800e+02, 5.100e+02, 3.900e+02, 1.880e+02, 1.610e+02,\n",
       "       1.540e+02, 2.860e+02, 7.520e+02, 3.010e+02, 1.770e+02, 7.200e+02,\n",
       "       2.390e+02, 2.290e+02, 1.870e+02, 4.200e+02, 3.120e+02, 1.900e+02,\n",
       "       1.820e+02, 4.000e+02, 2.550e+02, 2.080e+02, 2.670e+02, 2.360e+02,\n",
       "       3.300e+02, 3.450e+02, 3.180e+02, 2.370e+02, 2.410e+02, 2.060e+02,\n",
       "       2.220e+02, 1.980e+02, 5.150e+02, 2.340e+02, 3.160e+02, 3.410e+02,\n",
       "       2.900e+02, 4.800e+02, 4.380e+02, 5.830e+02, 3.840e+02, 3.510e+02,\n",
       "       2.230e+02, 2.190e+02, 3.570e+02, 3.150e+02, 3.080e+02, 3.490e+02,\n",
       "       2.950e+02, 2.800e+02, 7.780e+02, 2.910e+02, 2.660e+02, 3.820e+02,\n",
       "       3.750e+02, 2.350e+02, 2.090e+02, 3.250e+02, 2.800e+03, 3.610e+02,\n",
       "       4.650e+02, 2.010e+02, 4.450e+02, 2.760e+02, 2.140e+02, 2.310e+02,\n",
       "       3.050e+02, 3.060e+02, 2.150e+02, 5.800e+02, 3.700e+02, 5.220e+03,\n",
       "       4.500e+02, 2.330e+02, 1.940e+02, 3.720e+02, 3.520e+02, 3.360e+02,\n",
       "       2.320e+02, 3.740e+02, 2.490e+02, 2.730e+02, 6.000e+02, 2.240e+02,\n",
       "       5.790e+02, 7.150e+02, 1.380e+03, 2.940e+02, 7.650e+02, 6.520e+02,\n",
       "       5.280e+02, 5.200e+02, 1.290e+03, 2.020e+02, 3.920e+02, 2.300e+02,\n",
       "       3.790e+02, 5.300e+02, 0.000e+00, 5.470e+02, 2.460e+02, 2.210e+02,\n",
       "       2.470e+02, 5.700e+02, 5.160e+02, 3.670e+02, 1.050e+03, 2.980e+02,\n",
       "       3.290e+02, 3.240e+02, 4.900e+02, 2.130e+02, 4.560e+02, 6.420e+02,\n",
       "       2.750e+02, 1.415e+03, 6.240e+02, 4.240e+02, 3.380e+02, 5.720e+02,\n",
       "       3.000e+03, 5.140e+02, 1.040e+03, 5.490e+02, 4.600e+02, 2.540e+02,\n",
       "       2.810e+02, 2.640e+02, 1.175e+03, 4.710e+02, 2.430e+02, 3.140e+02,\n",
       "       5.420e+02, 1.416e+03, 3.020e+02, 2.570e+02, 2.420e+02])"
      ]
     },
     "execution_count": 9,
     "metadata": {},
     "output_type": "execute_result"
    }
   ],
   "source": [
    "df['runtimeMinutes'] = convert_to_numeric_nans(df, 'runtimeMinutes')\n",
    "df['runtimeMinutes'].unique()"
   ]
  },
  {
   "cell_type": "code",
   "execution_count": 10,
   "metadata": {},
   "outputs": [
    {
     "data": {
      "text/plain": [
       "array([ 5.7,  5.4,  5. ,  7.4,  6.1,  5.6,  5.5,  4.2,  4. ,  4.1,  4.3,\n",
       "        3. ,  3.8,  4.4,  4.5,  4.6,  5.8,  3.3,  4.7,  6.2,  5.2,  3.6,\n",
       "        3.9,  6.6,  6.4,  5.3,  5.9,  4.8,  5.1,  6.3,  6.8,  7.3,  6.7,\n",
       "        3.2,  7.2,  4.9,  6.5,  6. ,  7.6,  2.6,  7. ,  3.7,  7.1,  8.1,\n",
       "        7.7,  9. ,  8.2,  7.8,  8.7,  1.9,  2.2,  6.9,  8.5,  7.9,  7.5,\n",
       "        8.4,  3.4,  2.4,  3.5,  8.8,  2.7,  8. ,  2.3,  1.8,  3.1,  2.5,\n",
       "        2.9,  8.3,  1.6,  2.8,  8.9,  8.6,  9.1,  9.3,  1.7,  9.5,  2. ,\n",
       "        9.4,  9.8,  9.2,  1.1,  1.5,  2.1,  9.6,  1.2, 10. ,  9.7,  1.3,\n",
       "        1. ,  1.4,  9.9])"
      ]
     },
     "execution_count": 10,
     "metadata": {},
     "output_type": "execute_result"
    }
   ],
   "source": [
    "df['averageRating'].unique()"
   ]
  },
  {
   "cell_type": "code",
   "execution_count": 11,
   "metadata": {},
   "outputs": [
    {
     "data": {
      "text/plain": [
       "array([  0,   1,   2,   3,   4,   9,   7,   5,   8,  12,  10,   6,  14,\n",
       "        20,  15,  13,  36,  11,  16,  23,  19,  24,  17, 650, 352, 581,\n",
       "        18,  25,  21,  44,  27,  22,  35,  40,  82,  56,  43,  53,  31,\n",
       "        59,  60,  34,  61, 145,  26,  52, 105,  51,  41, 206,  38,  29,\n",
       "        39,  33,  46,  32,  42,  72, 275,  49,  74,  57,  58,  30, 136,\n",
       "        86,  54,  81,  88, 117,  45,  64,  37,  28, 106,  47,  50,  48,\n",
       "       202, 113, 177,  73,  63, 109, 262, 125,  95,  90,  55, 120, 239,\n",
       "        62, 359,  76,  70, 193, 256,  68,  67, 115, 133,  77, 333, 141,\n",
       "        98, 232, 107, 197,  79,  65,  71, 124, 137, 155])"
      ]
     },
     "execution_count": 11,
     "metadata": {},
     "output_type": "execute_result"
    }
   ],
   "source": [
    "df['awardNominationsExcludeWins'].unique()"
   ]
  },
  {
   "cell_type": "code",
   "execution_count": 12,
   "metadata": {},
   "outputs": [
    {
     "data": {
      "text/plain": [
       "array([  0,   1,   2,   3,   5,   4,  11,   7,  10,  12,   8,  19,   6,\n",
       "        18,   9,  15,  27,  31,  14,  17,  22, 243,  21,  34,  13, 251,\n",
       "       200,  35,  16,  48,  20,  25,  38,  24,  26,  39,  55,  50,  44,\n",
       "        33,  29,  69,  74,  36,  23,  83,  53,  91,  28,  37,  59,  32,\n",
       "        30,  56, 125,  49,  87,  64, 446,  70,  54,  40,  86, 110,  85,\n",
       "       349,  75,  76,  92,  47,  72,  68,  57, 145,  46,  60,  41,  73,\n",
       "       108,  93,  62,  61, 254,  43, 109,  77])"
      ]
     },
     "execution_count": 12,
     "metadata": {},
     "output_type": "execute_result"
    }
   ],
   "source": [
    "df['awardWins'].unique()"
   ]
  },
  {
   "cell_type": "code",
   "execution_count": 13,
   "metadata": {},
   "outputs": [
    {
     "data": {
      "text/plain": [
       "array([False,  True])"
      ]
     },
     "execution_count": 13,
     "metadata": {},
     "output_type": "execute_result"
    }
   ],
   "source": [
    "df['canHaveEpisodes'].unique()"
   ]
  },
  {
   "cell_type": "code",
   "execution_count": 14,
   "metadata": {},
   "outputs": [
    {
     "data": {
      "text/plain": [
       "array([    1,     0,     6,     3,     2,    15,     4,     7,     5,\n",
       "           8,     9,    13,    11,    17,    19,    16,    20,    10,\n",
       "          21,    12,    18,    24,    14,    28,    26,    22,    23,\n",
       "          27,    72,    30,    35,    33,    56,    29,    52,    31,\n",
       "          32,    42,    78,    53,    38,   137,    25,   183,    49,\n",
       "          46,    43,    41,    45,    40,    37,    79,    47,    44,\n",
       "          39,    34,    50,    88,    48,    59,    77,    36,   110,\n",
       "          51,   119,   126,    61,    71,    75,    62,    91,    92,\n",
       "         127,    66,   115,    60,    94,    64,    57,    68,   108,\n",
       "          74,   117,    58,    55,    54,   128,    97,   141,   118,\n",
       "          85,    87,    76,    63,   101,   112,    67,    96,   222,\n",
       "          84,    80,   102,   216,    81,   100,    82,    70,    90,\n",
       "          89,   105,    65,    69,    99,   147,   160,    73,   107,\n",
       "         122,   130,   104,   133,   153,    93,   123,   131,    98,\n",
       "         417,   469,   640,   168,   228,  1296,   620,   372,  1158,\n",
       "         103,   252,   930,   293,   836,   135,   526,   190,   159,\n",
       "         195,   273,    86,   462,   217,   155,   321,  1373,    83,\n",
       "         106,   116,  1655,   201,   729,   374,   120,   513,   173,\n",
       "         722,   471,   385,  1314,   114,    95,   361,  1326,   727,\n",
       "         684,   295,   834,   148,  1730,   196,   275,   371,   129,\n",
       "        1385,   744,   981,   269,  2100,   537,   283,   733,   289,\n",
       "         676,   237,   164,   404,   411,   285,   157,   498,   244,\n",
       "        1175,   136,   616,   584,   401,   214,   496,   611,   139,\n",
       "         424,   329,   885,   358,   206,   124,   238,   311,  1691,\n",
       "         290,   350,   377,   132,   939,   317,   179,   486,   225,\n",
       "        5389,   184,   666,   221,   178,   305,   280,   278,   146,\n",
       "        1207,   263,   926,   338,   185,   347,   267,   255,   197,\n",
       "         345,   365,   534,  1225,   162,   246,  2563,   199,   344,\n",
       "         457,   240,   658,   291,   952,   224,   407,   205,   144,\n",
       "         232,   323,   359,   379,   145,   308,   194,   188,   294,\n",
       "         354,   973,   211,   391,  1193,   149,   176,   505,   886,\n",
       "         386,   331,   357,   109,   175,   134,   111,  1635,   236,\n",
       "         181,   121,  1823,   165,   326,   403,  1410,   523,   566,\n",
       "        1358,   363,   166,   458,   210,   650,   125,   180,   474,\n",
       "         231,   161,   466,   777,   506,   233,  2832,   972,   207,\n",
       "         380,   313,  1603,   416,   170,   627,   169,   864,   621,\n",
       "         395,   247,   286,   282,   150,   484,   187,   203,   298,\n",
       "         172,  1060,   202,   288,   587,  3688,   447,   243,  8454,\n",
       "         504,   245,   319,  4270,   204,   772,   597,  7677,   801,\n",
       "         182,   167,   334,   485,   296,   748,   113,   262,  1640,\n",
       "         330,  1423,   464,   419,   863,   192,   152,   219,   794,\n",
       "         346,   279,   353,   547,   686,   398,   292,   276,   143,\n",
       "         208,   701,   198,   475,  1762,  2115,   140,   393,   212,\n",
       "         227,  1216,   592,  1324,   641,   215,   719,   171,   855,\n",
       "         375,  2090,   530,   760,   366,   163,   463,   318,   413,\n",
       "         138,   488,   459,   154,   700,   189,   819,  3031,  4417,\n",
       "         815,   193,   303,   442,   271,   158,   312,   367,   480,\n",
       "         734,   813,   559,   234,   663,   328,   991,   220,  2475,\n",
       "        1693,  2928,   177,  3629,   715,  2706,   652,   648,   763,\n",
       "         256,  1054,  1096,   595,   223,  4401,   142,   315,  4541,\n",
       "         545,  1142,   437,   544,  1585,   218,   339,  1938,   389,\n",
       "         451,  4156,   209,   230,  1097,   301,  1460,  1951,   509,\n",
       "         174,   780,  1021,   284,   758,   820,   333,   277,   399,\n",
       "         490,   151,  3583,   888,   634,   400,   775,  1880,  2362,\n",
       "         248,  1544,   299,   239,  4699,   341,   976,   687,   304,\n",
       "         300,   253,   156,  2725,   994,   388,   352,   302,  2711,\n",
       "        2061,   260,   349,   251,   264,  1795,   270,   186,   465,\n",
       "         415,   434,   425,   336,   477,   928,  1852,  1164,   472,\n",
       "        1109,   554,  1814,  2345,   418,   943,   316,   261,   503,\n",
       "         814,  1348,  4408,   254,   249,   568,   805,   787,   723,\n",
       "        1707,   383,  1552,  5830,   320,  1005,   861,   200,   430,\n",
       "         435,   866,   668,   433,  1447,   281,   865,   427,   642,\n",
       "         859,   226,  3914, 10649,  1047,   454,   272,   617,  4217,\n",
       "         675,  2471,   563,   241,  1103,  4123,   392,   428,   543,\n",
       "        2224,   489,   378,   250,   444,   769,   213,   984,  2667,\n",
       "        2128,  2107,  3119,   342,   453,   384,   776,   635,  1087,\n",
       "        1105,   710,  1399,   493,   818,   873,   322,   731,   268,\n",
       "        1409,   851,   987,   804,  1374,   274,   487,   265,   432,\n",
       "         297,  1069,   585,   779,   827,  3667,   527,   735,   410,\n",
       "         965,   565,  4852,  2132,   539,   935,   324,  1149,   817,\n",
       "         327,   470,   426,  1425,   799,   287,   694,   259,   606,\n",
       "        1014,   695,   390,   511,   510,   932,   580,   685,   491,\n",
       "         332,  4628,   348,   364,   340,  1400,   538,   645,   440,\n",
       "         567,   599,   900,   309,   842,   191,   492,   452,   501,\n",
       "         370,  2397,   310,   609,   443,   356,  1690,  1676,   325,\n",
       "         229,   314])"
      ]
     },
     "execution_count": 14,
     "metadata": {},
     "output_type": "execute_result"
    }
   ],
   "source": [
    "df['castNumber'].unique()"
   ]
  },
  {
   "cell_type": "code",
   "execution_count": 15,
   "metadata": {},
   "outputs": [
    {
     "data": {
      "text/plain": [
       "array([  3,   0,   1,   6,   5,   2,   4,   8,   7,  11,  10,  12,  14,\n",
       "        15,  26,  20,  13,  25,   9,  16,  21,  18,  23,  22,  42,  19,\n",
       "        75,  24,  17,  35,  27,  61,  47,  36,  34,  31,  32, 114,  57,\n",
       "        38,  55,  30,  82,  28,  65,  72,  29,  33,  40,  37,  48,  78,\n",
       "        46,  49,  91,  43,  67,  50,  44,  51,  54,  70,  56, 106,  41,\n",
       "       112, 142,  74,  71,  39,  62,  98,  86,  66,  45,  53,  58, 124,\n",
       "        81, 108, 557, 558,  63,  77,  84, 551,  89, 547,  52,  83,  92,\n",
       "        59, 182, 560, 110, 548, 115, 109,  69, 100,  60, 552, 550, 147,\n",
       "        76,  99, 105, 553,  64,  93,  73,  95, 556, 135, 544, 116, 543,\n",
       "        90, 303, 101, 126, 555, 152,  87,  88, 129, 539, 128, 139,  80,\n",
       "        68, 533,  97, 534, 366, 122, 244, 532, 125, 159, 185, 113, 157,\n",
       "       107,  79, 301, 143, 134, 104, 119, 132, 528,  85, 537, 111, 299,\n",
       "       527, 541, 103, 530, 546, 300, 323, 298, 566, 154, 136, 359, 133,\n",
       "       255, 123, 559, 118,  94, 117, 120, 597, 130, 297, 549,  96, 155,\n",
       "       156, 177, 183, 146, 121, 102, 563, 472, 150, 138, 149, 561, 564,\n",
       "       190, 181, 168, 153, 314, 189, 171, 486, 569, 565, 570, 567, 231])"
      ]
     },
     "execution_count": 15,
     "metadata": {},
     "output_type": "execute_result"
    }
   ],
   "source": [
    "df['companiesNumber'].unique()"
   ]
  },
  {
   "cell_type": "code",
   "execution_count": 16,
   "metadata": {},
   "outputs": [
    {
     "data": {
      "text/plain": [
       "array([\"['US']\", \"['FR']\", \"['GB']\", ..., \"['TZ', 'DE']\",\n",
       "       \"['DE', 'LU', 'BE', 'CZ', 'PL', 'CN']\",\n",
       "       \"['FR', 'BE', 'DE', 'CH', 'LU', 'IR', 'LB']\"], dtype=object)"
      ]
     },
     "execution_count": 16,
     "metadata": {},
     "output_type": "execute_result"
    }
   ],
   "source": [
    "df['countryOfOrigin'].unique()"
   ]
  },
  {
   "cell_type": "code",
   "execution_count": 17,
   "metadata": {},
   "outputs": [
    {
     "data": {
      "text/plain": [
       "0         ['US']\n",
       "1         ['FR']\n",
       "2         ['US']\n",
       "3         ['US']\n",
       "4         ['FR']\n",
       "           ...  \n",
       "149526    ['CO']\n",
       "149527    ['ES']\n",
       "149528       NaN\n",
       "149529       NaN\n",
       "149530       NaN\n",
       "Name: countryOfOrigin, Length: 149531, dtype: object"
      ]
     },
     "execution_count": 17,
     "metadata": {},
     "output_type": "execute_result"
    }
   ],
   "source": [
    "import ast\n",
    "\n",
    "def convert_string_list(str_list: str):\n",
    "    stripped = str_list.strip()\n",
    "    if stripped == '[]':\n",
    "        return []\n",
    "    \n",
    "    country_list = ast.literal_eval(stripped)  # Convert string to actual list\n",
    "    return [f'{country}' for country in country_list]\n",
    "\n",
    "df['countryOfOrigin']"
   ]
  },
  {
   "cell_type": "code",
   "execution_count": 18,
   "metadata": {},
   "outputs": [
    {
     "data": {
      "text/plain": [
       "0         []\n",
       "1         []\n",
       "2         []\n",
       "3         []\n",
       "4         []\n",
       "          ..\n",
       "149526    []\n",
       "149527    []\n",
       "149528    []\n",
       "149529    []\n",
       "149530    []\n",
       "Name: countryOfOrigin, Length: 149531, dtype: object"
      ]
     },
     "execution_count": 18,
     "metadata": {},
     "output_type": "execute_result"
    }
   ],
   "source": [
    "df['countryOfOrigin'] = df['countryOfOrigin'].apply(lambda x: x if isinstance(x, list) else [])\n",
    "df['countryOfOrigin']"
   ]
  },
  {
   "cell_type": "code",
   "execution_count": 19,
   "metadata": {},
   "outputs": [
    {
     "data": {
      "text/plain": [
       "array([  3,   0,   2,  16,   1,   6,   5,   4,  48,   8,  11,   7,   9,\n",
       "        27,  25,  31,  17,  10,  23,  78,  12,  24,  20,  14,  47,  19,\n",
       "        13,  41,  59,  42,  22, 106,  77,  57,  38,  21,  26,  37,  52,\n",
       "        34,  30,  55,  40,  50,  18,  62,  86,  53, 142,  15,  43,  81,\n",
       "        36,  33,  49,  32,  35,  64,  51, 134,  45, 102,  28,  60,  46,\n",
       "        58,  39,  96,  29, 141,  63, 118,  44, 107, 103,  67, 223, 111,\n",
       "        61,  54,  72,  75,  73,  92, 124, 112,  56,  76,  83,  66, 213,\n",
       "       145,  97,  93,  99,  82, 105, 108,  91, 164,  85,  87, 186, 140,\n",
       "        68, 198, 123, 242,  88, 144,  65, 160, 176,  69,  94, 155, 149,\n",
       "       113, 243, 132,  98, 126,  74,  95,  70, 125, 146, 117,  79,  71,\n",
       "       143, 110, 116, 129, 190, 253,  90, 122, 136, 161, 130, 316, 167,\n",
       "       248, 120, 115, 177, 228, 264,  89, 174, 101, 172, 131, 291, 104,\n",
       "       168,  84, 217, 204, 157, 171, 150, 194, 162, 238, 175, 148, 109,\n",
       "       170, 221, 218, 156, 192, 127, 100, 163, 244, 281, 180, 137, 183,\n",
       "        80, 205, 114, 188, 271, 173, 239, 165, 260, 151, 336, 211, 233,\n",
       "       249, 222, 138, 193, 212, 265, 224, 210, 133, 169, 288, 201, 444,\n",
       "       153, 299, 409, 203, 315, 303, 147, 226, 166, 304, 128, 216, 240,\n",
       "       241, 261, 195, 318, 119, 214, 460, 229, 266, 254, 158, 121, 209,\n",
       "       434, 500, 491, 274, 230, 322, 451, 237, 252, 306, 325, 293, 565,\n",
       "       292, 311, 181, 331, 507, 154, 139, 368, 273, 359, 514, 487, 225,\n",
       "       400, 234, 345, 373, 567, 628, 178, 187, 135, 529, 219, 290, 159,\n",
       "       401, 418, 416, 227, 533, 268, 527, 152, 215, 247, 493, 308, 235,\n",
       "       275, 335, 287, 207, 343, 384, 531, 270, 398, 439, 574, 284, 196,\n",
       "       393, 251, 350, 269, 282, 432, 267, 184, 302, 191, 330, 279, 385])"
      ]
     },
     "execution_count": 19,
     "metadata": {},
     "output_type": "execute_result"
    }
   ],
   "source": [
    "df['criticReviewsTotal'].unique()"
   ]
  },
  {
   "cell_type": "code",
   "execution_count": 20,
   "metadata": {},
   "outputs": [
    {
     "data": {
      "text/plain": [
       "array([ 1,  2,  0,  3,  4,  7, 21,  8,  6,  5, 10, 19, 31,  9, 15, 12, 14,\n",
       "       11, 13, 22, 36, 16, 33, 23, 58, 50, 20])"
      ]
     },
     "execution_count": 20,
     "metadata": {},
     "output_type": "execute_result"
    }
   ],
   "source": [
    "df['directorsCredits'].unique()"
   ]
  },
  {
   "cell_type": "code",
   "execution_count": 21,
   "metadata": {},
   "outputs": [
    {
     "data": {
      "text/plain": [
       "array(['\\\\N', '1945', '1951', '1958', '1952', '1950', '1955', '1957',\n",
       "       '1954', '1963', '1960', '1961', '1956', '1965', '1953', '1993',\n",
       "       '1968', '1962', '1974', '1989', '1959', '1966', '1964', '1971',\n",
       "       '1970', '1969', '1985', '1967', '1986', '1977', '1973', '1975',\n",
       "       '1997', '2011', '1972', '2005', '2006', '1976', '1979', '1978',\n",
       "       '1980', '1983', '2016', '1982', '1987', '1981', '1991', '1984',\n",
       "       '1994', '1988', '1992', '1995', '2004', '1990', '1996', '1998',\n",
       "       '1999', '2002', '2000', '2010', '2001', '2012', '2019', '2007',\n",
       "       '2009', '2015', '2003', '2013', '2023', '2024', '2008', '2018',\n",
       "       '2022', '2017', '2020', '2021', '2014', '1933', '2025'],\n",
       "      dtype=object)"
      ]
     },
     "execution_count": 21,
     "metadata": {},
     "output_type": "execute_result"
    }
   ],
   "source": [
    "df['endYear'].unique()"
   ]
  },
  {
   "cell_type": "code",
   "execution_count": 22,
   "metadata": {},
   "outputs": [
    {
     "data": {
      "text/plain": [
       "array([  9,   3,   4,   6,  21,   2,   0,   1,  12,   7,  57,  10,  15,\n",
       "         8,  14,   5,  37,  36,  13,  19,  17,  11,  44,  16,  18,  27,\n",
       "        40,  95,  30,  24,  65,  33,  58,  26,  83,  60,  20,  32, 132,\n",
       "        93,  28,  96,  35,  25,  43,  70,  47,  76,  52,  90,  29,  34,\n",
       "        68, 108,  66,  22, 173,  31,  53, 107,  41,  23,  38,  51,  39,\n",
       "        45,  85,  87,  49, 162,  92,  56,  59, 136,  63,  73,  77, 101,\n",
       "        74, 114,  80,  69,  75,  79, 252,  78,  46,  42, 147,  55,  64,\n",
       "       143, 153, 127, 261, 131,  50,  48,  86,  94, 124,  54, 155, 139,\n",
       "        97,  67, 144, 177, 104, 134,  82, 111,  99, 257, 168, 128, 156,\n",
       "       120,  71,  62, 159,  61,  81, 196, 106, 215, 165, 246, 121, 290,\n",
       "       189,  72, 208, 221, 110, 119, 182, 278, 100, 126, 113, 171, 116,\n",
       "       105, 133, 117,  88,  84,  89, 115, 138, 137, 130, 112, 209,  91,\n",
       "       103, 178, 149, 109, 122, 175, 141, 226, 330, 161, 227, 183, 207,\n",
       "       125, 151, 202, 172, 403, 285, 200, 123, 118, 311, 129, 251, 292,\n",
       "       321, 142, 256, 231, 164, 268, 135, 350, 176, 158, 140, 214, 212,\n",
       "       206, 218, 102, 193, 339, 298, 201, 213, 179, 236, 216, 265, 160,\n",
       "       210, 306, 232, 194, 180, 186, 169, 148, 152, 188, 233, 305, 332,\n",
       "       263, 314, 358, 293, 163, 198, 244, 190, 174, 235, 222, 211,  98,\n",
       "       199, 266, 249, 363, 224, 146, 167, 300, 220, 241, 187, 219, 325,\n",
       "       204, 258, 197, 409, 318, 359, 331, 348, 302, 181, 260, 166, 279,\n",
       "       401, 191, 322, 205, 367, 307, 254, 255, 392, 653, 245, 448, 242,\n",
       "       579, 323, 333, 217, 395, 482, 225, 240, 472, 281, 287, 262, 356,\n",
       "       373, 303, 192, 509, 297, 230, 264, 629, 294, 342, 399, 248, 577,\n",
       "       671, 592, 234, 372, 431, 239, 460, 554, 349, 388, 427, 370, 678,\n",
       "       406, 379, 608, 360, 389, 340, 511, 632, 540, 355, 567, 295, 315,\n",
       "       338, 479, 381, 520, 744, 310, 712, 203, 154, 277, 636, 145, 351,\n",
       "       223, 508, 250, 483, 316, 622, 487, 602, 336, 563, 383, 343, 326,\n",
       "       195, 396, 366, 393, 469, 288, 663, 421, 304, 377, 517, 666, 454,\n",
       "       424, 486, 480, 289, 365, 150, 371, 319, 430, 157])"
      ]
     },
     "execution_count": 22,
     "metadata": {},
     "output_type": "execute_result"
    }
   ],
   "source": [
    "df['externalLinks'].unique()"
   ]
  },
  {
   "cell_type": "code",
   "execution_count": 23,
   "metadata": {},
   "outputs": [
    {
     "data": {
      "text/plain": [
       "array(['Documentary,Short', 'Animation,Short', 'Short', ...,\n",
       "       'Drama,Mystery,Reality-TV', 'Adventure,Animation,Romance',\n",
       "       'Adult,Reality-TV,Romance'], dtype=object)"
      ]
     },
     "execution_count": 23,
     "metadata": {},
     "output_type": "execute_result"
    }
   ],
   "source": [
    "df['genres'].unique()"
   ]
  },
  {
   "cell_type": "code",
   "execution_count": 24,
   "metadata": {},
   "outputs": [
    {
     "data": {
      "text/plain": [
       "array([0, 1])"
      ]
     },
     "execution_count": 24,
     "metadata": {},
     "output_type": "execute_result"
    }
   ],
   "source": [
    "df['isAdult'].unique()"
   ]
  },
  {
   "cell_type": "code",
   "execution_count": 25,
   "metadata": {},
   "outputs": [
    {
     "data": {
      "text/plain": [
       "array([ True])"
      ]
     },
     "execution_count": 25,
     "metadata": {},
     "output_type": "execute_result"
    }
   ],
   "source": [
    "df['isRatable'].unique()"
   ]
  },
  {
   "cell_type": "code",
   "execution_count": 26,
   "metadata": {},
   "outputs": [
    {
     "data": {
      "text/plain": [
       "array([  7,   6,   5,  21,   8,   4,   1,   2,   3,  23,  10,  13,   9,\n",
       "        14,  19,  12,  16,  17,  18,  22,  20,  24,  11,  30,  15,  27,\n",
       "        28,  32,  47,  29,  25,  31,  37,  51,  26,  44,  41,  34,  36,\n",
       "        63,  35,  38,  45,  39,  46,  33,  54,  50,  40,  42,  48,  53,\n",
       "        43,   0,  56,  61,  55,  52,  69,  58,  57,  75,  60,  62,  64,\n",
       "        66,  49, 100,  59,  73,  68])"
      ]
     },
     "execution_count": 26,
     "metadata": {},
     "output_type": "execute_result"
    }
   ],
   "source": [
    "df['numRegions'].unique()"
   ]
  },
  {
   "cell_type": "code",
   "execution_count": 27,
   "metadata": {},
   "outputs": [
    {
     "data": {
      "text/plain": [
       "array([   0,    1,    5,    2,    6,    9,   17,    3,   20,    8,    7,\n",
       "         11,   15,   10,   13,    4,   19,   24,   12,   16,   18,   26,\n",
       "         21,   33,   14,   35,   41,   22,   47,   88,   55,   32,   28,\n",
       "         36,   31,   44,   38,   42,   39,   43,   25,   27,   23,   62,\n",
       "         34,   52,   48,   61,   56,   46,   29,   30,   49,   37,   40,\n",
       "         93,   57,   51,   79,   58,   59,   69,   95,   80,   91,   66,\n",
       "         90,   53,   89,   50,   78,   65,   82,   77,  135,   64,   45,\n",
       "         73,   54,   63,   76,   71,   60,   87,   68,   74,   92,  124,\n",
       "        108,  161,   83,   81,   67,  131,   70,  111,  126,   96,  106,\n",
       "         86,  112,   75,  110,  109,  123,   98,  137,  103,  136,  107,\n",
       "        116,  138,  162,  664,   72,   99, 1084,  105,   85,  258,  145,\n",
       "        128,   94,   97,  122,  214,  358,  156,  943,  654,  270,  114,\n",
       "        133,  192,  147,  100,  203])"
      ]
     },
     "execution_count": 27,
     "metadata": {},
     "output_type": "execute_result"
    }
   ],
   "source": [
    "df['quotesTotal'].unique()"
   ]
  },
  {
   "cell_type": "code",
   "execution_count": 28,
   "metadata": {},
   "outputs": [
    {
     "data": {
      "text/plain": [
       "(0         True\n",
       " 1         True\n",
       " 2         True\n",
       " 3         True\n",
       " 4         True\n",
       "           ... \n",
       " 149526    True\n",
       " 149527    True\n",
       " 149528    True\n",
       " 149529    True\n",
       " 149530    True\n",
       " Name: numVotes, Length: 149531, dtype: bool,\n",
       " 0          2089\n",
       " 1           183\n",
       " 2           195\n",
       " 3          2237\n",
       " 4         13115\n",
       "           ...  \n",
       " 149526       11\n",
       " 149527       15\n",
       " 149528       12\n",
       " 149529        9\n",
       " 149530        9\n",
       " Name: numVotes, Length: 149531, dtype: int64)"
      ]
     },
     "execution_count": 28,
     "metadata": {},
     "output_type": "execute_result"
    }
   ],
   "source": [
    "df['numVotes'].notna(), df['numVotes']"
   ]
  },
  {
   "cell_type": "code",
   "execution_count": 29,
   "metadata": {},
   "outputs": [
    {
     "data": {
      "text/plain": [
       "array([   0,    1,    5,    2,    6,    9,   17,    3,   20,    8,    7,\n",
       "         11,   15,   10,   13,    4,   19,   24,   12,   16,   18,   26,\n",
       "         21,   33,   14,   35,   41,   22,   47,   88,   55,   32,   28,\n",
       "         36,   31,   44,   38,   42,   39,   43,   25,   27,   23,   62,\n",
       "         34,   52,   48,   61,   56,   46,   29,   30,   49,   37,   40,\n",
       "         93,   57,   51,   79,   58,   59,   69,   95,   80,   91,   66,\n",
       "         90,   53,   89,   50,   78,   65,   82,   77,  135,   64,   45,\n",
       "         73,   54,   63,   76,   71,   60,   87,   68,   74,   92,  124,\n",
       "        108,  161,   83,   81,   67,  131,   70,  111,  126,   96,  106,\n",
       "         86,  112,   75,  110,  109,  123,   98,  137,  103,  136,  107,\n",
       "        116,  138,  162,  664,   72,   99, 1084,  105,   85,  258,  145,\n",
       "        128,   94,   97,  122,  214,  358,  156,  943,  654,  270,  114,\n",
       "        133,  192,  147,  100,  203])"
      ]
     },
     "execution_count": 29,
     "metadata": {},
     "output_type": "execute_result"
    }
   ],
   "source": [
    "df['quotesTotal'].unique()"
   ]
  },
  {
   "cell_type": "code",
   "execution_count": 30,
   "metadata": {},
   "outputs": [
    {
     "data": {
      "text/plain": [
       "(149531, 149531)"
      ]
     },
     "execution_count": 30,
     "metadata": {},
     "output_type": "execute_result"
    }
   ],
   "source": [
    "len(df['ratingCount'].notna()), len(df['ratingCount'])"
   ]
  },
  {
   "cell_type": "code",
   "execution_count": 31,
   "metadata": {},
   "outputs": [
    {
     "data": {
      "text/plain": [
       "array([\"['\\\\\\\\N', 'DE', 'US', 'HU', 'GR', 'RU', 'UA', 'JP']\",\n",
       "       \"['\\\\\\\\N', 'HU', 'DE', 'FR', 'RO', 'RU', 'JP']\",\n",
       "       \"['\\\\\\\\N', 'US', 'DE', 'PT', 'HU', 'RU']\", ...,\n",
       "       \"['\\\\\\\\N', 'AU', 'GB', 'IN', 'PH', 'US', 'ID']\",\n",
       "       \"['\\\\\\\\N', 'FR', 'IN', 'DE', 'AR', 'RS', 'KR', 'TW', 'TH']\",\n",
       "       \"['\\\\\\\\N', 'UA', 'RU', 'SUHH', 'IT', 'GB', 'US', 'XWW', 'SE']\"],\n",
       "      dtype=object)"
      ]
     },
     "execution_count": 31,
     "metadata": {},
     "output_type": "execute_result"
    }
   ],
   "source": [
    "df['regions'].unique()"
   ]
  },
  {
   "cell_type": "code",
   "execution_count": 32,
   "metadata": {},
   "outputs": [],
   "source": [
    "df['regions'] = df['regions'].str.replace(r'\\'\\\\+N\\'(, )?', '', regex=True)"
   ]
  },
  {
   "cell_type": "code",
   "execution_count": 33,
   "metadata": {},
   "outputs": [
    {
     "data": {
      "text/plain": [
       "str"
      ]
     },
     "execution_count": 33,
     "metadata": {},
     "output_type": "execute_result"
    }
   ],
   "source": [
    "type(df['regions'].iloc[0])"
   ]
  },
  {
   "cell_type": "code",
   "execution_count": 34,
   "metadata": {},
   "outputs": [
    {
     "data": {
      "text/plain": [
       "108805    [nan]\n",
       "Name: regions, dtype: object"
      ]
     },
     "execution_count": 34,
     "metadata": {},
     "output_type": "execute_result"
    }
   ],
   "source": [
    "df.loc[~df['regions'].str.match(r\"^\\[(('[A-Z]{2,4}', )*'[A-Z]{2,4}')?\\]$\"), 'regions']"
   ]
  },
  {
   "cell_type": "code",
   "execution_count": 35,
   "metadata": {},
   "outputs": [],
   "source": [
    "df['regions'] = df['regions'].replace(to_replace='[nan]', value= '[]')"
   ]
  },
  {
   "cell_type": "code",
   "execution_count": 36,
   "metadata": {},
   "outputs": [
    {
     "data": {
      "text/plain": [
       "Series([], Name: regions, dtype: object)"
      ]
     },
     "execution_count": 36,
     "metadata": {},
     "output_type": "execute_result"
    }
   ],
   "source": [
    "df.loc[~df['regions'].str.match(r\"^\\[(('[A-Z]{2,4}', )*'[A-Z]{2,4}')?\\]$\"), 'regions']"
   ]
  },
  {
   "cell_type": "code",
   "execution_count": 37,
   "metadata": {},
   "outputs": [
    {
     "data": {
      "text/plain": [
       "0                              [DE, US, HU, GR, RU, UA, JP]\n",
       "1                                  [HU, DE, FR, RO, RU, JP]\n",
       "2                                      [US, DE, PT, HU, RU]\n",
       "3                                  [UA, JP, HU, US, DE, RU]\n",
       "4         [HU, DE, TR, FI, FR, IT, ES, SK, PL, GB, XWW, ...\n",
       "                                ...                        \n",
       "149526                                                 [CO]\n",
       "149527                                                 [ES]\n",
       "149528                                                   []\n",
       "149529                                                   []\n",
       "149530                                                   []\n",
       "Name: regions, Length: 149531, dtype: object"
      ]
     },
     "execution_count": 37,
     "metadata": {},
     "output_type": "execute_result"
    }
   ],
   "source": [
    "df['regions'] = df['regions'].fillna('[]').apply(convert_string_list)\n",
    "df['regions']"
   ]
  },
  {
   "cell_type": "code",
   "execution_count": 38,
   "metadata": {},
   "outputs": [
    {
     "data": {
      "text/plain": [
       "originalTitle                  34824\n",
       "rating                         34824\n",
       "startYear                      34824\n",
       "endYear                        34824\n",
       "runtimeMinutes                 18338\n",
       "awardWins                      34824\n",
       "numVotes                       34824\n",
       "worstRating                    34824\n",
       "bestRating                     34824\n",
       "totalImages                    34824\n",
       "totalVideos                    34824\n",
       "totalCredits                   34824\n",
       "criticReviewsTotal             34824\n",
       "titleType                      34824\n",
       "awardNominationsExcludeWins    34824\n",
       "canHaveEpisodes                34824\n",
       "isRatable                      34824\n",
       "isAdult                        34824\n",
       "numRegions                     34824\n",
       "userReviewsTotal               34824\n",
       "ratingCount                    34824\n",
       "countryOfOrigin                34824\n",
       "genres                         34824\n",
       "castNumber                     34824\n",
       "companiesNumber                34824\n",
       "averageRating                  34824\n",
       "regions                        34824\n",
       "externalLinks                  34824\n",
       "writerCredits                  34824\n",
       "directorsCredits               34824\n",
       "soundMixes                     34824\n",
       "quotesTotal                    34824\n",
       "dtype: int64"
      ]
     },
     "execution_count": 38,
     "metadata": {},
     "output_type": "execute_result"
    }
   ],
   "source": [
    "df.loc[df['regions'].apply(lambda x: isinstance(x, list) and len(x) == 0)].count()"
   ]
  },
  {
   "cell_type": "code",
   "execution_count": 39,
   "metadata": {},
   "outputs": [],
   "source": [
    "def count_na(col: pd.Series):\n",
    "    return len(col) - len(col.dropna())"
   ]
  },
  {
   "cell_type": "code",
   "execution_count": 40,
   "metadata": {},
   "outputs": [
    {
     "data": {
      "text/plain": [
       "40195"
      ]
     },
     "execution_count": 40,
     "metadata": {},
     "output_type": "execute_result"
    }
   ],
   "source": [
    "count_na(df['runtimeMinutes'])"
   ]
  },
  {
   "cell_type": "code",
   "execution_count": 41,
   "metadata": {},
   "outputs": [
    {
     "data": {
      "text/plain": [
       "array([\"['silent']\", \"['animatophone', 'silent']\", '[]',\n",
       "       \"['de_forest phonofilm']\", \"['vitaphone']\", \"['mono']\",\n",
       "       \"['mono', 'silent']\", \"['silent', 'mono']\", \"['cinephone']\",\n",
       "       \"['b.a.f._sound system']\",\n",
       "       \"['wicmar_and blue seal noiseless recording', 'magnaphone_western electric']\",\n",
       "       \"['optiphone']\",\n",
       "       \"['blue_seal noiseless recording', 'wicmar_and blue seal noiseless recording']\",\n",
       "       \"['mono', 'mono']\", \"['mono', 'stereo']\",\n",
       "       \"['magnaphone_western electric']\", \"['4_track_stereo']\",\n",
       "       \"['dolby_digital']\", \"['stereo']\", \"['perspecta_stereo']\",\n",
       "       \"['perspecta_stereo', '4_track_stereo']\", \"['cinerama_7_track']\",\n",
       "       \"['70_mm 6_track']\", \"['mono', 'klangfilm_magnetocord']\",\n",
       "       \"['70_mm 6_track', 'stereo', 'dolby_surround 7.1']\",\n",
       "       \"['mono', 'cinesound']\", \"['mono', 'dolby_digital']\",\n",
       "       \"['mono', '6_track_stereo']\",\n",
       "       \"['70_mm 6_track', '6_track_stereo']\", \"['dolby']\",\n",
       "       \"['mono', 'dolby_surround 7.1', 'dolby_atmos']\",\n",
       "       \"['mono', '4_track_stereo']\",\n",
       "       \"['mono', 'stereo', 'dolby_digital']\", \"['dolby_atmos']\",\n",
       "       \"['mono', 'dolby_digital', 'dolby_atmos']\", \"['stereo', 'mono']\",\n",
       "       \"['dolby_stereo']\", \"['mono', 'dts', 'dolby_digital']\",\n",
       "       \"['dolby_stereo', 'dolby_atmos', 'dolby_digital']\",\n",
       "       \"['dolby', 'dolby_digital']\", \"['ultra_stereo']\",\n",
       "       \"['dolby_stereo', 'dolby_digital']\", \"['dolby_stereo', 'mono']\",\n",
       "       \"['mono', 'dolby_stereo']\", \"['6_track_stereo', 'dolby_sr']\",\n",
       "       \"['dolby_stereo', '70_mm 6_track', 'dolby_atmos']\",\n",
       "       \"['6_track_stereo']\", \"['dolby_atmos', 'dolby_digital', 'mono']\",\n",
       "       \"['dolby_stereo', 'dolby_digital', 'dts_es', 'dolby_digital ex', 'dolby_atmos']\",\n",
       "       \"['stereo', 'dolby_digital']\", \"['ultra_stereo', 'dolby_atmos']\",\n",
       "       \"['matrix_surround']\", \"['stereo', 'ultra_stereo']\",\n",
       "       \"['dolby_sr']\", \"['ultra_stereo', 'dolby_sr']\",\n",
       "       \"['dolby_sr', '12_track_digital sound']\",\n",
       "       \"['dolby_sr', 'dolby_stereo']\", \"['dolby', 'stereo']\",\n",
       "       \"['dolby_sr', 'dolby_digital']\",\n",
       "       \"['imax_6_track', 'dolby_digital']\", \"['sensurround']\",\n",
       "       \"['sonix']\", \"['sound_trax surround stereo']\",\n",
       "       \"['dolby_sr', 'lc_concept_digital sound']\",\n",
       "       \"['dts', 'dolby_stereo']\", \"['dts']\",\n",
       "       \"['dolby_stereo', 'dts', 'dolby_digital']\",\n",
       "       \"['dolby_digital', 'dts']\", \"['dolby', 'dolby_sr']\",\n",
       "       \"['stereo', 'dolby']\", \"['dolby_digital', 'sdds']\",\n",
       "       \"['dolby_stereo', 'dts']\", \"['servotron_stereo']\",\n",
       "       \"['sdds', 'dolby_stereo']\", \"['dolby_stereo', 'sdds']\",\n",
       "       \"['dolby_stereo', 'dolby_sr', 'dts']\", \"['dolby', 'dts']\",\n",
       "       \"['imax_6_track']\", \"['dolby_sr', 'dts']\",\n",
       "       \"['dolby_digital', 'sdds', 'dts', 'dolby_sr']\",\n",
       "       \"['dts_stereo', 'dts', 'dolby_sr']\",\n",
       "       \"['dts', 'dolby_digital', 'dolby_surround 7.1']\",\n",
       "       \"['dolby_sr', 'dts_stereo']\",\n",
       "       \"['dolby_digital', 'sdds', 'dolby_sr']\", \"['dts', 'dts_stereo']\",\n",
       "       \"['dts', 'dolby_digital']\", \"['dolby_stereo', 'dolby_sr']\",\n",
       "       \"['sdds', 'dolby_sr', 'dolby_digital']\",\n",
       "       \"['dolby_digital', 'dts', 'sdds']\",\n",
       "       \"['dts_stereo', 'dts', 'dolby_digital']\", \"['dts_stereo', 'dts']\",\n",
       "       \"['dts', 'dolby_digital', 'sdds']\",\n",
       "       \"['dts_stereo', 'dolby_digital']\",\n",
       "       \"['dolby_digital', 'dolby_atmos']\",\n",
       "       \"['dolby_digital', 'sdds', 'dolby_sr', 'dts']\",\n",
       "       \"['dolby_sr', 'sdds']\", \"['stereo', 'dolby_sr']\",\n",
       "       \"['dolby', 'sdds']\", \"['dts', 'dolby']\", \"['dx_stereo']\",\n",
       "       \"['sdds', 'dolby']\",\n",
       "       \"['dts_stereo', 'dolby', 'sdds', 'dolby_atmos']\",\n",
       "       \"['dolby_digital', 'dolby_surround 7.1']\", \"['sdds']\",\n",
       "       \"['sdds', 'dolby_sr']\", \"['dts_stereo']\",\n",
       "       \"['dts', 'dts_stereo', 'dolby_digital']\",\n",
       "       \"['sdds', 'dolby_digital']\",\n",
       "       \"['dts', 'dolby_digital', 'sdds', 'dts_stereo']\",\n",
       "       \"['stereo', '4_track_stereo']\", \"['dolby_digital', 'sdds', 'dts']\",\n",
       "       \"['dts', 'sdds', 'dolby_digital']\",\n",
       "       \"['dolby_digital ex', 'sdds', 'dts_es', 'dolby_sr']\",\n",
       "       \"['stereo', '70_mm 6_track']\", \"['dts', 'dolby', 'sdds']\",\n",
       "       \"['dts', 'dolby_sr']\",\n",
       "       \"['dts', 'dolby_digital', 'sdds', 'stereo']\",\n",
       "       \"['mono', '12_track_digital sound']\",\n",
       "       \"['sdds', 'dolby_digital', 'dts']\",\n",
       "       \"['iwerks_digital audio', 'dts_70 mm']\",\n",
       "       \"['dolby_digital', 'dolby_surround 5.1']\",\n",
       "       \"['dolby_digital ex', 'sdds', 'dts_es']\", \"['dolby', 'mono']\",\n",
       "       \"['dolby_digital', 'stereo']\", \"['stereo', 'dts']\",\n",
       "       \"['dolby_digital ex']\", \"['3_channel stereo']\", \"['dts_es']\",\n",
       "       \"['dolby_digital', 'mono']\", \"['dts_es', 'dolby_digital ex']\",\n",
       "       \"['dolby_digital ex', 'dts_es']\",\n",
       "       \"['dts', 'dolby_digital', 'sdds', 'dolby']\",\n",
       "       \"['digitrac_digital audio system']\",\n",
       "       \"['dolby_digital', 'dolby_sr']\", \"['dts', 'dolby_digital ex']\",\n",
       "       \"['dts', 'dolby_digital', 'dolby_sr', 'mono']\",\n",
       "       \"['phono_cinema-theatre', 'silent']\",\n",
       "       \"['dts', 'dolby_sr', 'stereo']\",\n",
       "       \"['dolby_digital', 'datasat', 'sdds', 'dolby_surround 7.1', 'sonics_ddp']\",\n",
       "       \"['dolby_sr', 'sensurround']\", \"['dolby_surround 7.1']\",\n",
       "       \"['dolby_digital', 'dolby']\",\n",
       "       \"['dolby_digital', 'imax_6_track', 'dolby_atmos']\",\n",
       "       \"['dolby_digital', 'dolby_sr', 'stereo']\",\n",
       "       \"['sdds', 'dts', 'dolby_digital', 'dolby_atmos']\",\n",
       "       \"['dolby_sr', 'stereo']\", \"['kinopanorama_9_track']\",\n",
       "       \"['sdds', 'dts', 'dolby_digital']\",\n",
       "       \"['dts', 'dolby', 'sdds', 'dolby_digital']\",\n",
       "       \"['dolby', 'dts', 'sdds']\", \"['chronophone']\",\n",
       "       \"['dolby_digital', 'datasat', 'sdds']\",\n",
       "       \"['mono', 'dolby_surround 7.1', 'dts', 'dolby_digital', 'dolby']\",\n",
       "       \"['dts', 'dolby_surround 7.1', 'dolby_digital', 'mono', 'dolby']\",\n",
       "       \"['stereo', 'dolby_surround 7.1']\", \"['mono', 'dolby']\",\n",
       "       \"['stereo', 'mono', 'dolby']\", \"['stereo', 'dolby_stereo']\",\n",
       "       \"['dolby', 'stereo', 'dolby_digital']\",\n",
       "       \"['stereo', 'dolby', 'dolby_digital']\",\n",
       "       \"['dolby', 'dolby_stereo']\", \"['datasat', 'dolby_digital']\",\n",
       "       \"['stereo', '6_track_stereo']\",\n",
       "       \"['dolby', 'dolby_stereo', 'stereo', 'mono']\",\n",
       "       \"['stereo', 'dolby_stereo', 'mono']\",\n",
       "       \"['datasat', 'dolby_digital', 'sdds', 'dolby_surround 7.1']\",\n",
       "       \"['dolby_digital', 'imax_6_track']\", \"['d_cinema_48khz 5.1']\",\n",
       "       \"['dolby_atmos', 'dolby_digital']\",\n",
       "       \"['dolby', 'dolby_atmos', 'dolby_digital', 'mono']\",\n",
       "       \"['dolby', 'mono', 'dolby_digital', 'dolby_atmos', 'stereo']\",\n",
       "       \"['dts', 'dolby_atmos', 'imax_6_track', 'dolby_surround 7.1', 'dolby_digital', '12_track_digital sound', 'auro_11.1', 'dts:x', 'd_cinema_96khz 7.1']\",\n",
       "       \"['dolby_stereo', 'dolby_digital', 'dts']\",\n",
       "       \"['6_track_stereo', 'dolby_atmos', 'imax_6_track']\",\n",
       "       \"['dolby_atmos', 'dts:x']\", \"['d_cinema_48khz 7.1']\",\n",
       "       \"['dolby_sr', 'mono']\", \"['stereo', 'dolby_atmos']\",\n",
       "       \"['imax_6_track', 'dolby_atmos']\",\n",
       "       \"['dolby_digital', 'datasat', 'sdds', 'dolby_surround 7.1']\",\n",
       "       \"['dts', 'dolby_digital', 'sdds', 'dolby_atmos']\",\n",
       "       \"['dolby_atmos', 'd_cinema_48khz 5.1']\",\n",
       "       \"['dts_es', '12_track_digital sound', 'auro_11.1', 'cinerama_7_track', 'dolby_atmos']\",\n",
       "       \"['dolby_digital', 'dts', 'sdds', 'dolby_atmos']\",\n",
       "       \"['dolby_atmos', 'stereo']\", \"['dts', 'stereo']\",\n",
       "       \"['d_cinema_48khz 5.1', 'stereo']\",\n",
       "       \"['dolby_digital', 'datasat', 'dolby_surround 7.1', 'sdds', 'sonics_ddp']\",\n",
       "       \"['dolby_digital', 'datasat']\",\n",
       "       \"['sdds', 'dolby_digital', 'datasat', 'dolby_surround 7.1', 'dolby_atmos']\",\n",
       "       \"['dolby_atmos', 'dts', 'dolby', 'dolby_sr', 'dolby_digital']\",\n",
       "       \"['datasat', 'dolby_digital', 'dolby_surround 7.1']\",\n",
       "       \"['4_track_stereo', 'stereo', '3_channel stereo']\",\n",
       "       \"['dolby_digital', 'sdds', 'datasat', 'imax_6_track']\",\n",
       "       \"['d_cinema_48khz 5.1', 'dolby_digital', 'dolby_atmos']\",\n",
       "       \"['stereo', 'dolby_atmos', 'dts:x']\",\n",
       "       \"['dolby_sr', 'd_cinema_48khz dolby surround 7.1']\",\n",
       "       \"['dolby_atmos', 'auro_11.1', 'imax_6_track']\",\n",
       "       \"['dolby_digital', 'dolby_surround 7.1', 'dolby_atmos']\",\n",
       "       \"['dolby_digital', 'dts_es']\", \"['dolby_surround 5.1']\",\n",
       "       \"['soundelux']\",\n",
       "       \"['datasat', 'dolby', 'dolby_surround 7.1', 'sdds']\",\n",
       "       \"['stereo', 'stereo']\",\n",
       "       \"['dolby_digital', 'dts', 'sdds', 'dolby_surround 7.1']\",\n",
       "       \"['chace_surround', 'dts']\", \"['afifa_ton_kopie']\",\n",
       "       \"['12_track_digital sound']\",\n",
       "       \"['sdds', 'datasat', 'dolby_digital', 'dolby_surround 7.1', 'dolby_atmos']\",\n",
       "       \"['dolby_digital ex', 'dolby_sr']\",\n",
       "       \"['sdds', 'dts', 'dolby_digital', 'sonics_ddp']\",\n",
       "       \"['dolby_digital', 'datasat', 'sdds', 'dolby_surround 7.1', 'dolby_atmos']\",\n",
       "       \"['sdds', 'dts', 'dolby_digital', 'dolby_surround 7.1']\",\n",
       "       \"['dolby_digital', 'datasat', 'sdds', 'dolby_atmos', 'auro_11.1', 'dolby_surround 7.1', 'imax_6_track', 'sonics_ddp']\",\n",
       "       \"['datasat', 'dolby_digital', 'sdds', 'dolby_atmos']\",\n",
       "       \"['dolby_digital', 'sdds', 'dts', 'dolby_surround 7.1']\",\n",
       "       \"['dolby_digital', 'dolby_atmos', 'imax_6_track']\",\n",
       "       \"['dolby_digital', 'd_cinema_96khz 5.1']\",\n",
       "       \"['dolby_digital', 'dts', 'imax_6_track', 'dolby_atmos']\",\n",
       "       \"['stereo', 'mono', 'dolby_digital']\",\n",
       "       \"['dolby_digital', 'stereo', 'mono']\",\n",
       "       \"['aga_sound system', 'dolby']\",\n",
       "       \"['dolby_atmos', 'dolby_digital', 'dolby_surround 7.1']\",\n",
       "       \"['dolby_digital', 'ultra_stereo']\",\n",
       "       \"['dts', 'sdds', 'dolby_digital', 'dolby_atmos', 'auro_11.1', 'sonics_ddp', 'dolby_surround 7.1']\",\n",
       "       \"['dolby_atmos', 'dolby_surround 7.1']\",\n",
       "       \"['imax_6_track', 'dolby_digital', 'datasat', 'dts_70 mm']\",\n",
       "       \"['4_track_stereo', 'stereo']\",\n",
       "       \"['dolby_digital', 'dolby_sr', 'sdds', 'datasat']\",\n",
       "       \"['sdds', 'datasat', 'dolby_digital', 'dolby_surround 7.1', 'mono', 'dolby_stereo', 'imax_6_track', 'dts_70 mm', 'dolby_atmos']\",\n",
       "       \"['dolby_digital', 'sdds', 'datasat']\",\n",
       "       \"['dolby', 'sdds', 'dolby_atmos', 'datasat', 'dolby_surround 7.1']\",\n",
       "       \"['sdds', 'datasat', 'dolby_digital']\",\n",
       "       \"['dolby_surround 7.1', 'dolby_digital']\",\n",
       "       \"['stereo', 'dolby_sr', 'dolby_digital']\",\n",
       "       \"['dolby', 'dolby_surround 7.1', 'datasat', 'sdds']\",\n",
       "       \"['sdds', 'datasat', 'dolby_digital', 'dolby_surround 7.1']\",\n",
       "       \"['dolby_digital', 'dolby_atmos', 'datasat', 'auro_11.1', 'sdds', 'dolby_surround 7.1']\",\n",
       "       \"['d_cinema_48khz 5.1', 'imax_6_track']\",\n",
       "       \"['dolby_digital', 'dolby_atmos', 'dolby_surround 7.1', '12_track_digital sound', 'imax_6_track', 'sonics_ddp', 'sdds']\",\n",
       "       \"['imax_6_track', 'dolby_digital', 'dolby_atmos']\",\n",
       "       \"['datasat', 'dolby_digital', 'dolby_atmos', 'dolby_surround 7.1', 'sdds']\",\n",
       "       \"['dolby', 'dolby_atmos', 'sdds', 'datasat', 'dolby_surround 7.1']\",\n",
       "       \"['dolby_digital', 'datasat', 'dolby_atmos', 'dolby_surround 7.1', 'sdds', 'imax_6_track']\",\n",
       "       \"['dolby_atmos', 'dolby_surround 5.1', 'dolby_surround 7.1']\",\n",
       "       \"['cinesound']\",\n",
       "       \"['datasat', 'dolby_digital', 'dolby_atmos', 'auro_11.1', 'dolby_surround 7.1', '12_track_digital sound', 'd_cinema_48khz dolby surround 7.1', 'dts']\",\n",
       "       \"['dts', 'dolby_digital', 'stereo']\",\n",
       "       \"['datasat', 'dolby_digital', 'sdds', 'dolby_surround 7.1', 'dolby_atmos']\",\n",
       "       \"['sdds', 'datasat', 'dolby_digital', 'dolby_atmos', 'dolby_surround 7.1']\",\n",
       "       \"['dolby_atmos', 'datasat', 'auro_11.1', 'dolby_digital']\",\n",
       "       \"['dolby_digital', 'sdds', 'datasat', 'dolby_surround 7.1']\",\n",
       "       \"['dolby_digital', 'dolby_atmos', 'datasat', 'auro_11.1', 'dolby_surround 7.1']\",\n",
       "       \"['datasat', 'dolby_atmos', 'auro_11.1', 'dolby_surround 7.1', 'dolby_digital']\",\n",
       "       \"['dolby_surround 5.1', 'stereo']\", \"['d_cinema_96khz 5.1']\",\n",
       "       \"['datasat', 'dolby', 'dolby_digital', 'sdds']\",\n",
       "       \"['datasat', 'dolby_digital', 'dolby_atmos', 'dolby_surround 7.1', '12_track_digital sound', 'imax_6_track', 'sdds', 'auro_11.1']\",\n",
       "       \"['sdds', 'datasat', 'dolby_digital', 'dolby_atmos', '12_track_digital sound', 'dts', 'dolby_surround 7.1', 'd_cinema_96khz 7.1']\",\n",
       "       \"['12_track_digital sound', 'dts', 'dolby_atmos', 'auro_11.1', 'dolby_digital']\",\n",
       "       \"['dolby_digital', 'datasat', 'dolby_atmos', 'dolby_surround 7.1', 'sdds']\",\n",
       "       \"['sdds', 'dolby_digital', 'datasat']\",\n",
       "       \"['dolby_atmos', 'imax_6_track']\",\n",
       "       \"['datasat', 'dolby_digital', 'dolby_atmos', 'dolby_surround 7.1']\",\n",
       "       \"['12_track_digital sound', 'auro_11.1', 'dolby_digital', 'dolby_surround 7.1', 'dolby_atmos']\",\n",
       "       \"['dolby_digital', 'datasat', 'dolby_atmos']\",\n",
       "       \"['dts', 'auro_11.1']\",\n",
       "       \"['dolby_digital', 'dts:x', '12_track_digital sound', 'auro_11.1', 'dolby_atmos', 'dolby_surround 7.1']\",\n",
       "       \"['dolby_digital', 'dolby_stereo']\",\n",
       "       \"['dolby_digital', 'auro_11.1', 'dolby_atmos', 'dolby_surround 7.1']\",\n",
       "       \"['auro_11.1', 'dolby_digital', 'dolby_atmos', 'dolby_surround 7.1', '12_track_digital sound', 'sdds', 'dolby']\",\n",
       "       \"['auro_11.1']\", \"['dolby_atmos', 'dts']\",\n",
       "       \"['dolby_digital', 'imax_6_track', 'dolby_surround 7.1', 'dolby_atmos']\",\n",
       "       \"['dolby_atmos', 'dts:x', 'auro_11.1', 'dolby_digital', 'dolby_surround 7.1', '12_track_digital sound', 'imax_6_track', 'sonics_ddp']\",\n",
       "       \"['dolby_digital', 'dolby_surround 7.1', 'datasat', 'dolby_atmos']\",\n",
       "       \"['dolby_atmos', 'imax_6_track', 'dolby_digital', 'dts']\",\n",
       "       \"['dolby_atmos', 'auro_11.1', 'dolby_surround 7.1', 'dolby_digital', 'sonics_ddp', '12_track_digital sound', 'imax_6_track', 'sdds']\",\n",
       "       \"['d_cinema_96khz dolby surround 7.1']\",\n",
       "       \"['dolby_digital ex', 'dolby_surround 7.1']\",\n",
       "       \"['dolby_surround 7.1', 'imax_6_track', 'dolby_atmos', 'dolby_digital']\",\n",
       "       \"['d_cinema_48khz 5.1', 'd_cinema_48khz 7.1']\",\n",
       "       \"['dolby_atmos', 'dolby_digital', 'dolby_surround 7.1', 'auro_11.1', 'imax_6_track', '12_track_digital sound', 'sonics_ddp']\",\n",
       "       \"['d_cinema_48khz 5.1', 'stereo', 'dolby_digital']\",\n",
       "       \"['dolby_atmos', 'dts', 'imax_6_track']\",\n",
       "       \"['dolby_digital', 'dolby_atmos', 'auro_11.1', 'dolby_surround 7.1']\",\n",
       "       \"['sound_360°']\",\n",
       "       \"['auro_11.1', 'dolby_digital', 'dolby_atmos', 'dolby_surround 7.1', 'imax_6_track', '12_track_digital sound', 'sonics_ddp', 'sdds']\",\n",
       "       \"['dolby_digital', 'dolby_atmos', 'dolby_surround 7.1']\",\n",
       "       \"['dolby_digital', 'silent']\",\n",
       "       \"['dolby_atmos', 'dolby_digital', 'auro_11.1', '12_track_digital sound', 'dts', 'dolby_surround 7.1']\",\n",
       "       \"['dolby_digital', 'dolby_atmos', 'd_cinema_96khz 7.1', 'dolby_surround 7.1', 'auro_11.1', '12_track_digital sound', 'dts:x']\",\n",
       "       \"['d_cinema_48khz 5.1', 'dolby_surround 7.1']\",\n",
       "       \"['dolby_surround 7.1', 'dolby_atmos', 'dolby_digital']\",\n",
       "       \"['dolby_atmos', 'dolby_digital', 'imax_6_track', 'dolby_surround 7.1', 'auro_11.1', '12_track_digital sound', 'dts:x']\",\n",
       "       \"['dts', 'dolby_digital', '6_track_stereo']\",\n",
       "       \"['stereo', 'd_cinema_48khz 5.1']\",\n",
       "       \"['dolby_atmos', 'dolby_digital', 'imax_6_track']\",\n",
       "       \"['dts:x', 'auro_11.1', 'dolby_digital', '12_track_digital sound', 'dolby_surround 7.1', 'dolby_atmos']\",\n",
       "       \"['dolby_atmos', 'dts', 'auro_11.1', 'dolby_digital', 'dolby_surround 7.1']\",\n",
       "       \"['dts:x', 'stereo', 'dolby_atmos']\",\n",
       "       \"['dolby_surround 7.1', 'dolby_digital', 'auro_11.1', '12_track_digital sound', 'dolby_atmos']\",\n",
       "       \"['dts', 'dolby_atmos']\", \"['6_track_stereo', 'stereo']\",\n",
       "       \"['dolby_digital', 'imax_6_track', 'dts', 'dolby_atmos']\"],\n",
       "      dtype=object)"
      ]
     },
     "execution_count": 41,
     "metadata": {},
     "output_type": "execute_result"
    }
   ],
   "source": [
    "df['soundMixes'].unique()"
   ]
  },
  {
   "cell_type": "code",
   "execution_count": 42,
   "metadata": {},
   "outputs": [],
   "source": [
    "df['soundMixes'] = df['soundMixes'].apply(convert_string_list)"
   ]
  },
  {
   "cell_type": "code",
   "execution_count": 43,
   "metadata": {},
   "outputs": [
    {
     "data": {
      "text/plain": [
       "0"
      ]
     },
     "execution_count": 43,
     "metadata": {},
     "output_type": "execute_result"
    }
   ],
   "source": [
    "count_na(df['soundMixes'])"
   ]
  },
  {
   "cell_type": "code",
   "execution_count": 44,
   "metadata": {},
   "outputs": [
    {
     "data": {
      "text/plain": [
       "array([1894, 1892, 1896, 1895, 1898, 1897, 1900, 1899, 1901, 1902, 1903,\n",
       "       1905, 1907, 1906, 1908, 1909, 1911, 1910, 1912, 1913, 1914, 1915,\n",
       "       1916, 1917, 1922, 1918, 1919, 1921, 1920, 1923, 1924, 1925, 1926,\n",
       "       1927, 1928, 1929, 1930, 1931, 1950, 1938, 1932, 1934, 1933, 1946,\n",
       "       1935, 1936, 1939, 1937, 1941, 1940, 1942, 1943, 1948, 1944, 1945,\n",
       "       1953, 1947, 1949, 1951, 1952, 1958, 1956, 1955, 1954, 1977, 1957,\n",
       "       1960, 1959, 1961, 1962, 1963, 1964, 1965, 1966, 1967, 1969, 1968,\n",
       "       1972, 1973, 1971, 1970, 1974, 1975, 2010, 2018, 2023, 1976, 2022,\n",
       "       1979, 1978, 1982, 1980, 1983, 1987, 1984, 1981, 1986, 1992, 1989,\n",
       "       1985, 1988, 1991, 1993, 1990, 1996, 1995, 1994, 1999, 1997, 1998,\n",
       "       2017, 2005, 2001, 2002, 1904, 2003, 2009, 2004, 2012, 2006, 2019,\n",
       "       2011, 2007, 1891, 2013, 2015, 2008, 1890, 2020, 2016, 2014, 2021,\n",
       "       2024, 1878, 1893, 1881, 1887])"
      ]
     },
     "execution_count": 44,
     "metadata": {},
     "output_type": "execute_result"
    }
   ],
   "source": [
    "df['startYear'].unique()"
   ]
  },
  {
   "cell_type": "code",
   "execution_count": 45,
   "metadata": {},
   "outputs": [
    {
     "data": {
      "text/plain": [
       "array(['short', 'movie', 'tvSeries', 'tvEpisode', 'tvMovie',\n",
       "       'tvMiniSeries', 'tvShort', 'tvSpecial', 'video', 'videoGame'],\n",
       "      dtype=object)"
      ]
     },
     "execution_count": 45,
     "metadata": {},
     "output_type": "execute_result"
    }
   ],
   "source": [
    "df['titleType'].unique()"
   ]
  },
  {
   "cell_type": "code",
   "execution_count": 46,
   "metadata": {},
   "outputs": [
    {
     "data": {
      "text/plain": [
       "array([   4,    2,    1, ..., 1216, 1036,  633])"
      ]
     },
     "execution_count": 46,
     "metadata": {},
     "output_type": "execute_result"
    }
   ],
   "source": [
    "df['totalCredits'].unique()"
   ]
  },
  {
   "cell_type": "code",
   "execution_count": 47,
   "metadata": {},
   "outputs": [
    {
     "data": {
      "text/plain": [
       "0"
      ]
     },
     "execution_count": 47,
     "metadata": {},
     "output_type": "execute_result"
    }
   ],
   "source": [
    "count_na(df['totalCredits'])"
   ]
  },
  {
   "cell_type": "code",
   "execution_count": 48,
   "metadata": {},
   "outputs": [
    {
     "data": {
      "text/plain": [
       "array([    2,     1,     3,    12,    15,     5,     0,     6,    20,\n",
       "          21,    11,     9,     4,     7,    10,    34,    13,    16,\n",
       "          22,     8,    39,    38,    35,    24,    28,    53,    18,\n",
       "          26,    67,    17,    87,   106,   117,   111,   136,   156,\n",
       "          31,    29,    90,    33,    32,    58,    14,    37,    41,\n",
       "          40,    43,    19,    89,    23,    57,    27,    91,    49,\n",
       "          45,    55,    79,   339,    30,    36,   135,    61,    42,\n",
       "          25,    94,    47,   107,   123,    54,    71,    59,    77,\n",
       "          80,    72,    51,   154,    50,   180,    62,    93,   129,\n",
       "          82,    46,    83,   131,   167,    74,    78,    60,   119,\n",
       "          81,    64,    69,    48,   199,    66,   134,   124,    85,\n",
       "          86,    56,    76,    44,   186,   125,   138,    65,   148,\n",
       "          68,    88,    95,   200,    75,    84,    73,    52,    99,\n",
       "         122,   112,   325,    63,   207,   173,   732,   281,  1377,\n",
       "        1221,   160,   113,   194,    70,    96,   108,   100,   133,\n",
       "          92,   103,   140,    97,   114,   217,   151,   503,   427,\n",
       "         130,   189,   274,   293,   266,   159,   157,   184,    98,\n",
       "        1136,   121,   118,   105,   711,   115,   126,   712,   143,\n",
       "         254,   336,   234,  1255,   144,   116,   196,   749,  1044,\n",
       "        3888,   101,   177,   104,   776,   141,  3264,   331,  3170,\n",
       "         102,   286,  3552,   218,   437,   155,   128,   149,   214,\n",
       "         158,   182,   239,   468,   233,   191,   356,  3144,   163,\n",
       "         703,   771,   120,   170,   647,   888,   109,   225,   205,\n",
       "        3016,   562,   273,  1299,   132,   224,   195,   326,   378,\n",
       "         188,   332,   185,   152,  2763,   216,   305,   178,   147,\n",
       "        1911,   168,  2622,  2692,  1024,   261,   146,   211,   348,\n",
       "         142,   235,   204,   482,  2652,   629,   171,   278,   253,\n",
       "         172,   301,   345,   219,  1525,  1401,   176,   269,   543,\n",
       "         403,   139,   222,   229,   790,   507,   335,   161,   324,\n",
       "         181,   641,   245,   292, 18154,   164,   215,   440,   329,\n",
       "         456,   433,   349,   227,   179,   265,  4411,   638,   190,\n",
       "         259,   237,   393,   150,   397,   127,   388,   968,   322,\n",
       "         255,   174,   351,   674,   383,   279,   248,   373,   201,\n",
       "         445,  1293,   570,   613,   475,   241,   162,   203,   380,\n",
       "         272,  3108,   313,  3504,   249,   246,   242,   317, 20586,\n",
       "         728,   153,   509,   212,   166,  2154,   366,   361,   202,\n",
       "         284,   209,  1990,   658,   197,   681,   375,   832,   824,\n",
       "         262,  1223,   213,   505,   481,  1200,   257,   489,   268,\n",
       "         223,   187,   314,  1902,   208,   210,   455,   137,   175,\n",
       "         590,   330,   280,   458,   316,   491,   495,   360,  1461,\n",
       "         391,  3142,   382,   370,   236,   230,   719,  6330,   260,\n",
       "         453,   530,   442,   765,   521,   206,   614,   311,   299,\n",
       "         319,   110,   232,  1043,  1050,  1780,   295,   320,   145,\n",
       "         362,   250,   540,  3241,  2187,   716,   486,  2932,   448,\n",
       "         451,  1074,   238,   333,   296,  3501,  4914,   169,   240,\n",
       "         722,   976,   670,  2904,  1749,  2877,   256,   343,   558,\n",
       "         386,   247,   304,   353,   580,   221,   439,  1103,   352,\n",
       "         656,   193,   198,  1189,   267,   512,   615,  1305,   441,\n",
       "         404,   786,  1517,   276,   410,   275,   220,   409,  1696,\n",
       "        2814,   504,   625,   592,  2430,   593,   228,   931,  1848,\n",
       "        1019,   414,   426,   298,   389,   691,   183,   533,   231,\n",
       "         446,   381,   377,  3551,   810,   407,  3453,   338,   617,\n",
       "         419,   354,   264,   552,   431,  1854,   774,   192,   657,\n",
       "        1228,   522,   675,   834,   371,   347,   644,   767,   443,\n",
       "         565,   165,   605,  2013,   515,   271,   297,   251,  1059,\n",
       "         493,  1248,   526,   517,   633,   607,  1058,   587,   300,\n",
       "        1030,   291,   524,  8238,   387,   294,   665,  4647,   402,\n",
       "         395,   812,   358,   510,   263,   394,   919,   270,   868,\n",
       "        4562,   672,   595,   465,   243,   577,   477,   368,   334,\n",
       "         244,  1080,   483,  2295,   457,  2179,   621,  1279,   608,\n",
       "        1073,  3350,  2463,   308,   620,  1866,   425,  2663,   282,\n",
       "         545,   312,   411,   514,   416,  1001,   654,   873,   464,\n",
       "         569,   645,   649,   898,   321,   429,   550,   302,   549,\n",
       "         290,   287,   842,  1340,   473,  1027,  8814,  1490,  1215,\n",
       "         857,  3593,   867,   340,   479,   506,   478,   444,   415,\n",
       "         422,   814,  1250,  2620,   875,  1947,   384,  1010,  1626,\n",
       "        1443,   421,   226,   285,   582,   283,   623,  1087,   369,\n",
       "         661,   589,  1186,   511,  2526,   519])"
      ]
     },
     "execution_count": 48,
     "metadata": {},
     "output_type": "execute_result"
    }
   ],
   "source": [
    "df['totalImages'].unique()"
   ]
  },
  {
   "cell_type": "code",
   "execution_count": 49,
   "metadata": {},
   "outputs": [
    {
     "data": {
      "text/plain": [
       "0"
      ]
     },
     "execution_count": 49,
     "metadata": {},
     "output_type": "execute_result"
    }
   ],
   "source": [
    "count_na(df['totalImages'])"
   ]
  },
  {
   "cell_type": "code",
   "execution_count": 50,
   "metadata": {},
   "outputs": [
    {
     "data": {
      "text/plain": [
       "array([   0,    1,    3,    2,   13,   10,   11,   15,   14,    6,    4,\n",
       "          5,  107,   28,   24,    9,   31,   50,    8,   21,    7,   18,\n",
       "         12,   25,   27,   54,   23,   20,   19,   16,   35,  125,  117,\n",
       "         91,   17,   29,   26,   22, 1063,   37,   41,   83,   57,   45,\n",
       "         56,   40,   39,   36,   33,   32,   34,   49,   30,   42,   48,\n",
       "        258,   53,  320,   47,   77,   46,  673,  227,   52,   44,   82,\n",
       "         43,   51,   60,  167,  319,   38,   71,   61,   84,   62,  307,\n",
       "        141,   78,  529,   68,   74,  123,  163,  144,   99,  244,   70,\n",
       "         64,  949,  116,  135,   88])"
      ]
     },
     "execution_count": 50,
     "metadata": {},
     "output_type": "execute_result"
    }
   ],
   "source": [
    "df['totalVideos'].unique()"
   ]
  },
  {
   "cell_type": "code",
   "execution_count": 51,
   "metadata": {},
   "outputs": [
    {
     "data": {
      "text/plain": [
       "array([   16,     1,     0,    20,    66,     8,     5,     6,     3,\n",
       "           2,     4,    10,    11,    13,     7,   119,    21,    14,\n",
       "           9,    23,    19,    12,    28,    41,    15,    17,    33,\n",
       "          27,    18,   112,    52,    26,    45,    54,    22,    24,\n",
       "          43,    35,    79,    31,   286,   108,    47,    96,    30,\n",
       "          42,   120,    40,    56,    76,    93,   117,    36,    61,\n",
       "         202,   109,    37,   385,    64,    44,    32,   171,    39,\n",
       "          62,    34,   458,    50,    72,    89,    29,    91,    25,\n",
       "          65,    68,   102,   263,    78,    71,    87,    46,    88,\n",
       "          38,    63,   123,   177,   100,   113,   122,   106,    51,\n",
       "          90,    48,    92,   390,    81,    53,   284,   103,   124,\n",
       "         356,   104,   466,   152,   167,   426,    80,   121,   135,\n",
       "          55,    77,    58,   159,    84,   197,    99,    69,    94,\n",
       "         126,    57,   114,   195,    86,    70,   172,   176,   239,\n",
       "          82,   424,   150,    85,   220,   416,   252,   192,   169,\n",
       "         125,    67,    83,   215,    98,   225,    49,   164,   110,\n",
       "          60,   166,   759,   405,   342,   371,   190,    59,   118,\n",
       "         361,   188,   300,    95,   105,   130,   311,   216,   253,\n",
       "         137,   111,   552,   244,   208,  1100,   212,   201,    97,\n",
       "         144,   115,   523,   132,   136,    73,   231,   346,   229,\n",
       "         555,    74,    75,   178,   516,   654,   308,  1132,   461,\n",
       "         181,   210,   143,   134,   394,   129,   139,   368,   128,\n",
       "         101,   163,   205,  1418,   230,   127,   203,   146,   107,\n",
       "         131,   235,   257,   187,   266,   227,   173,   209,   395,\n",
       "         249,   321,   141,   147,   217,   260,   403,  1552,   182,\n",
       "         392,   226,   359,   142,   660,   275,   875,   434,  1522,\n",
       "         309,   145,   277,   138,   560,   248,   186,   691,   658,\n",
       "         491,   175,   165,   505,   180,   354,   160,   221,   158,\n",
       "         116,   733,   441,  1190,   207,   193,   189,   335,   535,\n",
       "         274,   214,   183,   381,   243,   245,   271,   391,   157,\n",
       "         297,   133,   471,  1621,   467,   148,   632,   593,   843,\n",
       "         865,   161,   324,  1014,   154,   406,   149,   336,  1006,\n",
       "         340,   398,   641,   242,   293,  1033,   343,   558,   198,\n",
       "         267,   513,   222,   432,   388,   288,   788,  1729,   261,\n",
       "         581,   224,   236,   570,   194,   168,  1614,   417,  1120,\n",
       "         204,   541,   151,   319,   184,   533,   287,   162,   255,\n",
       "         436,   349,   655,   348,   258,   156,   667,   206,  3757,\n",
       "         179, 11289,   333,   375,   211,   756,   285,   307,   185,\n",
       "         233,   472,   449,   196,   290,   259,   448,   213,  1157,\n",
       "        1094,   634,   306,   373,   598,   829,   301,   370,   155,\n",
       "        1137,   712,  1148,   262,   863,   379,   637,   219,   296,\n",
       "         294,   650,   443,   325,   228,   353,   305,   191,   295,\n",
       "         797,   410,   408,   841,  4636,   344,   813,   278,   584,\n",
       "         547,   298,   548,  2423,   889,  1604,   470,   791,  1645,\n",
       "         256,   279,   355,   674,  1030,   420,   423,  1641,   433,\n",
       "         358,   234,   595,   706,  1011,   250,  1952,  1490,   618,\n",
       "         978,   920,   367,  1663,   241,   799,  2632,   504,  1883,\n",
       "         386,   677,   563,   442,   648,  1041,  1007,   643,  1068,\n",
       "        2015,   447,   455,   320,  1683,   170,   727,   292,   950,\n",
       "         487,   918,   237,   610,   631,   519,   272,   430,  1053,\n",
       "         588,   246,   429,   454,   562,   518,   463,   280,   892,\n",
       "         315,  3349,   574,   140,   174,  2246,   834,  2486,   710,\n",
       "         422,  1946,   688,   498,   351,   468,  1283,   636,  2094,\n",
       "         200,  1499,   317,   814,   485,  1107,   347,   363,  1135,\n",
       "         376,   567,   694,  1062,  1801,   669,   362,   452,   495,\n",
       "         806,   199,   232,   521,   389,  1131,   726,   251,  1021,\n",
       "        1337,   397,   254,   572,  1443,   264,   352,   399,   387,\n",
       "         596,  1837,   383,  2705,  1029,  4263,   218,   302,   322,\n",
       "         421,   583,  1226,   265,   372,   972,   153,   341,   714,\n",
       "        1013,   489,  1901,   462,   330,   494,   400,   270,   809,\n",
       "         366,   589,   685,   774,   680,  1224,   377,   318,  1139,\n",
       "         662,   338,  1269,  1425,   407,   698,   522,   488,   543,\n",
       "         514,  1707,   556,   331,   382,   833,  1051,   619,  2069,\n",
       "        2360,   402,  1059,  1424,  9567,   665,   854,  1476,   775,\n",
       "        1930,  1821,  1196,   480,  2146,   590,  5727,  1045,  1247,\n",
       "        1072,   497,  1722,   360,   269,   404,   419,  2523,  1202,\n",
       "         766,   582,  1249,   961,  2398,   282,  1122,   328,   316,\n",
       "        1083,   735,   861,   268,   740,   329,   816,   502,   776,\n",
       "         526,  1055,   578,   627,   364,  1805,  3209,   304,   646,\n",
       "        2053,   984,  1002,  1121,   769,   553,   697,   747,   612,\n",
       "         332,  1152,  1167])"
      ]
     },
     "execution_count": 51,
     "metadata": {},
     "output_type": "execute_result"
    }
   ],
   "source": [
    "df['userReviewsTotal'].unique()"
   ]
  },
  {
   "cell_type": "code",
   "execution_count": 52,
   "metadata": {},
   "outputs": [
    {
     "data": {
      "text/plain": [
       "0"
      ]
     },
     "execution_count": 52,
     "metadata": {},
     "output_type": "execute_result"
    }
   ],
   "source": [
    "count_na(df['totalVideos'])"
   ]
  },
  {
   "cell_type": "code",
   "execution_count": 53,
   "metadata": {},
   "outputs": [
    {
     "data": {
      "text/plain": [
       "array([   16,     1,     0,    20,    66,     8,     5,     6,     3,\n",
       "           2,     4,    10,    11,    13,     7,   119,    21,    14,\n",
       "           9,    23,    19,    12,    28,    41,    15,    17,    33,\n",
       "          27,    18,   112,    52,    26,    45,    54,    22,    24,\n",
       "          43,    35,    79,    31,   286,   108,    47,    96,    30,\n",
       "          42,   120,    40,    56,    76,    93,   117,    36,    61,\n",
       "         202,   109,    37,   385,    64,    44,    32,   171,    39,\n",
       "          62,    34,   458,    50,    72,    89,    29,    91,    25,\n",
       "          65,    68,   102,   263,    78,    71,    87,    46,    88,\n",
       "          38,    63,   123,   177,   100,   113,   122,   106,    51,\n",
       "          90,    48,    92,   390,    81,    53,   284,   103,   124,\n",
       "         356,   104,   466,   152,   167,   426,    80,   121,   135,\n",
       "          55,    77,    58,   159,    84,   197,    99,    69,    94,\n",
       "         126,    57,   114,   195,    86,    70,   172,   176,   239,\n",
       "          82,   424,   150,    85,   220,   416,   252,   192,   169,\n",
       "         125,    67,    83,   215,    98,   225,    49,   164,   110,\n",
       "          60,   166,   759,   405,   342,   371,   190,    59,   118,\n",
       "         361,   188,   300,    95,   105,   130,   311,   216,   253,\n",
       "         137,   111,   552,   244,   208,  1100,   212,   201,    97,\n",
       "         144,   115,   523,   132,   136,    73,   231,   346,   229,\n",
       "         555,    74,    75,   178,   516,   654,   308,  1132,   461,\n",
       "         181,   210,   143,   134,   394,   129,   139,   368,   128,\n",
       "         101,   163,   205,  1418,   230,   127,   203,   146,   107,\n",
       "         131,   235,   257,   187,   266,   227,   173,   209,   395,\n",
       "         249,   321,   141,   147,   217,   260,   403,  1552,   182,\n",
       "         392,   226,   359,   142,   660,   275,   875,   434,  1522,\n",
       "         309,   145,   277,   138,   560,   248,   186,   691,   658,\n",
       "         491,   175,   165,   505,   180,   354,   160,   221,   158,\n",
       "         116,   733,   441,  1190,   207,   193,   189,   335,   535,\n",
       "         274,   214,   183,   381,   243,   245,   271,   391,   157,\n",
       "         297,   133,   471,  1621,   467,   148,   632,   593,   843,\n",
       "         865,   161,   324,  1014,   154,   406,   149,   336,  1006,\n",
       "         340,   398,   641,   242,   293,  1033,   343,   558,   198,\n",
       "         267,   513,   222,   432,   388,   288,   788,  1729,   261,\n",
       "         581,   224,   236,   570,   194,   168,  1614,   417,  1120,\n",
       "         204,   541,   151,   319,   184,   533,   287,   162,   255,\n",
       "         436,   349,   655,   348,   258,   156,   667,   206,  3757,\n",
       "         179, 11289,   333,   375,   211,   756,   285,   307,   185,\n",
       "         233,   472,   449,   196,   290,   259,   448,   213,  1157,\n",
       "        1094,   634,   306,   373,   598,   829,   301,   370,   155,\n",
       "        1137,   712,  1148,   262,   863,   379,   637,   219,   296,\n",
       "         294,   650,   443,   325,   228,   353,   305,   191,   295,\n",
       "         797,   410,   408,   841,  4636,   344,   813,   278,   584,\n",
       "         547,   298,   548,  2423,   889,  1604,   470,   791,  1645,\n",
       "         256,   279,   355,   674,  1030,   420,   423,  1641,   433,\n",
       "         358,   234,   595,   706,  1011,   250,  1952,  1490,   618,\n",
       "         978,   920,   367,  1663,   241,   799,  2632,   504,  1883,\n",
       "         386,   677,   563,   442,   648,  1041,  1007,   643,  1068,\n",
       "        2015,   447,   455,   320,  1683,   170,   727,   292,   950,\n",
       "         487,   918,   237,   610,   631,   519,   272,   430,  1053,\n",
       "         588,   246,   429,   454,   562,   518,   463,   280,   892,\n",
       "         315,  3349,   574,   140,   174,  2246,   834,  2486,   710,\n",
       "         422,  1946,   688,   498,   351,   468,  1283,   636,  2094,\n",
       "         200,  1499,   317,   814,   485,  1107,   347,   363,  1135,\n",
       "         376,   567,   694,  1062,  1801,   669,   362,   452,   495,\n",
       "         806,   199,   232,   521,   389,  1131,   726,   251,  1021,\n",
       "        1337,   397,   254,   572,  1443,   264,   352,   399,   387,\n",
       "         596,  1837,   383,  2705,  1029,  4263,   218,   302,   322,\n",
       "         421,   583,  1226,   265,   372,   972,   153,   341,   714,\n",
       "        1013,   489,  1901,   462,   330,   494,   400,   270,   809,\n",
       "         366,   589,   685,   774,   680,  1224,   377,   318,  1139,\n",
       "         662,   338,  1269,  1425,   407,   698,   522,   488,   543,\n",
       "         514,  1707,   556,   331,   382,   833,  1051,   619,  2069,\n",
       "        2360,   402,  1059,  1424,  9567,   665,   854,  1476,   775,\n",
       "        1930,  1821,  1196,   480,  2146,   590,  5727,  1045,  1247,\n",
       "        1072,   497,  1722,   360,   269,   404,   419,  2523,  1202,\n",
       "         766,   582,  1249,   961,  2398,   282,  1122,   328,   316,\n",
       "        1083,   735,   861,   268,   740,   329,   816,   502,   776,\n",
       "         526,  1055,   578,   627,   364,  1805,  3209,   304,   646,\n",
       "        2053,   984,  1002,  1121,   769,   553,   697,   747,   612,\n",
       "         332,  1152,  1167])"
      ]
     },
     "execution_count": 53,
     "metadata": {},
     "output_type": "execute_result"
    }
   ],
   "source": [
    "df['userReviewsTotal'].unique()"
   ]
  },
  {
   "cell_type": "code",
   "execution_count": 54,
   "metadata": {},
   "outputs": [
    {
     "data": {
      "text/plain": [
       "0"
      ]
     },
     "execution_count": 54,
     "metadata": {},
     "output_type": "execute_result"
    }
   ],
   "source": [
    "count_na(df['userReviewsTotal'])"
   ]
  },
  {
   "cell_type": "code",
   "execution_count": 55,
   "metadata": {},
   "outputs": [
    {
     "data": {
      "text/plain": [
       "array([ 0,  1,  2,  3,  4,  5,  6,  7,  8, 14, 26, 13, 12, 10,  9, 17, 11,\n",
       "       18, 22, 32, 25, 16, 19, 15, 41, 21, 40, 20, 23, 24, 30, 27, 34, 28,\n",
       "       31, 35, 29, 51, 33, 43])"
      ]
     },
     "execution_count": 55,
     "metadata": {},
     "output_type": "execute_result"
    }
   ],
   "source": [
    "df['writerCredits'].unique()"
   ]
  },
  {
   "cell_type": "code",
   "execution_count": 56,
   "metadata": {},
   "outputs": [
    {
     "data": {
      "text/html": [
       "<div>\n",
       "<style scoped>\n",
       "    .dataframe tbody tr th:only-of-type {\n",
       "        vertical-align: middle;\n",
       "    }\n",
       "\n",
       "    .dataframe tbody tr th {\n",
       "        vertical-align: top;\n",
       "    }\n",
       "\n",
       "    .dataframe thead th {\n",
       "        text-align: right;\n",
       "    }\n",
       "</style>\n",
       "<table border=\"1\" class=\"dataframe\">\n",
       "  <thead>\n",
       "    <tr style=\"text-align: right;\">\n",
       "      <th></th>\n",
       "      <th>originalTitle</th>\n",
       "      <th>rating</th>\n",
       "      <th>startYear</th>\n",
       "      <th>endYear</th>\n",
       "      <th>runtimeMinutes</th>\n",
       "      <th>awardWins</th>\n",
       "      <th>numVotes</th>\n",
       "      <th>worstRating</th>\n",
       "      <th>bestRating</th>\n",
       "      <th>totalImages</th>\n",
       "      <th>...</th>\n",
       "      <th>genres</th>\n",
       "      <th>castNumber</th>\n",
       "      <th>companiesNumber</th>\n",
       "      <th>averageRating</th>\n",
       "      <th>regions</th>\n",
       "      <th>externalLinks</th>\n",
       "      <th>writerCredits</th>\n",
       "      <th>directorsCredits</th>\n",
       "      <th>soundMixes</th>\n",
       "      <th>quotesTotal</th>\n",
       "    </tr>\n",
       "  </thead>\n",
       "  <tbody>\n",
       "    <tr>\n",
       "      <th>0</th>\n",
       "      <td>Carmencita</td>\n",
       "      <td>(5, 6]</td>\n",
       "      <td>1894</td>\n",
       "      <td>\\N</td>\n",
       "      <td>1.0</td>\n",
       "      <td>0</td>\n",
       "      <td>2089</td>\n",
       "      <td>1</td>\n",
       "      <td>10</td>\n",
       "      <td>2</td>\n",
       "      <td>...</td>\n",
       "      <td>Documentary,Short</td>\n",
       "      <td>1</td>\n",
       "      <td>3</td>\n",
       "      <td>5.7</td>\n",
       "      <td>[DE, US, HU, GR, RU, UA, JP]</td>\n",
       "      <td>9</td>\n",
       "      <td>0</td>\n",
       "      <td>1</td>\n",
       "      <td>[silent]</td>\n",
       "      <td>0</td>\n",
       "    </tr>\n",
       "    <tr>\n",
       "      <th>1</th>\n",
       "      <td>Un bon bock</td>\n",
       "      <td>(5, 6]</td>\n",
       "      <td>1892</td>\n",
       "      <td>\\N</td>\n",
       "      <td>12.0</td>\n",
       "      <td>0</td>\n",
       "      <td>183</td>\n",
       "      <td>1</td>\n",
       "      <td>10</td>\n",
       "      <td>2</td>\n",
       "      <td>...</td>\n",
       "      <td>Animation,Short</td>\n",
       "      <td>0</td>\n",
       "      <td>0</td>\n",
       "      <td>5.4</td>\n",
       "      <td>[HU, DE, FR, RO, RU, JP]</td>\n",
       "      <td>3</td>\n",
       "      <td>0</td>\n",
       "      <td>1</td>\n",
       "      <td>[silent]</td>\n",
       "      <td>0</td>\n",
       "    </tr>\n",
       "    <tr>\n",
       "      <th>2</th>\n",
       "      <td>Chinese Opium Den</td>\n",
       "      <td>(4, 5]</td>\n",
       "      <td>1894</td>\n",
       "      <td>\\N</td>\n",
       "      <td>1.0</td>\n",
       "      <td>0</td>\n",
       "      <td>195</td>\n",
       "      <td>1</td>\n",
       "      <td>10</td>\n",
       "      <td>1</td>\n",
       "      <td>...</td>\n",
       "      <td>Short</td>\n",
       "      <td>0</td>\n",
       "      <td>1</td>\n",
       "      <td>5.0</td>\n",
       "      <td>[US, DE, PT, HU, RU]</td>\n",
       "      <td>4</td>\n",
       "      <td>0</td>\n",
       "      <td>1</td>\n",
       "      <td>[silent]</td>\n",
       "      <td>0</td>\n",
       "    </tr>\n",
       "    <tr>\n",
       "      <th>3</th>\n",
       "      <td>Edison Kinetoscopic Record of a Sneeze</td>\n",
       "      <td>(5, 6]</td>\n",
       "      <td>1894</td>\n",
       "      <td>\\N</td>\n",
       "      <td>1.0</td>\n",
       "      <td>1</td>\n",
       "      <td>2237</td>\n",
       "      <td>1</td>\n",
       "      <td>10</td>\n",
       "      <td>3</td>\n",
       "      <td>...</td>\n",
       "      <td>Documentary,Short</td>\n",
       "      <td>1</td>\n",
       "      <td>6</td>\n",
       "      <td>5.4</td>\n",
       "      <td>[UA, JP, HU, US, DE, RU]</td>\n",
       "      <td>6</td>\n",
       "      <td>0</td>\n",
       "      <td>1</td>\n",
       "      <td>[silent]</td>\n",
       "      <td>0</td>\n",
       "    </tr>\n",
       "    <tr>\n",
       "      <th>4</th>\n",
       "      <td>L'arrivée d'un train à La Ciotat</td>\n",
       "      <td>(7, 8]</td>\n",
       "      <td>1896</td>\n",
       "      <td>\\N</td>\n",
       "      <td>1.0</td>\n",
       "      <td>0</td>\n",
       "      <td>13115</td>\n",
       "      <td>1</td>\n",
       "      <td>10</td>\n",
       "      <td>12</td>\n",
       "      <td>...</td>\n",
       "      <td>Documentary,Short</td>\n",
       "      <td>6</td>\n",
       "      <td>5</td>\n",
       "      <td>7.4</td>\n",
       "      <td>[HU, DE, TR, FI, FR, IT, ES, SK, PL, GB, XWW, ...</td>\n",
       "      <td>21</td>\n",
       "      <td>0</td>\n",
       "      <td>2</td>\n",
       "      <td>[silent]</td>\n",
       "      <td>0</td>\n",
       "    </tr>\n",
       "    <tr>\n",
       "      <th>...</th>\n",
       "      <td>...</td>\n",
       "      <td>...</td>\n",
       "      <td>...</td>\n",
       "      <td>...</td>\n",
       "      <td>...</td>\n",
       "      <td>...</td>\n",
       "      <td>...</td>\n",
       "      <td>...</td>\n",
       "      <td>...</td>\n",
       "      <td>...</td>\n",
       "      <td>...</td>\n",
       "      <td>...</td>\n",
       "      <td>...</td>\n",
       "      <td>...</td>\n",
       "      <td>...</td>\n",
       "      <td>...</td>\n",
       "      <td>...</td>\n",
       "      <td>...</td>\n",
       "      <td>...</td>\n",
       "      <td>...</td>\n",
       "      <td>...</td>\n",
       "    </tr>\n",
       "    <tr>\n",
       "      <th>149526</th>\n",
       "      <td>Nuestra película</td>\n",
       "      <td>(6, 7]</td>\n",
       "      <td>1993</td>\n",
       "      <td>\\N</td>\n",
       "      <td>96.0</td>\n",
       "      <td>0</td>\n",
       "      <td>11</td>\n",
       "      <td>1</td>\n",
       "      <td>10</td>\n",
       "      <td>0</td>\n",
       "      <td>...</td>\n",
       "      <td>Documentary</td>\n",
       "      <td>0</td>\n",
       "      <td>2</td>\n",
       "      <td>7.0</td>\n",
       "      <td>[CO]</td>\n",
       "      <td>1</td>\n",
       "      <td>1</td>\n",
       "      <td>1</td>\n",
       "      <td>[]</td>\n",
       "      <td>0</td>\n",
       "    </tr>\n",
       "    <tr>\n",
       "      <th>149527</th>\n",
       "      <td>Eco</td>\n",
       "      <td>(6, 7]</td>\n",
       "      <td>2019</td>\n",
       "      <td>\\N</td>\n",
       "      <td>14.0</td>\n",
       "      <td>0</td>\n",
       "      <td>15</td>\n",
       "      <td>1</td>\n",
       "      <td>10</td>\n",
       "      <td>4</td>\n",
       "      <td>...</td>\n",
       "      <td>Drama,Short</td>\n",
       "      <td>6</td>\n",
       "      <td>3</td>\n",
       "      <td>6.4</td>\n",
       "      <td>[ES]</td>\n",
       "      <td>5</td>\n",
       "      <td>1</td>\n",
       "      <td>1</td>\n",
       "      <td>[]</td>\n",
       "      <td>0</td>\n",
       "    </tr>\n",
       "    <tr>\n",
       "      <th>149528</th>\n",
       "      <td>Women Take Center Stage</td>\n",
       "      <td>(5, 6]</td>\n",
       "      <td>2019</td>\n",
       "      <td>\\N</td>\n",
       "      <td>NaN</td>\n",
       "      <td>0</td>\n",
       "      <td>12</td>\n",
       "      <td>1</td>\n",
       "      <td>10</td>\n",
       "      <td>2</td>\n",
       "      <td>...</td>\n",
       "      <td>Reality-TV</td>\n",
       "      <td>1</td>\n",
       "      <td>0</td>\n",
       "      <td>5.6</td>\n",
       "      <td>[]</td>\n",
       "      <td>0</td>\n",
       "      <td>0</td>\n",
       "      <td>0</td>\n",
       "      <td>[]</td>\n",
       "      <td>0</td>\n",
       "    </tr>\n",
       "    <tr>\n",
       "      <th>149529</th>\n",
       "      <td>Horrid Henry and the Christening Crisis</td>\n",
       "      <td>(7, 8]</td>\n",
       "      <td>2011</td>\n",
       "      <td>\\N</td>\n",
       "      <td>10.0</td>\n",
       "      <td>0</td>\n",
       "      <td>9</td>\n",
       "      <td>1</td>\n",
       "      <td>10</td>\n",
       "      <td>1</td>\n",
       "      <td>...</td>\n",
       "      <td>Adventure,Animation,Comedy</td>\n",
       "      <td>7</td>\n",
       "      <td>0</td>\n",
       "      <td>7.1</td>\n",
       "      <td>[]</td>\n",
       "      <td>0</td>\n",
       "      <td>3</td>\n",
       "      <td>1</td>\n",
       "      <td>[]</td>\n",
       "      <td>0</td>\n",
       "    </tr>\n",
       "    <tr>\n",
       "      <th>149530</th>\n",
       "      <td>A lenda do soprador de vidro</td>\n",
       "      <td>(8, 9]</td>\n",
       "      <td>2019</td>\n",
       "      <td>\\N</td>\n",
       "      <td>NaN</td>\n",
       "      <td>0</td>\n",
       "      <td>9</td>\n",
       "      <td>1</td>\n",
       "      <td>10</td>\n",
       "      <td>3</td>\n",
       "      <td>...</td>\n",
       "      <td>Comedy</td>\n",
       "      <td>9</td>\n",
       "      <td>0</td>\n",
       "      <td>8.6</td>\n",
       "      <td>[]</td>\n",
       "      <td>0</td>\n",
       "      <td>3</td>\n",
       "      <td>2</td>\n",
       "      <td>[]</td>\n",
       "      <td>0</td>\n",
       "    </tr>\n",
       "  </tbody>\n",
       "</table>\n",
       "<p>149531 rows × 32 columns</p>\n",
       "</div>"
      ],
      "text/plain": [
       "                                  originalTitle  rating  startYear endYear  \\\n",
       "0                                    Carmencita  (5, 6]       1894      \\N   \n",
       "1                                   Un bon bock  (5, 6]       1892      \\N   \n",
       "2                             Chinese Opium Den  (4, 5]       1894      \\N   \n",
       "3        Edison Kinetoscopic Record of a Sneeze  (5, 6]       1894      \\N   \n",
       "4              L'arrivée d'un train à La Ciotat  (7, 8]       1896      \\N   \n",
       "...                                         ...     ...        ...     ...   \n",
       "149526                         Nuestra película  (6, 7]       1993      \\N   \n",
       "149527                                      Eco  (6, 7]       2019      \\N   \n",
       "149528                  Women Take Center Stage  (5, 6]       2019      \\N   \n",
       "149529  Horrid Henry and the Christening Crisis  (7, 8]       2011      \\N   \n",
       "149530             A lenda do soprador de vidro  (8, 9]       2019      \\N   \n",
       "\n",
       "        runtimeMinutes  awardWins  numVotes  worstRating  bestRating  \\\n",
       "0                  1.0          0      2089            1          10   \n",
       "1                 12.0          0       183            1          10   \n",
       "2                  1.0          0       195            1          10   \n",
       "3                  1.0          1      2237            1          10   \n",
       "4                  1.0          0     13115            1          10   \n",
       "...                ...        ...       ...          ...         ...   \n",
       "149526            96.0          0        11            1          10   \n",
       "149527            14.0          0        15            1          10   \n",
       "149528             NaN          0        12            1          10   \n",
       "149529            10.0          0         9            1          10   \n",
       "149530             NaN          0         9            1          10   \n",
       "\n",
       "        totalImages  ...                      genres  castNumber  \\\n",
       "0                 2  ...           Documentary,Short           1   \n",
       "1                 2  ...             Animation,Short           0   \n",
       "2                 1  ...                       Short           0   \n",
       "3                 3  ...           Documentary,Short           1   \n",
       "4                12  ...           Documentary,Short           6   \n",
       "...             ...  ...                         ...         ...   \n",
       "149526            0  ...                 Documentary           0   \n",
       "149527            4  ...                 Drama,Short           6   \n",
       "149528            2  ...                  Reality-TV           1   \n",
       "149529            1  ...  Adventure,Animation,Comedy           7   \n",
       "149530            3  ...                      Comedy           9   \n",
       "\n",
       "        companiesNumber averageRating  \\\n",
       "0                     3           5.7   \n",
       "1                     0           5.4   \n",
       "2                     1           5.0   \n",
       "3                     6           5.4   \n",
       "4                     5           7.4   \n",
       "...                 ...           ...   \n",
       "149526                2           7.0   \n",
       "149527                3           6.4   \n",
       "149528                0           5.6   \n",
       "149529                0           7.1   \n",
       "149530                0           8.6   \n",
       "\n",
       "                                                  regions  externalLinks  \\\n",
       "0                            [DE, US, HU, GR, RU, UA, JP]              9   \n",
       "1                                [HU, DE, FR, RO, RU, JP]              3   \n",
       "2                                    [US, DE, PT, HU, RU]              4   \n",
       "3                                [UA, JP, HU, US, DE, RU]              6   \n",
       "4       [HU, DE, TR, FI, FR, IT, ES, SK, PL, GB, XWW, ...             21   \n",
       "...                                                   ...            ...   \n",
       "149526                                               [CO]              1   \n",
       "149527                                               [ES]              5   \n",
       "149528                                                 []              0   \n",
       "149529                                                 []              0   \n",
       "149530                                                 []              0   \n",
       "\n",
       "        writerCredits  directorsCredits  soundMixes  quotesTotal  \n",
       "0                   0                 1    [silent]            0  \n",
       "1                   0                 1    [silent]            0  \n",
       "2                   0                 1    [silent]            0  \n",
       "3                   0                 1    [silent]            0  \n",
       "4                   0                 2    [silent]            0  \n",
       "...               ...               ...         ...          ...  \n",
       "149526              1                 1          []            0  \n",
       "149527              1                 1          []            0  \n",
       "149528              0                 0          []            0  \n",
       "149529              3                 1          []            0  \n",
       "149530              3                 2          []            0  \n",
       "\n",
       "[149531 rows x 32 columns]"
      ]
     },
     "execution_count": 56,
     "metadata": {},
     "output_type": "execute_result"
    }
   ],
   "source": [
    "df"
   ]
  },
  {
   "cell_type": "code",
   "execution_count": 57,
   "metadata": {},
   "outputs": [
    {
     "data": {
      "text/plain": [
       "array([1894, 1892, 1896, 1895, 1898, 1897, 1900, 1899, 1901, 1902, 1903,\n",
       "       1905, 1907, 1906, 1908, 1909, 1911, 1910, 1912, 1913, 1914, 1915,\n",
       "       1916, 1917, 1922, 1918, 1919, 1921, 1920, 1923, 1924, 1925, 1926,\n",
       "       1927, 1928, 1929, 1930, 1931, 1950, 1938, 1932, 1934, 1933, 1946,\n",
       "       1935, 1936, 1939, 1937, 1941, 1940, 1942, 1943, 1948, 1944, 1945,\n",
       "       1953, 1947, 1949, 1951, 1952, 1958, 1956, 1955, 1954, 1977, 1957,\n",
       "       1960, 1959, 1961, 1962, 1963, 1964, 1965, 1966, 1967, 1969, 1968,\n",
       "       1972, 1973, 1971, 1970, 1974, 1975, 2010, 2018, 2023, 1976, 2022,\n",
       "       1979, 1978, 1982, 1980, 1983, 1987, 1984, 1981, 1986, 1992, 1989,\n",
       "       1985, 1988, 1991, 1993, 1990, 1996, 1995, 1994, 1999, 1997, 1998,\n",
       "       2017, 2005, 2001, 2002, 1904, 2003, 2009, 2004, 2012, 2006, 2019,\n",
       "       2011, 2007, 1891, 2013, 2015, 2008, 1890, 2020, 2016, 2014, 2021,\n",
       "       2024, 1878, 1893, 1881, 1887])"
      ]
     },
     "execution_count": 57,
     "metadata": {},
     "output_type": "execute_result"
    }
   ],
   "source": [
    "df['startYear'].unique()"
   ]
  },
  {
   "cell_type": "code",
   "execution_count": 58,
   "metadata": {},
   "outputs": [
    {
     "data": {
      "text/plain": [
       "0        NaN\n",
       "1        NaN\n",
       "2        NaN\n",
       "3        NaN\n",
       "4        NaN\n",
       "          ..\n",
       "149526   NaN\n",
       "149527   NaN\n",
       "149528   NaN\n",
       "149529   NaN\n",
       "149530   NaN\n",
       "Name: endYear, Length: 149531, dtype: float64"
      ]
     },
     "execution_count": 58,
     "metadata": {},
     "output_type": "execute_result"
    }
   ],
   "source": [
    "df['endYear'] = pd.to_numeric(df['endYear'].replace(\"\\\\N\", None), errors='coerce')\n",
    "df['endYear']"
   ]
  },
  {
   "cell_type": "code",
   "execution_count": 59,
   "metadata": {},
   "outputs": [
    {
     "data": {
      "text/plain": [
       "array([  nan, 1945., 1951., 1958., 1952., 1950., 1955., 1957., 1954.,\n",
       "       1963., 1960., 1961., 1956., 1965., 1953., 1993., 1968., 1962.,\n",
       "       1974., 1989., 1959., 1966., 1964., 1971., 1970., 1969., 1985.,\n",
       "       1967., 1986., 1977., 1973., 1975., 1997., 2011., 1972., 2005.,\n",
       "       2006., 1976., 1979., 1978., 1980., 1983., 2016., 1982., 1987.,\n",
       "       1981., 1991., 1984., 1994., 1988., 1992., 1995., 2004., 1990.,\n",
       "       1996., 1998., 1999., 2002., 2000., 2010., 2001., 2012., 2019.,\n",
       "       2007., 2009., 2015., 2003., 2013., 2023., 2024., 2008., 2018.,\n",
       "       2022., 2017., 2020., 2021., 2014., 1933., 2025.])"
      ]
     },
     "execution_count": 59,
     "metadata": {},
     "output_type": "execute_result"
    }
   ],
   "source": [
    "df['endYear'].unique()"
   ]
  },
  {
   "cell_type": "code",
   "execution_count": 60,
   "metadata": {},
   "outputs": [
    {
     "data": {
      "text/plain": [
       "array(['tvSeries', 'tvMiniSeries'], dtype=object)"
      ]
     },
     "execution_count": 60,
     "metadata": {},
     "output_type": "execute_result"
    }
   ],
   "source": [
    "df.loc[~df['endYear'].isna(), 'titleType'].unique()"
   ]
  },
  {
   "cell_type": "code",
   "execution_count": 61,
   "metadata": {},
   "outputs": [
    {
     "data": {
      "text/plain": [
       "array([1945., 1951., 1958., 1952., 1950., 1955.,   nan, 1957., 1954.,\n",
       "       1963., 1960., 1961., 1956., 1965., 1953., 1993., 1968., 1962.,\n",
       "       1974., 1989., 1959., 1966., 1964., 1971., 1970., 1969., 1985.,\n",
       "       1967., 1986., 1977., 1973., 1975., 1997., 2011., 1972., 2005.,\n",
       "       2006., 1976., 1979., 1978., 1980., 1983., 2016., 1982., 1987.,\n",
       "       1981., 1991., 1984., 1994., 1988., 1992., 1995., 2004., 1990.,\n",
       "       1996., 1998., 1999., 2002., 2000., 2010., 2001., 2012., 2019.,\n",
       "       2007., 2009., 2015., 2003., 2013., 2023., 2024., 2008., 2018.,\n",
       "       2022., 2017., 2020., 2021., 2014., 1933., 2025.])"
      ]
     },
     "execution_count": 61,
     "metadata": {},
     "output_type": "execute_result"
    }
   ],
   "source": [
    "df.loc[(df['titleType'] == 'tvSeries') |\n",
    "       (df['titleType'] == 'tvMiniSeries'), 'endYear'].unique()"
   ]
  },
  {
   "cell_type": "code",
   "execution_count": 62,
   "metadata": {},
   "outputs": [
    {
     "data": {
      "text/plain": [
       "(5190, 5634)"
      ]
     },
     "execution_count": 62,
     "metadata": {},
     "output_type": "execute_result"
    }
   ],
   "source": [
    "# nans vs non-nans\n",
    "df.loc[((df['titleType'] == 'tvSeries') |\n",
    "       (df['titleType'] == 'tvMiniSeries')) &\n",
    "       (df['endYear'].isna()), 'titleType'].count(), df.loc[((df['titleType'] == 'tvSeries') |\n",
    "       (df['titleType'] == 'tvMiniSeries')) &\n",
    "       ~(df['endYear'].isna()), 'titleType'].count()"
   ]
  },
  {
   "cell_type": "code",
   "execution_count": 63,
   "metadata": {},
   "outputs": [
    {
     "data": {
      "text/plain": [
       "(4515, 4690)"
      ]
     },
     "execution_count": 63,
     "metadata": {},
     "output_type": "execute_result"
    }
   ],
   "source": [
    "# nans vs non-nans (tvSeries)\n",
    "(df.loc[(df['titleType'] == 'tvSeries') & (df['endYear'].isna()), 'titleType'].count(),\n",
    " df.loc[(df['titleType'] == 'tvSeries') & ~(df['endYear'].isna()), 'titleType'].count())"
   ]
  },
  {
   "cell_type": "code",
   "execution_count": 64,
   "metadata": {},
   "outputs": [
    {
     "data": {
      "text/plain": [
       "(675, 944)"
      ]
     },
     "execution_count": 64,
     "metadata": {},
     "output_type": "execute_result"
    }
   ],
   "source": [
    "# nans vs non-nans (tvSeries)\n",
    "(df.loc[(df['titleType'] == 'tvMiniSeries') & (df['endYear'].isna()), 'titleType'].count(),\n",
    " df.loc[(df['titleType'] == 'tvMiniSeries') & ~(df['endYear'].isna()), 'titleType'].count())"
   ]
  },
  {
   "cell_type": "code",
   "execution_count": 65,
   "metadata": {},
   "outputs": [],
   "source": [
    "def preprocess_endyear(df):\n",
    "    copy = df\n",
    "    end_year = copy.loc[(copy['titleType'] == 'tvMiniSeries') | (copy['titleType'] == 'tvSeries'), 'endYear']\n",
    "\n",
    "    copy['endYear'] = copy['startYear']\n",
    "    copy.loc[(df['titleType'] == 'tvMiniSeries') | (copy['titleType'] == 'tvSeries'), 'endYear'] = end_year\n",
    "    return copy['endYear']\n",
    "\n",
    "df['endYear'] = preprocess_endyear(df)"
   ]
  },
  {
   "cell_type": "code",
   "execution_count": 66,
   "metadata": {},
   "outputs": [
    {
     "data": {
      "image/png": "[encoded data removed]",
      "text/plain": [
       "<Figure size 1000x600 with 1 Axes>"
      ]
     },
     "metadata": {},
     "output_type": "display_data"
    }
   ],
   "source": [
    "import matplotlib.pyplot as plt\n",
    "\n",
    "na_counts = df.isna().sum()\n",
    "for col in df.columns:\n",
    "    empty_list_count = len(df[col][df[col].apply(lambda x: isinstance(x, list) and len(x) == 0)])\n",
    "    \n",
    "    # Count empty list represented as the string '[]'\n",
    "    empty_list_str_count = len(df[col][df[col] == '[]'])\n",
    "    \n",
    "    # Add counts to na_counts\n",
    "    na_counts.loc[col] += empty_list_count + empty_list_str_count\n",
    "\n",
    "# Plot histogram\n",
    "na_counts.loc[na_counts!=0].plot(kind='bar', figsize=(10, 6))\n",
    "plt.title('Number of NaNs in Each Column')\n",
    "# plt.xlabel('Columns')\n",
    "plt.ylabel('Number of NaNs')\n",
    "plt.xticks(rotation=90)\n",
    "plt.tight_layout()\n",
    "plt.grid(axis='y')\n",
    "plt.show()"
   ]
  },
  {
   "cell_type": "code",
   "execution_count": 67,
   "metadata": {},
   "outputs": [
    {
     "data": {
      "image/png": "[encoded data removed]",
      "text/plain": [
       "<Figure size 1000x600 with 1 Axes>"
      ]
     },
     "metadata": {},
     "output_type": "display_data"
    }
   ],
   "source": [
    "na_percentage = na_counts/len(df) * 100\n",
    "\n",
    "# Plot histogram\n",
    "na_percentage.loc[na_percentage!=0].plot(kind='bar', figsize=(10, 6))\n",
    "plt.title('%NaNs in Each Column')\n",
    "# plt.xlabel('Columns')\n",
    "plt.ylabel('%NaNs')\n",
    "plt.xticks(rotation=90)\n",
    "plt.tight_layout()\n",
    "plt.grid(axis='y')\n",
    "# plt.yscale('log')\n",
    "plt.show()"
   ]
  },
  {
   "cell_type": "code",
   "execution_count": 68,
   "metadata": {},
   "outputs": [],
   "source": [
    "def inspect_na(df: pd.DataFrame, column: str, threshold: float | int = 0.8) -> tuple[bool, list[int]]:\n",
    "    nas = df.loc[df[column].isna()].index.tolist()\n",
    "    b = (len(nas) >= threshold if isinstance(threshold, float)\n",
    "         else len(nas)/len(df) >= threshold)\n",
    "    return (b, nas)"
   ]
  },
  {
   "cell_type": "code",
   "execution_count": 69,
   "metadata": {},
   "outputs": [
    {
     "data": {
      "text/html": [
       "<div>\n",
       "<style scoped>\n",
       "    .dataframe tbody tr th:only-of-type {\n",
       "        vertical-align: middle;\n",
       "    }\n",
       "\n",
       "    .dataframe tbody tr th {\n",
       "        vertical-align: top;\n",
       "    }\n",
       "\n",
       "    .dataframe thead th {\n",
       "        text-align: right;\n",
       "    }\n",
       "</style>\n",
       "<table border=\"1\" class=\"dataframe\">\n",
       "  <thead>\n",
       "    <tr style=\"text-align: right;\">\n",
       "      <th></th>\n",
       "      <th>totalCredits</th>\n",
       "      <th>castNumber</th>\n",
       "      <th>writerCredits</th>\n",
       "      <th>directorsCredits</th>\n",
       "    </tr>\n",
       "  </thead>\n",
       "  <tbody>\n",
       "    <tr>\n",
       "      <th>568</th>\n",
       "      <td>9</td>\n",
       "      <td>7</td>\n",
       "      <td>2</td>\n",
       "      <td>1</td>\n",
       "    </tr>\n",
       "    <tr>\n",
       "      <th>760</th>\n",
       "      <td>21</td>\n",
       "      <td>16</td>\n",
       "      <td>5</td>\n",
       "      <td>2</td>\n",
       "    </tr>\n",
       "    <tr>\n",
       "      <th>5304</th>\n",
       "      <td>11</td>\n",
       "      <td>8</td>\n",
       "      <td>3</td>\n",
       "      <td>1</td>\n",
       "    </tr>\n",
       "    <tr>\n",
       "      <th>20155</th>\n",
       "      <td>10</td>\n",
       "      <td>6</td>\n",
       "      <td>3</td>\n",
       "      <td>2</td>\n",
       "    </tr>\n",
       "    <tr>\n",
       "      <th>21444</th>\n",
       "      <td>15</td>\n",
       "      <td>11</td>\n",
       "      <td>3</td>\n",
       "      <td>2</td>\n",
       "    </tr>\n",
       "    <tr>\n",
       "      <th>...</th>\n",
       "      <td>...</td>\n",
       "      <td>...</td>\n",
       "      <td>...</td>\n",
       "      <td>...</td>\n",
       "    </tr>\n",
       "    <tr>\n",
       "      <th>139332</th>\n",
       "      <td>3</td>\n",
       "      <td>1</td>\n",
       "      <td>2</td>\n",
       "      <td>1</td>\n",
       "    </tr>\n",
       "    <tr>\n",
       "      <th>143872</th>\n",
       "      <td>31</td>\n",
       "      <td>25</td>\n",
       "      <td>7</td>\n",
       "      <td>1</td>\n",
       "    </tr>\n",
       "    <tr>\n",
       "      <th>144583</th>\n",
       "      <td>4</td>\n",
       "      <td>1</td>\n",
       "      <td>2</td>\n",
       "      <td>2</td>\n",
       "    </tr>\n",
       "    <tr>\n",
       "      <th>144742</th>\n",
       "      <td>3</td>\n",
       "      <td>1</td>\n",
       "      <td>2</td>\n",
       "      <td>1</td>\n",
       "    </tr>\n",
       "    <tr>\n",
       "      <th>144844</th>\n",
       "      <td>26</td>\n",
       "      <td>19</td>\n",
       "      <td>8</td>\n",
       "      <td>1</td>\n",
       "    </tr>\n",
       "  </tbody>\n",
       "</table>\n",
       "<p>129 rows × 4 columns</p>\n",
       "</div>"
      ],
      "text/plain": [
       "        totalCredits  castNumber  writerCredits  directorsCredits\n",
       "568                9           7              2                 1\n",
       "760               21          16              5                 2\n",
       "5304              11           8              3                 1\n",
       "20155             10           6              3                 2\n",
       "21444             15          11              3                 2\n",
       "...              ...         ...            ...               ...\n",
       "139332             3           1              2                 1\n",
       "143872            31          25              7                 1\n",
       "144583             4           1              2                 2\n",
       "144742             3           1              2                 1\n",
       "144844            26          19              8                 1\n",
       "\n",
       "[129 rows x 4 columns]"
      ]
     },
     "execution_count": 69,
     "metadata": {},
     "output_type": "execute_result"
    }
   ],
   "source": [
    "df.loc[df['totalCredits'] < df['castNumber'] + df['writerCredits'] + df['directorsCredits'],\n",
    "       ['totalCredits', 'castNumber', 'writerCredits', 'directorsCredits']]"
   ]
  },
  {
   "cell_type": "code",
   "execution_count": 70,
   "metadata": {},
   "outputs": [
    {
     "data": {
      "text/plain": [
       "35.15017621764049"
      ]
     },
     "execution_count": 70,
     "metadata": {},
     "output_type": "execute_result"
    }
   ],
   "source": [
    "(df['totalCredits'] - (df['castNumber'] + df['writerCredits'] + df['directorsCredits'])).mean()"
   ]
  },
  {
   "cell_type": "code",
   "execution_count": 71,
   "metadata": {},
   "outputs": [
    {
     "data": {
      "text/plain": [
       "-1.2093023255813953"
      ]
     },
     "execution_count": 71,
     "metadata": {},
     "output_type": "execute_result"
    }
   ],
   "source": [
    "df_less = df.loc[df['totalCredits'] < df['castNumber'] + df['writerCredits'] + df['directorsCredits']]\n",
    "(df_less['totalCredits'] - (df_less['castNumber'] + df_less['writerCredits'] + df_less['directorsCredits'])).mean()"
   ]
  },
  {
   "cell_type": "code",
   "execution_count": 72,
   "metadata": {},
   "outputs": [
    {
     "data": {
      "text/plain": [
       "array(['Documentary,Short', 'Animation,Short', 'Short', ...,\n",
       "       'Drama,Mystery,Reality-TV', 'Adventure,Animation,Romance',\n",
       "       'Adult,Reality-TV,Romance'], dtype=object)"
      ]
     },
     "execution_count": 72,
     "metadata": {},
     "output_type": "execute_result"
    }
   ],
   "source": [
    "df['genres'].unique()"
   ]
  },
  {
   "cell_type": "code",
   "execution_count": 73,
   "metadata": {},
   "outputs": [],
   "source": [
    "df['genres'] = pd.Series([str_list.split(',') for str_list in df['genres']])"
   ]
  },
  {
   "cell_type": "code",
   "execution_count": 74,
   "metadata": {},
   "outputs": [
    {
     "data": {
      "text/plain": [
       "0                   [Documentary, Short]\n",
       "1                     [Animation, Short]\n",
       "2                                [Short]\n",
       "3                   [Documentary, Short]\n",
       "4                   [Documentary, Short]\n",
       "                       ...              \n",
       "149526                     [Documentary]\n",
       "149527                    [Drama, Short]\n",
       "149528                      [Reality-TV]\n",
       "149529    [Adventure, Animation, Comedy]\n",
       "149530                          [Comedy]\n",
       "Name: genres, Length: 149531, dtype: object"
      ]
     },
     "execution_count": 74,
     "metadata": {},
     "output_type": "execute_result"
    }
   ],
   "source": [
    "df['genres']"
   ]
  },
  {
   "cell_type": "code",
   "execution_count": 75,
   "metadata": {},
   "outputs": [],
   "source": [
    "df.to_csv('dm2_dataset_2425_imdb/preprocessed_full.csv', index=False)"
   ]
  }
 ],
 "metadata": {
  "kernelspec": {
   "display_name": "Python 3",
   "language": "python",
   "name": "python3"
  },
  "language_info": {
   "codemirror_mode": {
    "name": "ipython",
    "version": 3
   },
   "file_extension": ".py",
   "mimetype": "text/x-python",
   "name": "python",
   "nbconvert_exporter": "python",
   "pygments_lexer": "ipython3",
   "version": "3.11.1"
  }
 },
 "nbformat": 4,
 "nbformat_minor": 2
}
