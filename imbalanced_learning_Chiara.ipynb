{
 "cells": [
  {
   "cell_type": "markdown",
   "metadata": {},
   "source": [
    "# Before starting with the classification"
   ]
  },
  {
   "cell_type": "code",
   "execution_count": 366,
   "metadata": {},
   "outputs": [],
   "source": [
    "# import sys\n",
    "# sys.path.append('/Users/chiaraferrara/Desktop/Unipi/Magistrale/DM 2/dm2_project')"
   ]
  },
  {
   "cell_type": "code",
   "execution_count": 367,
   "metadata": {},
   "outputs": [],
   "source": [
    "from support.conversion import convert_string_list"
   ]
  },
  {
   "cell_type": "code",
   "execution_count": 368,
   "metadata": {},
   "outputs": [],
   "source": [
    "import pandas as pd"
   ]
  },
  {
   "cell_type": "code",
   "execution_count": 369,
   "metadata": {},
   "outputs": [
    {
     "name": "stdout",
     "output_type": "stream",
     "text": [
      "Directory corrente: /Users/chiaraferrara/Desktop/Unipi/Magistrale/DM 2/dm2_project\n",
      "File trovato: dm2_dataset_2425_imdb/preprocessed_full.csv\n"
     ]
    }
   ],
   "source": [
    "import os\n",
    "\n",
    "print(\"Directory corrente:\", os.getcwd())\n",
    "\n",
    "file_path = 'dm2_dataset_2425_imdb/preprocessed_full.csv'\n",
    "if os.path.exists(file_path):\n",
    "    print(f\"File trovato: {file_path}\")\n",
    "    df = pd.read_csv(file_path)\n",
    "else:\n",
    "    print(f\"File non trovato: {file_path}\")"
   ]
  },
  {
   "cell_type": "code",
   "execution_count": 370,
   "metadata": {},
   "outputs": [
    {
     "name": "stdout",
     "output_type": "stream",
     "text": [
      "File aperto con successo!\n"
     ]
    }
   ],
   "source": [
    "try:\n",
    "    with open(file_path, 'r') as f:\n",
    "        print(\"File aperto con successo!\")\n",
    "except Exception as e:\n",
    "    print(f\"Errore nell'aprire il file: {e}\")"
   ]
  },
  {
   "cell_type": "code",
   "execution_count": 371,
   "metadata": {},
   "outputs": [
    {
     "name": "stdout",
     "output_type": "stream",
     "text": [
      "                            originalTitle  rating  startYear  endYear  \\\n",
      "0                              Carmencita  (5, 6]       1894   1894.0   \n",
      "1                             Un bon bock  (5, 6]       1892   1892.0   \n",
      "2                       Chinese Opium Den  (4, 5]       1894   1894.0   \n",
      "3  Edison Kinetoscopic Record of a Sneeze  (5, 6]       1894   1894.0   \n",
      "4        L'arrivée d'un train à La Ciotat  (7, 8]       1896   1896.0   \n",
      "\n",
      "   runtimeMinutes  awardWins  numVotes  worstRating  bestRating  totalImages  \\\n",
      "0             1.0          0      2089            1          10            2   \n",
      "1            12.0          0       183            1          10            2   \n",
      "2             1.0          0       195            1          10            1   \n",
      "3             1.0          1      2237            1          10            3   \n",
      "4             1.0          0     13115            1          10           12   \n",
      "\n",
      "   ...  regions_UNK  countryOfOrigin_freq_enc  countryOfOrigin_NA  \\\n",
      "0  ...            0                  0.399732                   1   \n",
      "1  ...            0                  0.046115                   0   \n",
      "2  ...            0                  0.399732                   1   \n",
      "3  ...            0                  0.399732                   1   \n",
      "4  ...            2                  0.046115                   0   \n",
      "\n",
      "  countryOfOrigin_AF  countryOfOrigin_AS  countryOfOrigin_EU  \\\n",
      "0                  0                   0                   0   \n",
      "1                  0                   0                   1   \n",
      "2                  0                   0                   0   \n",
      "3                  0                   0                   0   \n",
      "4                  0                   0                   1   \n",
      "\n",
      "   countryOfOrigin_OC  countryOfOrigin_SA  countryOfOrigin_UNK  reviewsTotal  \n",
      "0                   0                   0                    0            19  \n",
      "1                   0                   0                    0             1  \n",
      "2                   0                   0                    0             0  \n",
      "3                   0                   0                    0            22  \n",
      "4                   0                   0                    0            82  \n",
      "\n",
      "[5 rows x 52 columns]\n"
     ]
    }
   ],
   "source": [
    "import pandas as pd\n",
    "\n",
    "try:\n",
    "    df = pd.read_csv(file_path)\n",
    "    print(df.head())  # Stampa le prime righe del DataFrame per vedere se il file viene caricato correttamente\n",
    "except Exception as e:\n",
    "    print(f\"Errore nel leggere il file CSV: {e}\")"
   ]
  },
  {
   "cell_type": "code",
   "execution_count": 372,
   "metadata": {},
   "outputs": [],
   "source": [
    "import os\n",
    "\n",
    "# Usa il percorso relativo senza aggiungere la parte 'dm2_project' due volte\n",
    "\n",
    "\n",
    "# Chiama la funzione init() con il percorso corretto\n",
    "df = init(path=file_path)\n"
   ]
  },
  {
   "cell_type": "markdown",
   "metadata": {},
   "source": [
    "```new```"
   ]
  },
  {
   "cell_type": "code",
   "execution_count": 373,
   "metadata": {},
   "outputs": [],
   "source": [
    "# import sys\n",
    "# import os\n",
    "# sys.path.append(os.path.abspath(\"support\"))\n",
    "# from support.preprocessing_pipeline import preprocess_train_test"
   ]
  },
  {
   "cell_type": "markdown",
   "metadata": {},
   "source": [
    "``` new__ ```"
   ]
  },
  {
   "cell_type": "code",
   "execution_count": 374,
   "metadata": {},
   "outputs": [
    {
     "data": {
      "text/plain": [
       "0         5.7\n",
       "1         5.4\n",
       "2         5.0\n",
       "3         5.4\n",
       "4         7.4\n",
       "         ... \n",
       "149526    7.0\n",
       "149527    6.4\n",
       "149528    5.6\n",
       "149529    7.1\n",
       "149530    8.6\n",
       "Name: averageRating, Length: 149531, dtype: float64"
      ]
     },
     "execution_count": 374,
     "metadata": {},
     "output_type": "execute_result"
    }
   ],
   "source": [
    "df['averageRating']"
   ]
  },
  {
   "cell_type": "code",
   "execution_count": 375,
   "metadata": {},
   "outputs": [
    {
     "name": "stdout",
     "output_type": "stream",
     "text": [
      "[ 5.7  5.4  5.   7.4  6.1  5.6  5.5  4.2  4.   4.1  4.3  3.   3.8  4.4\n",
      "  4.5  4.6  5.8  3.3  4.7  6.2  5.2  3.6  3.9  6.6  6.4  5.3  5.9  4.8\n",
      "  5.1  6.3  6.8  7.3  6.7  3.2  7.2  4.9  6.5  6.   7.6  2.6  7.   3.7\n",
      "  7.1  8.1  7.7  9.   8.2  7.8  8.7  1.9  2.2  6.9  8.5  7.9  7.5  8.4\n",
      "  3.4  2.4  3.5  8.8  2.7  8.   2.3  1.8  3.1  2.5  2.9  8.3  1.6  2.8\n",
      "  8.9  8.6  9.1  9.3  1.7  9.5  2.   9.4  9.8  9.2  1.1  1.5  2.1  9.6\n",
      "  1.2 10.   9.7  1.3  1.   1.4  9.9]\n"
     ]
    }
   ],
   "source": [
    "print(df['averageRating'].unique())"
   ]
  },
  {
   "cell_type": "code",
   "execution_count": 376,
   "metadata": {},
   "outputs": [],
   "source": [
    "df['ratingClass'] = pd.cut(\n",
    "    df['averageRating'],\n",
    "    bins=[0, 4, 7, 10],\n",
    "    labels=['low', 'medium', 'high'],\n",
    "    include_lowest=True\n",
    ")"
   ]
  },
  {
   "cell_type": "code",
   "execution_count": 377,
   "metadata": {},
   "outputs": [],
   "source": [
    "rating_df = df[['ratingClass', 'averageRating']]"
   ]
  },
  {
   "cell_type": "code",
   "execution_count": 378,
   "metadata": {},
   "outputs": [
    {
     "data": {
      "text/html": [
       "<div>\n",
       "<style scoped>\n",
       "    .dataframe tbody tr th:only-of-type {\n",
       "        vertical-align: middle;\n",
       "    }\n",
       "\n",
       "    .dataframe tbody tr th {\n",
       "        vertical-align: top;\n",
       "    }\n",
       "\n",
       "    .dataframe thead th {\n",
       "        text-align: right;\n",
       "    }\n",
       "</style>\n",
       "<table border=\"1\" class=\"dataframe\">\n",
       "  <thead>\n",
       "    <tr style=\"text-align: right;\">\n",
       "      <th></th>\n",
       "      <th>ratingClass</th>\n",
       "      <th>averageRating</th>\n",
       "    </tr>\n",
       "  </thead>\n",
       "  <tbody>\n",
       "    <tr>\n",
       "      <th>0</th>\n",
       "      <td>medium</td>\n",
       "      <td>5.7</td>\n",
       "    </tr>\n",
       "    <tr>\n",
       "      <th>1</th>\n",
       "      <td>medium</td>\n",
       "      <td>5.4</td>\n",
       "    </tr>\n",
       "    <tr>\n",
       "      <th>2</th>\n",
       "      <td>medium</td>\n",
       "      <td>5.0</td>\n",
       "    </tr>\n",
       "    <tr>\n",
       "      <th>3</th>\n",
       "      <td>medium</td>\n",
       "      <td>5.4</td>\n",
       "    </tr>\n",
       "    <tr>\n",
       "      <th>4</th>\n",
       "      <td>high</td>\n",
       "      <td>7.4</td>\n",
       "    </tr>\n",
       "    <tr>\n",
       "      <th>5</th>\n",
       "      <td>medium</td>\n",
       "      <td>6.1</td>\n",
       "    </tr>\n",
       "    <tr>\n",
       "      <th>6</th>\n",
       "      <td>medium</td>\n",
       "      <td>5.6</td>\n",
       "    </tr>\n",
       "    <tr>\n",
       "      <th>7</th>\n",
       "      <td>medium</td>\n",
       "      <td>5.5</td>\n",
       "    </tr>\n",
       "    <tr>\n",
       "      <th>8</th>\n",
       "      <td>medium</td>\n",
       "      <td>5.5</td>\n",
       "    </tr>\n",
       "    <tr>\n",
       "      <th>9</th>\n",
       "      <td>medium</td>\n",
       "      <td>4.2</td>\n",
       "    </tr>\n",
       "    <tr>\n",
       "      <th>10</th>\n",
       "      <td>medium</td>\n",
       "      <td>4.2</td>\n",
       "    </tr>\n",
       "    <tr>\n",
       "      <th>11</th>\n",
       "      <td>low</td>\n",
       "      <td>4.0</td>\n",
       "    </tr>\n",
       "    <tr>\n",
       "      <th>12</th>\n",
       "      <td>medium</td>\n",
       "      <td>4.1</td>\n",
       "    </tr>\n",
       "    <tr>\n",
       "      <th>13</th>\n",
       "      <td>medium</td>\n",
       "      <td>4.3</td>\n",
       "    </tr>\n",
       "    <tr>\n",
       "      <th>14</th>\n",
       "      <td>medium</td>\n",
       "      <td>4.2</td>\n",
       "    </tr>\n",
       "    <tr>\n",
       "      <th>15</th>\n",
       "      <td>medium</td>\n",
       "      <td>6.1</td>\n",
       "    </tr>\n",
       "    <tr>\n",
       "      <th>16</th>\n",
       "      <td>low</td>\n",
       "      <td>3.0</td>\n",
       "    </tr>\n",
       "    <tr>\n",
       "      <th>17</th>\n",
       "      <td>low</td>\n",
       "      <td>3.8</td>\n",
       "    </tr>\n",
       "    <tr>\n",
       "      <th>18</th>\n",
       "      <td>medium</td>\n",
       "      <td>4.4</td>\n",
       "    </tr>\n",
       "    <tr>\n",
       "      <th>19</th>\n",
       "      <td>medium</td>\n",
       "      <td>4.5</td>\n",
       "    </tr>\n",
       "    <tr>\n",
       "      <th>20</th>\n",
       "      <td>medium</td>\n",
       "      <td>4.6</td>\n",
       "    </tr>\n",
       "    <tr>\n",
       "      <th>21</th>\n",
       "      <td>medium</td>\n",
       "      <td>4.6</td>\n",
       "    </tr>\n",
       "    <tr>\n",
       "      <th>22</th>\n",
       "      <td>medium</td>\n",
       "      <td>4.5</td>\n",
       "    </tr>\n",
       "    <tr>\n",
       "      <th>23</th>\n",
       "      <td>medium</td>\n",
       "      <td>4.6</td>\n",
       "    </tr>\n",
       "    <tr>\n",
       "      <th>24</th>\n",
       "      <td>medium</td>\n",
       "      <td>4.2</td>\n",
       "    </tr>\n",
       "    <tr>\n",
       "      <th>25</th>\n",
       "      <td>medium</td>\n",
       "      <td>5.8</td>\n",
       "    </tr>\n",
       "    <tr>\n",
       "      <th>26</th>\n",
       "      <td>low</td>\n",
       "      <td>3.3</td>\n",
       "    </tr>\n",
       "    <tr>\n",
       "      <th>27</th>\n",
       "      <td>medium</td>\n",
       "      <td>5.4</td>\n",
       "    </tr>\n",
       "    <tr>\n",
       "      <th>28</th>\n",
       "      <td>medium</td>\n",
       "      <td>4.7</td>\n",
       "    </tr>\n",
       "    <tr>\n",
       "      <th>29</th>\n",
       "      <td>medium</td>\n",
       "      <td>6.2</td>\n",
       "    </tr>\n",
       "    <tr>\n",
       "      <th>30</th>\n",
       "      <td>medium</td>\n",
       "      <td>5.2</td>\n",
       "    </tr>\n",
       "    <tr>\n",
       "      <th>31</th>\n",
       "      <td>medium</td>\n",
       "      <td>5.0</td>\n",
       "    </tr>\n",
       "    <tr>\n",
       "      <th>32</th>\n",
       "      <td>low</td>\n",
       "      <td>3.6</td>\n",
       "    </tr>\n",
       "    <tr>\n",
       "      <th>33</th>\n",
       "      <td>low</td>\n",
       "      <td>3.9</td>\n",
       "    </tr>\n",
       "    <tr>\n",
       "      <th>34</th>\n",
       "      <td>medium</td>\n",
       "      <td>4.7</td>\n",
       "    </tr>\n",
       "    <tr>\n",
       "      <th>35</th>\n",
       "      <td>medium</td>\n",
       "      <td>6.6</td>\n",
       "    </tr>\n",
       "    <tr>\n",
       "      <th>36</th>\n",
       "      <td>low</td>\n",
       "      <td>4.0</td>\n",
       "    </tr>\n",
       "    <tr>\n",
       "      <th>37</th>\n",
       "      <td>medium</td>\n",
       "      <td>5.6</td>\n",
       "    </tr>\n",
       "    <tr>\n",
       "      <th>38</th>\n",
       "      <td>medium</td>\n",
       "      <td>5.4</td>\n",
       "    </tr>\n",
       "    <tr>\n",
       "      <th>39</th>\n",
       "      <td>low</td>\n",
       "      <td>4.0</td>\n",
       "    </tr>\n",
       "  </tbody>\n",
       "</table>\n",
       "</div>"
      ],
      "text/plain": [
       "   ratingClass  averageRating\n",
       "0       medium            5.7\n",
       "1       medium            5.4\n",
       "2       medium            5.0\n",
       "3       medium            5.4\n",
       "4         high            7.4\n",
       "5       medium            6.1\n",
       "6       medium            5.6\n",
       "7       medium            5.5\n",
       "8       medium            5.5\n",
       "9       medium            4.2\n",
       "10      medium            4.2\n",
       "11         low            4.0\n",
       "12      medium            4.1\n",
       "13      medium            4.3\n",
       "14      medium            4.2\n",
       "15      medium            6.1\n",
       "16         low            3.0\n",
       "17         low            3.8\n",
       "18      medium            4.4\n",
       "19      medium            4.5\n",
       "20      medium            4.6\n",
       "21      medium            4.6\n",
       "22      medium            4.5\n",
       "23      medium            4.6\n",
       "24      medium            4.2\n",
       "25      medium            5.8\n",
       "26         low            3.3\n",
       "27      medium            5.4\n",
       "28      medium            4.7\n",
       "29      medium            6.2\n",
       "30      medium            5.2\n",
       "31      medium            5.0\n",
       "32         low            3.6\n",
       "33         low            3.9\n",
       "34      medium            4.7\n",
       "35      medium            6.6\n",
       "36         low            4.0\n",
       "37      medium            5.6\n",
       "38      medium            5.4\n",
       "39         low            4.0"
      ]
     },
     "execution_count": 378,
     "metadata": {},
     "output_type": "execute_result"
    }
   ],
   "source": [
    "rating_df.head(40)"
   ]
  },
  {
   "cell_type": "code",
   "execution_count": 379,
   "metadata": {},
   "outputs": [],
   "source": [
    "#I decide to drop the variable averageRating for the moment because it is redundant with the new variable ratingClass\n",
    "df.drop(columns=['averageRating'], inplace=True)"
   ]
  },
  {
   "cell_type": "code",
   "execution_count": 380,
   "metadata": {},
   "outputs": [
    {
     "data": {
      "text/plain": [
       "<Axes: title={'center': 'Distribution of Rating Classes'}, xlabel='Rating Class', ylabel='Count'>"
      ]
     },
     "execution_count": 380,
     "metadata": {},
     "output_type": "execute_result"
    },
    {
     "data": {
      "image/png": "[encoded data removed]",
      "text/plain": [
       "<Figure size 640x480 with 1 Axes>"
      ]
     },
     "metadata": {},
     "output_type": "display_data"
    }
   ],
   "source": [
    "df['ratingClass'].value_counts().plot(kind='bar', title='Distribution of Rating Classes', \n",
    "                                      xlabel='Rating Class', ylabel='Count', color='skyblue')"
   ]
  },
  {
   "cell_type": "markdown",
   "metadata": {},
   "source": [
    "# I start with performing a decision tree without taking into account the imbalancing"
   ]
  },
  {
   "cell_type": "code",
   "execution_count": 381,
   "metadata": {},
   "outputs": [
    {
     "data": {
      "text/html": [
       "<div>\n",
       "<style scoped>\n",
       "    .dataframe tbody tr th:only-of-type {\n",
       "        vertical-align: middle;\n",
       "    }\n",
       "\n",
       "    .dataframe tbody tr th {\n",
       "        vertical-align: top;\n",
       "    }\n",
       "\n",
       "    .dataframe thead th {\n",
       "        text-align: right;\n",
       "    }\n",
       "</style>\n",
       "<table border=\"1\" class=\"dataframe\">\n",
       "  <thead>\n",
       "    <tr style=\"text-align: right;\">\n",
       "      <th></th>\n",
       "      <th>originalTitle</th>\n",
       "      <th>rating</th>\n",
       "      <th>startYear</th>\n",
       "      <th>endYear</th>\n",
       "      <th>runtimeMinutes</th>\n",
       "      <th>awardWins</th>\n",
       "      <th>numVotes</th>\n",
       "      <th>worstRating</th>\n",
       "      <th>bestRating</th>\n",
       "      <th>totalImages</th>\n",
       "      <th>...</th>\n",
       "      <th>countryOfOrigin_freq_enc</th>\n",
       "      <th>countryOfOrigin_NA</th>\n",
       "      <th>countryOfOrigin_AF</th>\n",
       "      <th>countryOfOrigin_AS</th>\n",
       "      <th>countryOfOrigin_EU</th>\n",
       "      <th>countryOfOrigin_OC</th>\n",
       "      <th>countryOfOrigin_SA</th>\n",
       "      <th>countryOfOrigin_UNK</th>\n",
       "      <th>reviewsTotal</th>\n",
       "      <th>ratingClass</th>\n",
       "    </tr>\n",
       "  </thead>\n",
       "  <tbody>\n",
       "    <tr>\n",
       "      <th>0</th>\n",
       "      <td>Carmencita</td>\n",
       "      <td>(5, 6]</td>\n",
       "      <td>1894</td>\n",
       "      <td>1894.0</td>\n",
       "      <td>1.0</td>\n",
       "      <td>0</td>\n",
       "      <td>2089</td>\n",
       "      <td>1</td>\n",
       "      <td>10</td>\n",
       "      <td>2</td>\n",
       "      <td>...</td>\n",
       "      <td>0.399732</td>\n",
       "      <td>1</td>\n",
       "      <td>0</td>\n",
       "      <td>0</td>\n",
       "      <td>0</td>\n",
       "      <td>0</td>\n",
       "      <td>0</td>\n",
       "      <td>0</td>\n",
       "      <td>19</td>\n",
       "      <td>medium</td>\n",
       "    </tr>\n",
       "    <tr>\n",
       "      <th>1</th>\n",
       "      <td>Un bon bock</td>\n",
       "      <td>(5, 6]</td>\n",
       "      <td>1892</td>\n",
       "      <td>1892.0</td>\n",
       "      <td>12.0</td>\n",
       "      <td>0</td>\n",
       "      <td>183</td>\n",
       "      <td>1</td>\n",
       "      <td>10</td>\n",
       "      <td>2</td>\n",
       "      <td>...</td>\n",
       "      <td>0.046115</td>\n",
       "      <td>0</td>\n",
       "      <td>0</td>\n",
       "      <td>0</td>\n",
       "      <td>1</td>\n",
       "      <td>0</td>\n",
       "      <td>0</td>\n",
       "      <td>0</td>\n",
       "      <td>1</td>\n",
       "      <td>medium</td>\n",
       "    </tr>\n",
       "    <tr>\n",
       "      <th>2</th>\n",
       "      <td>Chinese Opium Den</td>\n",
       "      <td>(4, 5]</td>\n",
       "      <td>1894</td>\n",
       "      <td>1894.0</td>\n",
       "      <td>1.0</td>\n",
       "      <td>0</td>\n",
       "      <td>195</td>\n",
       "      <td>1</td>\n",
       "      <td>10</td>\n",
       "      <td>1</td>\n",
       "      <td>...</td>\n",
       "      <td>0.399732</td>\n",
       "      <td>1</td>\n",
       "      <td>0</td>\n",
       "      <td>0</td>\n",
       "      <td>0</td>\n",
       "      <td>0</td>\n",
       "      <td>0</td>\n",
       "      <td>0</td>\n",
       "      <td>0</td>\n",
       "      <td>medium</td>\n",
       "    </tr>\n",
       "    <tr>\n",
       "      <th>3</th>\n",
       "      <td>Edison Kinetoscopic Record of a Sneeze</td>\n",
       "      <td>(5, 6]</td>\n",
       "      <td>1894</td>\n",
       "      <td>1894.0</td>\n",
       "      <td>1.0</td>\n",
       "      <td>1</td>\n",
       "      <td>2237</td>\n",
       "      <td>1</td>\n",
       "      <td>10</td>\n",
       "      <td>3</td>\n",
       "      <td>...</td>\n",
       "      <td>0.399732</td>\n",
       "      <td>1</td>\n",
       "      <td>0</td>\n",
       "      <td>0</td>\n",
       "      <td>0</td>\n",
       "      <td>0</td>\n",
       "      <td>0</td>\n",
       "      <td>0</td>\n",
       "      <td>22</td>\n",
       "      <td>medium</td>\n",
       "    </tr>\n",
       "    <tr>\n",
       "      <th>4</th>\n",
       "      <td>L'arrivée d'un train à La Ciotat</td>\n",
       "      <td>(7, 8]</td>\n",
       "      <td>1896</td>\n",
       "      <td>1896.0</td>\n",
       "      <td>1.0</td>\n",
       "      <td>0</td>\n",
       "      <td>13115</td>\n",
       "      <td>1</td>\n",
       "      <td>10</td>\n",
       "      <td>12</td>\n",
       "      <td>...</td>\n",
       "      <td>0.046115</td>\n",
       "      <td>0</td>\n",
       "      <td>0</td>\n",
       "      <td>0</td>\n",
       "      <td>1</td>\n",
       "      <td>0</td>\n",
       "      <td>0</td>\n",
       "      <td>0</td>\n",
       "      <td>82</td>\n",
       "      <td>high</td>\n",
       "    </tr>\n",
       "  </tbody>\n",
       "</table>\n",
       "<p>5 rows × 52 columns</p>\n",
       "</div>"
      ],
      "text/plain": [
       "                            originalTitle  rating  startYear  endYear  \\\n",
       "0                              Carmencita  (5, 6]       1894   1894.0   \n",
       "1                             Un bon bock  (5, 6]       1892   1892.0   \n",
       "2                       Chinese Opium Den  (4, 5]       1894   1894.0   \n",
       "3  Edison Kinetoscopic Record of a Sneeze  (5, 6]       1894   1894.0   \n",
       "4        L'arrivée d'un train à La Ciotat  (7, 8]       1896   1896.0   \n",
       "\n",
       "   runtimeMinutes  awardWins  numVotes  worstRating  bestRating  totalImages  \\\n",
       "0             1.0          0      2089            1          10            2   \n",
       "1            12.0          0       183            1          10            2   \n",
       "2             1.0          0       195            1          10            1   \n",
       "3             1.0          1      2237            1          10            3   \n",
       "4             1.0          0     13115            1          10           12   \n",
       "\n",
       "   ...  countryOfOrigin_freq_enc  countryOfOrigin_NA  countryOfOrigin_AF  \\\n",
       "0  ...                  0.399732                   1                   0   \n",
       "1  ...                  0.046115                   0                   0   \n",
       "2  ...                  0.399732                   1                   0   \n",
       "3  ...                  0.399732                   1                   0   \n",
       "4  ...                  0.046115                   0                   0   \n",
       "\n",
       "  countryOfOrigin_AS  countryOfOrigin_EU  countryOfOrigin_OC  \\\n",
       "0                  0                   0                   0   \n",
       "1                  0                   1                   0   \n",
       "2                  0                   0                   0   \n",
       "3                  0                   0                   0   \n",
       "4                  0                   1                   0   \n",
       "\n",
       "   countryOfOrigin_SA  countryOfOrigin_UNK  reviewsTotal  ratingClass  \n",
       "0                   0                    0            19       medium  \n",
       "1                   0                    0             1       medium  \n",
       "2                   0                    0             0       medium  \n",
       "3                   0                    0            22       medium  \n",
       "4                   0                    0            82         high  \n",
       "\n",
       "[5 rows x 52 columns]"
      ]
     },
     "execution_count": 381,
     "metadata": {},
     "output_type": "execute_result"
    }
   ],
   "source": [
    "df.head()"
   ]
  },
  {
   "cell_type": "code",
   "execution_count": 382,
   "metadata": {},
   "outputs": [
    {
     "data": {
      "text/plain": [
       "Index(['originalTitle', 'rating', 'startYear', 'endYear', 'runtimeMinutes',\n",
       "       'awardWins', 'numVotes', 'worstRating', 'bestRating', 'totalImages',\n",
       "       'totalVideos', 'totalCredits', 'criticReviewsTotal', 'titleType',\n",
       "       'awardNominationsExcludeWins', 'canHaveEpisodes', 'isRatable',\n",
       "       'isAdult', 'numRegions', 'userReviewsTotal', 'ratingCount',\n",
       "       'countryOfOrigin', 'genres', 'castNumber', 'companiesNumber', 'regions',\n",
       "       'externalLinks', 'writerCredits', 'directorsCredits', 'soundMixes',\n",
       "       'quotesTotal', 'totalMedia', 'totalNominations', 'deltaCredits',\n",
       "       'regions_freq_enc', 'regions_EU', 'regions_NA', 'regions_AS',\n",
       "       'regions_AF', 'regions_OC', 'regions_SA', 'regions_UNK',\n",
       "       'countryOfOrigin_freq_enc', 'countryOfOrigin_NA', 'countryOfOrigin_AF',\n",
       "       'countryOfOrigin_AS', 'countryOfOrigin_EU', 'countryOfOrigin_OC',\n",
       "       'countryOfOrigin_SA', 'countryOfOrigin_UNK', 'reviewsTotal',\n",
       "       'ratingClass'],\n",
       "      dtype='object')"
      ]
     },
     "execution_count": 382,
     "metadata": {},
     "output_type": "execute_result"
    }
   ],
   "source": [
    "df.columns"
   ]
  },
  {
   "cell_type": "code",
   "execution_count": 383,
   "metadata": {},
   "outputs": [],
   "source": [
    "df['totalMedia'] = df['totalImages'] + df['totalVideos'] + df['externalLinks'] + df['quotesTotal']\n",
    "df.drop(['totalVideos', 'totalImages', 'quotesTotal', 'externalLinks'], axis=1, inplace=True)\n",
    "df.drop(['endYear', 'isAdult', 'bestRating', 'worstRating', 'numVotes', 'originalTitle', 'isRatable', 'rating',\n",
    "         'countryOfOrigin', 'genres', 'soundMixes', 'regions'], axis=1, inplace=True)\n",
    "df['totalNominations'] = df['awardWins'] + df['awardNominationsExcludeWins']\n",
    "df.drop(['awardWins', 'awardNominationsExcludeWins'], axis=1, inplace=True)\n",
    "df['reviewsTotal'] = df['criticReviewsTotal'] + df['userReviewsTotal']\n",
    "df.drop(['criticReviewsTotal', 'userReviewsTotal'], axis=1, inplace=True)\n",
    "# df['deltaCredits'] = df['totalCredits'] - (df['castNumber'] + df['writerCredits'] + df['directorsCredits'])\n",
    "# df.drop(['totalCredits', 'castNumber', 'writerCredits', 'directorsCredits'], axis=1, inplace=True)\n",
    "# attenzione a deltaCredits perchè crea 81 inf \n"
   ]
  },
  {
   "cell_type": "code",
   "execution_count": 384,
   "metadata": {},
   "outputs": [
    {
     "data": {
      "text/html": [
       "<div>\n",
       "<style scoped>\n",
       "    .dataframe tbody tr th:only-of-type {\n",
       "        vertical-align: middle;\n",
       "    }\n",
       "\n",
       "    .dataframe tbody tr th {\n",
       "        vertical-align: top;\n",
       "    }\n",
       "\n",
       "    .dataframe thead th {\n",
       "        text-align: right;\n",
       "    }\n",
       "</style>\n",
       "<table border=\"1\" class=\"dataframe\">\n",
       "  <thead>\n",
       "    <tr style=\"text-align: right;\">\n",
       "      <th></th>\n",
       "      <th>reviewsTotal</th>\n",
       "      <th>numRegions</th>\n",
       "      <th>ratingCount</th>\n",
       "      <th>companiesNumber</th>\n",
       "      <th>totalCredits</th>\n",
       "      <th>castNumber</th>\n",
       "      <th>writerCredits</th>\n",
       "      <th>directorsCredits</th>\n",
       "      <th>totalMedia</th>\n",
       "      <th>totalNominations</th>\n",
       "    </tr>\n",
       "  </thead>\n",
       "  <tbody>\n",
       "    <tr>\n",
       "      <th>0</th>\n",
       "      <td>2.995732</td>\n",
       "      <td>2.079442</td>\n",
       "      <td>7.646354</td>\n",
       "      <td>1.386294</td>\n",
       "      <td>1.609438</td>\n",
       "      <td>0.693147</td>\n",
       "      <td>0.0</td>\n",
       "      <td>0.693147</td>\n",
       "      <td>2.484907</td>\n",
       "      <td>0.000000</td>\n",
       "    </tr>\n",
       "    <tr>\n",
       "      <th>1</th>\n",
       "      <td>0.693147</td>\n",
       "      <td>1.945910</td>\n",
       "      <td>5.214936</td>\n",
       "      <td>0.000000</td>\n",
       "      <td>1.098612</td>\n",
       "      <td>0.000000</td>\n",
       "      <td>0.0</td>\n",
       "      <td>0.693147</td>\n",
       "      <td>1.791759</td>\n",
       "      <td>0.000000</td>\n",
       "    </tr>\n",
       "    <tr>\n",
       "      <th>2</th>\n",
       "      <td>0.000000</td>\n",
       "      <td>1.791759</td>\n",
       "      <td>5.278115</td>\n",
       "      <td>0.693147</td>\n",
       "      <td>0.693147</td>\n",
       "      <td>0.000000</td>\n",
       "      <td>0.0</td>\n",
       "      <td>0.693147</td>\n",
       "      <td>1.791759</td>\n",
       "      <td>0.000000</td>\n",
       "    </tr>\n",
       "    <tr>\n",
       "      <th>3</th>\n",
       "      <td>3.135494</td>\n",
       "      <td>1.945910</td>\n",
       "      <td>7.713785</td>\n",
       "      <td>1.945910</td>\n",
       "      <td>1.609438</td>\n",
       "      <td>0.693147</td>\n",
       "      <td>0.0</td>\n",
       "      <td>0.693147</td>\n",
       "      <td>2.302585</td>\n",
       "      <td>0.693147</td>\n",
       "    </tr>\n",
       "    <tr>\n",
       "      <th>4</th>\n",
       "      <td>4.418841</td>\n",
       "      <td>3.091042</td>\n",
       "      <td>9.481588</td>\n",
       "      <td>1.791759</td>\n",
       "      <td>2.484907</td>\n",
       "      <td>1.945910</td>\n",
       "      <td>0.0</td>\n",
       "      <td>1.098612</td>\n",
       "      <td>3.526361</td>\n",
       "      <td>0.000000</td>\n",
       "    </tr>\n",
       "  </tbody>\n",
       "</table>\n",
       "</div>"
      ],
      "text/plain": [
       "   reviewsTotal  numRegions  ratingCount  companiesNumber  totalCredits  \\\n",
       "0      2.995732    2.079442     7.646354         1.386294      1.609438   \n",
       "1      0.693147    1.945910     5.214936         0.000000      1.098612   \n",
       "2      0.000000    1.791759     5.278115         0.693147      0.693147   \n",
       "3      3.135494    1.945910     7.713785         1.945910      1.609438   \n",
       "4      4.418841    3.091042     9.481588         1.791759      2.484907   \n",
       "\n",
       "   castNumber  writerCredits  directorsCredits  totalMedia  totalNominations  \n",
       "0    0.693147            0.0          0.693147    2.484907          0.000000  \n",
       "1    0.000000            0.0          0.693147    1.791759          0.000000  \n",
       "2    0.000000            0.0          0.693147    1.791759          0.000000  \n",
       "3    0.693147            0.0          0.693147    2.302585          0.693147  \n",
       "4    1.945910            0.0          1.098612    3.526361          0.000000  "
      ]
     },
     "execution_count": 384,
     "metadata": {},
     "output_type": "execute_result"
    }
   ],
   "source": [
    "import numpy as np\n",
    "\n",
    "# List of columns to transform\n",
    "columns_to_log_transform = [\n",
    "    'reviewsTotal', 'numRegions', 'ratingCount', \n",
    "    'companiesNumber', 'totalCredits', 'castNumber', \n",
    "    'writerCredits', 'directorsCredits',\n",
    "    'totalMedia', 'totalNominations'\n",
    "]\n",
    "\n",
    "# Apply log transformation\n",
    "for col in columns_to_log_transform:\n",
    "    if col in df.columns:  # Ensure the column exists in the DataFrame\n",
    "        df[col] = np.log1p(df[col])  # log1p(x) = log(1 + x)\n",
    "\n",
    "# Verify the transformation\n",
    "df[columns_to_log_transform].head()"
   ]
  },
  {
   "cell_type": "code",
   "execution_count": 385,
   "metadata": {},
   "outputs": [
    {
     "data": {
      "text/html": [
       "<div>\n",
       "<style scoped>\n",
       "    .dataframe tbody tr th:only-of-type {\n",
       "        vertical-align: middle;\n",
       "    }\n",
       "\n",
       "    .dataframe tbody tr th {\n",
       "        vertical-align: top;\n",
       "    }\n",
       "\n",
       "    .dataframe thead th {\n",
       "        text-align: right;\n",
       "    }\n",
       "</style>\n",
       "<table border=\"1\" class=\"dataframe\">\n",
       "  <thead>\n",
       "    <tr style=\"text-align: right;\">\n",
       "      <th></th>\n",
       "      <th>startYear</th>\n",
       "      <th>runtimeMinutes</th>\n",
       "      <th>totalCredits</th>\n",
       "      <th>titleType</th>\n",
       "      <th>canHaveEpisodes</th>\n",
       "      <th>numRegions</th>\n",
       "      <th>ratingCount</th>\n",
       "      <th>castNumber</th>\n",
       "      <th>companiesNumber</th>\n",
       "      <th>writerCredits</th>\n",
       "      <th>...</th>\n",
       "      <th>titleType_movie</th>\n",
       "      <th>titleType_short</th>\n",
       "      <th>titleType_tvEpisode</th>\n",
       "      <th>titleType_tvMiniSeries</th>\n",
       "      <th>titleType_tvMovie</th>\n",
       "      <th>titleType_tvSeries</th>\n",
       "      <th>titleType_tvShort</th>\n",
       "      <th>titleType_tvSpecial</th>\n",
       "      <th>titleType_video</th>\n",
       "      <th>titleType_videoGame</th>\n",
       "    </tr>\n",
       "  </thead>\n",
       "  <tbody>\n",
       "    <tr>\n",
       "      <th>0</th>\n",
       "      <td>1894</td>\n",
       "      <td>1.0</td>\n",
       "      <td>1.609438</td>\n",
       "      <td>short</td>\n",
       "      <td>False</td>\n",
       "      <td>2.079442</td>\n",
       "      <td>7.646354</td>\n",
       "      <td>0.693147</td>\n",
       "      <td>1.386294</td>\n",
       "      <td>0.0</td>\n",
       "      <td>...</td>\n",
       "      <td>False</td>\n",
       "      <td>True</td>\n",
       "      <td>False</td>\n",
       "      <td>False</td>\n",
       "      <td>False</td>\n",
       "      <td>False</td>\n",
       "      <td>False</td>\n",
       "      <td>False</td>\n",
       "      <td>False</td>\n",
       "      <td>False</td>\n",
       "    </tr>\n",
       "    <tr>\n",
       "      <th>1</th>\n",
       "      <td>1892</td>\n",
       "      <td>12.0</td>\n",
       "      <td>1.098612</td>\n",
       "      <td>short</td>\n",
       "      <td>False</td>\n",
       "      <td>1.945910</td>\n",
       "      <td>5.214936</td>\n",
       "      <td>0.000000</td>\n",
       "      <td>0.000000</td>\n",
       "      <td>0.0</td>\n",
       "      <td>...</td>\n",
       "      <td>False</td>\n",
       "      <td>True</td>\n",
       "      <td>False</td>\n",
       "      <td>False</td>\n",
       "      <td>False</td>\n",
       "      <td>False</td>\n",
       "      <td>False</td>\n",
       "      <td>False</td>\n",
       "      <td>False</td>\n",
       "      <td>False</td>\n",
       "    </tr>\n",
       "    <tr>\n",
       "      <th>2</th>\n",
       "      <td>1894</td>\n",
       "      <td>1.0</td>\n",
       "      <td>0.693147</td>\n",
       "      <td>short</td>\n",
       "      <td>False</td>\n",
       "      <td>1.791759</td>\n",
       "      <td>5.278115</td>\n",
       "      <td>0.000000</td>\n",
       "      <td>0.693147</td>\n",
       "      <td>0.0</td>\n",
       "      <td>...</td>\n",
       "      <td>False</td>\n",
       "      <td>True</td>\n",
       "      <td>False</td>\n",
       "      <td>False</td>\n",
       "      <td>False</td>\n",
       "      <td>False</td>\n",
       "      <td>False</td>\n",
       "      <td>False</td>\n",
       "      <td>False</td>\n",
       "      <td>False</td>\n",
       "    </tr>\n",
       "    <tr>\n",
       "      <th>3</th>\n",
       "      <td>1894</td>\n",
       "      <td>1.0</td>\n",
       "      <td>1.609438</td>\n",
       "      <td>short</td>\n",
       "      <td>False</td>\n",
       "      <td>1.945910</td>\n",
       "      <td>7.713785</td>\n",
       "      <td>0.693147</td>\n",
       "      <td>1.945910</td>\n",
       "      <td>0.0</td>\n",
       "      <td>...</td>\n",
       "      <td>False</td>\n",
       "      <td>True</td>\n",
       "      <td>False</td>\n",
       "      <td>False</td>\n",
       "      <td>False</td>\n",
       "      <td>False</td>\n",
       "      <td>False</td>\n",
       "      <td>False</td>\n",
       "      <td>False</td>\n",
       "      <td>False</td>\n",
       "    </tr>\n",
       "    <tr>\n",
       "      <th>4</th>\n",
       "      <td>1896</td>\n",
       "      <td>1.0</td>\n",
       "      <td>2.484907</td>\n",
       "      <td>short</td>\n",
       "      <td>False</td>\n",
       "      <td>3.091042</td>\n",
       "      <td>9.481588</td>\n",
       "      <td>1.945910</td>\n",
       "      <td>1.791759</td>\n",
       "      <td>0.0</td>\n",
       "      <td>...</td>\n",
       "      <td>False</td>\n",
       "      <td>True</td>\n",
       "      <td>False</td>\n",
       "      <td>False</td>\n",
       "      <td>False</td>\n",
       "      <td>False</td>\n",
       "      <td>False</td>\n",
       "      <td>False</td>\n",
       "      <td>False</td>\n",
       "      <td>False</td>\n",
       "    </tr>\n",
       "  </tbody>\n",
       "</table>\n",
       "<p>5 rows × 42 columns</p>\n",
       "</div>"
      ],
      "text/plain": [
       "   startYear  runtimeMinutes  totalCredits titleType  canHaveEpisodes  \\\n",
       "0       1894             1.0      1.609438     short            False   \n",
       "1       1892            12.0      1.098612     short            False   \n",
       "2       1894             1.0      0.693147     short            False   \n",
       "3       1894             1.0      1.609438     short            False   \n",
       "4       1896             1.0      2.484907     short            False   \n",
       "\n",
       "   numRegions  ratingCount  castNumber  companiesNumber  writerCredits  ...  \\\n",
       "0    2.079442     7.646354    0.693147         1.386294            0.0  ...   \n",
       "1    1.945910     5.214936    0.000000         0.000000            0.0  ...   \n",
       "2    1.791759     5.278115    0.000000         0.693147            0.0  ...   \n",
       "3    1.945910     7.713785    0.693147         1.945910            0.0  ...   \n",
       "4    3.091042     9.481588    1.945910         1.791759            0.0  ...   \n",
       "\n",
       "   titleType_movie  titleType_short  titleType_tvEpisode  \\\n",
       "0            False             True                False   \n",
       "1            False             True                False   \n",
       "2            False             True                False   \n",
       "3            False             True                False   \n",
       "4            False             True                False   \n",
       "\n",
       "   titleType_tvMiniSeries  titleType_tvMovie  titleType_tvSeries  \\\n",
       "0                   False              False               False   \n",
       "1                   False              False               False   \n",
       "2                   False              False               False   \n",
       "3                   False              False               False   \n",
       "4                   False              False               False   \n",
       "\n",
       "   titleType_tvShort  titleType_tvSpecial  titleType_video  \\\n",
       "0              False                False            False   \n",
       "1              False                False            False   \n",
       "2              False                False            False   \n",
       "3              False                False            False   \n",
       "4              False                False            False   \n",
       "\n",
       "   titleType_videoGame  \n",
       "0                False  \n",
       "1                False  \n",
       "2                False  \n",
       "3                False  \n",
       "4                False  \n",
       "\n",
       "[5 rows x 42 columns]"
      ]
     },
     "execution_count": 385,
     "metadata": {},
     "output_type": "execute_result"
    }
   ],
   "source": [
    "# Perform one-hot encoding for the 'titleType' variable\n",
    "title_type_encoded = pd.get_dummies(df['titleType'], prefix='titleType')\n",
    "\n",
    "# Concatenate the encoded columns with the original DataFrame\n",
    "df = pd.concat([df, title_type_encoded], axis=1)\n",
    "\n",
    "# Drop the original 'titleType' column\n",
    "# df.drop(columns=['titleType'], inplace=True) no perchè la uso per runtimeMinutes\n",
    "\n",
    "# Display the updated DataFrame\n",
    "df.head()"
   ]
  },
  {
   "cell_type": "code",
   "execution_count": null,
   "metadata": {},
   "outputs": [
    {
     "data": {
      "text/plain": [
       "Index(['startYear', 'runtimeMinutes', 'totalCredits', 'titleType',\n",
       "       'canHaveEpisodes', 'numRegions', 'ratingCount', 'castNumber',\n",
       "       'companiesNumber', 'writerCredits', 'directorsCredits', 'totalMedia',\n",
       "       'totalNominations', 'deltaCredits', 'regions_freq_enc', 'regions_EU',\n",
       "       'regions_NA', 'regions_AS', 'regions_AF', 'regions_OC', 'regions_SA',\n",
       "       'regions_UNK', 'countryOfOrigin_freq_enc', 'countryOfOrigin_NA',\n",
       "       'countryOfOrigin_AF', 'countryOfOrigin_AS', 'countryOfOrigin_EU',\n",
       "       'countryOfOrigin_OC', 'countryOfOrigin_SA', 'countryOfOrigin_UNK',\n",
       "       'reviewsTotal', 'ratingClass', 'titleType_movie', 'titleType_short',\n",
       "       'titleType_tvEpisode', 'titleType_tvMiniSeries', 'titleType_tvMovie',\n",
       "       'titleType_tvSeries', 'titleType_tvShort', 'titleType_tvSpecial',\n",
       "       'titleType_video', 'titleType_videoGame'],\n",
       "      dtype='object')"
      ]
     },
     "execution_count": 386,
     "metadata": {},
     "output_type": "execute_result"
    }
   ],
   "source": [
    "df.columns "
   ]
  },
  {
   "cell_type": "markdown",
   "metadata": {},
   "source": [
    "questione runtimeMinutes e altri missing?"
   ]
  },
  {
   "cell_type": "code",
   "execution_count": 387,
   "metadata": {},
   "outputs": [],
   "source": [
    "from sklearn.model_selection import train_test_split\n",
    "#from sklearn.preprocessing import StandardScaler\n",
    "\n",
    "# Define features (X) and target (y)\n",
    "X = df.drop(columns=['ratingClass'])  # Drop the target variable\n",
    "y = df['ratingClass']\n",
    "\n",
    "# Split the data into training and testing sets\n",
    "X_train, X_test, y_train, y_test = train_test_split(X, y, test_size=0.2, random_state=42)"
   ]
  },
  {
   "cell_type": "code",
   "execution_count": 388,
   "metadata": {},
   "outputs": [
    {
     "data": {
      "text/plain": [
       "0"
      ]
     },
     "execution_count": 388,
     "metadata": {},
     "output_type": "execute_result"
    }
   ],
   "source": [
    "import numpy as np\n",
    "\n",
    "# Function to impute missing values\n",
    "def impute_runtime_minutes(group):\n",
    "    q25, q75 = np.percentile(group.dropna(), [25, 75])  # Calculate 25th and 75th percentiles\n",
    "    return group.apply(lambda x: np.random.uniform(q25, q75) if np.isnan(x) else x)\n",
    "\n",
    "# Apply the imputation per titleType\n",
    "if 'runtimeMinutes' in X_train.columns and 'titleType' in X_train.columns:\n",
    "    X_train['runtimeMinutes'] = X_train.groupby('titleType')['runtimeMinutes'].transform(impute_runtime_minutes)\n",
    "\n",
    "# Verify the imputation\n",
    "X_train['runtimeMinutes'].isnull().sum()  # Should be 0 if all missing values are imputed"
   ]
  },
  {
   "cell_type": "code",
   "execution_count": 389,
   "metadata": {},
   "outputs": [],
   "source": [
    "# Funzione modificata per essere compatibile con transform()\n",
    "def impute_runtime_minutes_test(group, q25, q75):\n",
    "    return group.apply(lambda x: np.random.uniform(q25, q75) if np.isnan(x) else x)\n",
    "\n",
    "# Calcola i percentili nel training set\n",
    "train_percentiles = X_train.groupby('titleType')['runtimeMinutes'].apply(\n",
    "    lambda g: np.percentile(g.dropna(), [25, 75])\n",
    ").to_dict()\n",
    "\n",
    "# Imputazione nel test set con transform()\n",
    "def impute_group(group):\n",
    "    title_type = group.name\n",
    "    if title_type in train_percentiles:\n",
    "        q25, q75 = train_percentiles[title_type]\n",
    "        return group.transform(lambda x: np.random.uniform(q25, q75) if np.isnan(x) else x)\n",
    "    else:\n",
    "        return group  # Nessuna imputazione se il tipo non esiste nel training\n",
    "\n",
    "X_test['runtimeMinutes'] = X_test.groupby('titleType')['runtimeMinutes'].transform(impute_group)\n"
   ]
  },
  {
   "cell_type": "code",
   "execution_count": 390,
   "metadata": {},
   "outputs": [],
   "source": [
    "# Drop the 'titleType' column from X_train and X_test\n",
    "X_train.drop(columns=['titleType'], inplace=True)\n",
    "X_test.drop(columns=['titleType'], inplace=True)"
   ]
  },
  {
   "cell_type": "code",
   "execution_count": 391,
   "metadata": {},
   "outputs": [
    {
     "name": "stdout",
     "output_type": "stream",
     "text": [
      "Accuracy: 0.625973852275387\n",
      "\n",
      "Classification Report:\n",
      "               precision    recall  f1-score   support\n",
      "\n",
      "        high       0.67      0.67      0.67     15188\n",
      "         low       0.18      0.19      0.18      1035\n",
      "      medium       0.61      0.62      0.61     13684\n",
      "\n",
      "    accuracy                           0.63     29907\n",
      "   macro avg       0.49      0.49      0.49     29907\n",
      "weighted avg       0.63      0.63      0.63     29907\n",
      "\n"
     ]
    }
   ],
   "source": [
    "from sklearn.tree import DecisionTreeClassifier\n",
    "from sklearn.metrics import classification_report, accuracy_score\n",
    "\n",
    "# Initialize and train the decision tree classifier\n",
    "clf = DecisionTreeClassifier(random_state=42)\n",
    "clf.fit(X_train, y_train)\n",
    "\n",
    "# Make predictions\n",
    "y_pred = clf.predict(X_test)\n",
    "\n",
    "# Evaluate the model\n",
    "print(\"Accuracy:\", accuracy_score(y_test, y_pred))\n",
    "print(\"\\nClassification Report:\\n\", classification_report(y_test, y_pred))"
   ]
  },
  {
   "cell_type": "code",
   "execution_count": 392,
   "metadata": {},
   "outputs": [
    {
     "data": {
      "text/plain": [
       "<sklearn.metrics._plot.confusion_matrix.ConfusionMatrixDisplay at 0x1eadc50d0>"
      ]
     },
     "execution_count": 392,
     "metadata": {},
     "output_type": "execute_result"
    },
    {
     "data": {
      "image/png": "[encoded data removed]",
      "text/plain": [
       "<Figure size 640x480 with 2 Axes>"
      ]
     },
     "metadata": {},
     "output_type": "display_data"
    }
   ],
   "source": [
    "from sklearn.metrics import ConfusionMatrixDisplay, confusion_matrix\n",
    "\n",
    "# Compute the confusion matrix\n",
    "cm = confusion_matrix(y_test, y_pred, labels=['low', 'medium', 'high'])\n",
    "\n",
    "# Plot the confusion matrix\n",
    "disp = ConfusionMatrixDisplay(confusion_matrix=cm, display_labels=['low', 'medium', 'high'])\n",
    "disp.plot(cmap='Blues')"
   ]
  },
  {
   "cell_type": "code",
   "execution_count": 393,
   "metadata": {},
   "outputs": [
    {
     "name": "stdout",
     "output_type": "stream",
     "text": [
      "Accuracy: 0.6270103989032668\n",
      "Classification Report:\n",
      "               precision    recall  f1-score   support\n",
      "\n",
      "        high       0.68      0.67      0.67     15188\n",
      "         low       0.16      0.23      0.19      1035\n",
      "      medium       0.62      0.61      0.61     13684\n",
      "\n",
      "    accuracy                           0.63     29907\n",
      "   macro avg       0.49      0.50      0.49     29907\n",
      "weighted avg       0.63      0.63      0.63     29907\n",
      "\n"
     ]
    }
   ],
   "source": [
    "from sklearn.model_selection import train_test_split\n",
    "from sklearn.tree import DecisionTreeClassifier\n",
    "from sklearn.metrics import classification_report, accuracy_score\n",
    "from imblearn.over_sampling import SMOTE\n",
    "\n",
    "\n",
    "# Apply SMOTE to the training data\n",
    "smote = SMOTE(random_state=42)\n",
    "X_train_resampled, y_train_resampled = smote.fit_resample(X_train, y_train)\n",
    "\n",
    "# Initialize and train the Decision Tree Classifier\n",
    "clf = DecisionTreeClassifier(random_state=42)\n",
    "clf.fit(X_train_resampled, y_train_resampled)\n",
    "\n",
    "# Make predictions\n",
    "y_pred = clf.predict(X_test)\n",
    "\n",
    "# Evaluate the model\n",
    "print(\"Accuracy:\", accuracy_score(y_test, y_pred))\n",
    "print(\"Classification Report:\\n\", classification_report(y_test, y_pred))"
   ]
  },
  {
   "cell_type": "markdown",
   "metadata": {},
   "source": [
    "```ADASYN```:\n",
    "\n",
    "ADASYN generates synthetic samples for the minority class, similar to SMOTE, but focuses more on difficult-to-learn examples (i.e., samples near the decision boundary).\n",
    "This can sometimes improve the model's performance on imbalanced datasets."
   ]
  },
  {
   "cell_type": "code",
   "execution_count": 394,
   "metadata": {},
   "outputs": [
    {
     "name": "stdout",
     "output_type": "stream",
     "text": [
      "Class distribution before ADASYN:\n",
      "ratingClass\n",
      "high      59714\n",
      "medium    55758\n",
      "low        4152\n",
      "Name: count, dtype: int64\n",
      "Class distribution after ADASYN:\n",
      "ratingClass\n",
      "high      59714\n",
      "low       58971\n",
      "medium    55758\n",
      "Name: count, dtype: int64\n"
     ]
    }
   ],
   "source": [
    "# Ensure required libraries are installed\n",
    "#%pip install scikit-learn imbalanced-learn\n",
    "\n",
    "from sklearn.model_selection import train_test_split\n",
    "from sklearn.tree import DecisionTreeClassifier\n",
    "from sklearn.metrics import classification_report, accuracy_score\n",
    "from imblearn.over_sampling import ADASYN\n",
    "\n",
    "# Check class distribution before applying ADASYN\n",
    "print(\"Class distribution before ADASYN:\")\n",
    "print(y_train.value_counts())\n",
    "\n",
    "# Apply ADASYN to the training data\n",
    "adasyn = ADASYN(random_state=42, sampling_strategy='minority')  # Adjust sampling_strategy if needed\n",
    "try:\n",
    "\tX_train_resampled, y_train_resampled = adasyn.fit_resample(X_train, y_train)\n",
    "\tprint(\"Class distribution after ADASYN:\")\n",
    "\tprint(pd.Series(y_train_resampled).value_counts())\n",
    "except ValueError as e:\n",
    "\tprint(f\"Error with ADASYN: {e}\")\n",
    "\t# Handle the error, e.g., by skipping oversampling or using another method\n",
    "\n"
   ]
  },
  {
   "cell_type": "code",
   "execution_count": null,
   "metadata": {},
   "outputs": [
    {
     "name": "stdout",
     "output_type": "stream",
     "text": [
      "Accuracy: 0.6233992041996856\n",
      "Classification Report:\n",
      "               precision    recall  f1-score   support\n",
      "\n",
      "        high       0.68      0.66      0.67     15188\n",
      "         low       0.15      0.21      0.18      1035\n",
      "      medium       0.61      0.61      0.61     13684\n",
      "\n",
      "    accuracy                           0.62     29907\n",
      "   macro avg       0.48      0.50      0.49     29907\n",
      "weighted avg       0.63      0.62      0.63     29907\n",
      "\n"
     ]
    }
   ],
   "source": [
    "# Initialize and train the Decision Tree Classifier\n",
    "from sklearn.utils.class_weight import compute_class_weight\n",
    "\n",
    "# class_weights = compute_class_weight(\n",
    "#     class_weight='balanced',\n",
    "#     classes=np.unique(y_train_resampled),\n",
    "#     y=y_train_resampled\n",
    "# )\n",
    "\n",
    "# weights_dict = dict(zip(np.unique(y_train_resampled), class_weights))\n",
    "\n",
    "#clf = DecisionTreeClassifier(random_state=42, class_weight= 'balanced')  # Use 'balanced' to automatically adjust weights\n",
    "\n",
    "clf = DecisionTreeClassifier(random_state=42)\n",
    "\n",
    "clf.fit(X_train_resampled, y_train_resampled)\n",
    "\n",
    "\n",
    "# Make predictions\n",
    "y_pred = clf.predict(X_test)\n",
    "\n",
    "# Evaluate the model\n",
    "print(\"Accuracy:\", accuracy_score(y_test, y_pred))\n",
    "print(\"Classification Report:\\n\", classification_report(y_test, y_pred))"
   ]
  },
  {
   "cell_type": "code",
   "execution_count": 396,
   "metadata": {},
   "outputs": [
    {
     "data": {
      "text/plain": [
       "<sklearn.metrics._plot.confusion_matrix.ConfusionMatrixDisplay at 0x19c9da750>"
      ]
     },
     "execution_count": 396,
     "metadata": {},
     "output_type": "execute_result"
    },
    {
     "data": {
      "image/png": "[encoded data removed]",
      "text/plain": [
       "<Figure size 640x480 with 2 Axes>"
      ]
     },
     "metadata": {},
     "output_type": "display_data"
    }
   ],
   "source": [
    "from sklearn.metrics import confusion_matrix, ConfusionMatrixDisplay\n",
    "\n",
    "cm = confusion_matrix(y_test, y_pred, labels=['low', 'medium', 'high'])\n",
    "disp = ConfusionMatrixDisplay(confusion_matrix=cm, display_labels=['low', 'medium', 'high'])\n",
    "disp.plot(cmap=\"Blues\", xticks_rotation=45)\n"
   ]
  },
  {
   "cell_type": "code",
   "execution_count": 417,
   "metadata": {},
   "outputs": [
    {
     "name": "stdout",
     "output_type": "stream",
     "text": [
      "Fitting 5 folds for each of 10 candidates, totalling 50 fits\n"
     ]
    },
    {
     "name": "stderr",
     "output_type": "stream",
     "text": [
      "/opt/anaconda3/lib/python3.12/site-packages/joblib/externals/loky/process_executor.py:752: UserWarning: A worker stopped while some jobs were given to the executor. This can be caused by a too short worker timeout or by a memory leak.\n",
      "  warnings.warn(\n",
      "/opt/anaconda3/lib/python3.12/site-packages/sklearn/model_selection/_validation.py:547: FitFailedWarning: \n",
      "10 fits failed out of a total of 50.\n",
      "The score on these train-test partitions for these parameters will be set to nan.\n",
      "If these failures are not expected, you can try to debug them by setting error_score='raise'.\n",
      "\n",
      "Below are more details about the failures:\n",
      "--------------------------------------------------------------------------------\n",
      "5 fits failed with the following error:\n",
      "Traceback (most recent call last):\n",
      "  File \"/opt/anaconda3/lib/python3.12/site-packages/sklearn/model_selection/_validation.py\", line 895, in _fit_and_score\n",
      "    estimator.fit(X_train, y_train, **fit_params)\n",
      "  File \"/opt/anaconda3/lib/python3.12/site-packages/sklearn/base.py\", line 1467, in wrapper\n",
      "    estimator._validate_params()\n",
      "  File \"/opt/anaconda3/lib/python3.12/site-packages/sklearn/base.py\", line 666, in _validate_params\n",
      "    validate_parameter_constraints(\n",
      "  File \"/opt/anaconda3/lib/python3.12/site-packages/sklearn/utils/_param_validation.py\", line 95, in validate_parameter_constraints\n",
      "    raise InvalidParameterError(\n",
      "sklearn.utils._param_validation.InvalidParameterError: The 'max_features' parameter of DecisionTreeClassifier must be an int in the range [1, inf), a float in the range (0.0, 1.0], a str among {'log2', 'sqrt'} or None. Got 'auto' instead.\n",
      "\n",
      "--------------------------------------------------------------------------------\n",
      "5 fits failed with the following error:\n",
      "Traceback (most recent call last):\n",
      "  File \"/opt/anaconda3/lib/python3.12/site-packages/sklearn/model_selection/_validation.py\", line 895, in _fit_and_score\n",
      "    estimator.fit(X_train, y_train, **fit_params)\n",
      "  File \"/opt/anaconda3/lib/python3.12/site-packages/sklearn/base.py\", line 1467, in wrapper\n",
      "    estimator._validate_params()\n",
      "  File \"/opt/anaconda3/lib/python3.12/site-packages/sklearn/base.py\", line 666, in _validate_params\n",
      "    validate_parameter_constraints(\n",
      "  File \"/opt/anaconda3/lib/python3.12/site-packages/sklearn/utils/_param_validation.py\", line 95, in validate_parameter_constraints\n",
      "    raise InvalidParameterError(\n",
      "sklearn.utils._param_validation.InvalidParameterError: The 'max_features' parameter of DecisionTreeClassifier must be an int in the range [1, inf), a float in the range (0.0, 1.0], a str among {'sqrt', 'log2'} or None. Got 'auto' instead.\n",
      "\n",
      "  warnings.warn(some_fits_failed_message, FitFailedWarning)\n",
      "/opt/anaconda3/lib/python3.12/site-packages/sklearn/model_selection/_search.py:1051: UserWarning: One or more of the test scores are non-finite: [0.67203627 0.66780562 0.69449063        nan 0.67208214 0.56157028\n",
      "        nan 0.71322451 0.68291087 0.67772872]\n",
      "  warnings.warn(\n"
     ]
    },
    {
     "name": "stdout",
     "output_type": "stream",
     "text": [
      "Migliori parametri trovati: {'splitter': 'random', 'min_samples_split': 2, 'min_samples_leaf': 10, 'max_features': None, 'max_depth': None, 'criterion': 'gini'}\n"
     ]
    }
   ],
   "source": [
    "from sklearn.tree import DecisionTreeClassifier\n",
    "from sklearn.model_selection import RandomizedSearchCV\n",
    "from sklearn.metrics import classification_report, confusion_matrix\n",
    "import numpy as np\n",
    "\n",
    "# Definizione dei parametri da cercare\n",
    "param_distributions = {\n",
    "    'max_depth': [None, 5, 10, 15, 20, 25],\n",
    "    'min_samples_split': [2, 5, 10, 20],\n",
    "    'min_samples_leaf': [1, 2, 4, 10],\n",
    "    'max_features': ['auto', 'sqrt', 'log2', None],\n",
    "    'criterion': ['gini', 'entropy'],\n",
    "    'splitter': ['best', 'random']\n",
    "}\n",
    "\n",
    "# Creazione del modello di Decision Tree\n",
    "clf = DecisionTreeClassifier(random_state=42)\n",
    "\n",
    "# Impostazione della ricerca randomizzata\n",
    "random_search = RandomizedSearchCV(\n",
    "    clf,\n",
    "    param_distributions=param_distributions,\n",
    "    n_iter=10,  # Numero di combinazioni casuali da provare\n",
    "    cv=5,  # Cross-validation con 5 fold\n",
    "    verbose=1,\n",
    "    random_state=42,\n",
    "    n_jobs=-1\n",
    ")\n",
    "\n",
    "# Allenamento del modello con la ricerca randomizzata\n",
    "random_search.fit(X_train_resampled, y_train_resampled)\n",
    "\n",
    "# Migliori parametri trovati\n",
    "print(\"Migliori parametri trovati:\", random_search.best_params_)\n",
    "\n",
    "# Modello con i migliori parametri\n",
    "clf = random_search.best_estimator_"
   ]
  },
  {
   "cell_type": "code",
   "execution_count": 419,
   "metadata": {},
   "outputs": [
    {
     "name": "stdout",
     "output_type": "stream",
     "text": [
      "Accuracy: 0.6488781890527301\n",
      "Classification Report:\n",
      "               precision    recall  f1-score   support\n",
      "\n",
      "        high       0.70      0.73      0.71     15188\n",
      "         low       0.16      0.29      0.21      1035\n",
      "      medium       0.66      0.59      0.62     13684\n",
      "\n",
      "    accuracy                           0.65     29907\n",
      "   macro avg       0.51      0.53      0.51     29907\n",
      "weighted avg       0.66      0.65      0.65     29907\n",
      "\n"
     ]
    }
   ],
   "source": [
    "# Make predictions\n",
    "y_pred = clf.predict(X_test)\n",
    "\n",
    "# Evaluate the model\n",
    "print(\"Accuracy:\", accuracy_score(y_test, y_pred))\n",
    "print(\"Classification Report:\\n\", classification_report(y_test, y_pred))"
   ]
  },
  {
   "cell_type": "code",
   "execution_count": 432,
   "metadata": {},
   "outputs": [
    {
     "data": {
      "text/plain": [
       "<sklearn.metrics._plot.confusion_matrix.ConfusionMatrixDisplay at 0x1e6e3f740>"
      ]
     },
     "execution_count": 432,
     "metadata": {},
     "output_type": "execute_result"
    },
    {
     "data": {
      "image/png": "[encoded data removed]",
      "text/plain": [
       "<Figure size 640x480 with 2 Axes>"
      ]
     },
     "metadata": {},
     "output_type": "display_data"
    }
   ],
   "source": [
    "from sklearn.metrics import confusion_matrix, ConfusionMatrixDisplay\n",
    "\n",
    "cm = confusion_matrix(y_test, y_pred, labels=['low', 'medium', 'high'])\n",
    "disp = ConfusionMatrixDisplay(confusion_matrix=cm, display_labels=['low', 'medium', 'high'])\n",
    "disp.plot(cmap=\"Blues\", xticks_rotation=45)"
   ]
  },
  {
   "cell_type": "code",
   "execution_count": 421,
   "metadata": {},
   "outputs": [
    {
     "name": "stdout",
     "output_type": "stream",
     "text": [
      "Class distribution in test set:\n",
      "ratingClass\n",
      "high      15188\n",
      "medium    13684\n",
      "low        1035\n",
      "Name: count, dtype: int64\n"
     ]
    }
   ],
   "source": [
    "print(\"Class distribution in test set:\")\n",
    "print(y_test.value_counts())"
   ]
  },
  {
   "cell_type": "code",
   "execution_count": 422,
   "metadata": {},
   "outputs": [],
   "source": [
    "probas = clf.predict_proba(X_test)\n"
   ]
  },
  {
   "cell_type": "code",
   "execution_count": 423,
   "metadata": {},
   "outputs": [
    {
     "name": "stdout",
     "output_type": "stream",
     "text": [
      "[[0.33333333 0.58333333 0.08333333]\n",
      " [0.5        0.         0.5       ]\n",
      " [0.88235294 0.         0.11764706]\n",
      " ...\n",
      " [0.72727273 0.         0.27272727]\n",
      " [1.         0.         0.        ]\n",
      " [0.70588235 0.         0.29411765]]\n"
     ]
    }
   ],
   "source": [
    "print(probas)"
   ]
  },
  {
   "cell_type": "code",
   "execution_count": 424,
   "metadata": {},
   "outputs": [
    {
     "name": "stdout",
     "output_type": "stream",
     "text": [
      "['high' 'low' 'medium']\n"
     ]
    }
   ],
   "source": [
    "print(clf.classes_)"
   ]
  },
  {
   "cell_type": "code",
   "execution_count": 433,
   "metadata": {},
   "outputs": [],
   "source": [
    "threshold_high = 0.8  # soglia per 'high'\n",
    "threshold_low = 0.1  # soglia per 'low'\n",
    "threshold_medium = 0.9  # soglia per 'medium'\n",
    "\n",
    "# Predizione basata sulla probabilità massima\n",
    "predicted_classes = np.argmax(probas, axis=1)\n",
    "\n",
    "# Forza la classificazione come 'high', 'low', 'medium' in base alla probabilità\n",
    "predicted_classes[probas[:, 0] > threshold_high] = 0  # high\n",
    "predicted_classes[probas[:, 1] > threshold_low] = 1   # low\n",
    "predicted_classes[probas[:, 2] > threshold_medium] = 2  # medium"
   ]
  },
  {
   "cell_type": "code",
   "execution_count": 434,
   "metadata": {},
   "outputs": [
    {
     "name": "stdout",
     "output_type": "stream",
     "text": [
      "Instanza 1:\n",
      "  Classe high: 0.3333333333333333\n",
      "  Classe low: 0.5833333333333334\n",
      "  Classe medium: 0.08333333333333333\n",
      "Instanza 2:\n",
      "  Classe high: 0.5\n",
      "  Classe low: 0.0\n",
      "  Classe medium: 0.5\n",
      "Instanza 3:\n",
      "  Classe high: 0.8823529411764706\n",
      "  Classe low: 0.0\n",
      "  Classe medium: 0.11764705882352941\n",
      "Instanza 4:\n",
      "  Classe high: 0.5454545454545454\n",
      "  Classe low: 0.0\n",
      "  Classe medium: 0.45454545454545453\n",
      "Instanza 5:\n",
      "  Classe high: 0.4117647058823529\n",
      "  Classe low: 0.0\n",
      "  Classe medium: 0.5882352941176471\n",
      "Instanza 6:\n",
      "  Classe high: 0.3684210526315789\n",
      "  Classe low: 0.0\n",
      "  Classe medium: 0.631578947368421\n",
      "Instanza 7:\n",
      "  Classe high: 0.2\n",
      "  Classe low: 0.1\n",
      "  Classe medium: 0.7\n",
      "Instanza 8:\n",
      "  Classe high: 0.4444444444444444\n",
      "  Classe low: 0.2777777777777778\n",
      "  Classe medium: 0.2777777777777778\n",
      "Instanza 9:\n",
      "  Classe high: 0.7727272727272727\n",
      "  Classe low: 0.0\n",
      "  Classe medium: 0.22727272727272727\n",
      "Instanza 10:\n",
      "  Classe high: 0.5789473684210527\n",
      "  Classe low: 0.3684210526315789\n",
      "  Classe medium: 0.05263157894736842\n"
     ]
    }
   ],
   "source": [
    "for i, prob in enumerate(probas[:10]):\n",
    "    print(f\"Instanza {i + 1}:\")\n",
    "    for j, p in enumerate(prob):\n",
    "        print(f\"  Classe {clf.classes_[j]}: {p}\")"
   ]
  },
  {
   "cell_type": "code",
   "execution_count": 435,
   "metadata": {},
   "outputs": [
    {
     "name": "stdout",
     "output_type": "stream",
     "text": [
      "[0. 0. 0.]\n",
      "[1. 1. 1.]\n",
      "[0.48643841 0.07787972 0.43568187]\n",
      "[0.31593855 0.17431094 0.29338861]\n"
     ]
    }
   ],
   "source": [
    "# Per analizzare la distribuzione delle probabilità per tutte le classi\n",
    "print(np.min(probas, axis=0))  # Minimo per ciascuna classe\n",
    "print(np.max(probas, axis=0))  # Massimo per ciascuna classe\n",
    "print(np.mean(probas, axis=0)) # Media per ciascuna classe\n",
    "print(np.std(probas, axis=0))  # Deviazione standard per ciascuna classe"
   ]
  },
  {
   "cell_type": "code",
   "execution_count": 436,
   "metadata": {},
   "outputs": [
    {
     "name": "stdout",
     "output_type": "stream",
     "text": [
      "<class 'pandas.core.series.Series'>\n",
      "<class 'numpy.ndarray'>\n",
      "{'low', 'medium', 'high'}\n",
      "{0, 1, 2}\n"
     ]
    }
   ],
   "source": [
    "print(type(y_test))\n",
    "print(type(predicted_classes))\n",
    "print(set(y_test))  # Mostra tutte le etichette uniche in y_test\n",
    "print(set(predicted_classes))  # Mostra tutte le etichette uniche in predicted_classes"
   ]
  },
  {
   "cell_type": "code",
   "execution_count": 437,
   "metadata": {},
   "outputs": [
    {
     "name": "stdout",
     "output_type": "stream",
     "text": [
      "[0.33333333 0.58333333 0.08333333]\n"
     ]
    }
   ],
   "source": [
    "print(probas[0])"
   ]
  },
  {
   "cell_type": "code",
   "execution_count": 438,
   "metadata": {},
   "outputs": [
    {
     "name": "stdout",
     "output_type": "stream",
     "text": [
      "              precision    recall  f1-score   support\n",
      "\n",
      "           0       0.70      0.67      0.69     15188\n",
      "           1       0.10      0.55      0.17      1035\n",
      "           2       0.67      0.48      0.56     13684\n",
      "\n",
      "    accuracy                           0.58     29907\n",
      "   macro avg       0.49      0.57      0.47     29907\n",
      "weighted avg       0.67      0.58      0.61     29907\n",
      "\n",
      "[[10140  2046  3002]\n",
      " [  175   571   289]\n",
      " [ 4102  3038  6544]]\n"
     ]
    }
   ],
   "source": [
    "# Mappare le etichette di y_test in numeri\n",
    "label_map = {'high': 0, 'low': 1, 'medium': 2}\n",
    "y_test_numeric = y_test.map(label_map)\n",
    "\n",
    "# Calcolare le metriche\n",
    "from sklearn.metrics import classification_report, confusion_matrix\n",
    "print(classification_report(y_test_numeric, predicted_classes))\n",
    "print(confusion_matrix(y_test_numeric, predicted_classes))"
   ]
  },
  {
   "cell_type": "code",
   "execution_count": 441,
   "metadata": {},
   "outputs": [
    {
     "data": {
      "image/png": "[encoded data removed]",
      "text/plain": [
       "<Figure size 1000x700 with 2 Axes>"
      ]
     },
     "metadata": {},
     "output_type": "display_data"
    }
   ],
   "source": [
    "import matplotlib.pyplot as plt\n",
    "import seaborn as sns\n",
    "from sklearn.metrics import confusion_matrix\n",
    "\n",
    "# Creazione della confusion matrix\n",
    "cm = confusion_matrix(y_test_numeric, predicted_classes)\n",
    "\n",
    "# Creazione della heatmap per la matrice di confusione\n",
    "plt.figure(figsize=(10, 7))\n",
    "sns.heatmap(cm, annot=True, fmt='d', cmap='Blues', xticklabels=['high', 'low', 'medium'], yticklabels=['high', 'low', 'medium'])\n",
    "plt.xlabel('Predicted Labels')\n",
    "plt.ylabel('True Labels')\n",
    "plt.title('Confusion Matrix')\n",
    "plt.show()"
   ]
  }
 ],
 "metadata": {
  "kernelspec": {
   "display_name": "base",
   "language": "python",
   "name": "python3"
  },
  "language_info": {
   "codemirror_mode": {
    "name": "ipython",
    "version": 3
   },
   "file_extension": ".py",
   "mimetype": "text/x-python",
   "name": "python",
   "nbconvert_exporter": "python",
   "pygments_lexer": "ipython3",
   "version": "3.12.4"
  }
 },
 "nbformat": 4,
 "nbformat_minor": 2
}
