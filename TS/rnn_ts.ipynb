{
 "cells": [
  {
   "cell_type": "code",
   "execution_count": 2,
   "id": "9db00324",
   "metadata": {},
   "outputs": [],
   "source": [
    "import pandas as pd\n",
    "import os\n",
    "\n",
    "# get parent dir\n",
    "parent_dir = os.path.dirname(os.getcwd())\n",
    "\n",
    "# load the dataset\n",
    "df = pd.read_csv(os.path.join(\n",
    "    parent_dir, 'dm2_dataset_2425_imdb',\n",
    "    'imdb_ts.csv'))"
   ]
  },
  {
   "cell_type": "code",
   "execution_count": 3,
   "id": "4ca947a1",
   "metadata": {},
   "outputs": [
    {
     "data": {
      "text/plain": [
       "Index(['id', '0', '1', '2', '3', '4', '5', '6', '7', '8',\n",
       "       ...\n",
       "       '93', '94', '95', '96', '97', '98', '99', 'rating', 'genre',\n",
       "       'rating_category'],\n",
       "      dtype='object', length=104)"
      ]
     },
     "execution_count": 3,
     "metadata": {},
     "output_type": "execute_result"
    }
   ],
   "source": [
    "df.columns"
   ]
  },
  {
   "cell_type": "code",
   "execution_count": 4,
   "id": "48793910",
   "metadata": {},
   "outputs": [],
   "source": [
    "# merge Medium Low and Low into a single category\n",
    "df['rating_category'] = df['rating_category'].replace({\n",
    "    'Medium Low': 'Low'\n",
    "})"
   ]
  },
  {
   "cell_type": "code",
   "execution_count": 5,
   "id": "0c04a045",
   "metadata": {},
   "outputs": [],
   "source": [
    "# 80-20 stratified split\n",
    "from sklearn.model_selection import train_test_split\n",
    "\n",
    "train_df, test_df = train_test_split(\n",
    "    df, test_size=0.2, stratify=df['rating_category'], random_state=42\n",
    ")\n",
    "\n",
    "# further split train into train and val\n",
    "train_df, val_df = train_test_split(\n",
    "    train_df, test_size=0.2, stratify=train_df['rating_category'], random_state=42\n",
    ")\n",
    "\n",
    "X_train = train_df.drop(columns=['id', 'rating', 'rating_category'])\n",
    "y_train = train_df['rating_category']\n",
    "\n",
    "X_val = val_df.drop(columns=['id', 'rating', 'rating_category'])\n",
    "y_val = val_df['rating_category']\n",
    "\n",
    "X_test = test_df.drop(columns=['id', 'rating', 'rating_category'])\n",
    "y_test = test_df['rating_category']"
   ]
  },
  {
   "cell_type": "code",
   "execution_count": 6,
   "id": "ec69461f",
   "metadata": {},
   "outputs": [
    {
     "name": "stderr",
     "output_type": "stream",
     "text": [
      "/var/folders/68/gjrvx3m51494g9gp2r93j3vh0000gn/T/ipykernel_67370/1279882901.py:5: FutureWarning: DataFrame.applymap has been deprecated. Use DataFrame.map instead.\n",
      "  X_train[ts_columns] = X_train[ts_columns].applymap(lambda x: np.log1p(x))\n",
      "/var/folders/68/gjrvx3m51494g9gp2r93j3vh0000gn/T/ipykernel_67370/1279882901.py:6: FutureWarning: DataFrame.applymap has been deprecated. Use DataFrame.map instead.\n",
      "  X_val[ts_columns] = X_val[ts_columns].applymap(lambda x: np.log1p(x))\n",
      "/var/folders/68/gjrvx3m51494g9gp2r93j3vh0000gn/T/ipykernel_67370/1279882901.py:7: FutureWarning: DataFrame.applymap has been deprecated. Use DataFrame.map instead.\n",
      "  X_test[ts_columns] = X_test[ts_columns].applymap(lambda x: np.log1p(x))\n"
     ]
    }
   ],
   "source": [
    "# Log scale transformation only for columns '0', '1', ... '99' (TS columns)\n",
    "import numpy as np\n",
    "\n",
    "ts_columns = [str(i) for i in range(100)]\n",
    "X_train[ts_columns] = X_train[ts_columns].applymap(lambda x: np.log1p(x))\n",
    "X_val[ts_columns] = X_val[ts_columns].applymap(lambda x: np.log1p(x))\n",
    "X_test[ts_columns] = X_test[ts_columns].applymap(lambda x: np.log1p(x))"
   ]
  },
  {
   "cell_type": "code",
   "execution_count": 16,
   "id": "0dec3436",
   "metadata": {},
   "outputs": [],
   "source": [
    "from sklearn.preprocessing import StandardScaler\n",
    "from sklearn.preprocessing import LabelEncoder\n",
    "\n",
    "scaler = StandardScaler()\n",
    "\n",
    "train_scaled = scaler.fit_transform(X_train[ts_columns])\n",
    "val_scaled = scaler.transform(X_val[ts_columns])\n",
    "test_scaled = scaler.transform(X_test[ts_columns])\n",
    "\n",
    "\n",
    "label_encoder = LabelEncoder()\n",
    "y_train_enc = to_categorical(label_encoder.fit_transform(y_train))\n",
    "y_val_enc = to_categorical(label_encoder.transform(y_val))\n",
    "y_test_enc = to_categorical(label_encoder.transform(y_test))"
   ]
  },
  {
   "cell_type": "code",
   "execution_count": 424,
   "id": "61e7249f",
   "metadata": {},
   "outputs": [],
   "source": [
    "from tensorflow.keras.layers import GRU, LSTM\n",
    "from tensorflow.keras.models import Model\n",
    "from tensorflow.keras.layers import Input, Dense, Dropout\n",
    "from tensorflow.keras.optimizers import Adam\n",
    "# RNN on the non split data\n",
    "\n",
    "def model_initial_data(data_shape, num_classes):\n",
    "    inputs = Input(shape=data_shape)\n",
    "    # x = GRU(8, return_sequences=True)(inputs)\n",
    "    # x = Dropout(0.2)(x)\n",
    "    # x = GRU(16, return_sequences=True)(x)\n",
    "    # x = Dropout(0.2)(x)\n",
    "    x = LSTM(32, return_sequences=True)(inputs)\n",
    "    x = Dropout(0.2)(x)\n",
    "    x = LSTM(16, return_sequences=True)(x)\n",
    "    x = Dropout(0.2)(x)\n",
    "    x = LSTM(8, return_sequences=False)(x)\n",
    "    x = Dropout(0.3)(x)\n",
    "    outputs = Dense(num_classes, activation='softmax')(x)\n",
    "    \n",
    "    model = Model(inputs=inputs, outputs=outputs)\n",
    "    model.compile(optimizer=Adam(learning_rate=0.00025), loss='categorical_crossentropy', metrics=['accuracy'])\n",
    "    # Best: 0.00025\n",
    "    return model"
   ]
  },
  {
   "cell_type": "code",
   "execution_count": 425,
   "id": "c4c9124a",
   "metadata": {},
   "outputs": [
    {
     "data": {
      "text/html": [
       "<pre style=\"white-space:pre;overflow-x:auto;line-height:normal;font-family:Menlo,'DejaVu Sans Mono',consolas,'Courier New',monospace\"><span style=\"font-weight: bold\">Model: \"functional_57\"</span>\n",
       "</pre>\n"
      ],
      "text/plain": [
       "\u001b[1mModel: \"functional_57\"\u001b[0m\n"
      ]
     },
     "metadata": {},
     "output_type": "display_data"
    },
    {
     "data": {
      "text/html": [
       "<pre style=\"white-space:pre;overflow-x:auto;line-height:normal;font-family:Menlo,'DejaVu Sans Mono',consolas,'Courier New',monospace\">┏━━━━━━━━━━━━━━━━━━━━━━━━━━━━━━━━━┳━━━━━━━━━━━━━━━━━━━━━━━━┳━━━━━━━━━━━━━━━┓\n",
       "┃<span style=\"font-weight: bold\"> Layer (type)                    </span>┃<span style=\"font-weight: bold\"> Output Shape           </span>┃<span style=\"font-weight: bold\">       Param # </span>┃\n",
       "┡━━━━━━━━━━━━━━━━━━━━━━━━━━━━━━━━━╇━━━━━━━━━━━━━━━━━━━━━━━━╇━━━━━━━━━━━━━━━┩\n",
       "│ input_layer_28 (<span style=\"color: #0087ff; text-decoration-color: #0087ff\">InputLayer</span>)     │ (<span style=\"color: #00d7ff; text-decoration-color: #00d7ff\">None</span>, <span style=\"color: #00af00; text-decoration-color: #00af00\">100</span>, <span style=\"color: #00af00; text-decoration-color: #00af00\">1</span>)         │             <span style=\"color: #00af00; text-decoration-color: #00af00\">0</span> │\n",
       "├─────────────────────────────────┼────────────────────────┼───────────────┤\n",
       "│ lstm_18 (<span style=\"color: #0087ff; text-decoration-color: #0087ff\">LSTM</span>)                  │ (<span style=\"color: #00d7ff; text-decoration-color: #00d7ff\">None</span>, <span style=\"color: #00af00; text-decoration-color: #00af00\">100</span>, <span style=\"color: #00af00; text-decoration-color: #00af00\">32</span>)        │         <span style=\"color: #00af00; text-decoration-color: #00af00\">4,352</span> │\n",
       "├─────────────────────────────────┼────────────────────────┼───────────────┤\n",
       "│ dropout_84 (<span style=\"color: #0087ff; text-decoration-color: #0087ff\">Dropout</span>)            │ (<span style=\"color: #00d7ff; text-decoration-color: #00d7ff\">None</span>, <span style=\"color: #00af00; text-decoration-color: #00af00\">100</span>, <span style=\"color: #00af00; text-decoration-color: #00af00\">32</span>)        │             <span style=\"color: #00af00; text-decoration-color: #00af00\">0</span> │\n",
       "├─────────────────────────────────┼────────────────────────┼───────────────┤\n",
       "│ lstm_19 (<span style=\"color: #0087ff; text-decoration-color: #0087ff\">LSTM</span>)                  │ (<span style=\"color: #00d7ff; text-decoration-color: #00d7ff\">None</span>, <span style=\"color: #00af00; text-decoration-color: #00af00\">100</span>, <span style=\"color: #00af00; text-decoration-color: #00af00\">16</span>)        │         <span style=\"color: #00af00; text-decoration-color: #00af00\">3,136</span> │\n",
       "├─────────────────────────────────┼────────────────────────┼───────────────┤\n",
       "│ dropout_85 (<span style=\"color: #0087ff; text-decoration-color: #0087ff\">Dropout</span>)            │ (<span style=\"color: #00d7ff; text-decoration-color: #00d7ff\">None</span>, <span style=\"color: #00af00; text-decoration-color: #00af00\">100</span>, <span style=\"color: #00af00; text-decoration-color: #00af00\">16</span>)        │             <span style=\"color: #00af00; text-decoration-color: #00af00\">0</span> │\n",
       "├─────────────────────────────────┼────────────────────────┼───────────────┤\n",
       "│ lstm_20 (<span style=\"color: #0087ff; text-decoration-color: #0087ff\">LSTM</span>)                  │ (<span style=\"color: #00d7ff; text-decoration-color: #00d7ff\">None</span>, <span style=\"color: #00af00; text-decoration-color: #00af00\">8</span>)              │           <span style=\"color: #00af00; text-decoration-color: #00af00\">800</span> │\n",
       "├─────────────────────────────────┼────────────────────────┼───────────────┤\n",
       "│ dropout_86 (<span style=\"color: #0087ff; text-decoration-color: #0087ff\">Dropout</span>)            │ (<span style=\"color: #00d7ff; text-decoration-color: #00d7ff\">None</span>, <span style=\"color: #00af00; text-decoration-color: #00af00\">8</span>)              │             <span style=\"color: #00af00; text-decoration-color: #00af00\">0</span> │\n",
       "├─────────────────────────────────┼────────────────────────┼───────────────┤\n",
       "│ dense_36 (<span style=\"color: #0087ff; text-decoration-color: #0087ff\">Dense</span>)                │ (<span style=\"color: #00d7ff; text-decoration-color: #00d7ff\">None</span>, <span style=\"color: #00af00; text-decoration-color: #00af00\">4</span>)              │            <span style=\"color: #00af00; text-decoration-color: #00af00\">36</span> │\n",
       "└─────────────────────────────────┴────────────────────────┴───────────────┘\n",
       "</pre>\n"
      ],
      "text/plain": [
       "┏━━━━━━━━━━━━━━━━━━━━━━━━━━━━━━━━━┳━━━━━━━━━━━━━━━━━━━━━━━━┳━━━━━━━━━━━━━━━┓\n",
       "┃\u001b[1m \u001b[0m\u001b[1mLayer (type)                   \u001b[0m\u001b[1m \u001b[0m┃\u001b[1m \u001b[0m\u001b[1mOutput Shape          \u001b[0m\u001b[1m \u001b[0m┃\u001b[1m \u001b[0m\u001b[1m      Param #\u001b[0m\u001b[1m \u001b[0m┃\n",
       "┡━━━━━━━━━━━━━━━━━━━━━━━━━━━━━━━━━╇━━━━━━━━━━━━━━━━━━━━━━━━╇━━━━━━━━━━━━━━━┩\n",
       "│ input_layer_28 (\u001b[38;5;33mInputLayer\u001b[0m)     │ (\u001b[38;5;45mNone\u001b[0m, \u001b[38;5;34m100\u001b[0m, \u001b[38;5;34m1\u001b[0m)         │             \u001b[38;5;34m0\u001b[0m │\n",
       "├─────────────────────────────────┼────────────────────────┼───────────────┤\n",
       "│ lstm_18 (\u001b[38;5;33mLSTM\u001b[0m)                  │ (\u001b[38;5;45mNone\u001b[0m, \u001b[38;5;34m100\u001b[0m, \u001b[38;5;34m32\u001b[0m)        │         \u001b[38;5;34m4,352\u001b[0m │\n",
       "├─────────────────────────────────┼────────────────────────┼───────────────┤\n",
       "│ dropout_84 (\u001b[38;5;33mDropout\u001b[0m)            │ (\u001b[38;5;45mNone\u001b[0m, \u001b[38;5;34m100\u001b[0m, \u001b[38;5;34m32\u001b[0m)        │             \u001b[38;5;34m0\u001b[0m │\n",
       "├─────────────────────────────────┼────────────────────────┼───────────────┤\n",
       "│ lstm_19 (\u001b[38;5;33mLSTM\u001b[0m)                  │ (\u001b[38;5;45mNone\u001b[0m, \u001b[38;5;34m100\u001b[0m, \u001b[38;5;34m16\u001b[0m)        │         \u001b[38;5;34m3,136\u001b[0m │\n",
       "├─────────────────────────────────┼────────────────────────┼───────────────┤\n",
       "│ dropout_85 (\u001b[38;5;33mDropout\u001b[0m)            │ (\u001b[38;5;45mNone\u001b[0m, \u001b[38;5;34m100\u001b[0m, \u001b[38;5;34m16\u001b[0m)        │             \u001b[38;5;34m0\u001b[0m │\n",
       "├─────────────────────────────────┼────────────────────────┼───────────────┤\n",
       "│ lstm_20 (\u001b[38;5;33mLSTM\u001b[0m)                  │ (\u001b[38;5;45mNone\u001b[0m, \u001b[38;5;34m8\u001b[0m)              │           \u001b[38;5;34m800\u001b[0m │\n",
       "├─────────────────────────────────┼────────────────────────┼───────────────┤\n",
       "│ dropout_86 (\u001b[38;5;33mDropout\u001b[0m)            │ (\u001b[38;5;45mNone\u001b[0m, \u001b[38;5;34m8\u001b[0m)              │             \u001b[38;5;34m0\u001b[0m │\n",
       "├─────────────────────────────────┼────────────────────────┼───────────────┤\n",
       "│ dense_36 (\u001b[38;5;33mDense\u001b[0m)                │ (\u001b[38;5;45mNone\u001b[0m, \u001b[38;5;34m4\u001b[0m)              │            \u001b[38;5;34m36\u001b[0m │\n",
       "└─────────────────────────────────┴────────────────────────┴───────────────┘\n"
      ]
     },
     "metadata": {},
     "output_type": "display_data"
    },
    {
     "data": {
      "text/html": [
       "<pre style=\"white-space:pre;overflow-x:auto;line-height:normal;font-family:Menlo,'DejaVu Sans Mono',consolas,'Courier New',monospace\"><span style=\"font-weight: bold\"> Total params: </span><span style=\"color: #00af00; text-decoration-color: #00af00\">8,324</span> (32.52 KB)\n",
       "</pre>\n"
      ],
      "text/plain": [
       "\u001b[1m Total params: \u001b[0m\u001b[38;5;34m8,324\u001b[0m (32.52 KB)\n"
      ]
     },
     "metadata": {},
     "output_type": "display_data"
    },
    {
     "data": {
      "text/html": [
       "<pre style=\"white-space:pre;overflow-x:auto;line-height:normal;font-family:Menlo,'DejaVu Sans Mono',consolas,'Courier New',monospace\"><span style=\"font-weight: bold\"> Trainable params: </span><span style=\"color: #00af00; text-decoration-color: #00af00\">8,324</span> (32.52 KB)\n",
       "</pre>\n"
      ],
      "text/plain": [
       "\u001b[1m Trainable params: \u001b[0m\u001b[38;5;34m8,324\u001b[0m (32.52 KB)\n"
      ]
     },
     "metadata": {},
     "output_type": "display_data"
    },
    {
     "data": {
      "text/html": [
       "<pre style=\"white-space:pre;overflow-x:auto;line-height:normal;font-family:Menlo,'DejaVu Sans Mono',consolas,'Courier New',monospace\"><span style=\"font-weight: bold\"> Non-trainable params: </span><span style=\"color: #00af00; text-decoration-color: #00af00\">0</span> (0.00 B)\n",
       "</pre>\n"
      ],
      "text/plain": [
       "\u001b[1m Non-trainable params: \u001b[0m\u001b[38;5;34m0\u001b[0m (0.00 B)\n"
      ]
     },
     "metadata": {},
     "output_type": "display_data"
    },
    {
     "name": "stdout",
     "output_type": "stream",
     "text": [
      "Epoch 1/500\n",
      "\u001b[1m23/23\u001b[0m \u001b[32m━━━━━━━━━━━━━━━━━━━━\u001b[0m\u001b[37m\u001b[0m \u001b[1m9s\u001b[0m 117ms/step - accuracy: 0.1997 - loss: 1.4307 - val_accuracy: 0.2143 - val_loss: 1.3756\n",
      "Epoch 2/500\n",
      "\u001b[1m23/23\u001b[0m \u001b[32m━━━━━━━━━━━━━━━━━━━━\u001b[0m\u001b[37m\u001b[0m \u001b[1m2s\u001b[0m 75ms/step - accuracy: 0.2086 - loss: 1.3641 - val_accuracy: 0.2143 - val_loss: 1.3505\n",
      "Epoch 3/500\n",
      "\u001b[1m23/23\u001b[0m \u001b[32m━━━━━━━━━━━━━━━━━━━━\u001b[0m\u001b[37m\u001b[0m \u001b[1m2s\u001b[0m 75ms/step - accuracy: 0.2363 - loss: 1.3721 - val_accuracy: 0.2143 - val_loss: 1.3330\n",
      "Epoch 4/500\n",
      "\u001b[1m23/23\u001b[0m \u001b[32m━━━━━━━━━━━━━━━━━━━━\u001b[0m\u001b[37m\u001b[0m \u001b[1m2s\u001b[0m 75ms/step - accuracy: 0.2589 - loss: 1.3162 - val_accuracy: 0.3571 - val_loss: 1.3155\n",
      "Epoch 5/500\n",
      "\u001b[1m23/23\u001b[0m \u001b[32m━━━━━━━━━━━━━━━━━━━━\u001b[0m\u001b[37m\u001b[0m \u001b[1m2s\u001b[0m 75ms/step - accuracy: 0.2972 - loss: 1.3573 - val_accuracy: 0.3571 - val_loss: 1.3076\n",
      "Epoch 6/500\n",
      "\u001b[1m23/23\u001b[0m \u001b[32m━━━━━━━━━━━━━━━━━━━━\u001b[0m\u001b[37m\u001b[0m \u001b[1m2s\u001b[0m 75ms/step - accuracy: 0.3387 - loss: 1.3098 - val_accuracy: 0.3516 - val_loss: 1.3006\n",
      "Epoch 7/500\n",
      "\u001b[1m23/23\u001b[0m \u001b[32m━━━━━━━━━━━━━━━━━━━━\u001b[0m\u001b[37m\u001b[0m \u001b[1m2s\u001b[0m 75ms/step - accuracy: 0.3260 - loss: 1.2950 - val_accuracy: 0.3571 - val_loss: 1.2946\n",
      "Epoch 8/500\n",
      "\u001b[1m23/23\u001b[0m \u001b[32m━━━━━━━━━━━━━━━━━━━━\u001b[0m\u001b[37m\u001b[0m \u001b[1m2s\u001b[0m 79ms/step - accuracy: 0.3194 - loss: 1.2923 - val_accuracy: 0.3571 - val_loss: 1.2946\n",
      "Epoch 9/500\n",
      "\u001b[1m23/23\u001b[0m \u001b[32m━━━━━━━━━━━━━━━━━━━━\u001b[0m\u001b[37m\u001b[0m \u001b[1m2s\u001b[0m 75ms/step - accuracy: 0.3029 - loss: 1.2987 - val_accuracy: 0.3516 - val_loss: 1.2912\n",
      "Epoch 10/500\n",
      "\u001b[1m23/23\u001b[0m \u001b[32m━━━━━━━━━━━━━━━━━━━━\u001b[0m\u001b[37m\u001b[0m \u001b[1m2s\u001b[0m 79ms/step - accuracy: 0.3379 - loss: 1.2915 - val_accuracy: 0.3571 - val_loss: 1.2880\n",
      "Epoch 11/500\n",
      "\u001b[1m23/23\u001b[0m \u001b[32m━━━━━━━━━━━━━━━━━━━━\u001b[0m\u001b[37m\u001b[0m \u001b[1m2s\u001b[0m 74ms/step - accuracy: 0.2905 - loss: 1.2867 - val_accuracy: 0.3626 - val_loss: 1.2870\n",
      "Epoch 12/500\n",
      "\u001b[1m23/23\u001b[0m \u001b[32m━━━━━━━━━━━━━━━━━━━━\u001b[0m\u001b[37m\u001b[0m \u001b[1m2s\u001b[0m 75ms/step - accuracy: 0.3207 - loss: 1.3079 - val_accuracy: 0.3626 - val_loss: 1.2862\n",
      "Epoch 13/500\n",
      "\u001b[1m23/23\u001b[0m \u001b[32m━━━━━━━━━━━━━━━━━━━━\u001b[0m\u001b[37m\u001b[0m \u001b[1m2s\u001b[0m 76ms/step - accuracy: 0.3697 - loss: 1.3235 - val_accuracy: 0.3736 - val_loss: 1.2825\n",
      "Epoch 14/500\n",
      "\u001b[1m23/23\u001b[0m \u001b[32m━━━━━━━━━━━━━━━━━━━━\u001b[0m\u001b[37m\u001b[0m \u001b[1m2s\u001b[0m 75ms/step - accuracy: 0.3191 - loss: 1.2902 - val_accuracy: 0.3736 - val_loss: 1.2781\n",
      "Epoch 15/500\n",
      "\u001b[1m23/23\u001b[0m \u001b[32m━━━━━━━━━━━━━━━━━━━━\u001b[0m\u001b[37m\u001b[0m \u001b[1m2s\u001b[0m 76ms/step - accuracy: 0.3079 - loss: 1.3090 - val_accuracy: 0.3736 - val_loss: 1.2746\n",
      "Epoch 16/500\n",
      "\u001b[1m23/23\u001b[0m \u001b[32m━━━━━━━━━━━━━━━━━━━━\u001b[0m\u001b[37m\u001b[0m \u001b[1m2s\u001b[0m 77ms/step - accuracy: 0.3174 - loss: 1.3217 - val_accuracy: 0.3846 - val_loss: 1.2695\n",
      "Epoch 17/500\n",
      "\u001b[1m23/23\u001b[0m \u001b[32m━━━━━━━━━━━━━━━━━━━━\u001b[0m\u001b[37m\u001b[0m \u001b[1m2s\u001b[0m 81ms/step - accuracy: 0.3462 - loss: 1.2731 - val_accuracy: 0.3736 - val_loss: 1.2669\n",
      "Epoch 18/500\n",
      "\u001b[1m23/23\u001b[0m \u001b[32m━━━━━━━━━━━━━━━━━━━━\u001b[0m\u001b[37m\u001b[0m \u001b[1m2s\u001b[0m 75ms/step - accuracy: 0.3330 - loss: 1.2515 - val_accuracy: 0.3626 - val_loss: 1.2638\n",
      "Epoch 19/500\n",
      "\u001b[1m23/23\u001b[0m \u001b[32m━━━━━━━━━━━━━━━━━━━━\u001b[0m\u001b[37m\u001b[0m \u001b[1m2s\u001b[0m 76ms/step - accuracy: 0.3574 - loss: 1.3097 - val_accuracy: 0.3956 - val_loss: 1.2586\n",
      "Epoch 20/500\n",
      "\u001b[1m23/23\u001b[0m \u001b[32m━━━━━━━━━━━━━━━━━━━━\u001b[0m\u001b[37m\u001b[0m \u001b[1m2s\u001b[0m 75ms/step - accuracy: 0.3518 - loss: 1.3107 - val_accuracy: 0.3791 - val_loss: 1.2582\n",
      "Epoch 21/500\n",
      "\u001b[1m23/23\u001b[0m \u001b[32m━━━━━━━━━━━━━━━━━━━━\u001b[0m\u001b[37m\u001b[0m \u001b[1m2s\u001b[0m 76ms/step - accuracy: 0.3926 - loss: 1.2522 - val_accuracy: 0.4231 - val_loss: 1.2324\n",
      "Epoch 22/500\n",
      "\u001b[1m23/23\u001b[0m \u001b[32m━━━━━━━━━━━━━━━━━━━━\u001b[0m\u001b[37m\u001b[0m \u001b[1m2s\u001b[0m 75ms/step - accuracy: 0.3943 - loss: 1.2933 - val_accuracy: 0.4451 - val_loss: 1.2183\n",
      "Epoch 23/500\n",
      "\u001b[1m23/23\u001b[0m \u001b[32m━━━━━━━━━━━━━━━━━━━━\u001b[0m\u001b[37m\u001b[0m \u001b[1m2s\u001b[0m 74ms/step - accuracy: 0.3939 - loss: 1.2037 - val_accuracy: 0.4286 - val_loss: 1.2151\n",
      "Epoch 24/500\n",
      "\u001b[1m23/23\u001b[0m \u001b[32m━━━━━━━━━━━━━━━━━━━━\u001b[0m\u001b[37m\u001b[0m \u001b[1m2s\u001b[0m 76ms/step - accuracy: 0.4290 - loss: 1.2154 - val_accuracy: 0.4451 - val_loss: 1.2089\n",
      "Epoch 25/500\n",
      "\u001b[1m23/23\u001b[0m \u001b[32m━━━━━━━━━━━━━━━━━━━━\u001b[0m\u001b[37m\u001b[0m \u001b[1m2s\u001b[0m 80ms/step - accuracy: 0.3853 - loss: 1.2437 - val_accuracy: 0.4176 - val_loss: 1.2159\n",
      "Epoch 26/500\n",
      "\u001b[1m23/23\u001b[0m \u001b[32m━━━━━━━━━━━━━━━━━━━━\u001b[0m\u001b[37m\u001b[0m \u001b[1m2s\u001b[0m 76ms/step - accuracy: 0.4118 - loss: 1.2266 - val_accuracy: 0.4176 - val_loss: 1.2146\n",
      "Epoch 27/500\n",
      "\u001b[1m23/23\u001b[0m \u001b[32m━━━━━━━━━━━━━━━━━━━━\u001b[0m\u001b[37m\u001b[0m \u001b[1m2s\u001b[0m 76ms/step - accuracy: 0.3991 - loss: 1.2142 - val_accuracy: 0.4176 - val_loss: 1.2092\n",
      "Epoch 28/500\n",
      "\u001b[1m23/23\u001b[0m \u001b[32m━━━━━━━━━━━━━━━━━━━━\u001b[0m\u001b[37m\u001b[0m \u001b[1m2s\u001b[0m 74ms/step - accuracy: 0.4218 - loss: 1.2469 - val_accuracy: 0.4396 - val_loss: 1.2061\n",
      "Epoch 29/500\n",
      "\u001b[1m23/23\u001b[0m \u001b[32m━━━━━━━━━━━━━━━━━━━━\u001b[0m\u001b[37m\u001b[0m \u001b[1m2s\u001b[0m 74ms/step - accuracy: 0.4231 - loss: 1.2023 - val_accuracy: 0.4066 - val_loss: 1.2088\n",
      "Epoch 30/500\n",
      "\u001b[1m23/23\u001b[0m \u001b[32m━━━━━━━━━━━━━━━━━━━━\u001b[0m\u001b[37m\u001b[0m \u001b[1m2s\u001b[0m 76ms/step - accuracy: 0.3882 - loss: 1.2584 - val_accuracy: 0.4505 - val_loss: 1.2033\n",
      "Epoch 31/500\n",
      "\u001b[1m23/23\u001b[0m \u001b[32m━━━━━━━━━━━━━━━━━━━━\u001b[0m\u001b[37m\u001b[0m \u001b[1m2s\u001b[0m 75ms/step - accuracy: 0.4138 - loss: 1.1979 - val_accuracy: 0.4451 - val_loss: 1.2006\n",
      "Epoch 32/500\n",
      "\u001b[1m23/23\u001b[0m \u001b[32m━━━━━━━━━━━━━━━━━━━━\u001b[0m\u001b[37m\u001b[0m \u001b[1m2s\u001b[0m 75ms/step - accuracy: 0.4248 - loss: 1.2021 - val_accuracy: 0.4505 - val_loss: 1.2046\n",
      "Epoch 33/500\n",
      "\u001b[1m23/23\u001b[0m \u001b[32m━━━━━━━━━━━━━━━━━━━━\u001b[0m\u001b[37m\u001b[0m \u001b[1m2s\u001b[0m 84ms/step - accuracy: 0.4394 - loss: 1.1957 - val_accuracy: 0.4505 - val_loss: 1.1933\n",
      "Epoch 34/500\n",
      "\u001b[1m23/23\u001b[0m \u001b[32m━━━━━━━━━━━━━━━━━━━━\u001b[0m\u001b[37m\u001b[0m \u001b[1m1s\u001b[0m 61ms/step - accuracy: 0.4262 - loss: 1.1987 - val_accuracy: 0.4396 - val_loss: 1.1932\n",
      "Epoch 35/500\n",
      "\u001b[1m23/23\u001b[0m \u001b[32m━━━━━━━━━━━━━━━━━━━━\u001b[0m\u001b[37m\u001b[0m \u001b[1m2s\u001b[0m 67ms/step - accuracy: 0.4174 - loss: 1.2375 - val_accuracy: 0.4341 - val_loss: 1.1937\n",
      "Epoch 36/500\n",
      "\u001b[1m23/23\u001b[0m \u001b[32m━━━━━━━━━━━━━━━━━━━━\u001b[0m\u001b[37m\u001b[0m \u001b[1m2s\u001b[0m 100ms/step - accuracy: 0.3913 - loss: 1.2664 - val_accuracy: 0.4560 - val_loss: 1.1934\n",
      "Epoch 37/500\n",
      "\u001b[1m23/23\u001b[0m \u001b[32m━━━━━━━━━━━━━━━━━━━━\u001b[0m\u001b[37m\u001b[0m \u001b[1m2s\u001b[0m 77ms/step - accuracy: 0.4148 - loss: 1.2907 - val_accuracy: 0.4451 - val_loss: 1.1929\n",
      "Epoch 38/500\n",
      "\u001b[1m23/23\u001b[0m \u001b[32m━━━━━━━━━━━━━━━━━━━━\u001b[0m\u001b[37m\u001b[0m \u001b[1m2s\u001b[0m 78ms/step - accuracy: 0.3940 - loss: 1.2050 - val_accuracy: 0.4396 - val_loss: 1.1930\n",
      "Epoch 39/500\n",
      "\u001b[1m23/23\u001b[0m \u001b[32m━━━━━━━━━━━━━━━━━━━━\u001b[0m\u001b[37m\u001b[0m \u001b[1m1s\u001b[0m 64ms/step - accuracy: 0.4106 - loss: 1.2414 - val_accuracy: 0.4396 - val_loss: 1.2003\n",
      "Epoch 40/500\n",
      "\u001b[1m23/23\u001b[0m \u001b[32m━━━━━━━━━━━━━━━━━━━━\u001b[0m\u001b[37m\u001b[0m \u001b[1m1s\u001b[0m 64ms/step - accuracy: 0.4280 - loss: 1.2037 - val_accuracy: 0.4231 - val_loss: 1.2000\n",
      "Epoch 41/500\n",
      "\u001b[1m23/23\u001b[0m \u001b[32m━━━━━━━━━━━━━━━━━━━━\u001b[0m\u001b[37m\u001b[0m \u001b[1m1s\u001b[0m 54ms/step - accuracy: 0.4016 - loss: 1.2099 - val_accuracy: 0.4121 - val_loss: 1.2048\n",
      "Epoch 42/500\n",
      "\u001b[1m23/23\u001b[0m \u001b[32m━━━━━━━━━━━━━━━━━━━━\u001b[0m\u001b[37m\u001b[0m \u001b[1m1s\u001b[0m 56ms/step - accuracy: 0.4003 - loss: 1.2252 - val_accuracy: 0.4451 - val_loss: 1.1908\n",
      "Epoch 43/500\n",
      "\u001b[1m23/23\u001b[0m \u001b[32m━━━━━━━━━━━━━━━━━━━━\u001b[0m\u001b[37m\u001b[0m \u001b[1m1s\u001b[0m 57ms/step - accuracy: 0.4410 - loss: 1.1918 - val_accuracy: 0.4341 - val_loss: 1.1936\n",
      "Epoch 44/500\n",
      "\u001b[1m23/23\u001b[0m \u001b[32m━━━━━━━━━━━━━━━━━━━━\u001b[0m\u001b[37m\u001b[0m \u001b[1m1s\u001b[0m 62ms/step - accuracy: 0.4004 - loss: 1.2384 - val_accuracy: 0.4286 - val_loss: 1.1922\n",
      "Epoch 45/500\n",
      "\u001b[1m23/23\u001b[0m \u001b[32m━━━━━━━━━━━━━━━━━━━━\u001b[0m\u001b[37m\u001b[0m \u001b[1m2s\u001b[0m 65ms/step - accuracy: 0.4640 - loss: 1.1696 - val_accuracy: 0.4396 - val_loss: 1.1953\n",
      "Epoch 46/500\n",
      "\u001b[1m23/23\u001b[0m \u001b[32m━━━━━━━━━━━━━━━━━━━━\u001b[0m\u001b[37m\u001b[0m \u001b[1m1s\u001b[0m 63ms/step - accuracy: 0.4641 - loss: 1.2005 - val_accuracy: 0.4451 - val_loss: 1.1936\n",
      "Epoch 47/500\n",
      "\u001b[1m23/23\u001b[0m \u001b[32m━━━━━━━━━━━━━━━━━━━━\u001b[0m\u001b[37m\u001b[0m \u001b[1m1s\u001b[0m 64ms/step - accuracy: 0.4694 - loss: 1.1895 - val_accuracy: 0.4341 - val_loss: 1.1838\n",
      "Epoch 48/500\n",
      "\u001b[1m23/23\u001b[0m \u001b[32m━━━━━━━━━━━━━━━━━━━━\u001b[0m\u001b[37m\u001b[0m \u001b[1m1s\u001b[0m 57ms/step - accuracy: 0.3972 - loss: 1.2198 - val_accuracy: 0.4231 - val_loss: 1.1881\n",
      "Epoch 49/500\n",
      "\u001b[1m23/23\u001b[0m \u001b[32m━━━━━━━━━━━━━━━━━━━━\u001b[0m\u001b[37m\u001b[0m \u001b[1m2s\u001b[0m 68ms/step - accuracy: 0.4342 - loss: 1.2232 - val_accuracy: 0.4286 - val_loss: 1.1847\n",
      "Epoch 50/500\n",
      "\u001b[1m23/23\u001b[0m \u001b[32m━━━━━━━━━━━━━━━━━━━━\u001b[0m\u001b[37m\u001b[0m \u001b[1m2s\u001b[0m 68ms/step - accuracy: 0.3953 - loss: 1.1796 - val_accuracy: 0.4396 - val_loss: 1.1868\n",
      "Epoch 51/500\n",
      "\u001b[1m23/23\u001b[0m \u001b[32m━━━━━━━━━━━━━━━━━━━━\u001b[0m\u001b[37m\u001b[0m \u001b[1m2s\u001b[0m 86ms/step - accuracy: 0.4544 - loss: 1.2001 - val_accuracy: 0.4396 - val_loss: 1.1917\n",
      "Epoch 52/500\n",
      "\u001b[1m23/23\u001b[0m \u001b[32m━━━━━━━━━━━━━━━━━━━━\u001b[0m\u001b[37m\u001b[0m \u001b[1m2s\u001b[0m 70ms/step - accuracy: 0.4044 - loss: 1.1801 - val_accuracy: 0.4396 - val_loss: 1.1901\n",
      "Epoch 53/500\n",
      "\u001b[1m23/23\u001b[0m \u001b[32m━━━━━━━━━━━━━━━━━━━━\u001b[0m\u001b[37m\u001b[0m \u001b[1m2s\u001b[0m 74ms/step - accuracy: 0.3955 - loss: 1.2089 - val_accuracy: 0.4396 - val_loss: 1.1891\n",
      "Epoch 54/500\n",
      "\u001b[1m23/23\u001b[0m \u001b[32m━━━━━━━━━━━━━━━━━━━━\u001b[0m\u001b[37m\u001b[0m \u001b[1m2s\u001b[0m 74ms/step - accuracy: 0.4247 - loss: 1.1999 - val_accuracy: 0.4176 - val_loss: 1.1856\n",
      "Epoch 55/500\n",
      "\u001b[1m23/23\u001b[0m \u001b[32m━━━━━━━━━━━━━━━━━━━━\u001b[0m\u001b[37m\u001b[0m \u001b[1m3s\u001b[0m 129ms/step - accuracy: 0.4425 - loss: 1.2164 - val_accuracy: 0.4286 - val_loss: 1.1886\n",
      "Epoch 56/500\n",
      "\u001b[1m23/23\u001b[0m \u001b[32m━━━━━━━━━━━━━━━━━━━━\u001b[0m\u001b[37m\u001b[0m \u001b[1m2s\u001b[0m 72ms/step - accuracy: 0.4053 - loss: 1.1967 - val_accuracy: 0.4505 - val_loss: 1.1864\n",
      "Epoch 57/500\n",
      "\u001b[1m23/23\u001b[0m \u001b[32m━━━━━━━━━━━━━━━━━━━━\u001b[0m\u001b[37m\u001b[0m \u001b[1m2s\u001b[0m 70ms/step - accuracy: 0.4077 - loss: 1.2079 - val_accuracy: 0.4231 - val_loss: 1.1992\n"
     ]
    }
   ],
   "source": [
    "from sklearn.utils.class_weight import compute_class_weight\n",
    "import tensorflow as tf\n",
    "\n",
    "model2 = model_initial_data(data_shape=(100, 1), num_classes=y_train_enc.shape[1])\n",
    "model2.summary()\n",
    "\n",
    "weights_2 = compute_class_weight(\n",
    "    class_weight='balanced',\n",
    "    classes=np.unique(y_train),\n",
    "    y=y_train\n",
    ")\n",
    "\n",
    "weights_2 = dict(enumerate(weights_2))\n",
    "\n",
    "# Train the model\n",
    "history_2 = model2.fit(\n",
    "    train_scaled.reshape(-1, 100, 1),\n",
    "    y_train_enc,\n",
    "    validation_data=(\n",
    "        val_scaled.reshape(-1, 100, 1),\n",
    "        y_val_enc\n",
    "    ),\n",
    "    epochs=500,\n",
    "    batch_size=32,\n",
    "    verbose=1,\n",
    "    class_weight=weights_2,\n",
    "    callbacks=[\n",
    "        tf.keras.callbacks.EarlyStopping(\n",
    "            monitor='val_loss',\n",
    "            patience=10,\n",
    "            restore_best_weights=True\n",
    "        )\n",
    "    ]\n",
    ")"
   ]
  },
  {
   "cell_type": "code",
   "execution_count": 426,
   "id": "d538990d",
   "metadata": {},
   "outputs": [
    {
     "data": {
      "image/png": "[encoded data removed]",
      "text/plain": [
       "<Figure size 1200x400 with 2 Axes>"
      ]
     },
     "metadata": {},
     "output_type": "display_data"
    }
   ],
   "source": [
    "# Plot training & validation accuracy values\n",
    "import matplotlib.pyplot as plt\n",
    "plt.figure(figsize=(12, 4))\n",
    "plt.subplot(1, 2, 1)\n",
    "plt.plot(history_2.history['accuracy'])\n",
    "plt.plot(history_2.history['val_accuracy'])\n",
    "plt.title('Model accuracy')\n",
    "plt.ylabel('Accuracy')\n",
    "plt.xlabel('Epoch')\n",
    "plt.legend(['Train', 'Test'], loc='upper left')\n",
    "plt.grid(linestyle='--', alpha=0.6)\n",
    "# Plot training & validation loss values\n",
    "plt.subplot(1, 2, 2)\n",
    "plt.plot(history_2.history['loss'])\n",
    "plt.plot(history_2.history['val_loss'])\n",
    "plt.title('Model loss')\n",
    "plt.ylabel('Loss')\n",
    "plt.xlabel('Epoch')\n",
    "plt.legend(['Train', 'Test'], loc='upper left')\n",
    "plt.grid(linestyle='--', alpha=0.6)\n",
    "plt.show()"
   ]
  },
  {
   "cell_type": "code",
   "execution_count": 427,
   "id": "f4040afa",
   "metadata": {},
   "outputs": [],
   "source": [
    "# evaluate the model\n",
    "test_loss_2, test_accuracy_2 = model2.evaluate(\n",
    "    test_scaled.reshape(-1, 100, 1),\n",
    "    y_test_enc,\n",
    "    verbose=0\n",
    ")"
   ]
  },
  {
   "cell_type": "code",
   "execution_count": 428,
   "id": "c9bde768",
   "metadata": {},
   "outputs": [
    {
     "name": "stdout",
     "output_type": "stream",
     "text": [
      "Test Accuracy: 0.4273\n",
      "\u001b[1m8/8\u001b[0m \u001b[32m━━━━━━━━━━━━━━━━━━━━\u001b[0m\u001b[37m\u001b[0m \u001b[1m1s\u001b[0m 74ms/step\n",
      "              precision    recall  f1-score   support\n",
      "\n",
      "         Low       0.26      0.64      0.38        28\n",
      "      Medium       0.47      0.36      0.41        78\n",
      " Medium High       0.20      0.09      0.12        46\n",
      "        High       0.59      0.63      0.61        75\n",
      "\n",
      "    accuracy                           0.43       227\n",
      "   macro avg       0.38      0.43      0.38       227\n",
      "weighted avg       0.43      0.43      0.41       227\n",
      "\n"
     ]
    }
   ],
   "source": [
    "# sort the labels as Low, Medium, Medium High, High\n",
    "labels = ['Low', 'Medium', 'Medium High', 'High']\n",
    "\n",
    "# classification report\n",
    "from sklearn.metrics import classification_report\n",
    "print(f'Test Accuracy: {test_accuracy_2:.4f}')\n",
    "y_pred_probs = model2.predict(\n",
    "    test_scaled.reshape(-1, 100, 1)\n",
    ")\n",
    "y_pred = label_encoder.inverse_transform(np.argmax(y_pred_probs, axis=1))\n",
    "print(classification_report(y_test, y_pred, labels=labels))"
   ]
  },
  {
   "cell_type": "code",
   "execution_count": 429,
   "id": "a6b4ea70",
   "metadata": {},
   "outputs": [
    {
     "name": "stdout",
     "output_type": "stream",
     "text": [
      "\u001b[1m6/6\u001b[0m \u001b[32m━━━━━━━━━━━━━━━━━━━━\u001b[0m\u001b[37m\u001b[0m \u001b[1m0s\u001b[0m 15ms/step\n"
     ]
    },
    {
     "data": {
      "image/png": "[encoded data removed]",
      "text/plain": [
       "<Figure size 500x500 with 1 Axes>"
      ]
     },
     "metadata": {},
     "output_type": "display_data"
    }
   ],
   "source": [
    "from sklearn.metrics import confusion_matrix\n",
    "import numpy as np\n",
    "import seaborn as sns\n",
    "import matplotlib.pyplot as plt\n",
    "\n",
    "# Assuming these variables are defined elsewhere in your notebook\n",
    "# model2, val_scaled, label_encoder, y_val\n",
    "\n",
    "# Predict on validation set\n",
    "val_pred_probs = model2.predict(\n",
    "    val_scaled.reshape(-1, 100, 1)\n",
    ")\n",
    "val_pred = label_encoder.inverse_transform(np.argmax(val_pred_probs, axis=1))\n",
    "\n",
    "# Compute sorted confusion matrix\n",
    "# The key change is passing the `labels` variable directly to the function\n",
    "cm_val = confusion_matrix(y_val, val_pred, labels=labels)\n",
    "\n",
    "# Plot confusion matrix\n",
    "plt.figure(figsize=(5, 5))\n",
    "# Sorted heatmap\n",
    "# Another key change is setting xticklabels and yticklabels to the `labels` variable\n",
    "sns.heatmap(\n",
    "    cm_val, annot=True, fmt='d',\n",
    "    xticklabels=labels,\n",
    "    yticklabels=labels,\n",
    "    cmap='Reds', cbar=False,\n",
    ")\n",
    "plt.ylabel('Actual')\n",
    "plt.xlabel('Predicted')\n",
    "plt.title('Validation Confusion Matrix')\n",
    "plt.show()"
   ]
  },
  {
   "cell_type": "code",
   "execution_count": 430,
   "id": "c50415d6",
   "metadata": {},
   "outputs": [],
   "source": [
    "# from statsmodels.tsa.seasonal import seasonal_decompose\n",
    "\n",
    "# # Preprocessing\n",
    "# # For TS part (records '0', '1', ... '99') extract seasonality, trend, residuals\n",
    "\n",
    "# def decompose_ts(row):\n",
    "#     ts = row[ts_columns].values\n",
    "#     # Fill missing values if any\n",
    "#     ts = pd.Series(ts).fillna(method='ffill').fillna(method='bfill')\n",
    "#     # Decompose (period can be tuned, here set to 12 for example)\n",
    "#     result = seasonal_decompose(ts, model='additive', period=12, extrapolate_trend='freq')\n",
    "#     return pd.Series({\n",
    "#         'trend': result.trend.values,\n",
    "#         'seasonal': result.seasonal.values,\n",
    "#         'residual': result.resid.values\n",
    "#     })\n",
    "\n",
    "# # Apply decomposition to train_df\n",
    "# train_decomp = train_df.apply(decompose_ts, axis=1)\n",
    "# val_decomp = val_df.apply(decompose_ts, axis=1)\n",
    "# test_decomp = test_df.apply(decompose_ts, axis=1)"
   ]
  },
  {
   "cell_type": "code",
   "execution_count": 431,
   "id": "ec80d403",
   "metadata": {},
   "outputs": [],
   "source": [
    "# train_decomp.head()"
   ]
  },
  {
   "cell_type": "code",
   "execution_count": 432,
   "id": "29b6b7e8",
   "metadata": {},
   "outputs": [],
   "source": [
    "# # Standard scale the components\n",
    "# from sklearn.preprocessing import StandardScaler\n",
    "# scaler = StandardScaler()\n",
    "# train_trend_scaled = scaler.fit_transform(pd.DataFrame(train_decomp['trend'].tolist()))\n",
    "# train_seasonal_scaled = scaler.fit_transform(pd.DataFrame(train_decomp['seasonal'].tolist()))\n",
    "# train_residual_scaled = scaler.fit_transform(pd.DataFrame(train_decomp['residual'].tolist()))\n",
    "\n",
    "# train_merge = pd.DataFrame({\n",
    "#     'trend': list(train_trend_scaled),\n",
    "#     'seasonal': list(train_seasonal_scaled),\n",
    "#     'residual': list(train_residual_scaled)\n",
    "# })\n",
    "\n",
    "# val_trend_scaled = scaler.transform(pd.DataFrame(val_decomp['trend'].tolist()))\n",
    "# val_seasonal_scaled = scaler.transform(pd.DataFrame(val_decomp['seasonal'].tolist()))\n",
    "# val_residual_scaled = scaler.transform(pd.DataFrame(val_decomp['residual'].tolist()))\n",
    "\n",
    "# val_merge = pd.DataFrame({\n",
    "#     'trend': list(val_trend_scaled),\n",
    "#     'seasonal': list(val_seasonal_scaled),\n",
    "#     'residual': list(val_residual_scaled)\n",
    "# })\n",
    "\n",
    "\n",
    "# test_trend_scaled = scaler.transform(pd.DataFrame(test_decomp['trend'].tolist()))\n",
    "# test_seasonal_scaled = scaler.transform(pd.DataFrame(test_decomp['seasonal'].tolist()))\n",
    "# test_residual_scaled = scaler.transform(pd.DataFrame(test_decomp['residual'].tolist()))\n",
    "\n",
    "# test_merge = pd.DataFrame({\n",
    "#     'trend': list(test_trend_scaled),\n",
    "#     'seasonal': list(test_seasonal_scaled),\n",
    "#     'residual': list(test_residual_scaled)\n",
    "# })"
   ]
  },
  {
   "cell_type": "code",
   "execution_count": 433,
   "id": "4cfebff2",
   "metadata": {},
   "outputs": [],
   "source": [
    "# # Build a RNN model using Keras\n",
    "# from tensorflow.keras.models import Model\n",
    "# from tensorflow.keras.layers import Input, LSTM, Dense, Dropout, Add\n",
    "# from tensorflow.keras.utils import to_categorical\n",
    "# from sklearn.preprocessing import LabelEncoder\n",
    "# from tensorflow.keras.optimizers import Adam\n",
    "\n",
    "# # Encode labels\n",
    "# label_encoder = LabelEncoder()\n",
    "# y_train_enc = to_categorical(label_encoder.fit_transform(y_train))\n",
    "# y_val_enc = to_categorical(label_encoder.transform(y_val))\n",
    "# y_test_enc = to_categorical(label_encoder.transform(y_test))\n",
    "\n",
    "# # Define model\n",
    "# def build_rnn_model(residuals_shape, seasonality_shape, trend_shape, num_classes):\n",
    "#     # Residuals component\n",
    "#     inputs_residuals = Input(shape=residuals_shape)\n",
    "#     x = LSTM(64, return_sequences=False)(inputs_residuals)\n",
    "#     # x = LSTM(32, return_sequences=True)(x)\n",
    "#     # x = Dropout(0.2)(x)\n",
    "#     # x = LSTM(16, return_sequences=False)(x)\n",
    "#     x = Dropout(0.2)(x)\n",
    "#     residuals_output = Dense(8, activation='relu')(x)\n",
    "    \n",
    "#     # Seasonality component\n",
    "#     inputs_seasonal = Input(shape=seasonality_shape)\n",
    "#     y = LSTM(64, return_sequences=False)(inputs_seasonal)\n",
    "#     # y = LSTM(32, return_sequences=True)(y)\n",
    "#     # y = Dropout(0.2)(y)\n",
    "#     # y = LSTM(16, return_sequences=False)(y)\n",
    "#     y = Dropout(0.2)(y)\n",
    "#     seasonal_output = Dense(8, activation='relu')(y)\n",
    "    \n",
    "#     # Trend component\n",
    "#     inputs_trend = Input(shape=trend_shape)\n",
    "#     z = LSTM(64, return_sequences=False)(inputs_trend)\n",
    "#     # z = LSTM(32, return_sequences=True)(z)\n",
    "#     # z = Dropout(0.2)(z)\n",
    "#     # z = LSTM(16, return_sequences=False)(z)\n",
    "#     z = Dropout(0.2)(z)\n",
    "#     trend_output = Dense(8, activation='relu')(z)\n",
    "    \n",
    "    \n",
    "#     # Combine all components using the functional API's Add layer\n",
    "#     combined_tensor = Add()([residuals_output, seasonal_output, trend_output])\n",
    "#     # Final dense layers for classification\n",
    "#     d = Dense(16, activation='relu')(combined_tensor)\n",
    "#     d = Dropout(0.3)(d)\n",
    "#     d = Dense(32, activation='relu')(d)\n",
    "#     d = Dropout(0.3)(d)\n",
    "#     d = Dense(16, activation='relu')(d)\n",
    "#     d = Dropout(0.3)(d)\n",
    "    \n",
    "#     outputs = Dense(num_classes, activation='softmax')(d)\n",
    "    \n",
    "#     model = Model(inputs=[inputs_residuals, inputs_seasonal, inputs_trend], outputs=outputs)\n",
    "#     model.compile(optimizer=Adam(learning_rate=0.0005), loss='categorical_crossentropy', metrics=['accuracy'])\n",
    "#     return model"
   ]
  },
  {
   "cell_type": "code",
   "execution_count": 434,
   "id": "9b2fdc40",
   "metadata": {},
   "outputs": [],
   "source": [
    "# model = build_rnn_model(\n",
    "#     residuals_shape=(100, 1),\n",
    "#     seasonality_shape=(100, 1),\n",
    "#     trend_shape=(100, 1),\n",
    "#     num_classes=y_train_enc.shape[1]\n",
    "# )\n",
    "# model.summary()"
   ]
  },
  {
   "cell_type": "code",
   "execution_count": 435,
   "id": "27033059",
   "metadata": {},
   "outputs": [],
   "source": [
    "# from sklearn.utils.class_weight import compute_class_weight\n",
    "\n",
    "# weights = compute_class_weight(\n",
    "#     class_weight=\"balanced\",\n",
    "#     classes=np.unique(y_train),\n",
    "#     y=y_train\n",
    "# )\n",
    "\n",
    "# weights = dict(enumerate(weights))\n",
    "\n",
    "# # Train the model\n",
    "# history = model.fit(\n",
    "#     [train_residual_scaled.reshape(-1, 100, 1),\n",
    "#      train_seasonal_scaled.reshape(-1, 100, 1),\n",
    "#      train_trend_scaled.reshape(-1, 100, 1)],\n",
    "#     y_train_enc,\n",
    "#     validation_data=(\n",
    "#         [val_residual_scaled.reshape(-1, 100, 1),\n",
    "#          val_seasonal_scaled.reshape(-1, 100, 1),\n",
    "#          val_trend_scaled.reshape(-1, 100, 1)],\n",
    "#         y_val_enc\n",
    "#     ),\n",
    "#     class_weight=weights,\n",
    "#     epochs=50,\n",
    "#     batch_size=32,\n",
    "#     verbose=1,\n",
    "# )\n",
    "\n",
    "# # Evaluate the model\n",
    "# test_loss, test_accuracy = model.evaluate(\n",
    "#     [test_residual_scaled.reshape(-1, 100, 1),\n",
    "#      test_seasonal_scaled.reshape(-1, 100, 1),\n",
    "#      test_trend_scaled.reshape(-1, 100, 1)],\n",
    "#     y_test_enc,\n",
    "#     verbose=0\n",
    "# )\n",
    "# print(f'Test Accuracy: {test_accuracy:.4f}')"
   ]
  },
  {
   "cell_type": "code",
   "execution_count": 436,
   "id": "56d09a1c",
   "metadata": {},
   "outputs": [],
   "source": [
    "# # Plot training & validation accuracy values\n",
    "# import matplotlib.pyplot as plt\n",
    "# plt.figure(figsize=(12, 4))\n",
    "# plt.subplot(1, 2, 1)\n",
    "# plt.plot(history.history['accuracy'])\n",
    "# plt.plot(history.history['val_accuracy'])\n",
    "# plt.title('Model accuracy')\n",
    "# plt.ylabel('Accuracy')\n",
    "# plt.xlabel('Epoch')\n",
    "# plt.legend(['Train', 'Test'], loc='upper left')\n",
    "# plt.grid(linestyle='--', alpha=0.6)\n",
    "# # Plot training & validation loss values\n",
    "# plt.subplot(1, 2, 2)\n",
    "# plt.plot(history.history['loss'])\n",
    "# plt.plot(history.history['val_loss'])\n",
    "# plt.title('Model loss')\n",
    "# plt.ylabel('Loss')\n",
    "# plt.xlabel('Epoch')\n",
    "# plt.legend(['Train', 'Test'], loc='upper left')\n",
    "\n",
    "# plt.grid(linestyle='--', alpha=0.6)\n",
    "# plt.show()"
   ]
  },
  {
   "cell_type": "code",
   "execution_count": 437,
   "id": "b5082129",
   "metadata": {},
   "outputs": [],
   "source": [
    "# # classification report\n",
    "# from sklearn.metrics import classification_report, confusion_matrix\n",
    "\n",
    "# y_pred_probs = model.predict(\n",
    "#     [test_residual_scaled.reshape(-1, 100, 1),\n",
    "#      test_seasonal_scaled.reshape(-1, 100, 1),\n",
    "#      test_trend_scaled.reshape(-1, 100, 1)]\n",
    "# )\n",
    "# y_pred = label_encoder.inverse_transform(np.argmax(y_pred_probs, axis=1))\n",
    "# print(classification_report(y_test, y_pred))"
   ]
  },
  {
   "cell_type": "code",
   "execution_count": 438,
   "id": "6986728a",
   "metadata": {},
   "outputs": [],
   "source": [
    "# import seaborn as sns\n",
    "# cm = confusion_matrix(y_test, y_pred, labels=label_encoder.classes_)\n",
    "# plt.figure(figsize=(5, 5))\n",
    "# sns.heatmap(cm, annot=True, fmt='d',\n",
    "#             xticklabels=label_encoder.classes_, yticklabels=label_encoder.classes_, cmap='Reds', cbar=False)\n",
    "# plt.ylabel('Actual')\n",
    "# plt.xlabel('Predicted')\n",
    "# plt.title('Confusion Matrix')\n",
    "# plt.show()"
   ]
  },
  {
   "cell_type": "code",
   "execution_count": 439,
   "id": "33231bdc",
   "metadata": {},
   "outputs": [],
   "source": [
    "# # Plot ROC curves for each class\n",
    "\n",
    "# from sklearn.metrics import roc_curve, auc\n",
    "# from sklearn.preprocessing import label_binarize\n",
    "# y_test_binarized = label_binarize(y_test, classes=label_encoder.classes_)\n",
    "# n_classes = y_test_binarized.shape[1]\n",
    "# fpr = dict()\n",
    "# tpr = dict()\n",
    "# roc_auc = dict()\n",
    "# for i in range(n_classes):\n",
    "#     fpr[i], tpr[i], _ = roc_curve(y_test_binarized[:, i], y_pred_probs[:, i])\n",
    "#     roc_auc[i] = auc(fpr[i], tpr[i])\n",
    "# # Plot all ROC curves\n",
    "# plt.figure(figsize=(6, 5))\n",
    "# colors = ['blue', 'green', 'red', 'orange']\n",
    "# for i, color in zip(range(n_classes), colors):\n",
    "#     plt.plot(fpr[i], tpr[i], color=color, lw=2,\n",
    "#              label='ROC curve of class {0} (area = {1:0.2f})'\n",
    "#              ''.format(label_encoder.classes_[i], roc_auc[i]))\n",
    "# plt.plot([0, 1], [0, 1], 'k--', lw=2)\n",
    "# plt.xlim([0.0, 1.0])\n",
    "# plt.ylim([0.0, 1.05])\n",
    "# plt.xlabel('False Positive Rate')\n",
    "# plt.ylabel('True Positive Rate')\n",
    "# plt.title('Receiver Operating Characteristic (ROC) Curves')\n",
    "# plt.legend(loc=\"lower right\")\n",
    "# plt.grid(linestyle='--', alpha=0.6)\n",
    "# plt.show()"
   ]
  }
 ],
 "metadata": {
  "kernelspec": {
   "display_name": "Python 3",
   "language": "python",
   "name": "python3"
  },
  "language_info": {
   "codemirror_mode": {
    "name": "ipython",
    "version": 3
   },
   "file_extension": ".py",
   "mimetype": "text/x-python",
   "name": "python",
   "nbconvert_exporter": "python",
   "pygments_lexer": "ipython3",
   "version": "3.11.1"
  }
 },
 "nbformat": 4,
 "nbformat_minor": 5
}
