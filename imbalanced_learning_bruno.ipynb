{
 "cells": [
  {
   "cell_type": "code",
   "execution_count": 1,
   "id": "5238d449",
   "metadata": {},
   "outputs": [],
   "source": [
    "from support.df_init import init\n",
    "\n",
    "df = init()"
   ]
  },
  {
   "cell_type": "code",
   "execution_count": 2,
   "id": "39518b4d",
   "metadata": {
    "vscode": {
     "languageId": "ruby"
    }
   },
   "outputs": [
    {
     "data": {
      "text/html": [
       "<div>\n",
       "<style scoped>\n",
       "    .dataframe tbody tr th:only-of-type {\n",
       "        vertical-align: middle;\n",
       "    }\n",
       "\n",
       "    .dataframe tbody tr th {\n",
       "        vertical-align: top;\n",
       "    }\n",
       "\n",
       "    .dataframe thead th {\n",
       "        text-align: right;\n",
       "    }\n",
       "</style>\n",
       "<table border=\"1\" class=\"dataframe\">\n",
       "  <thead>\n",
       "    <tr style=\"text-align: right;\">\n",
       "      <th></th>\n",
       "      <th>awful_rating</th>\n",
       "      <th>medium_rating</th>\n",
       "      <th>high_rating</th>\n",
       "    </tr>\n",
       "  </thead>\n",
       "  <tbody>\n",
       "    <tr>\n",
       "      <th>0</th>\n",
       "      <td>0</td>\n",
       "      <td>1</td>\n",
       "      <td>0</td>\n",
       "    </tr>\n",
       "    <tr>\n",
       "      <th>1</th>\n",
       "      <td>0</td>\n",
       "      <td>1</td>\n",
       "      <td>0</td>\n",
       "    </tr>\n",
       "    <tr>\n",
       "      <th>2</th>\n",
       "      <td>0</td>\n",
       "      <td>1</td>\n",
       "      <td>0</td>\n",
       "    </tr>\n",
       "    <tr>\n",
       "      <th>3</th>\n",
       "      <td>0</td>\n",
       "      <td>1</td>\n",
       "      <td>0</td>\n",
       "    </tr>\n",
       "    <tr>\n",
       "      <th>4</th>\n",
       "      <td>0</td>\n",
       "      <td>0</td>\n",
       "      <td>1</td>\n",
       "    </tr>\n",
       "    <tr>\n",
       "      <th>...</th>\n",
       "      <td>...</td>\n",
       "      <td>...</td>\n",
       "      <td>...</td>\n",
       "    </tr>\n",
       "    <tr>\n",
       "      <th>149526</th>\n",
       "      <td>0</td>\n",
       "      <td>1</td>\n",
       "      <td>0</td>\n",
       "    </tr>\n",
       "    <tr>\n",
       "      <th>149527</th>\n",
       "      <td>0</td>\n",
       "      <td>1</td>\n",
       "      <td>0</td>\n",
       "    </tr>\n",
       "    <tr>\n",
       "      <th>149528</th>\n",
       "      <td>0</td>\n",
       "      <td>1</td>\n",
       "      <td>0</td>\n",
       "    </tr>\n",
       "    <tr>\n",
       "      <th>149529</th>\n",
       "      <td>0</td>\n",
       "      <td>0</td>\n",
       "      <td>1</td>\n",
       "    </tr>\n",
       "    <tr>\n",
       "      <th>149530</th>\n",
       "      <td>0</td>\n",
       "      <td>0</td>\n",
       "      <td>1</td>\n",
       "    </tr>\n",
       "  </tbody>\n",
       "</table>\n",
       "<p>149531 rows × 3 columns</p>\n",
       "</div>"
      ],
      "text/plain": [
       "        awful_rating  medium_rating  high_rating\n",
       "0                  0              1            0\n",
       "1                  0              1            0\n",
       "2                  0              1            0\n",
       "3                  0              1            0\n",
       "4                  0              0            1\n",
       "...              ...            ...          ...\n",
       "149526             0              1            0\n",
       "149527             0              1            0\n",
       "149528             0              1            0\n",
       "149529             0              0            1\n",
       "149530             0              0            1\n",
       "\n",
       "[149531 rows x 3 columns]"
      ]
     },
     "execution_count": 2,
     "metadata": {},
     "output_type": "execute_result"
    }
   ],
   "source": [
    "df['awful_rating'] = ((df['averageRating'] >= 0) & (df['averageRating'] <= 4)).astype(int)\n",
    "# df['low_rating'] = ((df['averageRating'] > 4) & (df['averageRating'] <= 5)).astype(int)\n",
    "df['medium_rating'] = ((df['averageRating'] > 4) & (df['averageRating'] <= 7)).astype(int)\n",
    "df['high_rating'] = ((df['averageRating'] > 7) & (df['averageRating'] <= 10)).astype(int)\n",
    "\n",
    "df[['awful_rating', 'medium_rating', 'high_rating']]"
   ]
  },
  {
   "cell_type": "code",
   "execution_count": 3,
   "id": "a9c63cd3",
   "metadata": {},
   "outputs": [
    {
     "name": "stdout",
     "output_type": "stream",
     "text": [
      "awful_rating      3.468846\n",
      "medium_rating    46.439869\n",
      "high_rating      50.091285\n",
      "dtype: float64\n"
     ]
    }
   ],
   "source": [
    "rating_features = ['awful_rating', 'medium_rating', 'high_rating', ]\n",
    "percentages = (df[rating_features].sum() / len(df)) * 100\n",
    "print(percentages)"
   ]
  },
  {
   "cell_type": "code",
   "execution_count": 4,
   "id": "f78cd4e5",
   "metadata": {},
   "outputs": [],
   "source": [
    "from sklearn.model_selection import train_test_split\n",
    "from sklearn.model_selection import StratifiedShuffleSplit\n",
    "\n",
    "# Splitting the dataset into training and testing sets while maintaining the same ratio of rating features\n",
    "\n",
    "split = StratifiedShuffleSplit(n_splits=1, test_size=0.2, random_state=42)\n",
    "for train_index, test_index in split.split(df, df[rating_features]):\n",
    "    train_set = df.loc[train_index]\n",
    "    test_set = df.loc[test_index]\n",
    "train_set, test_set = train_test_split(df, test_size=0.3, random_state=42)\n",
    "train_set.to_csv(\"dm2_dataset_2425_imdb/imbalanced_train_70.csv\", index=False)\n",
    "test_set.to_csv(\"dm2_dataset_2425_imdb/imbalanced_test_30.csv\", index=False)"
   ]
  },
  {
   "cell_type": "code",
   "execution_count": 5,
   "id": "67d03d20",
   "metadata": {},
   "outputs": [
    {
     "data": {
      "text/html": [
       "<div>\n",
       "<style scoped>\n",
       "    .dataframe tbody tr th:only-of-type {\n",
       "        vertical-align: middle;\n",
       "    }\n",
       "\n",
       "    .dataframe tbody tr th {\n",
       "        vertical-align: top;\n",
       "    }\n",
       "\n",
       "    .dataframe thead th {\n",
       "        text-align: right;\n",
       "    }\n",
       "</style>\n",
       "<table border=\"1\" class=\"dataframe\">\n",
       "  <thead>\n",
       "    <tr style=\"text-align: right;\">\n",
       "      <th></th>\n",
       "      <th>originalTitle</th>\n",
       "      <th>rating</th>\n",
       "      <th>startYear</th>\n",
       "      <th>endYear</th>\n",
       "      <th>runtimeMinutes</th>\n",
       "      <th>awardWins</th>\n",
       "      <th>numVotes</th>\n",
       "      <th>worstRating</th>\n",
       "      <th>bestRating</th>\n",
       "      <th>totalImages</th>\n",
       "      <th>...</th>\n",
       "      <th>countryOfOrigin_AF</th>\n",
       "      <th>countryOfOrigin_AS</th>\n",
       "      <th>countryOfOrigin_EU</th>\n",
       "      <th>countryOfOrigin_OC</th>\n",
       "      <th>countryOfOrigin_SA</th>\n",
       "      <th>countryOfOrigin_UNK</th>\n",
       "      <th>reviewsTotal</th>\n",
       "      <th>awful_rating</th>\n",
       "      <th>medium_rating</th>\n",
       "      <th>high_rating</th>\n",
       "    </tr>\n",
       "  </thead>\n",
       "  <tbody>\n",
       "    <tr>\n",
       "      <th>35104</th>\n",
       "      <td>Wild Force</td>\n",
       "      <td>(4, 5]</td>\n",
       "      <td>1986</td>\n",
       "      <td>1986.0</td>\n",
       "      <td>84.0</td>\n",
       "      <td>0</td>\n",
       "      <td>21</td>\n",
       "      <td>1</td>\n",
       "      <td>10</td>\n",
       "      <td>4</td>\n",
       "      <td>...</td>\n",
       "      <td>0</td>\n",
       "      <td>1</td>\n",
       "      <td>0</td>\n",
       "      <td>0</td>\n",
       "      <td>0</td>\n",
       "      <td>0</td>\n",
       "      <td>4</td>\n",
       "      <td>0</td>\n",
       "      <td>1</td>\n",
       "      <td>0</td>\n",
       "    </tr>\n",
       "    <tr>\n",
       "      <th>90639</th>\n",
       "      <td>Ture Sventon och jakten på ungdomens källa</td>\n",
       "      <td>(7, 8]</td>\n",
       "      <td>2021</td>\n",
       "      <td>NaN</td>\n",
       "      <td>NaN</td>\n",
       "      <td>0</td>\n",
       "      <td>66</td>\n",
       "      <td>1</td>\n",
       "      <td>10</td>\n",
       "      <td>11</td>\n",
       "      <td>...</td>\n",
       "      <td>0</td>\n",
       "      <td>0</td>\n",
       "      <td>1</td>\n",
       "      <td>0</td>\n",
       "      <td>0</td>\n",
       "      <td>0</td>\n",
       "      <td>0</td>\n",
       "      <td>0</td>\n",
       "      <td>0</td>\n",
       "      <td>1</td>\n",
       "    </tr>\n",
       "    <tr>\n",
       "      <th>9488</th>\n",
       "      <td>Kaala Sona</td>\n",
       "      <td>(6, 7]</td>\n",
       "      <td>1975</td>\n",
       "      <td>1975.0</td>\n",
       "      <td>137.0</td>\n",
       "      <td>0</td>\n",
       "      <td>93</td>\n",
       "      <td>1</td>\n",
       "      <td>10</td>\n",
       "      <td>14</td>\n",
       "      <td>...</td>\n",
       "      <td>0</td>\n",
       "      <td>1</td>\n",
       "      <td>0</td>\n",
       "      <td>0</td>\n",
       "      <td>0</td>\n",
       "      <td>0</td>\n",
       "      <td>4</td>\n",
       "      <td>0</td>\n",
       "      <td>1</td>\n",
       "      <td>0</td>\n",
       "    </tr>\n",
       "    <tr>\n",
       "      <th>36627</th>\n",
       "      <td>Deu Veado na Cabeça</td>\n",
       "      <td>(3, 4]</td>\n",
       "      <td>1982</td>\n",
       "      <td>1982.0</td>\n",
       "      <td>90.0</td>\n",
       "      <td>0</td>\n",
       "      <td>34</td>\n",
       "      <td>1</td>\n",
       "      <td>10</td>\n",
       "      <td>1</td>\n",
       "      <td>...</td>\n",
       "      <td>0</td>\n",
       "      <td>0</td>\n",
       "      <td>0</td>\n",
       "      <td>0</td>\n",
       "      <td>1</td>\n",
       "      <td>0</td>\n",
       "      <td>0</td>\n",
       "      <td>1</td>\n",
       "      <td>0</td>\n",
       "      <td>0</td>\n",
       "    </tr>\n",
       "    <tr>\n",
       "      <th>133214</th>\n",
       "      <td>10 Homes That Changed America</td>\n",
       "      <td>(7, 8]</td>\n",
       "      <td>2016</td>\n",
       "      <td>2016.0</td>\n",
       "      <td>56.0</td>\n",
       "      <td>0</td>\n",
       "      <td>41</td>\n",
       "      <td>1</td>\n",
       "      <td>10</td>\n",
       "      <td>3</td>\n",
       "      <td>...</td>\n",
       "      <td>0</td>\n",
       "      <td>0</td>\n",
       "      <td>0</td>\n",
       "      <td>0</td>\n",
       "      <td>0</td>\n",
       "      <td>0</td>\n",
       "      <td>0</td>\n",
       "      <td>0</td>\n",
       "      <td>0</td>\n",
       "      <td>1</td>\n",
       "    </tr>\n",
       "    <tr>\n",
       "      <th>...</th>\n",
       "      <td>...</td>\n",
       "      <td>...</td>\n",
       "      <td>...</td>\n",
       "      <td>...</td>\n",
       "      <td>...</td>\n",
       "      <td>...</td>\n",
       "      <td>...</td>\n",
       "      <td>...</td>\n",
       "      <td>...</td>\n",
       "      <td>...</td>\n",
       "      <td>...</td>\n",
       "      <td>...</td>\n",
       "      <td>...</td>\n",
       "      <td>...</td>\n",
       "      <td>...</td>\n",
       "      <td>...</td>\n",
       "      <td>...</td>\n",
       "      <td>...</td>\n",
       "      <td>...</td>\n",
       "      <td>...</td>\n",
       "      <td>...</td>\n",
       "    </tr>\n",
       "    <tr>\n",
       "      <th>119879</th>\n",
       "      <td>September Fools</td>\n",
       "      <td>(8, 9]</td>\n",
       "      <td>2013</td>\n",
       "      <td>2013.0</td>\n",
       "      <td>22.0</td>\n",
       "      <td>0</td>\n",
       "      <td>114</td>\n",
       "      <td>1</td>\n",
       "      <td>10</td>\n",
       "      <td>3</td>\n",
       "      <td>...</td>\n",
       "      <td>0</td>\n",
       "      <td>0</td>\n",
       "      <td>0</td>\n",
       "      <td>0</td>\n",
       "      <td>0</td>\n",
       "      <td>0</td>\n",
       "      <td>1</td>\n",
       "      <td>0</td>\n",
       "      <td>0</td>\n",
       "      <td>1</td>\n",
       "    </tr>\n",
       "    <tr>\n",
       "      <th>103694</th>\n",
       "      <td>Hiphop Hamlet</td>\n",
       "      <td>(7, 8]</td>\n",
       "      <td>2010</td>\n",
       "      <td>NaN</td>\n",
       "      <td>30.0</td>\n",
       "      <td>0</td>\n",
       "      <td>6</td>\n",
       "      <td>1</td>\n",
       "      <td>10</td>\n",
       "      <td>1</td>\n",
       "      <td>...</td>\n",
       "      <td>0</td>\n",
       "      <td>0</td>\n",
       "      <td>1</td>\n",
       "      <td>0</td>\n",
       "      <td>0</td>\n",
       "      <td>0</td>\n",
       "      <td>0</td>\n",
       "      <td>0</td>\n",
       "      <td>0</td>\n",
       "      <td>1</td>\n",
       "    </tr>\n",
       "    <tr>\n",
       "      <th>131932</th>\n",
       "      <td>Episode #1.12</td>\n",
       "      <td>(7, 8]</td>\n",
       "      <td>2013</td>\n",
       "      <td>2013.0</td>\n",
       "      <td>58.0</td>\n",
       "      <td>0</td>\n",
       "      <td>32</td>\n",
       "      <td>1</td>\n",
       "      <td>10</td>\n",
       "      <td>2</td>\n",
       "      <td>...</td>\n",
       "      <td>0</td>\n",
       "      <td>1</td>\n",
       "      <td>0</td>\n",
       "      <td>0</td>\n",
       "      <td>0</td>\n",
       "      <td>0</td>\n",
       "      <td>0</td>\n",
       "      <td>0</td>\n",
       "      <td>0</td>\n",
       "      <td>1</td>\n",
       "    </tr>\n",
       "    <tr>\n",
       "      <th>146867</th>\n",
       "      <td>2019 Golden Globe Awards</td>\n",
       "      <td>(5, 6]</td>\n",
       "      <td>2019</td>\n",
       "      <td>2019.0</td>\n",
       "      <td>145.0</td>\n",
       "      <td>1</td>\n",
       "      <td>487</td>\n",
       "      <td>1</td>\n",
       "      <td>10</td>\n",
       "      <td>623</td>\n",
       "      <td>...</td>\n",
       "      <td>0</td>\n",
       "      <td>0</td>\n",
       "      <td>0</td>\n",
       "      <td>0</td>\n",
       "      <td>0</td>\n",
       "      <td>0</td>\n",
       "      <td>10</td>\n",
       "      <td>0</td>\n",
       "      <td>1</td>\n",
       "      <td>0</td>\n",
       "    </tr>\n",
       "    <tr>\n",
       "      <th>121958</th>\n",
       "      <td>Brain Hacker</td>\n",
       "      <td>(7, 8]</td>\n",
       "      <td>2014</td>\n",
       "      <td>2014.0</td>\n",
       "      <td>NaN</td>\n",
       "      <td>0</td>\n",
       "      <td>9</td>\n",
       "      <td>1</td>\n",
       "      <td>10</td>\n",
       "      <td>1</td>\n",
       "      <td>...</td>\n",
       "      <td>0</td>\n",
       "      <td>0</td>\n",
       "      <td>1</td>\n",
       "      <td>0</td>\n",
       "      <td>0</td>\n",
       "      <td>0</td>\n",
       "      <td>0</td>\n",
       "      <td>0</td>\n",
       "      <td>0</td>\n",
       "      <td>1</td>\n",
       "    </tr>\n",
       "  </tbody>\n",
       "</table>\n",
       "<p>104671 rows × 55 columns</p>\n",
       "</div>"
      ],
      "text/plain": [
       "                                     originalTitle  rating  startYear  \\\n",
       "35104                                   Wild Force  (4, 5]       1986   \n",
       "90639   Ture Sventon och jakten på ungdomens källa  (7, 8]       2021   \n",
       "9488                                    Kaala Sona  (6, 7]       1975   \n",
       "36627                          Deu Veado na Cabeça  (3, 4]       1982   \n",
       "133214               10 Homes That Changed America  (7, 8]       2016   \n",
       "...                                            ...     ...        ...   \n",
       "119879                             September Fools  (8, 9]       2013   \n",
       "103694                               Hiphop Hamlet  (7, 8]       2010   \n",
       "131932                               Episode #1.12  (7, 8]       2013   \n",
       "146867                    2019 Golden Globe Awards  (5, 6]       2019   \n",
       "121958                                Brain Hacker  (7, 8]       2014   \n",
       "\n",
       "        endYear  runtimeMinutes  awardWins  numVotes  worstRating  bestRating  \\\n",
       "35104    1986.0            84.0          0        21            1          10   \n",
       "90639       NaN             NaN          0        66            1          10   \n",
       "9488     1975.0           137.0          0        93            1          10   \n",
       "36627    1982.0            90.0          0        34            1          10   \n",
       "133214   2016.0            56.0          0        41            1          10   \n",
       "...         ...             ...        ...       ...          ...         ...   \n",
       "119879   2013.0            22.0          0       114            1          10   \n",
       "103694      NaN            30.0          0         6            1          10   \n",
       "131932   2013.0            58.0          0        32            1          10   \n",
       "146867   2019.0           145.0          1       487            1          10   \n",
       "121958   2014.0             NaN          0         9            1          10   \n",
       "\n",
       "        totalImages  ...  countryOfOrigin_AF  countryOfOrigin_AS  \\\n",
       "35104             4  ...                   0                   1   \n",
       "90639            11  ...                   0                   0   \n",
       "9488             14  ...                   0                   1   \n",
       "36627             1  ...                   0                   0   \n",
       "133214            3  ...                   0                   0   \n",
       "...             ...  ...                 ...                 ...   \n",
       "119879            3  ...                   0                   0   \n",
       "103694            1  ...                   0                   0   \n",
       "131932            2  ...                   0                   1   \n",
       "146867          623  ...                   0                   0   \n",
       "121958            1  ...                   0                   0   \n",
       "\n",
       "        countryOfOrigin_EU countryOfOrigin_OC  countryOfOrigin_SA  \\\n",
       "35104                    0                  0                   0   \n",
       "90639                    1                  0                   0   \n",
       "9488                     0                  0                   0   \n",
       "36627                    0                  0                   1   \n",
       "133214                   0                  0                   0   \n",
       "...                    ...                ...                 ...   \n",
       "119879                   0                  0                   0   \n",
       "103694                   1                  0                   0   \n",
       "131932                   0                  0                   0   \n",
       "146867                   0                  0                   0   \n",
       "121958                   1                  0                   0   \n",
       "\n",
       "        countryOfOrigin_UNK  reviewsTotal  awful_rating  medium_rating  \\\n",
       "35104                     0             4             0              1   \n",
       "90639                     0             0             0              0   \n",
       "9488                      0             4             0              1   \n",
       "36627                     0             0             1              0   \n",
       "133214                    0             0             0              0   \n",
       "...                     ...           ...           ...            ...   \n",
       "119879                    0             1             0              0   \n",
       "103694                    0             0             0              0   \n",
       "131932                    0             0             0              0   \n",
       "146867                    0            10             0              1   \n",
       "121958                    0             0             0              0   \n",
       "\n",
       "        high_rating  \n",
       "35104             0  \n",
       "90639             1  \n",
       "9488              0  \n",
       "36627             0  \n",
       "133214            1  \n",
       "...             ...  \n",
       "119879            1  \n",
       "103694            1  \n",
       "131932            1  \n",
       "146867            0  \n",
       "121958            1  \n",
       "\n",
       "[104671 rows x 55 columns]"
      ]
     },
     "execution_count": 5,
     "metadata": {},
     "output_type": "execute_result"
    }
   ],
   "source": [
    "train_set"
   ]
  },
  {
   "cell_type": "code",
   "execution_count": 6,
   "id": "87a4dba8",
   "metadata": {},
   "outputs": [],
   "source": [
    "# TODO: add outlier detection+handling\n",
    "\n",
    "from support.imputation import impute_data\n",
    "\n",
    "train_set, test_set = impute_data(train=train_set, test=test_set)"
   ]
  },
  {
   "cell_type": "code",
   "execution_count": 7,
   "id": "05565d2e",
   "metadata": {},
   "outputs": [
    {
     "name": "stderr",
     "output_type": "stream",
     "text": [
      "/Library/Frameworks/Python.framework/Versions/3.11/lib/python3.11/site-packages/tqdm/auto.py:21: TqdmWarning: IProgress not found. Please update jupyter and ipywidgets. See https://ipywidgets.readthedocs.io/en/stable/user_install.html\n",
      "  from .autonotebook import tqdm as notebook_tqdm\n"
     ]
    }
   ],
   "source": [
    "from support.embedding import embedding\n",
    "\n",
    "train_set, test_set = embedding(train=train_set, test=test_set)"
   ]
  },
  {
   "cell_type": "code",
   "execution_count": 8,
   "id": "3d6b7981",
   "metadata": {},
   "outputs": [],
   "source": [
    "from support.transformations import apply_transformations\n",
    "\n",
    "train_set, test_set = apply_transformations(train=train_set, test=test_set)"
   ]
  },
  {
   "cell_type": "code",
   "execution_count": 9,
   "id": "8f2e2a72",
   "metadata": {},
   "outputs": [],
   "source": [
    "from support.scaling import scale_data\n",
    "\n",
    "train_set, test_set = scale_data(train=train_set, test=test_set)"
   ]
  },
  {
   "cell_type": "code",
   "execution_count": 10,
   "id": "220ebe36",
   "metadata": {},
   "outputs": [],
   "source": [
    "feats = [\n",
    "    'startYear', 'runtimeMinutes',\n",
    "    'totalCredits', 'numRegions', 'ratingCount',\n",
    "    'castNumber', 'companiesNumber', 'writerCredits',\n",
    "    'directorsCredits', 'quotesTotal', 'totalMedia',\n",
    "    'totalNominations', 'regions_freq_enc', 'regions_EU',\n",
    "    'regions_NA', 'regions_AS', 'regions_AF', 'regions_OC', 'regions_SA',\n",
    "    'regions_UNK', 'countryOfOrigin_freq_enc', 'countryOfOrigin_NA',\n",
    "    'countryOfOrigin_AF', 'countryOfOrigin_AS', 'countryOfOrigin_EU',\n",
    "    'countryOfOrigin_OC', 'countryOfOrigin_SA', 'countryOfOrigin_UNK',\n",
    "    'reviewsTotal',\n",
    "    'genre_Action', 'genre_Adult', 'genre_Adventure', 'genre_Animation',\n",
    "    'genre_Biography', 'genre_Comedy', 'genre_Crime', 'genre_Documentary',\n",
    "    'genre_Drama', 'genre_Family', 'genre_Fantasy', 'genre_Film-Noir',\n",
    "    'genre_Game-Show', 'genre_History', 'genre_Horror', 'genre_Music',\n",
    "    'genre_Musical', 'genre_Mystery', 'genre_News', 'genre_Reality-TV',\n",
    "    'genre_Romance', 'genre_Sci-Fi', 'genre_Short', 'genre_Sport',\n",
    "    'genre_Talk-Show', 'genre_Thriller', 'genre_War', 'genre_Western',\n",
    "    'titleType_movie', 'titleType_short', 'titleType_tvEpisode',\n",
    "    'titleType_tvMiniSeries', 'titleType_tvMovie', 'titleType_tvSeries',\n",
    "    'titleType_tvShort', 'titleType_tvSpecial', 'titleType_video',\n",
    "    'titleType_videoGame'\n",
    "]"
   ]
  },
  {
   "cell_type": "code",
   "execution_count": 11,
   "id": "729d9f00",
   "metadata": {},
   "outputs": [
    {
     "name": "stdout",
     "output_type": "stream",
     "text": [
      "Accuracy: 0.6440258582255908\n",
      "Classification Report:\n",
      "               precision    recall  f1-score   support\n",
      "\n",
      "           0       0.20      0.22      0.21      1585\n",
      "           1       0.63      0.63      0.63     20663\n",
      "           2       0.69      0.68      0.69     22612\n",
      "\n",
      "    accuracy                           0.64     44860\n",
      "   macro avg       0.51      0.51      0.51     44860\n",
      "weighted avg       0.65      0.64      0.64     44860\n",
      "\n"
     ]
    },
    {
     "data": {
      "text/plain": [
       "(DecisionTreeClassifier(random_state=42),\n",
       " 0.6440258582255908,\n",
       " '              precision    recall  f1-score   support\\n\\n           0       0.20      0.22      0.21      1585\\n           1       0.63      0.63      0.63     20663\\n           2       0.69      0.68      0.69     22612\\n\\n    accuracy                           0.64     44860\\n   macro avg       0.51      0.51      0.51     44860\\nweighted avg       0.65      0.64      0.64     44860\\n')"
      ]
     },
     "execution_count": 11,
     "metadata": {},
     "output_type": "execute_result"
    }
   ],
   "source": [
    "from sklearn.tree import DecisionTreeClassifier\n",
    "from sklearn.metrics import classification_report, accuracy_score\n",
    "\n",
    "def train_decision_tree(X_train, y_train, X_test, y_test):\n",
    "    \"\"\"\n",
    "    Train a Decision Tree Classifier and evaluate its performance.\n",
    "\n",
    "    Parameters:\n",
    "    - X_train: Training features (DataFrame or array-like)\n",
    "    - y_train: Training target (DataFrame or array-like)\n",
    "    - X_test: Testing features (DataFrame or array-like)\n",
    "    - y_test: Testing target (DataFrame or array-like)\n",
    "\n",
    "    Returns:\n",
    "    - clf: Trained Decision Tree Classifier\n",
    "    - accuracy: Accuracy of the model on the test set\n",
    "    - report: Classification report as a string\n",
    "    \"\"\"\n",
    "    # Initialize and train the Decision Tree Classifier\n",
    "    clf = DecisionTreeClassifier(random_state=42)\n",
    "    clf.fit(X_train, y_train)\n",
    "\n",
    "    # Predict on the test set\n",
    "    y_pred = clf.predict(X_test)\n",
    "\n",
    "    # Evaluate the model\n",
    "    accuracy = accuracy_score(y_test.values.argmax(axis=1), y_pred.argmax(axis=1))\n",
    "    report = classification_report(y_test.values.argmax(axis=1), y_pred.argmax(axis=1))\n",
    "\n",
    "    print(\"Accuracy:\", accuracy)\n",
    "    print(\"Classification Report:\\n\", report)\n",
    "\n",
    "    return clf, accuracy, report\n",
    "\n",
    "# Example usage:\n",
    "train_decision_tree(train_set[feats],   \n",
    "                    train_set[rating_features],\n",
    "                    test_set[feats],\n",
    "                    test_set[rating_features])"
   ]
  },
  {
   "cell_type": "code",
   "execution_count": 12,
   "id": "a384ff65",
   "metadata": {},
   "outputs": [
    {
     "name": "stdout",
     "output_type": "stream",
     "text": [
      "Accuracy: 0.5051716451181454\n",
      "Classification Report:\n",
      "               precision    recall  f1-score   support\n",
      "\n",
      "           0       0.09      0.59      0.16      1585\n",
      "           1       0.57      0.45      0.50     20663\n",
      "           2       0.67      0.55      0.61     22612\n",
      "\n",
      "    accuracy                           0.51     44860\n",
      "   macro avg       0.44      0.53      0.42     44860\n",
      "weighted avg       0.60      0.51      0.54     44860\n",
      "\n"
     ]
    },
    {
     "data": {
      "text/plain": [
       "(DecisionTreeClassifier(random_state=42),\n",
       " 0.5051716451181454,\n",
       " '              precision    recall  f1-score   support\\n\\n           0       0.09      0.59      0.16      1585\\n           1       0.57      0.45      0.50     20663\\n           2       0.67      0.55      0.61     22612\\n\\n    accuracy                           0.51     44860\\n   macro avg       0.44      0.53      0.42     44860\\nweighted avg       0.60      0.51      0.54     44860\\n')"
      ]
     },
     "execution_count": 12,
     "metadata": {},
     "output_type": "execute_result"
    }
   ],
   "source": [
    "from sklearn.utils import resample\n",
    "import pandas as pd\n",
    "\n",
    "# Separate the classes\n",
    "awful_rating_1 = train_set[train_set['awful_rating'] == 1]\n",
    "\n",
    "# Determine the size of the least present class\n",
    "min_class_size = len(awful_rating_1)\n",
    "\n",
    "# Downsample the other classes to match the size of the least present class\n",
    "medium_rating = train_set[train_set['medium_rating'] == 1]\n",
    "high_rating = train_set[train_set['high_rating'] == 1]\n",
    "\n",
    "medium_rating_downsampled = resample(medium_rating,\n",
    "                                     replace=False,\n",
    "                                     n_samples=min_class_size,\n",
    "                                     random_state=42)\n",
    "\n",
    "high_rating_downsampled = resample(high_rating,\n",
    "                                   replace=False,\n",
    "                                   n_samples=min_class_size,\n",
    "                                   random_state=42)\n",
    "\n",
    "# Combine all classes into a balanced dataset\n",
    "balanced_train_set = pd.concat([awful_rating_1, medium_rating_downsampled, high_rating_downsampled])\n",
    "\n",
    "# Define features and target\n",
    "X_balanced = balanced_train_set[feats]\n",
    "y_balanced = balanced_train_set[rating_features]\n",
    "\n",
    "train_decision_tree(X_balanced, y_balanced, test_set[feats], test_set[rating_features])"
   ]
  },
  {
   "cell_type": "code",
   "execution_count": 13,
   "id": "39163eb7",
   "metadata": {},
   "outputs": [],
   "source": [
    "import numpy as np\n",
    "\n",
    "conditions = [\n",
    "    train_set['averageRating'] <= 4,\n",
    "    train_set['averageRating'] <= 8\n",
    "]\n",
    "choices = ['awful', 'medium']\n",
    "\n",
    "train_set['ratingQuality'] = np.select(conditions, choices, default='high')\n",
    "\n",
    "conditions = [\n",
    "    test_set['averageRating'] <= 4,\n",
    "    test_set['averageRating'] <= 8\n",
    "]\n",
    "test_set['ratingQuality'] = np.select(conditions, choices, default='high')"
   ]
  },
  {
   "cell_type": "markdown",
   "id": "cbb68f7c",
   "metadata": {},
   "source": [
    "# ENN"
   ]
  },
  {
   "cell_type": "code",
   "execution_count": 14,
   "id": "933e3515",
   "metadata": {},
   "outputs": [
    {
     "name": "stdout",
     "output_type": "stream",
     "text": [
      "Resampled X shape: (87238, 70)\n",
      "Resampled y shape: (87238,)\n"
     ]
    },
    {
     "data": {
      "text/plain": [
       "(3602, 48661, 34975)"
      ]
     },
     "execution_count": 14,
     "metadata": {},
     "output_type": "execute_result"
    }
   ],
   "source": [
    "from imblearn.under_sampling import EditedNearestNeighbours\n",
    "\n",
    "# Define the ENN undersampler\n",
    "enn = EditedNearestNeighbours(n_neighbors=70, kind_sel='mode')\n",
    "\n",
    "# Convert the target column 'ratingQuality' to numeric values\n",
    "rating_quality_mapping = {'awful': 0, 'medium': 1, 'high': 2}\n",
    "train_set['ratingQualityNumeric'] = train_set['ratingQuality'].map(rating_quality_mapping)\n",
    "\n",
    "# Apply EditedNearestNeighbours with the numeric target column\n",
    "X_resampled, y_resampled = enn.fit_resample(\n",
    "    X=train_set[feats + rating_features], y=train_set['ratingQualityNumeric'])\n",
    "\n",
    "# Display the resampled data\n",
    "print(\"Resampled X shape:\", X_resampled.shape)\n",
    "print(\"Resampled y shape:\", y_resampled.shape)\n",
    "(\n",
    "    len(X_resampled.loc[X_resampled['awful_rating'] == 1]),\n",
    "    len(X_resampled.loc[X_resampled['medium_rating'] == 1]),\n",
    "    len(X_resampled.loc[X_resampled['high_rating'] == 1])\n",
    ")"
   ]
  },
  {
   "cell_type": "code",
   "execution_count": 15,
   "id": "4d407518",
   "metadata": {},
   "outputs": [
    {
     "name": "stdout",
     "output_type": "stream",
     "text": [
      "Accuracy: 0.6225590726705306\n",
      "Classification Report:\n",
      "               precision    recall  f1-score   support\n",
      "\n",
      "           0       0.18      0.22      0.20      1585\n",
      "           1       0.60      0.68      0.63     20663\n",
      "           2       0.70      0.60      0.65     22612\n",
      "\n",
      "    accuracy                           0.62     44860\n",
      "   macro avg       0.49      0.50      0.49     44860\n",
      "weighted avg       0.63      0.62      0.62     44860\n",
      "\n"
     ]
    },
    {
     "data": {
      "text/plain": [
       "(DecisionTreeClassifier(random_state=42),\n",
       " 0.6225590726705306,\n",
       " '              precision    recall  f1-score   support\\n\\n           0       0.18      0.22      0.20      1585\\n           1       0.60      0.68      0.63     20663\\n           2       0.70      0.60      0.65     22612\\n\\n    accuracy                           0.62     44860\\n   macro avg       0.49      0.50      0.49     44860\\nweighted avg       0.63      0.62      0.62     44860\\n')"
      ]
     },
     "execution_count": 15,
     "metadata": {},
     "output_type": "execute_result"
    }
   ],
   "source": [
    "train_decision_tree(\n",
    "    X_resampled[feats], X_resampled[rating_features],\n",
    "    test_set[feats], test_set[rating_features]\n",
    ")"
   ]
  },
  {
   "cell_type": "markdown",
   "id": "36065e54",
   "metadata": {},
   "source": [
    "# AllKNN"
   ]
  },
  {
   "cell_type": "code",
   "execution_count": 16,
   "id": "4c8387f7",
   "metadata": {},
   "outputs": [
    {
     "name": "stdout",
     "output_type": "stream",
     "text": [
      "Resampled X shape: (77383, 70)\n",
      "Resampled y shape: (77383,)\n"
     ]
    },
    {
     "data": {
      "text/plain": [
       "(3602, 45599, 28182)"
      ]
     },
     "execution_count": 16,
     "metadata": {},
     "output_type": "execute_result"
    }
   ],
   "source": [
    "from imblearn.under_sampling import AllKNN\n",
    "\n",
    "allknn = AllKNN(n_neighbors=5, kind_sel='mode')\n",
    "\n",
    "X_resampled, y_resampled = allknn.fit_resample(\n",
    "    X=train_set[feats + rating_features],\n",
    "    y=train_set['ratingQualityNumeric']\n",
    ")\n",
    "\n",
    "# Display the resampled data\n",
    "print(\"Resampled X shape:\", X_resampled.shape)\n",
    "print(\"Resampled y shape:\", y_resampled.shape)\n",
    "(\n",
    "    len(X_resampled.loc[X_resampled['awful_rating'] == 1]),\n",
    "    len(X_resampled.loc[X_resampled['medium_rating'] == 1]),\n",
    "    len(X_resampled.loc[X_resampled['high_rating'] == 1])\n",
    ")"
   ]
  },
  {
   "cell_type": "code",
   "execution_count": 17,
   "id": "98669d61",
   "metadata": {},
   "outputs": [
    {
     "name": "stdout",
     "output_type": "stream",
     "text": [
      "Accuracy: 0.6108782880071333\n",
      "Classification Report:\n",
      "               precision    recall  f1-score   support\n",
      "\n",
      "           0       0.18      0.25      0.21      1585\n",
      "           1       0.58      0.70      0.63     20663\n",
      "           2       0.70      0.56      0.62     22612\n",
      "\n",
      "    accuracy                           0.61     44860\n",
      "   macro avg       0.49      0.50      0.49     44860\n",
      "weighted avg       0.63      0.61      0.61     44860\n",
      "\n"
     ]
    },
    {
     "data": {
      "text/plain": [
       "(DecisionTreeClassifier(random_state=42),\n",
       " 0.6108782880071333,\n",
       " '              precision    recall  f1-score   support\\n\\n           0       0.18      0.25      0.21      1585\\n           1       0.58      0.70      0.63     20663\\n           2       0.70      0.56      0.62     22612\\n\\n    accuracy                           0.61     44860\\n   macro avg       0.49      0.50      0.49     44860\\nweighted avg       0.63      0.61      0.61     44860\\n')"
      ]
     },
     "execution_count": 17,
     "metadata": {},
     "output_type": "execute_result"
    }
   ],
   "source": [
    "train_decision_tree(\n",
    "    X_resampled[feats], X_resampled[rating_features],\n",
    "    test_set[feats], test_set[rating_features]\n",
    ")"
   ]
  },
  {
   "cell_type": "markdown",
   "id": "6048e00e",
   "metadata": {},
   "source": [
    "# Balance+ENN"
   ]
  },
  {
   "cell_type": "code",
   "execution_count": 18,
   "id": "fca1181d",
   "metadata": {},
   "outputs": [
    {
     "name": "stdout",
     "output_type": "stream",
     "text": [
      "Resampled X shape: (7693, 70)\n",
      "Resampled y shape: (7693,)\n",
      "Class counts after resampling: (3602, 1064, 3027)\n"
     ]
    }
   ],
   "source": [
    "from imblearn.under_sampling import RandomUnderSampler, EditedNearestNeighbours\n",
    "from imblearn.pipeline import Pipeline\n",
    "\n",
    "# Step 1: Balance the classes with RandomUnderSampler\n",
    "min_class_size = train_set['ratingQuality'].value_counts().min()\n",
    "sampling_strategy = {\n",
    "    label: min_class_size for label in train_set['ratingQualityNumeric'].unique()\n",
    "}\n",
    "\n",
    "# Step 2: Create pipeline: balance first, then ENN\n",
    "pipeline = Pipeline([\n",
    "    ('undersample', RandomUnderSampler(sampling_strategy=sampling_strategy, random_state=42)),\n",
    "    ('enn', EditedNearestNeighbours(n_neighbors=20, kind_sel='mode'))\n",
    "])\n",
    "\n",
    "# Step 3: Apply the pipeline\n",
    "X_resampled, y_resampled = pipeline.fit_resample(\n",
    "    X=train_set[feats + rating_features],\n",
    "    y=train_set['ratingQualityNumeric']\n",
    ")\n",
    "\n",
    "# Step 4: Count class samples after resampling\n",
    "print(\"Resampled X shape:\", X_resampled.shape)\n",
    "print(\"Resampled y shape:\", y_resampled.shape)\n",
    "\n",
    "# Step 5: If you still have one-hot labels in X_resampled\n",
    "class_counts = (\n",
    "    len(X_resampled.loc[X_resampled['awful_rating'] == 1]),\n",
    "    len(X_resampled.loc[X_resampled['medium_rating'] == 1]),\n",
    "    len(X_resampled.loc[X_resampled['high_rating'] == 1])\n",
    ")\n",
    "print(\"Class counts after resampling:\", class_counts)\n"
   ]
  },
  {
   "cell_type": "code",
   "execution_count": 19,
   "id": "56a50c8e",
   "metadata": {},
   "outputs": [
    {
     "name": "stdout",
     "output_type": "stream",
     "text": [
      "Accuracy: 0.4606776638430673\n",
      "Classification Report:\n",
      "               precision    recall  f1-score   support\n",
      "\n",
      "           0       0.08      0.76      0.14      1585\n",
      "           1       0.60      0.26      0.37     20663\n",
      "           2       0.68      0.62      0.65     22612\n",
      "\n",
      "    accuracy                           0.46     44860\n",
      "   macro avg       0.45      0.55      0.39     44860\n",
      "weighted avg       0.62      0.46      0.50     44860\n",
      "\n"
     ]
    },
    {
     "data": {
      "text/plain": [
       "(DecisionTreeClassifier(random_state=42),\n",
       " 0.4606776638430673,\n",
       " '              precision    recall  f1-score   support\\n\\n           0       0.08      0.76      0.14      1585\\n           1       0.60      0.26      0.37     20663\\n           2       0.68      0.62      0.65     22612\\n\\n    accuracy                           0.46     44860\\n   macro avg       0.45      0.55      0.39     44860\\nweighted avg       0.62      0.46      0.50     44860\\n')"
      ]
     },
     "execution_count": 19,
     "metadata": {},
     "output_type": "execute_result"
    }
   ],
   "source": [
    "train_decision_tree(\n",
    "    X_resampled[feats], X_resampled[rating_features],\n",
    "    test_set[feats], test_set[rating_features]\n",
    ")"
   ]
  },
  {
   "cell_type": "code",
   "execution_count": 20,
   "id": "5b4c1228",
   "metadata": {},
   "outputs": [
    {
     "ename": "ValueError",
     "evalue": "With under-sampling methods, the number of samples in a class should be less or equal to the original number of samples. Originally, there is 1664 samples and 3602 samples are asked.",
     "output_type": "error",
     "traceback": [
      "\u001b[0;31m---------------------------------------------------------------------------\u001b[0m",
      "\u001b[0;31mValueError\u001b[0m                                Traceback (most recent call last)",
      "Cell \u001b[0;32mIn[20], line 17\u001b[0m\n\u001b[1;32m     11\u001b[0m pipeline \u001b[38;5;241m=\u001b[39m Pipeline([\n\u001b[1;32m     12\u001b[0m     (\u001b[38;5;124m'\u001b[39m\u001b[38;5;124menn\u001b[39m\u001b[38;5;124m'\u001b[39m, EditedNearestNeighbours(n_neighbors\u001b[38;5;241m=\u001b[39m\u001b[38;5;241m100\u001b[39m, kind_sel\u001b[38;5;241m=\u001b[39m\u001b[38;5;124m'\u001b[39m\u001b[38;5;124mmode\u001b[39m\u001b[38;5;124m'\u001b[39m)),\n\u001b[1;32m     13\u001b[0m     (\u001b[38;5;124m'\u001b[39m\u001b[38;5;124mundersample\u001b[39m\u001b[38;5;124m'\u001b[39m, RandomUnderSampler(sampling_strategy\u001b[38;5;241m=\u001b[39msampling_strategy, random_state\u001b[38;5;241m=\u001b[39m\u001b[38;5;241m42\u001b[39m)),\n\u001b[1;32m     14\u001b[0m ])\n\u001b[1;32m     16\u001b[0m \u001b[38;5;66;03m# Step 3: Apply the pipeline\u001b[39;00m\n\u001b[0;32m---> 17\u001b[0m X_resampled, y_resampled \u001b[38;5;241m=\u001b[39m \u001b[43mpipeline\u001b[49m\u001b[38;5;241;43m.\u001b[39;49m\u001b[43mfit_resample\u001b[49m\u001b[43m(\u001b[49m\n\u001b[1;32m     18\u001b[0m \u001b[43m    \u001b[49m\u001b[43mX\u001b[49m\u001b[38;5;241;43m=\u001b[39;49m\u001b[43mtrain_set\u001b[49m\u001b[43m[\u001b[49m\u001b[43mfeats\u001b[49m\u001b[43m \u001b[49m\u001b[38;5;241;43m+\u001b[39;49m\u001b[43m \u001b[49m\u001b[43mrating_features\u001b[49m\u001b[43m]\u001b[49m\u001b[43m,\u001b[49m\n\u001b[1;32m     19\u001b[0m \u001b[43m    \u001b[49m\u001b[43my\u001b[49m\u001b[38;5;241;43m=\u001b[39;49m\u001b[43mtrain_set\u001b[49m\u001b[43m[\u001b[49m\u001b[38;5;124;43m'\u001b[39;49m\u001b[38;5;124;43mratingQualityNumeric\u001b[39;49m\u001b[38;5;124;43m'\u001b[39;49m\u001b[43m]\u001b[49m\n\u001b[1;32m     20\u001b[0m \u001b[43m)\u001b[49m\n\u001b[1;32m     22\u001b[0m \u001b[38;5;66;03m# Step 4: Count class samples after resampling\u001b[39;00m\n\u001b[1;32m     23\u001b[0m \u001b[38;5;28mprint\u001b[39m(\u001b[38;5;124m\"\u001b[39m\u001b[38;5;124mResampled X shape:\u001b[39m\u001b[38;5;124m\"\u001b[39m, X_resampled\u001b[38;5;241m.\u001b[39mshape)\n",
      "File \u001b[0;32m/Library/Frameworks/Python.framework/Versions/3.11/lib/python3.11/site-packages/sklearn/base.py:1473\u001b[0m, in \u001b[0;36m_fit_context.<locals>.decorator.<locals>.wrapper\u001b[0;34m(estimator, *args, **kwargs)\u001b[0m\n\u001b[1;32m   1466\u001b[0m     estimator\u001b[38;5;241m.\u001b[39m_validate_params()\n\u001b[1;32m   1468\u001b[0m \u001b[38;5;28;01mwith\u001b[39;00m config_context(\n\u001b[1;32m   1469\u001b[0m     skip_parameter_validation\u001b[38;5;241m=\u001b[39m(\n\u001b[1;32m   1470\u001b[0m         prefer_skip_nested_validation \u001b[38;5;129;01mor\u001b[39;00m global_skip_validation\n\u001b[1;32m   1471\u001b[0m     )\n\u001b[1;32m   1472\u001b[0m ):\n\u001b[0;32m-> 1473\u001b[0m     \u001b[38;5;28;01mreturn\u001b[39;00m \u001b[43mfit_method\u001b[49m\u001b[43m(\u001b[49m\u001b[43mestimator\u001b[49m\u001b[43m,\u001b[49m\u001b[43m \u001b[49m\u001b[38;5;241;43m*\u001b[39;49m\u001b[43margs\u001b[49m\u001b[43m,\u001b[49m\u001b[43m \u001b[49m\u001b[38;5;241;43m*\u001b[39;49m\u001b[38;5;241;43m*\u001b[39;49m\u001b[43mkwargs\u001b[49m\u001b[43m)\u001b[49m\n",
      "File \u001b[0;32m/Library/Frameworks/Python.framework/Versions/3.11/lib/python3.11/site-packages/imblearn/pipeline.py:733\u001b[0m, in \u001b[0;36mPipeline.fit_resample\u001b[0;34m(self, X, y, **params)\u001b[0m\n\u001b[1;32m    731\u001b[0m last_step_params \u001b[38;5;241m=\u001b[39m routed_params[\u001b[38;5;28mself\u001b[39m\u001b[38;5;241m.\u001b[39msteps[\u001b[38;5;241m-\u001b[39m\u001b[38;5;241m1\u001b[39m][\u001b[38;5;241m0\u001b[39m]]\n\u001b[1;32m    732\u001b[0m \u001b[38;5;28;01mif\u001b[39;00m \u001b[38;5;28mhasattr\u001b[39m(last_step, \u001b[38;5;124m\"\u001b[39m\u001b[38;5;124mfit_resample\u001b[39m\u001b[38;5;124m\"\u001b[39m):\n\u001b[0;32m--> 733\u001b[0m     \u001b[38;5;28;01mreturn\u001b[39;00m \u001b[43mlast_step\u001b[49m\u001b[38;5;241;43m.\u001b[39;49m\u001b[43mfit_resample\u001b[49m\u001b[43m(\u001b[49m\n\u001b[1;32m    734\u001b[0m \u001b[43m        \u001b[49m\u001b[43mXt\u001b[49m\u001b[43m,\u001b[49m\u001b[43m \u001b[49m\u001b[43myt\u001b[49m\u001b[43m,\u001b[49m\u001b[43m \u001b[49m\u001b[38;5;241;43m*\u001b[39;49m\u001b[38;5;241;43m*\u001b[39;49m\u001b[43mlast_step_params\u001b[49m\u001b[43m[\u001b[49m\u001b[38;5;124;43m\"\u001b[39;49m\u001b[38;5;124;43mfit_resample\u001b[39;49m\u001b[38;5;124;43m\"\u001b[39;49m\u001b[43m]\u001b[49m\n\u001b[1;32m    735\u001b[0m \u001b[43m    \u001b[49m\u001b[43m)\u001b[49m\n",
      "File \u001b[0;32m/Library/Frameworks/Python.framework/Versions/3.11/lib/python3.11/site-packages/imblearn/base.py:202\u001b[0m, in \u001b[0;36mBaseSampler.fit_resample\u001b[0;34m(self, X, y, **params)\u001b[0m\n\u001b[1;32m    181\u001b[0m \u001b[38;5;28;01mdef\u001b[39;00m \u001b[38;5;21mfit_resample\u001b[39m(\u001b[38;5;28mself\u001b[39m, X, y, \u001b[38;5;241m*\u001b[39m\u001b[38;5;241m*\u001b[39mparams):\n\u001b[1;32m    182\u001b[0m \u001b[38;5;250m    \u001b[39m\u001b[38;5;124;03m\"\"\"Resample the dataset.\u001b[39;00m\n\u001b[1;32m    183\u001b[0m \n\u001b[1;32m    184\u001b[0m \u001b[38;5;124;03m    Parameters\u001b[39;00m\n\u001b[0;32m   (...)\u001b[0m\n\u001b[1;32m    200\u001b[0m \u001b[38;5;124;03m        The corresponding label of `X_resampled`.\u001b[39;00m\n\u001b[1;32m    201\u001b[0m \u001b[38;5;124;03m    \"\"\"\u001b[39;00m\n\u001b[0;32m--> 202\u001b[0m     \u001b[38;5;28;01mreturn\u001b[39;00m \u001b[38;5;28;43msuper\u001b[39;49m\u001b[43m(\u001b[49m\u001b[43m)\u001b[49m\u001b[38;5;241;43m.\u001b[39;49m\u001b[43mfit_resample\u001b[49m\u001b[43m(\u001b[49m\u001b[43mX\u001b[49m\u001b[43m,\u001b[49m\u001b[43m \u001b[49m\u001b[43my\u001b[49m\u001b[43m,\u001b[49m\u001b[43m \u001b[49m\u001b[38;5;241;43m*\u001b[39;49m\u001b[38;5;241;43m*\u001b[39;49m\u001b[43mparams\u001b[49m\u001b[43m)\u001b[49m\n",
      "File \u001b[0;32m/Library/Frameworks/Python.framework/Versions/3.11/lib/python3.11/site-packages/sklearn/base.py:1473\u001b[0m, in \u001b[0;36m_fit_context.<locals>.decorator.<locals>.wrapper\u001b[0;34m(estimator, *args, **kwargs)\u001b[0m\n\u001b[1;32m   1466\u001b[0m     estimator\u001b[38;5;241m.\u001b[39m_validate_params()\n\u001b[1;32m   1468\u001b[0m \u001b[38;5;28;01mwith\u001b[39;00m config_context(\n\u001b[1;32m   1469\u001b[0m     skip_parameter_validation\u001b[38;5;241m=\u001b[39m(\n\u001b[1;32m   1470\u001b[0m         prefer_skip_nested_validation \u001b[38;5;129;01mor\u001b[39;00m global_skip_validation\n\u001b[1;32m   1471\u001b[0m     )\n\u001b[1;32m   1472\u001b[0m ):\n\u001b[0;32m-> 1473\u001b[0m     \u001b[38;5;28;01mreturn\u001b[39;00m \u001b[43mfit_method\u001b[49m\u001b[43m(\u001b[49m\u001b[43mestimator\u001b[49m\u001b[43m,\u001b[49m\u001b[43m \u001b[49m\u001b[38;5;241;43m*\u001b[39;49m\u001b[43margs\u001b[49m\u001b[43m,\u001b[49m\u001b[43m \u001b[49m\u001b[38;5;241;43m*\u001b[39;49m\u001b[38;5;241;43m*\u001b[39;49m\u001b[43mkwargs\u001b[49m\u001b[43m)\u001b[49m\n",
      "File \u001b[0;32m/Library/Frameworks/Python.framework/Versions/3.11/lib/python3.11/site-packages/imblearn/base.py:101\u001b[0m, in \u001b[0;36mSamplerMixin.fit_resample\u001b[0;34m(self, X, y, **params)\u001b[0m\n\u001b[1;32m     98\u001b[0m arrays_transformer \u001b[38;5;241m=\u001b[39m ArraysTransformer(X, y)\n\u001b[1;32m     99\u001b[0m X, y, binarize_y \u001b[38;5;241m=\u001b[39m \u001b[38;5;28mself\u001b[39m\u001b[38;5;241m.\u001b[39m_check_X_y(X, y)\n\u001b[0;32m--> 101\u001b[0m \u001b[38;5;28mself\u001b[39m\u001b[38;5;241m.\u001b[39msampling_strategy_ \u001b[38;5;241m=\u001b[39m \u001b[43mcheck_sampling_strategy\u001b[49m\u001b[43m(\u001b[49m\n\u001b[1;32m    102\u001b[0m \u001b[43m    \u001b[49m\u001b[38;5;28;43mself\u001b[39;49m\u001b[38;5;241;43m.\u001b[39;49m\u001b[43msampling_strategy\u001b[49m\u001b[43m,\u001b[49m\u001b[43m \u001b[49m\u001b[43my\u001b[49m\u001b[43m,\u001b[49m\u001b[43m \u001b[49m\u001b[38;5;28;43mself\u001b[39;49m\u001b[38;5;241;43m.\u001b[39;49m\u001b[43m_sampling_type\u001b[49m\n\u001b[1;32m    103\u001b[0m \u001b[43m\u001b[49m\u001b[43m)\u001b[49m\n\u001b[1;32m    105\u001b[0m output \u001b[38;5;241m=\u001b[39m \u001b[38;5;28mself\u001b[39m\u001b[38;5;241m.\u001b[39m_fit_resample(X, y, \u001b[38;5;241m*\u001b[39m\u001b[38;5;241m*\u001b[39mparams)\n\u001b[1;32m    107\u001b[0m y_ \u001b[38;5;241m=\u001b[39m (\n\u001b[1;32m    108\u001b[0m     label_binarize(output[\u001b[38;5;241m1\u001b[39m], classes\u001b[38;5;241m=\u001b[39mnp\u001b[38;5;241m.\u001b[39munique(y)) \u001b[38;5;28;01mif\u001b[39;00m binarize_y \u001b[38;5;28;01melse\u001b[39;00m output[\u001b[38;5;241m1\u001b[39m]\n\u001b[1;32m    109\u001b[0m )\n",
      "File \u001b[0;32m/Library/Frameworks/Python.framework/Versions/3.11/lib/python3.11/site-packages/imblearn/utils/_validation.py:557\u001b[0m, in \u001b[0;36mcheck_sampling_strategy\u001b[0;34m(sampling_strategy, y, sampling_type, **kwargs)\u001b[0m\n\u001b[1;32m    552\u001b[0m     \u001b[38;5;28;01mreturn\u001b[39;00m OrderedDict(\n\u001b[1;32m    553\u001b[0m         \u001b[38;5;28msorted\u001b[39m(SAMPLING_TARGET_KIND[sampling_strategy](y, sampling_type)\u001b[38;5;241m.\u001b[39mitems())\n\u001b[1;32m    554\u001b[0m     )\n\u001b[1;32m    555\u001b[0m \u001b[38;5;28;01melif\u001b[39;00m \u001b[38;5;28misinstance\u001b[39m(sampling_strategy, \u001b[38;5;28mdict\u001b[39m):\n\u001b[1;32m    556\u001b[0m     \u001b[38;5;28;01mreturn\u001b[39;00m OrderedDict(\n\u001b[0;32m--> 557\u001b[0m         \u001b[38;5;28msorted\u001b[39m(\u001b[43m_sampling_strategy_dict\u001b[49m\u001b[43m(\u001b[49m\u001b[43msampling_strategy\u001b[49m\u001b[43m,\u001b[49m\u001b[43m \u001b[49m\u001b[43my\u001b[49m\u001b[43m,\u001b[49m\u001b[43m \u001b[49m\u001b[43msampling_type\u001b[49m\u001b[43m)\u001b[49m\u001b[38;5;241m.\u001b[39mitems())\n\u001b[1;32m    558\u001b[0m     )\n\u001b[1;32m    559\u001b[0m \u001b[38;5;28;01melif\u001b[39;00m \u001b[38;5;28misinstance\u001b[39m(sampling_strategy, \u001b[38;5;28mlist\u001b[39m):\n\u001b[1;32m    560\u001b[0m     \u001b[38;5;28;01mreturn\u001b[39;00m OrderedDict(\n\u001b[1;32m    561\u001b[0m         \u001b[38;5;28msorted\u001b[39m(_sampling_strategy_list(sampling_strategy, y, sampling_type)\u001b[38;5;241m.\u001b[39mitems())\n\u001b[1;32m    562\u001b[0m     )\n",
      "File \u001b[0;32m/Library/Frameworks/Python.framework/Versions/3.11/lib/python3.11/site-packages/imblearn/utils/_validation.py:346\u001b[0m, in \u001b[0;36m_sampling_strategy_dict\u001b[0;34m(sampling_strategy, y, sampling_type)\u001b[0m\n\u001b[1;32m    344\u001b[0m     \u001b[38;5;28;01mfor\u001b[39;00m class_sample, n_samples \u001b[38;5;129;01min\u001b[39;00m sampling_strategy\u001b[38;5;241m.\u001b[39mitems():\n\u001b[1;32m    345\u001b[0m         \u001b[38;5;28;01mif\u001b[39;00m n_samples \u001b[38;5;241m>\u001b[39m target_stats[class_sample]:\n\u001b[0;32m--> 346\u001b[0m             \u001b[38;5;28;01mraise\u001b[39;00m \u001b[38;5;167;01mValueError\u001b[39;00m(\n\u001b[1;32m    347\u001b[0m                 \u001b[38;5;124m\"\u001b[39m\u001b[38;5;124mWith under-sampling methods, the number of\u001b[39m\u001b[38;5;124m\"\u001b[39m\n\u001b[1;32m    348\u001b[0m                 \u001b[38;5;124m\"\u001b[39m\u001b[38;5;124m samples in a class should be less or equal\u001b[39m\u001b[38;5;124m\"\u001b[39m\n\u001b[1;32m    349\u001b[0m                 \u001b[38;5;124m\"\u001b[39m\u001b[38;5;124m to the original number of samples.\u001b[39m\u001b[38;5;124m\"\u001b[39m\n\u001b[1;32m    350\u001b[0m                 \u001b[38;5;124mf\u001b[39m\u001b[38;5;124m\"\u001b[39m\u001b[38;5;124m Originally, there is \u001b[39m\u001b[38;5;132;01m{\u001b[39;00mtarget_stats[class_sample]\u001b[38;5;132;01m}\u001b[39;00m\u001b[38;5;124m \u001b[39m\u001b[38;5;124m\"\u001b[39m\n\u001b[1;32m    351\u001b[0m                 \u001b[38;5;124mf\u001b[39m\u001b[38;5;124m\"\u001b[39m\u001b[38;5;124msamples and \u001b[39m\u001b[38;5;132;01m{\u001b[39;00mn_samples\u001b[38;5;132;01m}\u001b[39;00m\u001b[38;5;124m samples are asked.\u001b[39m\u001b[38;5;124m\"\u001b[39m\n\u001b[1;32m    352\u001b[0m             )\n\u001b[1;32m    353\u001b[0m         sampling_strategy_[class_sample] \u001b[38;5;241m=\u001b[39m n_samples\n\u001b[1;32m    354\u001b[0m \u001b[38;5;28;01melif\u001b[39;00m sampling_type \u001b[38;5;241m==\u001b[39m \u001b[38;5;124m\"\u001b[39m\u001b[38;5;124mclean-sampling\u001b[39m\u001b[38;5;124m\"\u001b[39m:\n",
      "\u001b[0;31mValueError\u001b[0m: With under-sampling methods, the number of samples in a class should be less or equal to the original number of samples. Originally, there is 1664 samples and 3602 samples are asked."
     ]
    }
   ],
   "source": [
    "from imblearn.under_sampling import RandomUnderSampler, EditedNearestNeighbours\n",
    "from imblearn.pipeline import Pipeline\n",
    "\n",
    "# Step 1: Balance the classes with RandomUnderSampler\n",
    "min_class_size = train_set['ratingQuality'].value_counts().min()\n",
    "sampling_strategy = {\n",
    "    label: min_class_size for label in train_set['ratingQualityNumeric'].unique()\n",
    "}\n",
    "\n",
    "# Step 2: Create pipeline: balance first, then ENN\n",
    "pipeline = Pipeline([\n",
    "    ('enn', EditedNearestNeighbours(n_neighbors=100, kind_sel='mode')),\n",
    "    ('undersample', RandomUnderSampler(sampling_strategy=sampling_strategy, random_state=42)),\n",
    "])\n",
    "\n",
    "# Step 3: Apply the pipeline\n",
    "X_resampled, y_resampled = pipeline.fit_resample(\n",
    "    X=train_set[feats + rating_features],\n",
    "    y=train_set['ratingQualityNumeric']\n",
    ")\n",
    "\n",
    "# Step 4: Count class samples after resampling\n",
    "print(\"Resampled X shape:\", X_resampled.shape)\n",
    "print(\"Resampled y shape:\", y_resampled.shape)\n",
    "\n",
    "# Step 5: If you still have one-hot labels in X_resampled\n",
    "class_counts = (\n",
    "    len(X_resampled.loc[X_resampled['awful_rating'] == 1]),\n",
    "    len(X_resampled.loc[X_resampled['medium_rating'] == 1]),\n",
    "    len(X_resampled.loc[X_resampled['high_rating'] == 1])\n",
    ")\n",
    "print(\"Class counts after resampling:\", class_counts)\n"
   ]
  },
  {
   "cell_type": "code",
   "execution_count": null,
   "id": "8ed9d289",
   "metadata": {},
   "outputs": [
    {
     "name": "stdout",
     "output_type": "stream",
     "text": [
      "Accuracy: 0.5327240303165404\n",
      "Classification Report:\n",
      "               precision    recall  f1-score   support\n",
      "\n",
      "           0       0.09      0.68      0.15      1585\n",
      "           1       0.84      0.56      0.67     35320\n",
      "           2       0.34      0.36      0.35      7955\n",
      "\n",
      "    accuracy                           0.53     44860\n",
      "   macro avg       0.42      0.54      0.39     44860\n",
      "weighted avg       0.72      0.53      0.60     44860\n",
      "\n"
     ]
    },
    {
     "data": {
      "text/plain": [
       "(DecisionTreeClassifier(random_state=42),\n",
       " 0.5327240303165404,\n",
       " '              precision    recall  f1-score   support\\n\\n           0       0.09      0.68      0.15      1585\\n           1       0.84      0.56      0.67     35320\\n           2       0.34      0.36      0.35      7955\\n\\n    accuracy                           0.53     44860\\n   macro avg       0.42      0.54      0.39     44860\\nweighted avg       0.72      0.53      0.60     44860\\n')"
      ]
     },
     "execution_count": 70,
     "metadata": {},
     "output_type": "execute_result"
    }
   ],
   "source": [
    "train_decision_tree(\n",
    "    X_resampled[feats], X_resampled[rating_features],\n",
    "    test_set[feats], test_set[rating_features]\n",
    ")"
   ]
  },
  {
   "cell_type": "markdown",
   "id": "90e32262",
   "metadata": {},
   "source": [
    "# DBSCAN+k-Means"
   ]
  },
  {
   "cell_type": "code",
   "execution_count": 21,
   "id": "23c5e7d6",
   "metadata": {},
   "outputs": [
    {
     "name": "stderr",
     "output_type": "stream",
     "text": [
      "/Library/Frameworks/Python.framework/Versions/3.11/lib/python3.11/site-packages/sklearn/base.py:1473: ConvergenceWarning: Number of distinct clusters (2792) found smaller than n_clusters (2799). Possibly due to duplicate points in X.\n",
      "  return fit_method(estimator, *args, **kwargs)\n"
     ]
    },
    {
     "name": "stdout",
     "output_type": "stream",
     "text": [
      "Undersampled X shape: (8397, 70)\n",
      "Undersampled y shape: (8397,)\n",
      "Class counts after resampling: 0    2799\n",
      "1    2799\n",
      "2    2799\n",
      "Name: count, dtype: int64\n"
     ]
    }
   ],
   "source": [
    "from sklearn.cluster import DBSCAN, KMeans\n",
    "import numpy as np\n",
    "import pandas as pd\n",
    "\n",
    "# Step 1: Apply DBSCAN to eliminate noise points\n",
    "dbscan = DBSCAN(eps=3, min_samples=3)\n",
    "dbscan_labels = dbscan.fit_predict(train_set[feats])\n",
    "\n",
    "# Filter out noise points (label -1 indicates noise in DBSCAN)\n",
    "X_dbscan_filtered = train_set[dbscan_labels != -1][feats+rating_features]\n",
    "y_dbscan_filtered = train_set[dbscan_labels != -1]['ratingQualityNumeric']\n",
    "\n",
    "# Step 2: Apply k-Means to oversample by keeping medoids on larger classes\n",
    "undersampled_data = []\n",
    "undersampled_labels = []\n",
    "\n",
    "# Get the min class size\n",
    "min_class_size = y_dbscan_filtered.value_counts().min()\n",
    "\n",
    "for label in np.unique(y_dbscan_filtered):\n",
    "    # Extract data for the current class\n",
    "    class_data = X_dbscan_filtered[y_dbscan_filtered == label]\n",
    "    \n",
    "    # Apply k-Means clustering\n",
    "    kmeans = KMeans(n_clusters=min_class_size, random_state=42)\n",
    "    kmeans.fit(class_data)\n",
    "    \n",
    "    # Keep medoids (cluster centers)\n",
    "    undersampled_data.append(kmeans.cluster_centers_)\n",
    "    undersampled_labels.extend([label] * min_class_size)\n",
    "\n",
    "# Combine oversampled data and labels\n",
    "X_undersampled = pd.DataFrame(np.vstack(undersampled_data), columns=feats+rating_features)\n",
    "y_undersampled = pd.Series(undersampled_labels)\n",
    "\n",
    "# Display the oversampled data\n",
    "print(\"Undersampled X shape:\", X_undersampled.shape)\n",
    "print(\"Undersampled y shape:\", y_undersampled.shape)\n",
    "\n",
    "class_counts = y_undersampled.value_counts()\n",
    "print(\"Class counts after resampling:\", class_counts)"
   ]
  },
  {
   "cell_type": "code",
   "execution_count": 22,
   "id": "3162a2ee",
   "metadata": {},
   "outputs": [
    {
     "ename": "ValueError",
     "evalue": "Unknown label type: continuous-multioutput. Maybe you are trying to fit a classifier, which expects discrete classes on a regression target with continuous values.",
     "output_type": "error",
     "traceback": [
      "\u001b[0;31m---------------------------------------------------------------------------\u001b[0m",
      "\u001b[0;31mValueError\u001b[0m                                Traceback (most recent call last)",
      "Cell \u001b[0;32mIn[22], line 1\u001b[0m\n\u001b[0;32m----> 1\u001b[0m \u001b[43mtrain_decision_tree\u001b[49m\u001b[43m(\u001b[49m\n\u001b[1;32m      2\u001b[0m \u001b[43m    \u001b[49m\u001b[43mX_undersampled\u001b[49m\u001b[43m[\u001b[49m\u001b[43mfeats\u001b[49m\u001b[43m]\u001b[49m\u001b[43m,\u001b[49m\u001b[43m \u001b[49m\u001b[43mX_undersampled\u001b[49m\u001b[43m[\u001b[49m\u001b[43mrating_features\u001b[49m\u001b[43m]\u001b[49m\u001b[43m,\u001b[49m\n\u001b[1;32m      3\u001b[0m \u001b[43m    \u001b[49m\u001b[43mtest_set\u001b[49m\u001b[43m[\u001b[49m\u001b[43mfeats\u001b[49m\u001b[43m]\u001b[49m\u001b[43m,\u001b[49m\u001b[43m \u001b[49m\u001b[43mtest_set\u001b[49m\u001b[43m[\u001b[49m\u001b[43mrating_features\u001b[49m\u001b[43m]\u001b[49m\n\u001b[1;32m      4\u001b[0m \u001b[43m)\u001b[49m\n",
      "Cell \u001b[0;32mIn[11], line 21\u001b[0m, in \u001b[0;36mtrain_decision_tree\u001b[0;34m(X_train, y_train, X_test, y_test)\u001b[0m\n\u001b[1;32m     19\u001b[0m \u001b[38;5;66;03m# Initialize and train the Decision Tree Classifier\u001b[39;00m\n\u001b[1;32m     20\u001b[0m clf \u001b[38;5;241m=\u001b[39m DecisionTreeClassifier(random_state\u001b[38;5;241m=\u001b[39m\u001b[38;5;241m42\u001b[39m)\n\u001b[0;32m---> 21\u001b[0m \u001b[43mclf\u001b[49m\u001b[38;5;241;43m.\u001b[39;49m\u001b[43mfit\u001b[49m\u001b[43m(\u001b[49m\u001b[43mX_train\u001b[49m\u001b[43m,\u001b[49m\u001b[43m \u001b[49m\u001b[43my_train\u001b[49m\u001b[43m)\u001b[49m\n\u001b[1;32m     23\u001b[0m \u001b[38;5;66;03m# Predict on the test set\u001b[39;00m\n\u001b[1;32m     24\u001b[0m y_pred \u001b[38;5;241m=\u001b[39m clf\u001b[38;5;241m.\u001b[39mpredict(X_test)\n",
      "File \u001b[0;32m/Library/Frameworks/Python.framework/Versions/3.11/lib/python3.11/site-packages/sklearn/base.py:1473\u001b[0m, in \u001b[0;36m_fit_context.<locals>.decorator.<locals>.wrapper\u001b[0;34m(estimator, *args, **kwargs)\u001b[0m\n\u001b[1;32m   1466\u001b[0m     estimator\u001b[38;5;241m.\u001b[39m_validate_params()\n\u001b[1;32m   1468\u001b[0m \u001b[38;5;28;01mwith\u001b[39;00m config_context(\n\u001b[1;32m   1469\u001b[0m     skip_parameter_validation\u001b[38;5;241m=\u001b[39m(\n\u001b[1;32m   1470\u001b[0m         prefer_skip_nested_validation \u001b[38;5;129;01mor\u001b[39;00m global_skip_validation\n\u001b[1;32m   1471\u001b[0m     )\n\u001b[1;32m   1472\u001b[0m ):\n\u001b[0;32m-> 1473\u001b[0m     \u001b[38;5;28;01mreturn\u001b[39;00m \u001b[43mfit_method\u001b[49m\u001b[43m(\u001b[49m\u001b[43mestimator\u001b[49m\u001b[43m,\u001b[49m\u001b[43m \u001b[49m\u001b[38;5;241;43m*\u001b[39;49m\u001b[43margs\u001b[49m\u001b[43m,\u001b[49m\u001b[43m \u001b[49m\u001b[38;5;241;43m*\u001b[39;49m\u001b[38;5;241;43m*\u001b[39;49m\u001b[43mkwargs\u001b[49m\u001b[43m)\u001b[49m\n",
      "File \u001b[0;32m/Library/Frameworks/Python.framework/Versions/3.11/lib/python3.11/site-packages/sklearn/tree/_classes.py:1009\u001b[0m, in \u001b[0;36mDecisionTreeClassifier.fit\u001b[0;34m(self, X, y, sample_weight, check_input)\u001b[0m\n\u001b[1;32m    978\u001b[0m \u001b[38;5;129m@_fit_context\u001b[39m(prefer_skip_nested_validation\u001b[38;5;241m=\u001b[39m\u001b[38;5;28;01mTrue\u001b[39;00m)\n\u001b[1;32m    979\u001b[0m \u001b[38;5;28;01mdef\u001b[39;00m \u001b[38;5;21mfit\u001b[39m(\u001b[38;5;28mself\u001b[39m, X, y, sample_weight\u001b[38;5;241m=\u001b[39m\u001b[38;5;28;01mNone\u001b[39;00m, check_input\u001b[38;5;241m=\u001b[39m\u001b[38;5;28;01mTrue\u001b[39;00m):\n\u001b[1;32m    980\u001b[0m \u001b[38;5;250m    \u001b[39m\u001b[38;5;124;03m\"\"\"Build a decision tree classifier from the training set (X, y).\u001b[39;00m\n\u001b[1;32m    981\u001b[0m \n\u001b[1;32m    982\u001b[0m \u001b[38;5;124;03m    Parameters\u001b[39;00m\n\u001b[0;32m   (...)\u001b[0m\n\u001b[1;32m   1006\u001b[0m \u001b[38;5;124;03m        Fitted estimator.\u001b[39;00m\n\u001b[1;32m   1007\u001b[0m \u001b[38;5;124;03m    \"\"\"\u001b[39;00m\n\u001b[0;32m-> 1009\u001b[0m     \u001b[38;5;28;43msuper\u001b[39;49m\u001b[43m(\u001b[49m\u001b[43m)\u001b[49m\u001b[38;5;241;43m.\u001b[39;49m\u001b[43m_fit\u001b[49m\u001b[43m(\u001b[49m\n\u001b[1;32m   1010\u001b[0m \u001b[43m        \u001b[49m\u001b[43mX\u001b[49m\u001b[43m,\u001b[49m\n\u001b[1;32m   1011\u001b[0m \u001b[43m        \u001b[49m\u001b[43my\u001b[49m\u001b[43m,\u001b[49m\n\u001b[1;32m   1012\u001b[0m \u001b[43m        \u001b[49m\u001b[43msample_weight\u001b[49m\u001b[38;5;241;43m=\u001b[39;49m\u001b[43msample_weight\u001b[49m\u001b[43m,\u001b[49m\n\u001b[1;32m   1013\u001b[0m \u001b[43m        \u001b[49m\u001b[43mcheck_input\u001b[49m\u001b[38;5;241;43m=\u001b[39;49m\u001b[43mcheck_input\u001b[49m\u001b[43m,\u001b[49m\n\u001b[1;32m   1014\u001b[0m \u001b[43m    \u001b[49m\u001b[43m)\u001b[49m\n\u001b[1;32m   1015\u001b[0m     \u001b[38;5;28;01mreturn\u001b[39;00m \u001b[38;5;28mself\u001b[39m\n",
      "File \u001b[0;32m/Library/Frameworks/Python.framework/Versions/3.11/lib/python3.11/site-packages/sklearn/tree/_classes.py:294\u001b[0m, in \u001b[0;36mBaseDecisionTree._fit\u001b[0;34m(self, X, y, sample_weight, check_input, missing_values_in_feature_mask)\u001b[0m\n\u001b[1;32m    291\u001b[0m \u001b[38;5;28mself\u001b[39m\u001b[38;5;241m.\u001b[39mn_outputs_ \u001b[38;5;241m=\u001b[39m y\u001b[38;5;241m.\u001b[39mshape[\u001b[38;5;241m1\u001b[39m]\n\u001b[1;32m    293\u001b[0m \u001b[38;5;28;01mif\u001b[39;00m is_classification:\n\u001b[0;32m--> 294\u001b[0m     \u001b[43mcheck_classification_targets\u001b[49m\u001b[43m(\u001b[49m\u001b[43my\u001b[49m\u001b[43m)\u001b[49m\n\u001b[1;32m    295\u001b[0m     y \u001b[38;5;241m=\u001b[39m np\u001b[38;5;241m.\u001b[39mcopy(y)\n\u001b[1;32m    297\u001b[0m     \u001b[38;5;28mself\u001b[39m\u001b[38;5;241m.\u001b[39mclasses_ \u001b[38;5;241m=\u001b[39m []\n",
      "File \u001b[0;32m/Library/Frameworks/Python.framework/Versions/3.11/lib/python3.11/site-packages/sklearn/utils/multiclass.py:219\u001b[0m, in \u001b[0;36mcheck_classification_targets\u001b[0;34m(y)\u001b[0m\n\u001b[1;32m    211\u001b[0m y_type \u001b[38;5;241m=\u001b[39m type_of_target(y, input_name\u001b[38;5;241m=\u001b[39m\u001b[38;5;124m\"\u001b[39m\u001b[38;5;124my\u001b[39m\u001b[38;5;124m\"\u001b[39m)\n\u001b[1;32m    212\u001b[0m \u001b[38;5;28;01mif\u001b[39;00m y_type \u001b[38;5;129;01mnot\u001b[39;00m \u001b[38;5;129;01min\u001b[39;00m [\n\u001b[1;32m    213\u001b[0m     \u001b[38;5;124m\"\u001b[39m\u001b[38;5;124mbinary\u001b[39m\u001b[38;5;124m\"\u001b[39m,\n\u001b[1;32m    214\u001b[0m     \u001b[38;5;124m\"\u001b[39m\u001b[38;5;124mmulticlass\u001b[39m\u001b[38;5;124m\"\u001b[39m,\n\u001b[0;32m   (...)\u001b[0m\n\u001b[1;32m    217\u001b[0m     \u001b[38;5;124m\"\u001b[39m\u001b[38;5;124mmultilabel-sequences\u001b[39m\u001b[38;5;124m\"\u001b[39m,\n\u001b[1;32m    218\u001b[0m ]:\n\u001b[0;32m--> 219\u001b[0m     \u001b[38;5;28;01mraise\u001b[39;00m \u001b[38;5;167;01mValueError\u001b[39;00m(\n\u001b[1;32m    220\u001b[0m         \u001b[38;5;124mf\u001b[39m\u001b[38;5;124m\"\u001b[39m\u001b[38;5;124mUnknown label type: \u001b[39m\u001b[38;5;132;01m{\u001b[39;00my_type\u001b[38;5;132;01m}\u001b[39;00m\u001b[38;5;124m. Maybe you are trying to fit a \u001b[39m\u001b[38;5;124m\"\u001b[39m\n\u001b[1;32m    221\u001b[0m         \u001b[38;5;124m\"\u001b[39m\u001b[38;5;124mclassifier, which expects discrete classes on a \u001b[39m\u001b[38;5;124m\"\u001b[39m\n\u001b[1;32m    222\u001b[0m         \u001b[38;5;124m\"\u001b[39m\u001b[38;5;124mregression target with continuous values.\u001b[39m\u001b[38;5;124m\"\u001b[39m\n\u001b[1;32m    223\u001b[0m     )\n",
      "\u001b[0;31mValueError\u001b[0m: Unknown label type: continuous-multioutput. Maybe you are trying to fit a classifier, which expects discrete classes on a regression target with continuous values."
     ]
    }
   ],
   "source": [
    "train_decision_tree(\n",
    "    X_undersampled[feats], X_undersampled[rating_features],\n",
    "    test_set[feats], test_set[rating_features]\n",
    ")"
   ]
  },
  {
   "cell_type": "code",
   "execution_count": null,
   "id": "a2388700",
   "metadata": {},
   "outputs": [],
   "source": []
  }
 ],
 "metadata": {
  "kernelspec": {
   "display_name": "Python 3",
   "language": "python",
   "name": "python3"
  },
  "language_info": {
   "codemirror_mode": {
    "name": "ipython",
    "version": 3
   },
   "file_extension": ".py",
   "mimetype": "text/x-python",
   "name": "python",
   "nbconvert_exporter": "python",
   "pygments_lexer": "ipython3",
   "version": "3.11.1"
  }
 },
 "nbformat": 4,
 "nbformat_minor": 5
}
