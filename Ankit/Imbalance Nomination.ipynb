{
 "cells": [
  {
   "cell_type": "code",
   "execution_count": 3,
   "id": "b9c34460-008f-4e1c-9317-c8a81ba0be6b",
   "metadata": {},
   "outputs": [],
   "source": [
    "#importing necessary libraries\n",
    "import pandas as pd #for data manipulation and analysis\n",
    "import numpy as np #for mathematical functions\n",
    "pd.set_option('display.max_columns',None)\n",
    "from sklearn.model_selection import train_test_split\n",
    "from sklearn.tree import DecisionTreeClassifier\n",
    "from sklearn.metrics import classification_report, accuracy_score, ConfusionMatrixDisplay\n",
    "import xgboost as xgb\n",
    "from sklearn.linear_model import LogisticRegression\n"
   ]
  },
  {
   "cell_type": "code",
   "execution_count": 4,
   "id": "ec0d56ce-7261-427c-8716-38a71c16e829",
   "metadata": {},
   "outputs": [
    {
     "name": "stdout",
     "output_type": "stream",
     "text": [
      "(149531, 24)\n"
     ]
    }
   ],
   "source": [
    "#reading the dataset\n",
    "df = pd.read_csv(r'D:\\BOOKS\\UNIPI\\Sem 2\\Data Mining 2\\Project\\Anomaly Detection\\imdb_1.csv')\n",
    "print(df.shape) #to check the shape of the dataset"
   ]
  },
  {
   "cell_type": "code",
   "execution_count": 5,
   "id": "bbf0fea0-d6fc-45b6-bd13-4d93b0d93e43",
   "metadata": {},
   "outputs": [],
   "source": [
    "df['totalNominations'] = df['totalNominations'].apply(lambda x: 1 if x >= 1 else 0)\n",
    "df.drop(columns = ['titleType'], axis = 1, inplace = True)\n",
    "y = df['totalNominations']"
   ]
  },
  {
   "cell_type": "code",
   "execution_count": 24,
   "id": "05036985-7fc0-4563-951a-c1068a5a48d7",
   "metadata": {},
   "outputs": [
    {
     "data": {
      "text/plain": [
       "totalNominations\n",
       "0    0.876394\n",
       "1    0.123606\n",
       "Name: count, dtype: float64"
      ]
     },
     "execution_count": 24,
     "metadata": {},
     "output_type": "execute_result"
    }
   ],
   "source": [
    "df['totalNominations'].value_counts()/len(df)"
   ]
  },
  {
   "cell_type": "code",
   "execution_count": 6,
   "id": "6f0db964-ed7c-41a0-8738-5aa4b82198b9",
   "metadata": {},
   "outputs": [],
   "source": [
    "from sklearn.preprocessing import StandardScaler\n",
    "df_scaled = StandardScaler().fit_transform(df.drop(columns = ['totalNominations'], axis = 1))\n",
    "\n",
    "# splitting the dataset\n",
    "X_train, X_test, y_train, y_test = train_test_split(df_scaled, y, stratify = y, test_size= 0.3, random_state = 42)"
   ]
  },
  {
   "cell_type": "markdown",
   "id": "f707552f-624f-4fab-80cc-93381f6d7ef0",
   "metadata": {},
   "source": [
    "# DecisionTreeClassifier"
   ]
  },
  {
   "cell_type": "code",
   "execution_count": 7,
   "id": "3720241a-bf60-4c1f-ad63-9ed508642822",
   "metadata": {},
   "outputs": [
    {
     "name": "stdout",
     "output_type": "stream",
     "text": [
      "Accuracy: 0.857757467677218\n",
      "Classification Report:\n",
      "               precision    recall  f1-score   support\n",
      "\n",
      "           0       0.92      0.91      0.92     39315\n",
      "           1       0.43      0.46      0.44      5545\n",
      "\n",
      "    accuracy                           0.86     44860\n",
      "   macro avg       0.68      0.69      0.68     44860\n",
      "weighted avg       0.86      0.86      0.86     44860\n",
      "\n"
     ]
    }
   ],
   "source": [
    "# Initialize and train the Decision Tree Classifier\n",
    "clf = DecisionTreeClassifier(random_state=42, class_weight=None)\n",
    "clf.fit(X_train, y_train)\n",
    "\n",
    "# Predict on the test set\n",
    "y_pred = clf.predict(X_test)\n",
    "\n",
    "# Evaluate the model\n",
    "accuracy = accuracy_score(y_test, y_pred)\n",
    "report = classification_report(y_test, y_pred)\n",
    "\n",
    "print(\"Accuracy:\", accuracy)\n",
    "print(\"Classification Report:\\n\", report)"
   ]
  },
  {
   "cell_type": "code",
   "execution_count": 70,
   "id": "9fa9dcec-7a05-4843-b584-0f7880bc4227",
   "metadata": {},
   "outputs": [
    {
     "data": {
      "text/plain": [
       "<sklearn.metrics._plot.confusion_matrix.ConfusionMatrixDisplay at 0x2050d10e4d0>"
      ]
     },
     "execution_count": 70,
     "metadata": {},
     "output_type": "execute_result"
    },
    {
     "data": {
      "image/png": "[encoded data removed]",
      "text/plain": [
       "<Figure size 640x480 with 2 Axes>"
      ]
     },
     "metadata": {},
     "output_type": "display_data"
    }
   ],
   "source": [
    "# Plot the confusion matrix\n",
    "ConfusionMatrixDisplay.from_predictions(\n",
    "    y_test,\n",
    "    y_pred,\n",
    "    display_labels=None,\n",
    "    cmap='viridis'\n",
    ")"
   ]
  },
  {
   "cell_type": "code",
   "execution_count": 76,
   "id": "e2e0fbed-7803-4e09-a434-3d45e8163c03",
   "metadata": {},
   "outputs": [
    {
     "name": "stdout",
     "output_type": "stream",
     "text": [
      "startYear 0.1119092710277699\n",
      "runtimeMinutes 0.08538381329264416\n",
      "canHaveEpisodes 0.0036244372647901532\n",
      "numRegions 0.15199186449514193\n",
      "ratingCount 0.10877584676915589\n",
      "castNumber 0.06892436270139383\n",
      "companiesNumber 0.04098692833413594\n",
      "averageRating 0.08863722090704336\n",
      "writerCredits 0.025978839148976023\n",
      "directorsCredits 0.014862394426910954\n",
      "totalMedia 0.06541417602246496\n",
      "totalReviews 0.039677570514627766\n",
      "Asia 0.01891270919233274\n",
      "Africa 0.002741979211165285\n",
      "Europe 0.03999034804014357\n",
      "North America 0.014047539523961863\n",
      "South America 0.010018111423137443\n",
      "Australia 0.0044040404187018455\n",
      "Continent Unknown 0.009872591192569953\n",
      "genre1 0.0447085581343958\n",
      "genre2 0.03068168662271263\n",
      "genre3 0.018455711335823917\n"
     ]
    }
   ],
   "source": [
    "#checking the feature importance\n",
    "j = 0\n",
    "for i in df.drop(['totalNominations'],axis = 1).columns:\n",
    "    print(i, clf.feature_importances_[j])\n",
    "    j+=1"
   ]
  },
  {
   "cell_type": "code",
   "execution_count": 77,
   "id": "4e0d59a4-e161-4dcc-9053-dc838668aac0",
   "metadata": {},
   "outputs": [
    {
     "name": "stdout",
     "output_type": "stream",
     "text": [
      "{0: 0.5705199621512728, 1: 4.045095493155873}\n"
     ]
    }
   ],
   "source": [
    "from sklearn.utils.class_weight import compute_class_weight\n",
    "# Calculate class weights\n",
    "class_weights = compute_class_weight(class_weight='balanced', classes=np.unique(y), y=y)\n",
    "class_weight_dict = dict(zip(np.unique(y), class_weights))\n",
    "\n",
    "print(class_weight_dict)"
   ]
  },
  {
   "cell_type": "code",
   "execution_count": 78,
   "id": "ec039be0-2e6a-4f35-b640-d6394197d38c",
   "metadata": {},
   "outputs": [
    {
     "name": "stdout",
     "output_type": "stream",
     "text": [
      "Accuracy: 0.8633303611234954\n",
      "Classification Report:\n",
      "               precision    recall  f1-score   support\n",
      "\n",
      "           0       0.92      0.92      0.92     39315\n",
      "           1       0.45      0.43      0.44      5545\n",
      "\n",
      "    accuracy                           0.86     44860\n",
      "   macro avg       0.68      0.68      0.68     44860\n",
      "weighted avg       0.86      0.86      0.86     44860\n",
      "\n"
     ]
    }
   ],
   "source": [
    "# Initialize and train the Decision Tree Classifier\n",
    "clf = DecisionTreeClassifier(random_state=42, class_weight=class_weight_dict)\n",
    "clf.fit(X_train, y_train)\n",
    "\n",
    "# Predict on the test set\n",
    "y_pred = clf.predict(X_test)\n",
    "\n",
    "# Evaluate the model\n",
    "accuracy = accuracy_score(y_test, y_pred)\n",
    "report = classification_report(y_test, y_pred)\n",
    "\n",
    "print(\"Accuracy:\", accuracy)\n",
    "print(\"Classification Report:\\n\", report)"
   ]
  },
  {
   "cell_type": "code",
   "execution_count": 79,
   "id": "4aea8036-4f15-49ee-8874-91d5ceb06966",
   "metadata": {},
   "outputs": [
    {
     "name": "stdout",
     "output_type": "stream",
     "text": [
      "Accuracy: 0.8704190815871601\n",
      "Classification Report:\n",
      "               precision    recall  f1-score   support\n",
      "\n",
      "           0       0.92      0.93      0.93     39315\n",
      "           1       0.47      0.42      0.45      5545\n",
      "\n",
      "    accuracy                           0.87     44860\n",
      "   macro avg       0.70      0.68      0.69     44860\n",
      "weighted avg       0.86      0.87      0.87     44860\n",
      "\n"
     ]
    }
   ],
   "source": [
    "# Initialize and train the Decision Tree Classifier\n",
    "clf = DecisionTreeClassifier(random_state=42, class_weight={0:0.1, 1:99}) # change the weights here\n",
    "clf.fit(X_train, y_train)\n",
    "\n",
    "# Predict on the test set\n",
    "y_pred = clf.predict(X_test)\n",
    "\n",
    "# Evaluate the model\n",
    "accuracy = accuracy_score(y_test, y_pred)\n",
    "report = classification_report(y_test, y_pred)\n",
    "\n",
    "print(\"Accuracy:\", accuracy)\n",
    "print(\"Classification Report:\\n\", report)"
   ]
  },
  {
   "cell_type": "code",
   "execution_count": 83,
   "id": "d20d11a3-107a-436a-ae6a-8b73eacbe394",
   "metadata": {},
   "outputs": [
    {
     "name": "stdout",
     "output_type": "stream",
     "text": [
      "Accuracy: 0.857757467677218\n",
      "Classification Report:\n",
      "               precision    recall  f1-score   support\n",
      "\n",
      "           0       0.92      0.91      0.92     39315\n",
      "           1       0.43      0.46      0.44      5545\n",
      "\n",
      "    accuracy                           0.86     44860\n",
      "   macro avg       0.68      0.69      0.68     44860\n",
      "weighted avg       0.86      0.86      0.86     44860\n",
      "\n"
     ]
    }
   ],
   "source": [
    "# Initialize and train the Decision Tree Classifier\n",
    "clf = DecisionTreeClassifier(random_state=42, class_weight=None)\n",
    "clf.fit(X_train, y_train)\n",
    "\n",
    "# Get predicted probabilities\n",
    "y_pred_proba = clf.predict_proba(X_test)[:, 1]\n",
    "\n",
    "# Adjust threshold manually\n",
    "threshold = 0.1  # threshold to detect more positives\n",
    "y_pred_adjusted = (y_pred_proba >= threshold).astype(int)\n",
    "\n",
    "# Evaluate the model\n",
    "accuracy = accuracy_score(y_test, y_pred_adjusted)\n",
    "report = classification_report(y_test, y_pred_adjusted)\n",
    "\n",
    "print(\"Accuracy:\", accuracy)\n",
    "print(\"Classification Report:\\n\", report)"
   ]
  },
  {
   "cell_type": "code",
   "execution_count": 84,
   "id": "90721d4b-4e16-4e04-aabd-db100048ff62",
   "metadata": {
    "scrolled": true
   },
   "outputs": [
    {
     "name": "stdout",
     "output_type": "stream",
     "text": [
      "0.0\n",
      "0.0\n",
      "1.0\n",
      "0.0\n",
      "0.0\n",
      "0.0\n",
      "1.0\n",
      "0.0\n",
      "0.0\n",
      "0.0\n",
      "0.0\n",
      "0.0\n",
      "0.0\n",
      "0.0\n",
      "0.0\n",
      "0.0\n",
      "0.0\n",
      "1.0\n",
      "0.0\n",
      "0.0\n",
      "0.0\n",
      "0.0\n",
      "0.0\n",
      "0.0\n",
      "0.0\n",
      "0.0\n",
      "0.0\n",
      "0.0\n",
      "0.0\n",
      "0.0\n",
      "0.0\n",
      "0.0\n",
      "0.0\n",
      "0.0\n",
      "0.0\n",
      "0.0\n",
      "0.0\n",
      "0.0\n",
      "0.0\n",
      "0.0\n",
      "0.0\n",
      "0.0\n",
      "0.0\n",
      "0.0\n",
      "0.0\n",
      "0.0\n",
      "0.0\n",
      "0.0\n",
      "0.0\n",
      "0.0\n",
      "0.0\n",
      "0.0\n",
      "1.0\n",
      "0.0\n",
      "0.0\n",
      "0.0\n",
      "0.0\n",
      "0.0\n",
      "0.0\n",
      "1.0\n",
      "0.0\n",
      "0.0\n",
      "0.0\n",
      "0.0\n",
      "0.0\n",
      "0.0\n",
      "0.0\n",
      "0.0\n",
      "0.0\n",
      "0.0\n",
      "0.0\n",
      "0.0\n",
      "0.0\n",
      "0.0\n",
      "0.0\n",
      "0.0\n",
      "0.0\n",
      "0.0\n",
      "0.0\n",
      "0.0\n",
      "0.0\n",
      "0.0\n",
      "0.0\n",
      "0.0\n",
      "0.0\n",
      "0.0\n",
      "0.0\n",
      "0.0\n",
      "0.0\n",
      "0.0\n",
      "0.0\n",
      "1.0\n",
      "0.0\n",
      "0.0\n",
      "0.0\n",
      "1.0\n",
      "0.0\n",
      "0.0\n",
      "0.0\n",
      "0.0\n"
     ]
    }
   ],
   "source": [
    "#Decision Trees are non-probabilistic models.\n",
    "#Each leaf of a decision tree is \"pure\" (all samples are from one class), so it outputs 0% or 100% probability.\n",
    "#Thus, adjusting the threshold on 0/1 won't help — because there’s no real uncertainty inside the tree.\n",
    "\n",
    "for i in range(100):\n",
    "    print(y_pred_proba[i])"
   ]
  },
  {
   "cell_type": "markdown",
   "id": "9b44d513-50a6-49ee-81e0-fcb1cbde224b",
   "metadata": {},
   "source": [
    "# KNN\n",
    "KNN itself does not use class weights inside because it's instance-based,\n",
    "so you leave the training as normal:"
   ]
  },
  {
   "cell_type": "code",
   "execution_count": 86,
   "id": "50bfd4db-3a78-45b1-88ca-2d810e52845a",
   "metadata": {},
   "outputs": [
    {
     "name": "stdout",
     "output_type": "stream",
     "text": [
      "Accuracy: 0.885711101203745\n",
      "Classification Report:\n",
      "               precision    recall  f1-score   support\n",
      "\n",
      "           0       0.91      0.96      0.94     39315\n",
      "           1       0.56      0.36      0.43      5545\n",
      "\n",
      "    accuracy                           0.89     44860\n",
      "   macro avg       0.74      0.66      0.69     44860\n",
      "weighted avg       0.87      0.89      0.87     44860\n",
      "\n"
     ]
    }
   ],
   "source": [
    "from sklearn.neighbors import KNeighborsClassifier\n",
    "\n",
    "knn = KNeighborsClassifier(n_neighbors=5)  # You can tune n_neighbors\n",
    "knn.fit(X_train, y_train)\n",
    "\n",
    "# Predict on the test set\n",
    "y_pred = knn.predict(X_test)\n",
    "\n",
    "# Evaluate the model\n",
    "accuracy = accuracy_score(y_test, y_pred)\n",
    "report = classification_report(y_test, y_pred)\n",
    "\n",
    "print(\"Accuracy:\", accuracy)\n",
    "print(\"Classification Report:\\n\", report)"
   ]
  },
  {
   "cell_type": "code",
   "execution_count": 98,
   "id": "1e2435a8-7998-4499-b1ce-2fe529993461",
   "metadata": {},
   "outputs": [
    {
     "name": "stdout",
     "output_type": "stream",
     "text": [
      "Accuracy: 0.8898796255015604\n",
      "Classification Report:\n",
      "               precision    recall  f1-score   support\n",
      "\n",
      "           0       0.90      0.99      0.94     39315\n",
      "           1       0.70      0.19      0.30      5545\n",
      "\n",
      "    accuracy                           0.89     44860\n",
      "   macro avg       0.80      0.59      0.62     44860\n",
      "weighted avg       0.87      0.89      0.86     44860\n",
      "\n"
     ]
    }
   ],
   "source": [
    "# Get the predicted probabilities\n",
    "y_pred_proba = knn.predict_proba(X_test)[:, 1]\n",
    "\n",
    "# Adjust threshold manually\n",
    "threshold = 0.7  # you can tune this\n",
    "y_pred_adjusted = (y_pred_proba >= threshold).astype(int)\n",
    "\n",
    "# Evaluate the model\n",
    "accuracy = accuracy_score(y_test, y_pred_adjusted)\n",
    "report = classification_report(y_test, y_pred_adjusted)\n",
    "\n",
    "print(\"Accuracy:\", accuracy)\n",
    "print(\"Classification Report:\\n\", report)\n"
   ]
  },
  {
   "cell_type": "code",
   "execution_count": 88,
   "id": "da2575f7-78a1-4ab8-80e2-de98b66afd3b",
   "metadata": {},
   "outputs": [
    {
     "data": {
      "text/plain": [
       "array([0. , 0. , 0.8, ..., 0.6, 0.4, 0.2])"
      ]
     },
     "execution_count": 88,
     "metadata": {},
     "output_type": "execute_result"
    }
   ],
   "source": [
    "y_pred_proba"
   ]
  },
  {
   "cell_type": "markdown",
   "id": "26683326-93d2-4472-863c-5f7f64a7fd55",
   "metadata": {},
   "source": [
    "# XGBOOST"
   ]
  },
  {
   "cell_type": "code",
   "execution_count": 8,
   "id": "37bdafd4-a531-4318-9101-967e92f33637",
   "metadata": {},
   "outputs": [
    {
     "name": "stdout",
     "output_type": "stream",
     "text": [
      "Accuracy: 0.9045920641997325\n",
      "Classification Report:\n",
      "               precision    recall  f1-score   support\n",
      "\n",
      "           0       0.92      0.97      0.95     39315\n",
      "           1       0.68      0.44      0.53      5545\n",
      "\n",
      "    accuracy                           0.90     44860\n",
      "   macro avg       0.80      0.70      0.74     44860\n",
      "weighted avg       0.89      0.90      0.90     44860\n",
      "\n"
     ]
    }
   ],
   "source": [
    "# Train XGBoost with class weight adjustment\n",
    "model = xgb.XGBClassifier(\n",
    "    scale_pos_weight=None,\n",
    "    eval_metric='logloss'\n",
    ")\n",
    "\n",
    "model.fit(X_train, y_train)\n",
    "\n",
    "#Predict on the test set\n",
    "y_pred = model.predict(X_test)\n",
    "# Evaluate the model\n",
    "accuracy = accuracy_score(y_test, y_pred)\n",
    "report = classification_report(y_test, y_pred)\n",
    "\n",
    "print(\"Accuracy:\", accuracy)\n",
    "print(\"Classification Report:\\n\", report)"
   ]
  },
  {
   "cell_type": "code",
   "execution_count": 9,
   "id": "0834df7c-92bf-42e5-8aff-315677daa06f",
   "metadata": {},
   "outputs": [
    {
     "name": "stdout",
     "output_type": "stream",
     "text": [
      "Scale pos weight: 7.090199412583089\n",
      "Accuracy: 0.8957423094070441\n",
      "Classification Report:\n",
      "               precision    recall  f1-score   support\n",
      "\n",
      "           0       0.94      0.94      0.94     39315\n",
      "           1       0.58      0.59      0.58      5545\n",
      "\n",
      "    accuracy                           0.90     44860\n",
      "   macro avg       0.76      0.76      0.76     44860\n",
      "weighted avg       0.90      0.90      0.90     44860\n",
      "\n"
     ]
    }
   ],
   "source": [
    "neg = np.sum(y_train == 0)\n",
    "pos = np.sum(y_train == 1)\n",
    "scale_pos_weight = neg / pos\n",
    "\n",
    "print(f\"Scale pos weight: {scale_pos_weight}\")\n",
    "\n",
    "# Train XGBoost with class weight adjustment\n",
    "model = xgb.XGBClassifier(\n",
    "    scale_pos_weight=2, # change the weights here\n",
    "    eval_metric='logloss'\n",
    ")\n",
    "\n",
    "model.fit(X_train, y_train)\n",
    "\n",
    "#Predict on the test set\n",
    "y_pred = model.predict(X_test)\n",
    "# Evaluate the model\n",
    "accuracy = accuracy_score(y_test, y_pred)\n",
    "report = classification_report(y_test, y_pred)\n",
    "\n",
    "print(\"Accuracy:\", accuracy)\n",
    "print(\"Classification Report:\\n\", report)"
   ]
  },
  {
   "cell_type": "code",
   "execution_count": 12,
   "id": "716cba88-93f2-4206-9301-259cbd6923d9",
   "metadata": {},
   "outputs": [
    {
     "name": "stdout",
     "output_type": "stream",
     "text": [
      "Accuracy: 0.90100312082033\n",
      "Classification Report:\n",
      "               precision    recall  f1-score   support\n",
      "\n",
      "           0       0.91      0.99      0.95     39315\n",
      "           1       0.80      0.27      0.40      5545\n",
      "\n",
      "    accuracy                           0.90     44860\n",
      "   macro avg       0.85      0.63      0.67     44860\n",
      "weighted avg       0.89      0.90      0.88     44860\n",
      "\n"
     ]
    }
   ],
   "source": [
    "# Train XGBoost with class weight adjustment\n",
    "model = xgb.XGBClassifier(\n",
    "    scale_pos_weight=None, # change the weights here\n",
    "    eval_metric='logloss'\n",
    ")\n",
    "model.fit(X_train, y_train)\n",
    "# Get predicted probabilities\n",
    "y_pred_proba = model.predict_proba(X_test)[:, 1]\n",
    "\n",
    "# Adjust threshold manually\n",
    "threshold = 0.7  # threshold to detect more positives\n",
    "y_pred_adjusted = (y_pred_proba >= threshold).astype(int)\n",
    "\n",
    "# Evaluate the model\n",
    "accuracy = accuracy_score(y_test, y_pred_adjusted)\n",
    "report = classification_report(y_test, y_pred_adjusted)\n",
    "\n",
    "print(\"Accuracy:\", accuracy)\n",
    "print(\"Classification Report:\\n\", report)"
   ]
  },
  {
   "cell_type": "code",
   "execution_count": 13,
   "id": "1e905e50-f268-47d4-a3c2-3effdfd5739f",
   "metadata": {},
   "outputs": [
    {
     "data": {
      "text/plain": [
       "array([0.01083739, 0.00278726, 0.76741534, ..., 0.12696758, 0.07125672,\n",
       "       0.02828387], dtype=float32)"
      ]
     },
     "execution_count": 13,
     "metadata": {},
     "output_type": "execute_result"
    }
   ],
   "source": [
    "y_pred_proba"
   ]
  },
  {
   "cell_type": "markdown",
   "id": "9dedbdc4-aed0-47f3-9634-76893dd9c0c0",
   "metadata": {},
   "source": [
    "# LogisticRegression"
   ]
  },
  {
   "cell_type": "code",
   "execution_count": 17,
   "id": "199afcc8-5a8a-4f1b-b74b-2dac20a82943",
   "metadata": {},
   "outputs": [
    {
     "name": "stdout",
     "output_type": "stream",
     "text": [
      "Accuracy: 0.8859786000891663\n",
      "Classification Report:\n",
      "               precision    recall  f1-score   support\n",
      "\n",
      "           0       0.90      0.98      0.94     39315\n",
      "           1       0.63      0.19      0.29      5545\n",
      "\n",
      "    accuracy                           0.89     44860\n",
      "   macro avg       0.76      0.59      0.61     44860\n",
      "weighted avg       0.86      0.89      0.86     44860\n",
      "\n"
     ]
    }
   ],
   "source": [
    "lr = LogisticRegression(class_weight=None)\n",
    "lr.fit(X_train, y_train)\n",
    "\n",
    "# Get predicted probabilities\n",
    "y_pred = lr.predict(X_test)\n",
    "\n",
    "# Evaluate the model\n",
    "accuracy = accuracy_score(y_test, y_pred)\n",
    "report = classification_report(y_test, y_pred)\n",
    "\n",
    "print(\"Accuracy:\", accuracy)\n",
    "print(\"Classification Report:\\n\", report)"
   ]
  },
  {
   "cell_type": "code",
   "execution_count": 19,
   "id": "79bc333d-28fa-45fb-a74e-60e4a81b1b51",
   "metadata": {},
   "outputs": [
    {
     "name": "stdout",
     "output_type": "stream",
     "text": [
      "Accuracy: 0.7090726705305395\n",
      "Classification Report:\n",
      "               precision    recall  f1-score   support\n",
      "\n",
      "           0       0.95      0.70      0.81     39315\n",
      "           1       0.26      0.76      0.39      5545\n",
      "\n",
      "    accuracy                           0.71     44860\n",
      "   macro avg       0.61      0.73      0.60     44860\n",
      "weighted avg       0.87      0.71      0.76     44860\n",
      "\n"
     ]
    }
   ],
   "source": [
    "lr = LogisticRegression(class_weight={0:0.1, 1:0.9}) #change the weights here\n",
    "lr.fit(X_train, y_train)\n",
    "\n",
    "# Get predicted probabilities\n",
    "y_pred = lr.predict(X_test)\n",
    "\n",
    "# Evaluate the model\n",
    "accuracy = accuracy_score(y_test, y_pred)\n",
    "report = classification_report(y_test, y_pred)\n",
    "\n",
    "print(\"Accuracy:\", accuracy)\n",
    "print(\"Classification Report:\\n\", report)"
   ]
  },
  {
   "cell_type": "code",
   "execution_count": 20,
   "id": "4c0f2f73-3b05-4792-b337-5f0b36d4ea39",
   "metadata": {},
   "outputs": [
    {
     "name": "stdout",
     "output_type": "stream",
     "text": [
      "Accuracy: 0.8769505127061971\n",
      "Classification Report:\n",
      "               precision    recall  f1-score   support\n",
      "\n",
      "           0       0.91      0.96      0.93     39315\n",
      "           1       0.50      0.32      0.39      5545\n",
      "\n",
      "    accuracy                           0.88     44860\n",
      "   macro avg       0.71      0.64      0.66     44860\n",
      "weighted avg       0.86      0.88      0.86     44860\n",
      "\n"
     ]
    }
   ],
   "source": [
    "\n",
    "# Train your model normally\n",
    "model = LogisticRegression(class_weight=None) # change the weights here\n",
    "model.fit(X_train, y_train)\n",
    "\n",
    "# Get predicted probabilities\n",
    "y_pred_proba = model.predict_proba(X_test)[:, 1]\n",
    "\n",
    "# Adjust threshold manually\n",
    "threshold = 0.3  # for example, lower threshold to detect more positives\n",
    "y_pred_adjusted = (y_pred_proba >= threshold).astype(int)\n",
    "\n",
    "# Evaluate the model\n",
    "accuracy = accuracy_score(y_test, y_pred_adjusted)\n",
    "report = classification_report(y_test, y_pred_adjusted)\n",
    "\n",
    "print(\"Accuracy:\", accuracy)\n",
    "print(\"Classification Report:\\n\", report)"
   ]
  },
  {
   "cell_type": "code",
   "execution_count": null,
   "id": "c1f0a93c-ea9c-4dc8-af09-9c08624363e2",
   "metadata": {},
   "outputs": [],
   "source": []
  },
  {
   "cell_type": "code",
   "execution_count": null,
   "id": "4992a66f-dd62-42d2-887d-4c1726fc37e7",
   "metadata": {},
   "outputs": [],
   "source": []
  }
 ],
 "metadata": {
  "kernelspec": {
   "display_name": "Python 3 (ipykernel)",
   "language": "python",
   "name": "python3"
  },
  "language_info": {
   "codemirror_mode": {
    "name": "ipython",
    "version": 3
   },
   "file_extension": ".py",
   "mimetype": "text/x-python",
   "name": "python",
   "nbconvert_exporter": "python",
   "pygments_lexer": "ipython3",
   "version": "3.10.10"
  }
 },
 "nbformat": 4,
 "nbformat_minor": 5
}
