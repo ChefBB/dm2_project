{
 "cells": [
  {
   "cell_type": "code",
   "execution_count": 2,
   "metadata": {},
   "outputs": [
    {
     "data": {},
     "execution_count": 2,
     "metadata": {},
     "output_type": "execute_result"
    }
   ],
   "source": [
    "import pandas as pd\n",
    "from support.df_init import init\n",
    "\n",
    "df = init()\n",
    "df"
   ]
  },
  {
   "cell_type": "code",
   "execution_count": 3,
   "metadata": {},
   "outputs": [
    {
     "data": {},
     "execution_count": 3,
     "metadata": {},
     "output_type": "execute_result"
    }
   ],
   "source": [
    "df"
   ]
  },
  {
   "cell_type": "code",
   "execution_count": 4,
   "metadata": {
    "vscode": {
     "languageId": "ruby"
    }
   },
   "outputs": [
    {
     "data": {},
     "execution_count": 4,
     "metadata": {},
     "output_type": "execute_result"
    }
   ],
   "source": [
    "# Sum all regions_<continent> columns\n",
    "regions_sum = df[['regions_EU', 'regions_NA', 'regions_AS', 'regions_AF', 'regions_OC', 'regions_SA', 'regions_UNK']].sum(axis=1)\n",
    "\n",
    "# Check if\n",
    "# is_valid = (regions_sum == len(df['regions']))\n",
    "# print(is_valid.all())  # This will print True if all rows satisfy the condition\n",
    "df.loc[regions_sum != df['regions'].apply(len),\n",
    "    ['regions_EU', 'regions_NA', 'regions_AS', 'regions_AF', 'regions_OC', 'regions_SA', 'regions_UNK', 'regions']]"
   ]
  },
  {
   "cell_type": "code",
   "execution_count": 5,
   "metadata": {
    "vscode": {
     "languageId": "ruby"
    }
   },
   "outputs": [
    {
     "data": {},
     "execution_count": 5,
     "metadata": {},
     "output_type": "execute_result"
    }
   ],
   "source": [
    "# Sum all countryOfOrigin_<continent> columns\n",
    "countryOfOrigin_sum = df[['countryOfOrigin_EU', 'countryOfOrigin_NA', 'countryOfOrigin_AS', 'countryOfOrigin_AF', 'countryOfOrigin_OC', 'countryOfOrigin_SA', 'countryOfOrigin_UNK']].sum(axis=1)\n",
    "\n",
    "# Check if\n",
    "# is_valid = (countryOfOrigin_sum == len(df['countryOfOrigin']))\n",
    "# print(is_valid.all())  # This will print True if all rows satisfy the condition\n",
    "df.loc[countryOfOrigin_sum != df['countryOfOrigin'].apply(len),\n",
    "    ['countryOfOrigin_EU', 'countryOfOrigin_NA', 'countryOfOrigin_AS', 'countryOfOrigin_AF', 'countryOfOrigin_OC', 'countryOfOrigin_SA', 'countryOfOrigin_UNK', 'countryOfOrigin']]"
   ]
  },
  {
   "cell_type": "code",
   "execution_count": 6,
   "metadata": {},
   "outputs": [
    {
     "data": {},
     "execution_count": 6,
     "metadata": {},
     "output_type": "execute_result"
    }
   ],
   "source": [
    "# Extract all unique genres from the 'genres' column\n",
    "unique_genres = set(genre for genres_list in df['genres'] for genre in genres_list)\n",
    "unique_genres"
   ]
  },
  {
   "cell_type": "code",
   "execution_count": 7,
   "metadata": {},
   "outputs": [
    {
     "data": {},
     "execution_count": 7,
     "metadata": {},
     "output_type": "execute_result"
    }
   ],
   "source": [
    "len(unique_genres)"
   ]
  },
  {
   "cell_type": "code",
   "execution_count": 8,
   "metadata": {},
   "outputs": [
    {
     "data": {},
     "execution_count": 8,
     "metadata": {},
     "output_type": "execute_result"
    }
   ],
   "source": [
    "df.loc[df['genres'].apply(len)<=1, 'genres']"
   ]
  },
  {
   "cell_type": "code",
   "execution_count": 9,
   "metadata": {},
   "outputs": [
    {
     "data": {},
     "execution_count": 9,
     "metadata": {},
     "output_type": "execute_result"
    }
   ],
   "source": [
    "df.loc[df['genres'].apply(len)==0, 'genres']"
   ]
  },
  {
   "cell_type": "code",
   "execution_count": 10,
   "metadata": {},
   "outputs": [
    {
     "data": {},
     "execution_count": 10,
     "metadata": {},
     "output_type": "execute_result"
    }
   ],
   "source": [
    "df.loc[df['genres'].apply(len)>2, 'genres']"
   ]
  },
  {
   "cell_type": "code",
   "execution_count": 11,
   "metadata": {},
   "outputs": [
    {
     "data": {},
     "execution_count": 11,
     "metadata": {},
     "output_type": "execute_result"
    }
   ],
   "source": [
    "df.loc[df['genres'].apply(len)==2, 'genres']"
   ]
  },
  {
   "cell_type": "code",
   "execution_count": 12,
   "metadata": {},
   "outputs": [
    {
     "data": {},
     "execution_count": 12,
     "metadata": {},
     "output_type": "execute_result"
    }
   ],
   "source": [
    "df.loc[df['genres'].apply(len)==3, 'genres']"
   ]
  },
  {
   "cell_type": "code",
   "execution_count": 13,
   "metadata": {},
   "outputs": [
    {
     "data": {},
     "execution_count": 13,
     "metadata": {},
     "output_type": "execute_result"
    }
   ],
   "source": [
    "df.loc[df['genres'].apply(len)==1, 'genres']"
   ]
  },
  {
   "cell_type": "code",
   "execution_count": 14,
   "metadata": {},
   "outputs": [
    {
     "data": {},
     "execution_count": 14,
     "metadata": {},
     "output_type": "execute_result"
    }
   ],
   "source": [
    "# Explode the 'genres' column\n",
    "df_exploded = df.explode('genres')\n",
    "\n",
    "# Perform one-hot encoding\n",
    "genres_one_hot = pd.get_dummies(df_exploded['genres'], prefix='genre')\n",
    "\n",
    "# Combine the one-hot encoded columns with the original dataframe\n",
    "df_one_hot = pd.concat([df, genres_one_hot.groupby(df_exploded.index).sum()], axis=1)\n",
    "\n",
    "df_one_hot"
   ]
  },
  {
   "cell_type": "code",
   "execution_count": null,
   "metadata": {},
   "outputs": [
    {
     "data": {},
     "execution_count": 15,
     "metadata": {},
     "output_type": "execute_result"
    }
   ],
   "source": [
    "genre_columns = [col for col in df_one_hot.columns if col.startswith('genre_')]\n",
    "genres_one_hot_only = df_one_hot[genre_columns]\n",
    "genres_one_hot_only"
   ]
  },
  {
   "cell_type": "code",
   "execution_count": 18,
   "metadata": {},
   "outputs": [
    {
     "data": {},
     "metadata": {},
     "output_type": "display_data"
    }
   ],
   "source": [
    "import seaborn as sns\n",
    "\n",
    "correlation_matrix = genres_one_hot_only.corr()\n",
    "import matplotlib.pyplot as plt\n",
    "\n",
    "# Plot the correlation matrix\n",
    "plt.figure(figsize=(12, 10))\n",
    "sns.heatmap(correlation_matrix, annot=False, cmap='coolwarm', fmt='.2f')\n",
    "plt.title('Correlation Matrix Heatmap')\n",
    "plt.show()"
   ]
  }
 ],
 "metadata": {
  "kernelspec": {
   "display_name": "Python 3",
   "language": "python",
   "name": "python3"
  },
  "language_info": {
   "codemirror_mode": {
    "name": "ipython",
    "version": 3
   },
   "file_extension": ".py",
   "mimetype": "text/x-python",
   "name": "python",
   "nbconvert_exporter": "python",
   "pygments_lexer": "ipython3",
   "version": "3.11.1"
  }
 },
 "nbformat": 4,
 "nbformat_minor": 2
}
